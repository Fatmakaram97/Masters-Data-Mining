{
 "cells": [
  {
   "cell_type": "markdown",
   "metadata": {
    "id": "HMIwkvyPRMd7"
   },
   "source": [
    "# Assignment 4\n",
    "\n",
    "## Problem Formulation: ✍\n",
    "* We need to predict the price and type of apartment/house for a new host. \n",
    "\n",
    "### Input:\n",
    "* Text data and images data, as there is a summary for the apartment/house in text type. Besides, image for the apartment/house. Part of the dataset has 2 labels which are type and price (training dataset), and part doesn't contain the labels (test dataset). Type column consists from 24 unique values, and price consists from 3 unique values which refer to beginner, plus, premium.\n",
    "\n",
    "### Output:\n",
    "* We need to predict the price and type of apartment/house for a new host according to the given inputs which we train the model on with the training dataset. Then predict the requirements with test the model on the test dataset.\n",
    "\n",
    "\n",
    "## What data mining function is required? 🕵🏽\n",
    "* In this assignment we need \"classification and prediction\" data mining function.\n",
    "\n",
    "## What could be the challenges? 😕\n",
    "* Challenges are: how to make good preprocessing steps for the text data and images data. How to deal with two inputs to the neural networks. How to predict two outputs from the neural network. How to construct a good neural network that is suitable for our dataset and problem. How to make tuning for the number of the vocabulary size, max length for each sentence, and some parameters in the neural network. In addition to how to develop a successful solution for the problem and make good predictions to predict the right price category and type for the apartment/house.\n",
    "\n",
    "\n",
    "## What is the impact? 🤓\n",
    "* The impact is to know more about preprocessing for the data, deal with text data, deal with images, and deal with the neural networks, choose good construction for the layers and tuning their hyperparameters. Besides, know more about Multi-modality learning - Multi-objective learning. So, by constructing a good neural network, this would give the predictions for the price category and the type for the apartment/house. So, this would be more helpful for the new hosts.\n",
    "\n",
    "\n",
    "## What is an ideal solution? 🦸\n",
    "* The ideal solution is to make a very good neural network that deals with Multi-modality learning - Multi-objective learning. So, by the good network, this will give perfect performance parameters, and this happens after making good preprocessing steps on the text data and the images data. So, the model can predict and classify in a right way the price category and type for the apartment/house.\n",
    "\n",
    "\n",
    "## What is the experimental protocol used and how was it carried out? 🤔\n",
    "* I used the holdout method. So, in the holdout method I give the neural network the size of the validation set so it splits the training dataset into training and validation datasets. So, the network starts in training the model on the training dataset and gets the validation performance and applying the trained model on the validation dataset. So, by this I get the performane on the training and validation to see whether the model started to overfit on the training dataset or not. The performance is given by the accuracy and the loss of the model.\n",
    "\n",
    "\n",
    "## How did we tune hyper-parameters in the template? \n",
    "* The tuning for the hyperparameters is done by the backpropagation in each layer. As each model makes backpropagation to get the gradients to update the weights and parameters that are used in the model.\n",
    "* That was the tuning in the parameters and weights for each model. So, in addition to this I tuned some parameters like vocabulary size, max length for each sentence, number of epochs, and the batch size by trial and error. As I tried many different numbers for them and get the best one that gives the best result with using the same model without any changes. So, I could choose the one which gives the best results for each of them.\n",
    "\n",
    "\n",
    "## What is the search space and what is the criteria to determine good/bad hyper-parameters?\n",
    "* Search space is the space of all feasible, and possible solutions we have to make good hyperparameters tuning. Each point in the search space is one possible solution, and each possible solution can be pointed by its fitness for our problem. As I didn't use a specific tool to search for the best hyperparameters. I used trial and error method to tune the max_length for each sentence, vocabulary size, number of epochs, and batch size. I tried different values for each one on the same model, so the changes only in those hyperparameters, and get the best combination for them that gives the best results on that model.\n",
    "* The criteria to determine whether the hyperparameters are good or bad is: by monitor the accuracy and the loss between the training and validation, so we can figure out if the model starts to overfit the training dataset or not. Then, compare the resultant accuracy with the accuracy that we get from Kaggle, if it is good with the training data, and validation data but it is bad, and gets bad accuracy on Kaggle from predictions on the unseen dataset \"test dataset\", so this means the hyperparameters are bad. As they don't give a good results from the unseen dataset.\n",
    "\n",
    "  That was for the weights and parameters that are used in the models, and for the other hyperparameters as I talked before I tuned them by trial and error, and continue my work with the one which gave me the best results.\n",
    "\n",
    "## What preprocessing steps are used? \n",
    "* I made two preprocessing techniques one on the text data, and one on the images data:\n",
    "    * First one for the text data: translate all sentences in different languages into English -  get any number of white spaces with single white space - remove html tags - remove any letter not written in English language - remove any single character that has space before it and space after it - make word tokenization and split the sentences into tokens - make all letters in lowercase - make lemmatization for all words if it is not stop word (means the process of consider the context and converts the word to its meaningful base form) - remove the stop words.\n",
    "    * Second one for the images: convert all images to be in grayscale -  make all images in the same size 64x64.\n"
   ]
  },
  {
   "cell_type": "markdown",
   "metadata": {
    "id": "R-Ckyu9d9XLq"
   },
   "source": [
    "# Import the required libraries"
   ]
  },
  {
   "cell_type": "code",
   "execution_count": 1,
   "metadata": {
    "id": "VHToLVW0RMeA"
   },
   "outputs": [],
   "source": [
    "from __future__ import absolute_import, division, print_function, unicode_literals\n",
    "import os\n",
    "\n",
    "import pandas as pd\n",
    "from tqdm.notebook import tqdm\n",
    "from PIL import Image\n",
    "import pandas as pd\n",
    "import os\n",
    "import numpy as np\n",
    "\n",
    "from ast import literal_eval\n",
    "from tensorflow.keras.layers import Dense, Dropout, Embedding, SpatialDropout1D\n",
    "from tensorflow.keras.layers import LSTM \n",
    "\n",
    "import collections\n",
    "import matplotlib.pyplot as plt\n",
    "import tensorflow as tf\n",
    "from tensorflow import keras\n",
    "from tensorflow.keras.layers import Conv2D, Flatten, Dense, MaxPool2D\n",
    "from tensorflow.keras.optimizers import Adam\n",
    "\n",
    "from tensorflow.keras.preprocessing.text import Tokenizer\n",
    "from tensorflow.keras.preprocessing.sequence import pad_sequences\n",
    "from pprint import pprint\n",
    "\n",
    "from tensorflow.keras.layers import GRU"
   ]
  },
  {
   "cell_type": "markdown",
   "metadata": {
    "id": "ZzTXr7KP9XLt"
   },
   "source": [
    "# Data preparation and preprocessing\n",
    "## Read the training dataset"
   ]
  },
  {
   "cell_type": "code",
   "execution_count": 3,
   "metadata": {
    "colab": {
     "base_uri": "https://localhost:8080/",
     "height": 423
    },
    "id": "7MEbSTPgRMeC",
    "outputId": "930b26bb-59bb-4ec1-854d-d7b8796dba2c"
   },
   "outputs": [
    {
     "data": {
      "text/html": [
       "<div>\n",
       "<style scoped>\n",
       "    .dataframe tbody tr th:only-of-type {\n",
       "        vertical-align: middle;\n",
       "    }\n",
       "\n",
       "    .dataframe tbody tr th {\n",
       "        vertical-align: top;\n",
       "    }\n",
       "\n",
       "    .dataframe thead th {\n",
       "        text-align: right;\n",
       "    }\n",
       "</style>\n",
       "<table border=\"1\" class=\"dataframe\">\n",
       "  <thead>\n",
       "    <tr style=\"text-align: right;\">\n",
       "      <th></th>\n",
       "      <th>summary</th>\n",
       "      <th>image</th>\n",
       "      <th>type</th>\n",
       "      <th>price</th>\n",
       "    </tr>\n",
       "  </thead>\n",
       "  <tbody>\n",
       "    <tr>\n",
       "      <th>0</th>\n",
       "      <td>Spacious, sunny and cozy modern apartment in t...</td>\n",
       "      <td>img_train/0.jpg</td>\n",
       "      <td>Apartment</td>\n",
       "      <td>1</td>\n",
       "    </tr>\n",
       "    <tr>\n",
       "      <th>1</th>\n",
       "      <td>Located in one of the most vibrant and accessi...</td>\n",
       "      <td>img_train/1.jpg</td>\n",
       "      <td>Apartment</td>\n",
       "      <td>0</td>\n",
       "    </tr>\n",
       "    <tr>\n",
       "      <th>2</th>\n",
       "      <td>Logement coquet et douillet à 10 minutes du ce...</td>\n",
       "      <td>img_train/2.jpg</td>\n",
       "      <td>Apartment</td>\n",
       "      <td>1</td>\n",
       "    </tr>\n",
       "    <tr>\n",
       "      <th>3</th>\n",
       "      <td>Beautiful and spacious (1076 sc ft, / 100 mc) ...</td>\n",
       "      <td>img_train/3.jpg</td>\n",
       "      <td>Apartment</td>\n",
       "      <td>1</td>\n",
       "    </tr>\n",
       "    <tr>\n",
       "      <th>4</th>\n",
       "      <td>Très grand appartement ''rustique'' et très ag...</td>\n",
       "      <td>img_train/4.jpg</td>\n",
       "      <td>Apartment</td>\n",
       "      <td>0</td>\n",
       "    </tr>\n",
       "    <tr>\n",
       "      <th>...</th>\n",
       "      <td>...</td>\n",
       "      <td>...</td>\n",
       "      <td>...</td>\n",
       "      <td>...</td>\n",
       "    </tr>\n",
       "    <tr>\n",
       "      <th>7622</th>\n",
       "      <td>Un grand logement 4 et 1/2, tout inclut, bien ...</td>\n",
       "      <td>img_train/7626.jpg</td>\n",
       "      <td>Apartment</td>\n",
       "      <td>0</td>\n",
       "    </tr>\n",
       "    <tr>\n",
       "      <th>7623</th>\n",
       "      <td>Magnificent condo directly on the river. You w...</td>\n",
       "      <td>img_train/7627.jpg</td>\n",
       "      <td>Apartment</td>\n",
       "      <td>2</td>\n",
       "    </tr>\n",
       "    <tr>\n",
       "      <th>7624</th>\n",
       "      <td>This apartment is perfect for anyone visiting ...</td>\n",
       "      <td>img_train/7628.jpg</td>\n",
       "      <td>Apartment</td>\n",
       "      <td>1</td>\n",
       "    </tr>\n",
       "    <tr>\n",
       "      <th>7625</th>\n",
       "      <td>It is a cozy ,clean ,and comfortable apartment...</td>\n",
       "      <td>img_train/7629.jpg</td>\n",
       "      <td>Apartment</td>\n",
       "      <td>0</td>\n",
       "    </tr>\n",
       "    <tr>\n",
       "      <th>7626</th>\n",
       "      <td>Modern country style (newly-renovated); open c...</td>\n",
       "      <td>img_train/7630.jpg</td>\n",
       "      <td>House</td>\n",
       "      <td>1</td>\n",
       "    </tr>\n",
       "  </tbody>\n",
       "</table>\n",
       "<p>7627 rows × 4 columns</p>\n",
       "</div>"
      ],
      "text/plain": [
       "                                                summary               image  \\\n",
       "0     Spacious, sunny and cozy modern apartment in t...     img_train/0.jpg   \n",
       "1     Located in one of the most vibrant and accessi...     img_train/1.jpg   \n",
       "2     Logement coquet et douillet à 10 minutes du ce...     img_train/2.jpg   \n",
       "3     Beautiful and spacious (1076 sc ft, / 100 mc) ...     img_train/3.jpg   \n",
       "4     Très grand appartement ''rustique'' et très ag...     img_train/4.jpg   \n",
       "...                                                 ...                 ...   \n",
       "7622  Un grand logement 4 et 1/2, tout inclut, bien ...  img_train/7626.jpg   \n",
       "7623  Magnificent condo directly on the river. You w...  img_train/7627.jpg   \n",
       "7624  This apartment is perfect for anyone visiting ...  img_train/7628.jpg   \n",
       "7625  It is a cozy ,clean ,and comfortable apartment...  img_train/7629.jpg   \n",
       "7626  Modern country style (newly-renovated); open c...  img_train/7630.jpg   \n",
       "\n",
       "           type  price  \n",
       "0     Apartment      1  \n",
       "1     Apartment      0  \n",
       "2     Apartment      1  \n",
       "3     Apartment      1  \n",
       "4     Apartment      0  \n",
       "...         ...    ...  \n",
       "7622  Apartment      0  \n",
       "7623  Apartment      2  \n",
       "7624  Apartment      1  \n",
       "7625  Apartment      0  \n",
       "7626      House      1  \n",
       "\n",
       "[7627 rows x 4 columns]"
      ]
     },
     "execution_count": 3,
     "metadata": {},
     "output_type": "execute_result"
    }
   ],
   "source": [
    "# read the training csv file and put it in a dataframe\n",
    "df_train = pd.read_csv('train_xy.csv')\n",
    "df_train"
   ]
  },
  {
   "cell_type": "code",
   "execution_count": 3,
   "metadata": {
    "colab": {
     "base_uri": "https://localhost:8080/"
    },
    "id": "2acfLuTXRMeE",
    "outputId": "20e4d19b-9363-4bce-e84e-11d6a592f495"
   },
   "outputs": [
    {
     "name": "stdout",
     "output_type": "stream",
     "text": [
      "<class 'pandas.core.frame.DataFrame'>\n",
      "RangeIndex: 7627 entries, 0 to 7626\n",
      "Data columns (total 4 columns):\n",
      " #   Column   Non-Null Count  Dtype \n",
      "---  ------   --------------  ----- \n",
      " 0   summary  7326 non-null   object\n",
      " 1   image    7627 non-null   object\n",
      " 2   type     7627 non-null   object\n",
      " 3   price    7627 non-null   int64 \n",
      "dtypes: int64(1), object(3)\n",
      "memory usage: 238.5+ KB\n"
     ]
    }
   ],
   "source": [
    "# display the information of the training dataframe to see it there are null values in any column\n",
    "df_train.info()"
   ]
  },
  {
   "cell_type": "code",
   "execution_count": 4,
   "metadata": {
    "colab": {
     "base_uri": "https://localhost:8080/",
     "height": 423
    },
    "id": "W3QXCr9BRMeE",
    "outputId": "5bdc462c-8f35-4668-b85f-dafd8904660f"
   },
   "outputs": [
    {
     "data": {
      "text/html": [
       "\n",
       "  <div id=\"df-7626a99f-1cc6-4893-8187-0b422ccab082\">\n",
       "    <div class=\"colab-df-container\">\n",
       "      <div>\n",
       "<style scoped>\n",
       "    .dataframe tbody tr th:only-of-type {\n",
       "        vertical-align: middle;\n",
       "    }\n",
       "\n",
       "    .dataframe tbody tr th {\n",
       "        vertical-align: top;\n",
       "    }\n",
       "\n",
       "    .dataframe thead th {\n",
       "        text-align: right;\n",
       "    }\n",
       "</style>\n",
       "<table border=\"1\" class=\"dataframe\">\n",
       "  <thead>\n",
       "    <tr style=\"text-align: right;\">\n",
       "      <th></th>\n",
       "      <th>summary</th>\n",
       "      <th>image</th>\n",
       "      <th>type</th>\n",
       "      <th>price</th>\n",
       "    </tr>\n",
       "  </thead>\n",
       "  <tbody>\n",
       "    <tr>\n",
       "      <th>0</th>\n",
       "      <td>Spacious, sunny and cozy modern apartment in t...</td>\n",
       "      <td>img_train/0.jpg</td>\n",
       "      <td>1</td>\n",
       "      <td>1</td>\n",
       "    </tr>\n",
       "    <tr>\n",
       "      <th>1</th>\n",
       "      <td>Located in one of the most vibrant and accessi...</td>\n",
       "      <td>img_train/1.jpg</td>\n",
       "      <td>1</td>\n",
       "      <td>0</td>\n",
       "    </tr>\n",
       "    <tr>\n",
       "      <th>2</th>\n",
       "      <td>Logement coquet et douillet à 10 minutes du ce...</td>\n",
       "      <td>img_train/2.jpg</td>\n",
       "      <td>1</td>\n",
       "      <td>1</td>\n",
       "    </tr>\n",
       "    <tr>\n",
       "      <th>3</th>\n",
       "      <td>Beautiful and spacious (1076 sc ft, / 100 mc) ...</td>\n",
       "      <td>img_train/3.jpg</td>\n",
       "      <td>1</td>\n",
       "      <td>1</td>\n",
       "    </tr>\n",
       "    <tr>\n",
       "      <th>4</th>\n",
       "      <td>Très grand appartement ''rustique'' et très ag...</td>\n",
       "      <td>img_train/4.jpg</td>\n",
       "      <td>1</td>\n",
       "      <td>0</td>\n",
       "    </tr>\n",
       "    <tr>\n",
       "      <th>...</th>\n",
       "      <td>...</td>\n",
       "      <td>...</td>\n",
       "      <td>...</td>\n",
       "      <td>...</td>\n",
       "    </tr>\n",
       "    <tr>\n",
       "      <th>7622</th>\n",
       "      <td>Un grand logement 4 et 1/2, tout inclut, bien ...</td>\n",
       "      <td>img_train/7626.jpg</td>\n",
       "      <td>1</td>\n",
       "      <td>0</td>\n",
       "    </tr>\n",
       "    <tr>\n",
       "      <th>7623</th>\n",
       "      <td>Magnificent condo directly on the river. You w...</td>\n",
       "      <td>img_train/7627.jpg</td>\n",
       "      <td>1</td>\n",
       "      <td>2</td>\n",
       "    </tr>\n",
       "    <tr>\n",
       "      <th>7624</th>\n",
       "      <td>This apartment is perfect for anyone visiting ...</td>\n",
       "      <td>img_train/7628.jpg</td>\n",
       "      <td>1</td>\n",
       "      <td>1</td>\n",
       "    </tr>\n",
       "    <tr>\n",
       "      <th>7625</th>\n",
       "      <td>It is a cozy ,clean ,and comfortable apartment...</td>\n",
       "      <td>img_train/7629.jpg</td>\n",
       "      <td>1</td>\n",
       "      <td>0</td>\n",
       "    </tr>\n",
       "    <tr>\n",
       "      <th>7626</th>\n",
       "      <td>Modern country style (newly-renovated); open c...</td>\n",
       "      <td>img_train/7630.jpg</td>\n",
       "      <td>17</td>\n",
       "      <td>1</td>\n",
       "    </tr>\n",
       "  </tbody>\n",
       "</table>\n",
       "<p>7627 rows × 4 columns</p>\n",
       "</div>\n",
       "      <button class=\"colab-df-convert\" onclick=\"convertToInteractive('df-7626a99f-1cc6-4893-8187-0b422ccab082')\"\n",
       "              title=\"Convert this dataframe to an interactive table.\"\n",
       "              style=\"display:none;\">\n",
       "        \n",
       "  <svg xmlns=\"http://www.w3.org/2000/svg\" height=\"24px\"viewBox=\"0 0 24 24\"\n",
       "       width=\"24px\">\n",
       "    <path d=\"M0 0h24v24H0V0z\" fill=\"none\"/>\n",
       "    <path d=\"M18.56 5.44l.94 2.06.94-2.06 2.06-.94-2.06-.94-.94-2.06-.94 2.06-2.06.94zm-11 1L8.5 8.5l.94-2.06 2.06-.94-2.06-.94L8.5 2.5l-.94 2.06-2.06.94zm10 10l.94 2.06.94-2.06 2.06-.94-2.06-.94-.94-2.06-.94 2.06-2.06.94z\"/><path d=\"M17.41 7.96l-1.37-1.37c-.4-.4-.92-.59-1.43-.59-.52 0-1.04.2-1.43.59L10.3 9.45l-7.72 7.72c-.78.78-.78 2.05 0 2.83L4 21.41c.39.39.9.59 1.41.59.51 0 1.02-.2 1.41-.59l7.78-7.78 2.81-2.81c.8-.78.8-2.07 0-2.86zM5.41 20L4 18.59l7.72-7.72 1.47 1.35L5.41 20z\"/>\n",
       "  </svg>\n",
       "      </button>\n",
       "      \n",
       "  <style>\n",
       "    .colab-df-container {\n",
       "      display:flex;\n",
       "      flex-wrap:wrap;\n",
       "      gap: 12px;\n",
       "    }\n",
       "\n",
       "    .colab-df-convert {\n",
       "      background-color: #E8F0FE;\n",
       "      border: none;\n",
       "      border-radius: 50%;\n",
       "      cursor: pointer;\n",
       "      display: none;\n",
       "      fill: #1967D2;\n",
       "      height: 32px;\n",
       "      padding: 0 0 0 0;\n",
       "      width: 32px;\n",
       "    }\n",
       "\n",
       "    .colab-df-convert:hover {\n",
       "      background-color: #E2EBFA;\n",
       "      box-shadow: 0px 1px 2px rgba(60, 64, 67, 0.3), 0px 1px 3px 1px rgba(60, 64, 67, 0.15);\n",
       "      fill: #174EA6;\n",
       "    }\n",
       "\n",
       "    [theme=dark] .colab-df-convert {\n",
       "      background-color: #3B4455;\n",
       "      fill: #D2E3FC;\n",
       "    }\n",
       "\n",
       "    [theme=dark] .colab-df-convert:hover {\n",
       "      background-color: #434B5C;\n",
       "      box-shadow: 0px 1px 3px 1px rgba(0, 0, 0, 0.15);\n",
       "      filter: drop-shadow(0px 1px 2px rgba(0, 0, 0, 0.3));\n",
       "      fill: #FFFFFF;\n",
       "    }\n",
       "  </style>\n",
       "\n",
       "      <script>\n",
       "        const buttonEl =\n",
       "          document.querySelector('#df-7626a99f-1cc6-4893-8187-0b422ccab082 button.colab-df-convert');\n",
       "        buttonEl.style.display =\n",
       "          google.colab.kernel.accessAllowed ? 'block' : 'none';\n",
       "\n",
       "        async function convertToInteractive(key) {\n",
       "          const element = document.querySelector('#df-7626a99f-1cc6-4893-8187-0b422ccab082');\n",
       "          const dataTable =\n",
       "            await google.colab.kernel.invokeFunction('convertToInteractive',\n",
       "                                                     [key], {});\n",
       "          if (!dataTable) return;\n",
       "\n",
       "          const docLinkHtml = 'Like what you see? Visit the ' +\n",
       "            '<a target=\"_blank\" href=https://colab.research.google.com/notebooks/data_table.ipynb>data table notebook</a>'\n",
       "            + ' to learn more about interactive tables.';\n",
       "          element.innerHTML = '';\n",
       "          dataTable['output_type'] = 'display_data';\n",
       "          await google.colab.output.renderOutput(dataTable, element);\n",
       "          const docLink = document.createElement('div');\n",
       "          docLink.innerHTML = docLinkHtml;\n",
       "          element.appendChild(docLink);\n",
       "        }\n",
       "      </script>\n",
       "    </div>\n",
       "  </div>\n",
       "  "
      ],
      "text/plain": [
       "                                                summary               image  \\\n",
       "0     Spacious, sunny and cozy modern apartment in t...     img_train/0.jpg   \n",
       "1     Located in one of the most vibrant and accessi...     img_train/1.jpg   \n",
       "2     Logement coquet et douillet à 10 minutes du ce...     img_train/2.jpg   \n",
       "3     Beautiful and spacious (1076 sc ft, / 100 mc) ...     img_train/3.jpg   \n",
       "4     Très grand appartement ''rustique'' et très ag...     img_train/4.jpg   \n",
       "...                                                 ...                 ...   \n",
       "7622  Un grand logement 4 et 1/2, tout inclut, bien ...  img_train/7626.jpg   \n",
       "7623  Magnificent condo directly on the river. You w...  img_train/7627.jpg   \n",
       "7624  This apartment is perfect for anyone visiting ...  img_train/7628.jpg   \n",
       "7625  It is a cozy ,clean ,and comfortable apartment...  img_train/7629.jpg   \n",
       "7626  Modern country style (newly-renovated); open c...  img_train/7630.jpg   \n",
       "\n",
       "      type  price  \n",
       "0        1      1  \n",
       "1        1      0  \n",
       "2        1      1  \n",
       "3        1      1  \n",
       "4        1      0  \n",
       "...    ...    ...  \n",
       "7622     1      0  \n",
       "7623     1      2  \n",
       "7624     1      1  \n",
       "7625     1      0  \n",
       "7626    17      1  \n",
       "\n",
       "[7627 rows x 4 columns]"
      ]
     },
     "execution_count": 4,
     "metadata": {},
     "output_type": "execute_result"
    }
   ],
   "source": [
    "# convert the labels in the type column from categorical data into numerical data\n",
    "df_train['type'] = df_train.type.astype('category').cat.codes\n",
    "\n",
    "# get the number of the unique values for both of our labels (type - price) to be used in the output layer in our network\n",
    "len_type = len(df_train.type.unique())\n",
    "len_price = len(df_train.price.unique())\n",
    "\n",
    "# display the training dataframe to make sure that the type column is now numerical\n",
    "df_train"
   ]
  },
  {
   "cell_type": "code",
   "execution_count": 5,
   "metadata": {
    "colab": {
     "base_uri": "https://localhost:8080/"
    },
    "id": "awvXlSzmRMeF",
    "outputId": "3d89132f-fdad-492d-bd0e-d5a0ec247ab5"
   },
   "outputs": [
    {
     "data": {
      "text/plain": [
       "24"
      ]
     },
     "execution_count": 5,
     "metadata": {},
     "output_type": "execute_result"
    }
   ],
   "source": [
    "# display the number of the unique values in the type column\n",
    "len_type"
   ]
  },
  {
   "cell_type": "code",
   "execution_count": 6,
   "metadata": {
    "colab": {
     "base_uri": "https://localhost:8080/"
    },
    "id": "2OdGkYHYRMeG",
    "outputId": "73a539c4-f02c-4c00-a770-6647344f4b49"
   },
   "outputs": [
    {
     "data": {
      "text/plain": [
       "3"
      ]
     },
     "execution_count": 6,
     "metadata": {},
     "output_type": "execute_result"
    }
   ],
   "source": [
    "# display the number of the unique values in the price column\n",
    "len_price"
   ]
  },
  {
   "cell_type": "code",
   "execution_count": 7,
   "metadata": {
    "colab": {
     "base_uri": "https://localhost:8080/"
    },
    "id": "ncWAvw8k9XL5",
    "outputId": "34489f35-da34-4d1e-9ecb-e010e113d243",
    "scrolled": true
   },
   "outputs": [
    {
     "name": "stdout",
     "output_type": "stream",
     "text": [
      "<class 'pandas.core.frame.DataFrame'>\n",
      "RangeIndex: 7627 entries, 0 to 7626\n",
      "Data columns (total 4 columns):\n",
      " #   Column   Non-Null Count  Dtype \n",
      "---  ------   --------------  ----- \n",
      " 0   summary  7627 non-null   object\n",
      " 1   image    7627 non-null   object\n",
      " 2   type     7627 non-null   int8  \n",
      " 3   price    7627 non-null   int64 \n",
      "dtypes: int64(1), int8(1), object(2)\n",
      "memory usage: 186.3+ KB\n"
     ]
    }
   ],
   "source": [
    "# fill the null values in the dataframe by forward filling method\n",
    "df_train = df_train.ffill()\n",
    "\n",
    "# display the information of the training dataframe to make sure that there are no null values\n",
    "df_train.info()"
   ]
  },
  {
   "cell_type": "code",
   "execution_count": 8,
   "metadata": {
    "id": "1YxvlvMJRMeG"
   },
   "outputs": [],
   "source": [
    "# translate all sentences in the summary column into english to make all in the same language\n",
    "\n",
    "from googletrans import Translator\n",
    "translator = Translator()\n",
    "\n",
    "df_train['translate_summary'] = df_train['summary'].apply(lambda x: translator.translate(x, lang_tgt= 'en'))"
   ]
  },
  {
   "cell_type": "code",
   "execution_count": 9,
   "metadata": {
    "colab": {
     "base_uri": "https://localhost:8080/",
     "height": 206
    },
    "id": "tK_o2vvh9XL8",
    "outputId": "2e01b2fb-8884-40fc-8ef0-a1e7c8557a87"
   },
   "outputs": [
    {
     "data": {
      "text/html": [
       "\n",
       "  <div id=\"df-034ed7a7-e23e-43dd-9316-a2fcfdcc8f2b\">\n",
       "    <div class=\"colab-df-container\">\n",
       "      <div>\n",
       "<style scoped>\n",
       "    .dataframe tbody tr th:only-of-type {\n",
       "        vertical-align: middle;\n",
       "    }\n",
       "\n",
       "    .dataframe tbody tr th {\n",
       "        vertical-align: top;\n",
       "    }\n",
       "\n",
       "    .dataframe thead th {\n",
       "        text-align: right;\n",
       "    }\n",
       "</style>\n",
       "<table border=\"1\" class=\"dataframe\">\n",
       "  <thead>\n",
       "    <tr style=\"text-align: right;\">\n",
       "      <th></th>\n",
       "      <th>summary</th>\n",
       "      <th>image</th>\n",
       "      <th>type</th>\n",
       "      <th>price</th>\n",
       "      <th>translate_summary</th>\n",
       "    </tr>\n",
       "  </thead>\n",
       "  <tbody>\n",
       "    <tr>\n",
       "      <th>0</th>\n",
       "      <td>Spacious, sunny and cozy modern apartment in t...</td>\n",
       "      <td>img_train/0.jpg</td>\n",
       "      <td>1</td>\n",
       "      <td>1</td>\n",
       "      <td>Translated(src=en, dest=en, text=Spacious, sun...</td>\n",
       "    </tr>\n",
       "    <tr>\n",
       "      <th>1</th>\n",
       "      <td>Located in one of the most vibrant and accessi...</td>\n",
       "      <td>img_train/1.jpg</td>\n",
       "      <td>1</td>\n",
       "      <td>0</td>\n",
       "      <td>Translated(src=en, dest=en, text=Located in on...</td>\n",
       "    </tr>\n",
       "    <tr>\n",
       "      <th>2</th>\n",
       "      <td>Logement coquet et douillet à 10 minutes du ce...</td>\n",
       "      <td>img_train/2.jpg</td>\n",
       "      <td>1</td>\n",
       "      <td>1</td>\n",
       "      <td>Translated(src=fr, dest=en, text=Pretty and co...</td>\n",
       "    </tr>\n",
       "    <tr>\n",
       "      <th>3</th>\n",
       "      <td>Beautiful and spacious (1076 sc ft, / 100 mc) ...</td>\n",
       "      <td>img_train/3.jpg</td>\n",
       "      <td>1</td>\n",
       "      <td>1</td>\n",
       "      <td>Translated(src=en, dest=en, text=Beautiful and...</td>\n",
       "    </tr>\n",
       "    <tr>\n",
       "      <th>4</th>\n",
       "      <td>Très grand appartement ''rustique'' et très ag...</td>\n",
       "      <td>img_train/4.jpg</td>\n",
       "      <td>1</td>\n",
       "      <td>0</td>\n",
       "      <td>Translated(src=fr, dest=en, text=Very large ''...</td>\n",
       "    </tr>\n",
       "  </tbody>\n",
       "</table>\n",
       "</div>\n",
       "      <button class=\"colab-df-convert\" onclick=\"convertToInteractive('df-034ed7a7-e23e-43dd-9316-a2fcfdcc8f2b')\"\n",
       "              title=\"Convert this dataframe to an interactive table.\"\n",
       "              style=\"display:none;\">\n",
       "        \n",
       "  <svg xmlns=\"http://www.w3.org/2000/svg\" height=\"24px\"viewBox=\"0 0 24 24\"\n",
       "       width=\"24px\">\n",
       "    <path d=\"M0 0h24v24H0V0z\" fill=\"none\"/>\n",
       "    <path d=\"M18.56 5.44l.94 2.06.94-2.06 2.06-.94-2.06-.94-.94-2.06-.94 2.06-2.06.94zm-11 1L8.5 8.5l.94-2.06 2.06-.94-2.06-.94L8.5 2.5l-.94 2.06-2.06.94zm10 10l.94 2.06.94-2.06 2.06-.94-2.06-.94-.94-2.06-.94 2.06-2.06.94z\"/><path d=\"M17.41 7.96l-1.37-1.37c-.4-.4-.92-.59-1.43-.59-.52 0-1.04.2-1.43.59L10.3 9.45l-7.72 7.72c-.78.78-.78 2.05 0 2.83L4 21.41c.39.39.9.59 1.41.59.51 0 1.02-.2 1.41-.59l7.78-7.78 2.81-2.81c.8-.78.8-2.07 0-2.86zM5.41 20L4 18.59l7.72-7.72 1.47 1.35L5.41 20z\"/>\n",
       "  </svg>\n",
       "      </button>\n",
       "      \n",
       "  <style>\n",
       "    .colab-df-container {\n",
       "      display:flex;\n",
       "      flex-wrap:wrap;\n",
       "      gap: 12px;\n",
       "    }\n",
       "\n",
       "    .colab-df-convert {\n",
       "      background-color: #E8F0FE;\n",
       "      border: none;\n",
       "      border-radius: 50%;\n",
       "      cursor: pointer;\n",
       "      display: none;\n",
       "      fill: #1967D2;\n",
       "      height: 32px;\n",
       "      padding: 0 0 0 0;\n",
       "      width: 32px;\n",
       "    }\n",
       "\n",
       "    .colab-df-convert:hover {\n",
       "      background-color: #E2EBFA;\n",
       "      box-shadow: 0px 1px 2px rgba(60, 64, 67, 0.3), 0px 1px 3px 1px rgba(60, 64, 67, 0.15);\n",
       "      fill: #174EA6;\n",
       "    }\n",
       "\n",
       "    [theme=dark] .colab-df-convert {\n",
       "      background-color: #3B4455;\n",
       "      fill: #D2E3FC;\n",
       "    }\n",
       "\n",
       "    [theme=dark] .colab-df-convert:hover {\n",
       "      background-color: #434B5C;\n",
       "      box-shadow: 0px 1px 3px 1px rgba(0, 0, 0, 0.15);\n",
       "      filter: drop-shadow(0px 1px 2px rgba(0, 0, 0, 0.3));\n",
       "      fill: #FFFFFF;\n",
       "    }\n",
       "  </style>\n",
       "\n",
       "      <script>\n",
       "        const buttonEl =\n",
       "          document.querySelector('#df-034ed7a7-e23e-43dd-9316-a2fcfdcc8f2b button.colab-df-convert');\n",
       "        buttonEl.style.display =\n",
       "          google.colab.kernel.accessAllowed ? 'block' : 'none';\n",
       "\n",
       "        async function convertToInteractive(key) {\n",
       "          const element = document.querySelector('#df-034ed7a7-e23e-43dd-9316-a2fcfdcc8f2b');\n",
       "          const dataTable =\n",
       "            await google.colab.kernel.invokeFunction('convertToInteractive',\n",
       "                                                     [key], {});\n",
       "          if (!dataTable) return;\n",
       "\n",
       "          const docLinkHtml = 'Like what you see? Visit the ' +\n",
       "            '<a target=\"_blank\" href=https://colab.research.google.com/notebooks/data_table.ipynb>data table notebook</a>'\n",
       "            + ' to learn more about interactive tables.';\n",
       "          element.innerHTML = '';\n",
       "          dataTable['output_type'] = 'display_data';\n",
       "          await google.colab.output.renderOutput(dataTable, element);\n",
       "          const docLink = document.createElement('div');\n",
       "          docLink.innerHTML = docLinkHtml;\n",
       "          element.appendChild(docLink);\n",
       "        }\n",
       "      </script>\n",
       "    </div>\n",
       "  </div>\n",
       "  "
      ],
      "text/plain": [
       "                                             summary            image  type  \\\n",
       "0  Spacious, sunny and cozy modern apartment in t...  img_train/0.jpg     1   \n",
       "1  Located in one of the most vibrant and accessi...  img_train/1.jpg     1   \n",
       "2  Logement coquet et douillet à 10 minutes du ce...  img_train/2.jpg     1   \n",
       "3  Beautiful and spacious (1076 sc ft, / 100 mc) ...  img_train/3.jpg     1   \n",
       "4  Très grand appartement ''rustique'' et très ag...  img_train/4.jpg     1   \n",
       "\n",
       "   price                                  translate_summary  \n",
       "0      1  Translated(src=en, dest=en, text=Spacious, sun...  \n",
       "1      0  Translated(src=en, dest=en, text=Located in on...  \n",
       "2      1  Translated(src=fr, dest=en, text=Pretty and co...  \n",
       "3      1  Translated(src=en, dest=en, text=Beautiful and...  \n",
       "4      0  Translated(src=fr, dest=en, text=Very large ''...  "
      ]
     },
     "execution_count": 9,
     "metadata": {},
     "output_type": "execute_result"
    }
   ],
   "source": [
    "# display the first 5 rows to check the translation column\n",
    "df_train.head()"
   ]
  },
  {
   "cell_type": "code",
   "execution_count": 4,
   "metadata": {
    "colab": {
     "base_uri": "https://localhost:8080/",
     "height": 49,
     "referenced_widgets": [
      "b8d461a18cd94779b18104e6e4ab9e4e",
      "7f89b792b16c498cbc21767342e66779",
      "cd257623ed69448b826fb613e6b2cfa8",
      "9b6adda453304141a836db2a9ca1046c",
      "5965a312509c4969aaf6fb04e145d419",
      "219d60607e8242b48f535a53c309b5e0",
      "720240be1ce049edbee716d56c5db5e9",
      "f62aac42ce5d48eebcf0fd267b8842be",
      "b4d37c086bc14b9c8f1ffffdfe5bebe4",
      "186a09fb6f5543fcbe121bfc061896b7",
      "13c3d42a8f884eb48d9bef80031f1b10"
     ]
    },
    "id": "OUEfPdTdRMeH",
    "outputId": "ea81b40b-fc99-452a-e7a0-dbccdd67d701"
   },
   "outputs": [
    {
     "data": {
      "application/vnd.jupyter.widget-view+json": {
       "model_id": "a6d49f1fdc3e44938fd33a7b672e5cf1",
       "version_major": 2,
       "version_minor": 0
      },
      "text/plain": [
       "HBox(children=(FloatProgress(value=0.0, max=7627.0), HTML(value='')))"
      ]
     },
     "metadata": {},
     "output_type": "display_data"
    },
    {
     "name": "stdout",
     "output_type": "stream",
     "text": [
      "\n"
     ]
    }
   ],
   "source": [
    "# preprocess image data by make resize of each image and convert it to grayscale\n",
    "def load_image(file):\n",
    "    try:\n",
    "        image = Image.open(\n",
    "            file\n",
    "        ).convert('LA').resize((64, 64))\n",
    "        arr = np.array(image)\n",
    "    except:\n",
    "        arr = np.zeros((64, 64, 2))\n",
    "    return arr\n",
    "\n",
    "\n",
    "# loading images and apply the processing function on each image\n",
    "x_train_image = np.array([load_image(i) for i in tqdm(df_train.image)])"
   ]
  },
  {
   "cell_type": "code",
   "execution_count": 5,
   "metadata": {
    "colab": {
     "base_uri": "https://localhost:8080/",
     "height": 286
    },
    "id": "S6SX9svCRMeJ",
    "outputId": "acc10082-0c20-4ead-c1bd-bbfef17bf8ce"
   },
   "outputs": [
    {
     "data": {
      "text/plain": [
       "<matplotlib.image.AxesImage at 0x2051c5e6ec8>"
      ]
     },
     "execution_count": 5,
     "metadata": {},
     "output_type": "execute_result"
    },
    {
     "data": {
      "image/png": "[encoded data removed]",
      "text/plain": [
       "<Figure size 432x288 with 1 Axes>"
      ]
     },
     "metadata": {
      "needs_background": "light"
     },
     "output_type": "display_data"
    }
   ],
   "source": [
    "# check image loading and display the zero index image \n",
    "import matplotlib.pyplot as plt\n",
    "plt.imshow(x_train_image[0, :, :, 0])"
   ]
  },
  {
   "cell_type": "code",
   "execution_count": 12,
   "metadata": {
    "id": "_y8SxZcw9XL_"
   },
   "outputs": [],
   "source": [
    "# get the two labels that we will work with\n",
    "# get type \n",
    "y_train_type = df_train.type\n",
    "\n",
    "# get price\n",
    "y_train_price = df_train.price"
   ]
  },
  {
   "cell_type": "code",
   "execution_count": 14,
   "metadata": {
    "colab": {
     "base_uri": "https://localhost:8080/"
    },
    "id": "xxnlDJ9KRMeJ",
    "outputId": "4979f270-202d-44c9-b319-9e7a6cdf6b12"
   },
   "outputs": [
    {
     "name": "stdout",
     "output_type": "stream",
     "text": [
      "[nltk_data] Downloading package punkt to /root/nltk_data...\n",
      "[nltk_data]   Unzipping tokenizers/punkt.zip.\n",
      "[nltk_data] Downloading package stopwords to /root/nltk_data...\n",
      "[nltk_data]   Unzipping corpora/stopwords.zip.\n",
      "[nltk_data] Downloading package wordnet to /root/nltk_data...\n",
      "[nltk_data]   Unzipping corpora/wordnet.zip.\n"
     ]
    }
   ],
   "source": [
    "# prepare the cleaning function for the text data\n",
    "import nltk \n",
    "from nltk.stem.snowball import SnowballStemmer\n",
    "from nltk.tokenize import word_tokenize\n",
    "from nltk.corpus import stopwords\n",
    "nltk.download('punkt')\n",
    "nltk.download('stopwords')\n",
    "from nltk.tokenize import word_tokenize\n",
    "from nltk.stem import WordNetLemmatizer\n",
    "\n",
    "# define our lemmatizer by English language as our dataset in English language after translation\n",
    "nltk.download('wordnet')\n",
    "lemmatizer=WordNetLemmatizer()\n",
    "\n",
    "# get the stopwords from the nltk library by English language as our dataset in English language\n",
    "stop_words = set(stopwords.words(\"english\"))\n",
    "\n",
    "# define the first preprocessing function\n",
    "def preprocessing_1(text):\n",
    "    \"\"\" steps:\n",
    "        - remove any html tags (< /br> often found)\n",
    "        - Keep only ASCII + European Chars and whitespace\n",
    "        - remove single letter chars\n",
    "        - convert all whitespaces (tabs etc.) to single wspace\n",
    "        - remove stopwords, punctuation and stemm\n",
    "    \"\"\"\n",
    "    # get any number of white spaces with single white space\n",
    "    RE_WSPACE = re.compile(r\"\\s+\", re.IGNORECASE)\n",
    "    # get html tages\n",
    "    RE_TAGS = re.compile(r\"<[^>]+>\")\n",
    "    # get any letter not written in English way\n",
    "    RE_ASCII = re.compile(r\"[^A-Za-z0-9 ]\", re.IGNORECASE)\n",
    "    # get any single character that has space before it and space after it\n",
    "    RE_SINGLECHAR = re.compile(r\"\\b[A-Za-zÀ-ž]\\b\", re.IGNORECASE)\n",
    "    \n",
    "    # romove anything from the above with space and the text after what will be removed\n",
    "    text = re.sub(RE_TAGS, \" \", text)\n",
    "    text = re.sub(RE_ASCII, \" \", text)\n",
    "    text = re.sub(RE_SINGLECHAR, \" \", text)\n",
    "    text = re.sub(RE_WSPACE, \" \", text)\n",
    "    \n",
    "    # make word tokenization and split the sentences into tokens\n",
    "    word_tokens = word_tokenize(text)\n",
    "    # convert any capital letter with its small letter to make all of the letters small\n",
    "    words_tokens_lower = [word.lower() for word in word_tokens]\n",
    "\n",
    "    # remove stop words\n",
    "    words_filtered = [\n",
    "        word for word in words_tokens_lower if word not in stop_words\n",
    "    ]\n",
    "    \n",
    "    # Lemmatization\n",
    "    Lemm_new_word = []\n",
    "    for word in words_filtered:\n",
    "        Lemm_new_word.append(lemmatizer.lemmatize(word))\n",
    "\n",
    "    # make joining for all words in any sentence to make them one sentence again\n",
    "    text_clean = \" \".join(Lemm_new_word)\n",
    "    return text_clean"
   ]
  },
  {
   "cell_type": "code",
   "execution_count": 15,
   "metadata": {
    "id": "Fk9nGP699XME"
   },
   "outputs": [],
   "source": [
    "# add new column by the size of the summary column to be used to insert in it the text translated\n",
    "df_train['translate_summary_text'] = df_train['summary']"
   ]
  },
  {
   "cell_type": "code",
   "execution_count": 16,
   "metadata": {
    "colab": {
     "base_uri": "https://localhost:8080/"
    },
    "id": "mvP9GEQm9XME",
    "outputId": "de0760bf-d8f2-4a6c-b6d6-075d03615771"
   },
   "outputs": [
    {
     "name": "stderr",
     "output_type": "stream",
     "text": [
      "/usr/local/lib/python3.7/dist-packages/ipykernel_launcher.py:3: SettingWithCopyWarning: \n",
      "A value is trying to be set on a copy of a slice from a DataFrame\n",
      "\n",
      "See the caveats in the documentation: https://pandas.pydata.org/pandas-docs/stable/user_guide/indexing.html#returning-a-view-versus-a-copy\n",
      "  This is separate from the ipykernel package so we can avoid doing imports until\n"
     ]
    }
   ],
   "source": [
    "# get the text attribute in the translate_summary column to be cleaned as I need to clean the text only\n",
    "for i in range(len(df_train[\"translate_summary\"])):\n",
    "    df_train['translate_summary_text'][i] = df_train['translate_summary'][i].text"
   ]
  },
  {
   "cell_type": "code",
   "execution_count": 17,
   "metadata": {
    "colab": {
     "base_uri": "https://localhost:8080/",
     "height": 641
    },
    "id": "-3W2TTbV9XMF",
    "outputId": "0cf7285a-61b5-4a73-8cd8-baee9b7aa83f"
   },
   "outputs": [
    {
     "data": {
      "text/html": [
       "\n",
       "  <div id=\"df-55992e8d-6c68-4552-a273-9d7cc76a55e9\">\n",
       "    <div class=\"colab-df-container\">\n",
       "      <div>\n",
       "<style scoped>\n",
       "    .dataframe tbody tr th:only-of-type {\n",
       "        vertical-align: middle;\n",
       "    }\n",
       "\n",
       "    .dataframe tbody tr th {\n",
       "        vertical-align: top;\n",
       "    }\n",
       "\n",
       "    .dataframe thead th {\n",
       "        text-align: right;\n",
       "    }\n",
       "</style>\n",
       "<table border=\"1\" class=\"dataframe\">\n",
       "  <thead>\n",
       "    <tr style=\"text-align: right;\">\n",
       "      <th></th>\n",
       "      <th>summary</th>\n",
       "      <th>image</th>\n",
       "      <th>type</th>\n",
       "      <th>price</th>\n",
       "      <th>translate_summary</th>\n",
       "      <th>translate_summary_text</th>\n",
       "    </tr>\n",
       "  </thead>\n",
       "  <tbody>\n",
       "    <tr>\n",
       "      <th>0</th>\n",
       "      <td>Spacious, sunny and cozy modern apartment in t...</td>\n",
       "      <td>img_train/0.jpg</td>\n",
       "      <td>1</td>\n",
       "      <td>1</td>\n",
       "      <td>Translated(src=en, dest=en, text=Spacious, sun...</td>\n",
       "      <td>Spacious, sunny and cozy modern apartment in t...</td>\n",
       "    </tr>\n",
       "    <tr>\n",
       "      <th>1</th>\n",
       "      <td>Located in one of the most vibrant and accessi...</td>\n",
       "      <td>img_train/1.jpg</td>\n",
       "      <td>1</td>\n",
       "      <td>0</td>\n",
       "      <td>Translated(src=en, dest=en, text=Located in on...</td>\n",
       "      <td>Located in one of the most vibrant and accessi...</td>\n",
       "    </tr>\n",
       "    <tr>\n",
       "      <th>2</th>\n",
       "      <td>Logement coquet et douillet à 10 minutes du ce...</td>\n",
       "      <td>img_train/2.jpg</td>\n",
       "      <td>1</td>\n",
       "      <td>1</td>\n",
       "      <td>Translated(src=fr, dest=en, text=Pretty and co...</td>\n",
       "      <td>Pretty and cozy accommodation 10 minutes from ...</td>\n",
       "    </tr>\n",
       "    <tr>\n",
       "      <th>3</th>\n",
       "      <td>Beautiful and spacious (1076 sc ft, / 100 mc) ...</td>\n",
       "      <td>img_train/3.jpg</td>\n",
       "      <td>1</td>\n",
       "      <td>1</td>\n",
       "      <td>Translated(src=en, dest=en, text=Beautiful and...</td>\n",
       "      <td>Beautiful and spacious (1076 sc ft, / 100 mc) ...</td>\n",
       "    </tr>\n",
       "    <tr>\n",
       "      <th>4</th>\n",
       "      <td>Très grand appartement ''rustique'' et très ag...</td>\n",
       "      <td>img_train/4.jpg</td>\n",
       "      <td>1</td>\n",
       "      <td>0</td>\n",
       "      <td>Translated(src=fr, dest=en, text=Very large ''...</td>\n",
       "      <td>Very large ''rustic'' and very pleasant apartm...</td>\n",
       "    </tr>\n",
       "    <tr>\n",
       "      <th>...</th>\n",
       "      <td>...</td>\n",
       "      <td>...</td>\n",
       "      <td>...</td>\n",
       "      <td>...</td>\n",
       "      <td>...</td>\n",
       "      <td>...</td>\n",
       "    </tr>\n",
       "    <tr>\n",
       "      <th>7622</th>\n",
       "      <td>Un grand logement 4 et 1/2, tout inclut, bien ...</td>\n",
       "      <td>img_train/7626.jpg</td>\n",
       "      <td>1</td>\n",
       "      <td>0</td>\n",
       "      <td>Translated(src=fr, dest=en, text=A large 4 and...</td>\n",
       "      <td>A large 4 and 1/2 apartment, all inclusive, we...</td>\n",
       "    </tr>\n",
       "    <tr>\n",
       "      <th>7623</th>\n",
       "      <td>Magnificent condo directly on the river. You w...</td>\n",
       "      <td>img_train/7627.jpg</td>\n",
       "      <td>1</td>\n",
       "      <td>2</td>\n",
       "      <td>Translated(src=en, dest=en, text=Magnificent c...</td>\n",
       "      <td>Magnificent condo directly on the river. You w...</td>\n",
       "    </tr>\n",
       "    <tr>\n",
       "      <th>7624</th>\n",
       "      <td>This apartment is perfect for anyone visiting ...</td>\n",
       "      <td>img_train/7628.jpg</td>\n",
       "      <td>1</td>\n",
       "      <td>1</td>\n",
       "      <td>Translated(src=en, dest=en, text=This apartmen...</td>\n",
       "      <td>This apartment is perfect for anyone visiting ...</td>\n",
       "    </tr>\n",
       "    <tr>\n",
       "      <th>7625</th>\n",
       "      <td>It is a cozy ,clean ,and comfortable apartment...</td>\n",
       "      <td>img_train/7629.jpg</td>\n",
       "      <td>1</td>\n",
       "      <td>0</td>\n",
       "      <td>Translated(src=en, dest=en, text=It is a cozy ...</td>\n",
       "      <td>It is a cozy ,clean ,and comfortable apartment...</td>\n",
       "    </tr>\n",
       "    <tr>\n",
       "      <th>7626</th>\n",
       "      <td>Modern country style (newly-renovated); open c...</td>\n",
       "      <td>img_train/7630.jpg</td>\n",
       "      <td>17</td>\n",
       "      <td>1</td>\n",
       "      <td>Translated(src=en, dest=en, text=Modern countr...</td>\n",
       "      <td>Modern country style (newly-renovated); open c...</td>\n",
       "    </tr>\n",
       "  </tbody>\n",
       "</table>\n",
       "<p>7627 rows × 6 columns</p>\n",
       "</div>\n",
       "      <button class=\"colab-df-convert\" onclick=\"convertToInteractive('df-55992e8d-6c68-4552-a273-9d7cc76a55e9')\"\n",
       "              title=\"Convert this dataframe to an interactive table.\"\n",
       "              style=\"display:none;\">\n",
       "        \n",
       "  <svg xmlns=\"http://www.w3.org/2000/svg\" height=\"24px\"viewBox=\"0 0 24 24\"\n",
       "       width=\"24px\">\n",
       "    <path d=\"M0 0h24v24H0V0z\" fill=\"none\"/>\n",
       "    <path d=\"M18.56 5.44l.94 2.06.94-2.06 2.06-.94-2.06-.94-.94-2.06-.94 2.06-2.06.94zm-11 1L8.5 8.5l.94-2.06 2.06-.94-2.06-.94L8.5 2.5l-.94 2.06-2.06.94zm10 10l.94 2.06.94-2.06 2.06-.94-2.06-.94-.94-2.06-.94 2.06-2.06.94z\"/><path d=\"M17.41 7.96l-1.37-1.37c-.4-.4-.92-.59-1.43-.59-.52 0-1.04.2-1.43.59L10.3 9.45l-7.72 7.72c-.78.78-.78 2.05 0 2.83L4 21.41c.39.39.9.59 1.41.59.51 0 1.02-.2 1.41-.59l7.78-7.78 2.81-2.81c.8-.78.8-2.07 0-2.86zM5.41 20L4 18.59l7.72-7.72 1.47 1.35L5.41 20z\"/>\n",
       "  </svg>\n",
       "      </button>\n",
       "      \n",
       "  <style>\n",
       "    .colab-df-container {\n",
       "      display:flex;\n",
       "      flex-wrap:wrap;\n",
       "      gap: 12px;\n",
       "    }\n",
       "\n",
       "    .colab-df-convert {\n",
       "      background-color: #E8F0FE;\n",
       "      border: none;\n",
       "      border-radius: 50%;\n",
       "      cursor: pointer;\n",
       "      display: none;\n",
       "      fill: #1967D2;\n",
       "      height: 32px;\n",
       "      padding: 0 0 0 0;\n",
       "      width: 32px;\n",
       "    }\n",
       "\n",
       "    .colab-df-convert:hover {\n",
       "      background-color: #E2EBFA;\n",
       "      box-shadow: 0px 1px 2px rgba(60, 64, 67, 0.3), 0px 1px 3px 1px rgba(60, 64, 67, 0.15);\n",
       "      fill: #174EA6;\n",
       "    }\n",
       "\n",
       "    [theme=dark] .colab-df-convert {\n",
       "      background-color: #3B4455;\n",
       "      fill: #D2E3FC;\n",
       "    }\n",
       "\n",
       "    [theme=dark] .colab-df-convert:hover {\n",
       "      background-color: #434B5C;\n",
       "      box-shadow: 0px 1px 3px 1px rgba(0, 0, 0, 0.15);\n",
       "      filter: drop-shadow(0px 1px 2px rgba(0, 0, 0, 0.3));\n",
       "      fill: #FFFFFF;\n",
       "    }\n",
       "  </style>\n",
       "\n",
       "      <script>\n",
       "        const buttonEl =\n",
       "          document.querySelector('#df-55992e8d-6c68-4552-a273-9d7cc76a55e9 button.colab-df-convert');\n",
       "        buttonEl.style.display =\n",
       "          google.colab.kernel.accessAllowed ? 'block' : 'none';\n",
       "\n",
       "        async function convertToInteractive(key) {\n",
       "          const element = document.querySelector('#df-55992e8d-6c68-4552-a273-9d7cc76a55e9');\n",
       "          const dataTable =\n",
       "            await google.colab.kernel.invokeFunction('convertToInteractive',\n",
       "                                                     [key], {});\n",
       "          if (!dataTable) return;\n",
       "\n",
       "          const docLinkHtml = 'Like what you see? Visit the ' +\n",
       "            '<a target=\"_blank\" href=https://colab.research.google.com/notebooks/data_table.ipynb>data table notebook</a>'\n",
       "            + ' to learn more about interactive tables.';\n",
       "          element.innerHTML = '';\n",
       "          dataTable['output_type'] = 'display_data';\n",
       "          await google.colab.output.renderOutput(dataTable, element);\n",
       "          const docLink = document.createElement('div');\n",
       "          docLink.innerHTML = docLinkHtml;\n",
       "          element.appendChild(docLink);\n",
       "        }\n",
       "      </script>\n",
       "    </div>\n",
       "  </div>\n",
       "  "
      ],
      "text/plain": [
       "                                                summary               image  \\\n",
       "0     Spacious, sunny and cozy modern apartment in t...     img_train/0.jpg   \n",
       "1     Located in one of the most vibrant and accessi...     img_train/1.jpg   \n",
       "2     Logement coquet et douillet à 10 minutes du ce...     img_train/2.jpg   \n",
       "3     Beautiful and spacious (1076 sc ft, / 100 mc) ...     img_train/3.jpg   \n",
       "4     Très grand appartement ''rustique'' et très ag...     img_train/4.jpg   \n",
       "...                                                 ...                 ...   \n",
       "7622  Un grand logement 4 et 1/2, tout inclut, bien ...  img_train/7626.jpg   \n",
       "7623  Magnificent condo directly on the river. You w...  img_train/7627.jpg   \n",
       "7624  This apartment is perfect for anyone visiting ...  img_train/7628.jpg   \n",
       "7625  It is a cozy ,clean ,and comfortable apartment...  img_train/7629.jpg   \n",
       "7626  Modern country style (newly-renovated); open c...  img_train/7630.jpg   \n",
       "\n",
       "      type  price                                  translate_summary  \\\n",
       "0        1      1  Translated(src=en, dest=en, text=Spacious, sun...   \n",
       "1        1      0  Translated(src=en, dest=en, text=Located in on...   \n",
       "2        1      1  Translated(src=fr, dest=en, text=Pretty and co...   \n",
       "3        1      1  Translated(src=en, dest=en, text=Beautiful and...   \n",
       "4        1      0  Translated(src=fr, dest=en, text=Very large ''...   \n",
       "...    ...    ...                                                ...   \n",
       "7622     1      0  Translated(src=fr, dest=en, text=A large 4 and...   \n",
       "7623     1      2  Translated(src=en, dest=en, text=Magnificent c...   \n",
       "7624     1      1  Translated(src=en, dest=en, text=This apartmen...   \n",
       "7625     1      0  Translated(src=en, dest=en, text=It is a cozy ...   \n",
       "7626    17      1  Translated(src=en, dest=en, text=Modern countr...   \n",
       "\n",
       "                                 translate_summary_text  \n",
       "0     Spacious, sunny and cozy modern apartment in t...  \n",
       "1     Located in one of the most vibrant and accessi...  \n",
       "2     Pretty and cozy accommodation 10 minutes from ...  \n",
       "3     Beautiful and spacious (1076 sc ft, / 100 mc) ...  \n",
       "4     Very large ''rustic'' and very pleasant apartm...  \n",
       "...                                                 ...  \n",
       "7622  A large 4 and 1/2 apartment, all inclusive, we...  \n",
       "7623  Magnificent condo directly on the river. You w...  \n",
       "7624  This apartment is perfect for anyone visiting ...  \n",
       "7625  It is a cozy ,clean ,and comfortable apartment...  \n",
       "7626  Modern country style (newly-renovated); open c...  \n",
       "\n",
       "[7627 rows x 6 columns]"
      ]
     },
     "execution_count": 17,
     "metadata": {},
     "output_type": "execute_result"
    }
   ],
   "source": [
    "# check the dataframe after adding the translated column\n",
    "df_train"
   ]
  },
  {
   "cell_type": "code",
   "execution_count": 18,
   "metadata": {
    "id": "gIsA-67kRMeK"
   },
   "outputs": [],
   "source": [
    "\n",
    "import re\n",
    "# Clean text in the training dataset and insert the clean text in new column\n",
    "df_train[\"summary_clean\"] = df_train.loc[df_train[\"translate_summary_text\"].str.len() > 0, \"translate_summary_text\"]\n",
    "df_train[\"summary_clean\"] = df_train[\"summary_clean\"].map(\n",
    "    lambda x: preprocessing_1(x) if isinstance(x, str) else x\n",
    ")"
   ]
  },
  {
   "cell_type": "code",
   "execution_count": 19,
   "metadata": {
    "id": "86NcDp6XRMeK"
   },
   "outputs": [],
   "source": [
    "# # loading summary after cleaning and apply the preprocessing on it\n",
    "x_train_text = df_train.summary_clean.astype('str')\n",
    "# x_train_text = df_train.summary.astype('str')"
   ]
  },
  {
   "cell_type": "code",
   "execution_count": 20,
   "metadata": {
    "colab": {
     "base_uri": "https://localhost:8080/"
    },
    "id": "iqaj1QFYRMeK",
    "outputId": "be07a7cb-b7cd-4622-a972-01c57c4470f0"
   },
   "outputs": [
    {
     "name": "stdout",
     "output_type": "stream",
     "text": [
      "(7627, 100)\n"
     ]
    }
   ],
   "source": [
    "# preprocess text data after translate and clean it\n",
    "# define the vocabulary size that I will work on so the algorithm will work on the most 30000 frequent word\n",
    "vocab_size = 30000\n",
    "# define the maximum length for each sentence to make all sentences with the same size \n",
    "max_len = 100\n",
    "\n",
    "\n",
    "# build vocabulary from training set\n",
    "tokenizer = Tokenizer(num_words=vocab_size)\n",
    "tokenizer.fit_on_texts(x_train_text)\n",
    "\n",
    "# define the preprocessing function by making all sentences in the same size and if one is taller it remove the words from the \n",
    "# back of the sentence and if one is shorter it add zero padding after the last word in the sentence untill reach max_len\n",
    "def _preprocess(list_of_text):\n",
    "    return pad_sequences(\n",
    "        tokenizer.texts_to_sequences(list_of_text),\n",
    "        maxlen=max_len,\n",
    "        padding='post',\n",
    "    )\n",
    "    \n",
    "\n",
    "# padding is done inside: \n",
    "x_train_text_id = _preprocess(x_train_text)\n",
    "\n",
    "print(x_train_text_id.shape)"
   ]
  },
  {
   "cell_type": "code",
   "execution_count": 21,
   "metadata": {
    "colab": {
     "base_uri": "https://localhost:8080/"
    },
    "id": "mrxf7tELRMeL",
    "outputId": "d890933d-ae08-4497-d46e-eac317436780"
   },
   "outputs": [
    {
     "name": "stdout",
     "output_type": "stream",
     "text": [
      "['spacious sunny cozy modern apartment heart montreal 3 bedroom centrally '\n",
      " 'located popular plateau mont royal neighborhood middle prince arthur '\n",
      " 'pedestrian street close amenity restaurant coffee house bar club shopping '\n",
      " 'university subway station experience montreal like real local resident heart '\n",
      " 'action grand prix week grill saint laurent festival mural 2019 much',\n",
      " 'located one vibrant accessible location downtown montreal one bedroom condo '\n",
      " 'impress leave one memorable experience walking distance popular sainte '\n",
      " 'catherine street bell center old port lachine canal bonaventure metro much '\n",
      " 'much',\n",
      " 'pretty cozy accommodation 10 minute downtown montreal grocery store pharmacy '\n",
      " 'saq restaurant public transport nearby two closed bedroom accommodate 4 '\n",
      " 'adult',\n",
      " 'beautiful spacious 1076 sc ft 100 mc condo 1th floor west island montreal '\n",
      " 'located quiet residential area near number superb green space 3 min car '\n",
      " 'highway 13 40 7 min le march de ouest 15 min airport 6 min walk sunnybrooke '\n",
      " 'train station go downtown mtl 20 min close beautiful nature park bois de '\n",
      " 'liesse walk bike path summer snowshoe cross country skiing path winter',\n",
      " 'large rustic pleasant apartment rent nice neighborhood montreal large '\n",
      " 'bedroom basement ground floor bedroom large kitchen dining room large double '\n",
      " 'living room kitchen offer many machine blender food processor coffee maker '\n",
      " 'panini machine waffle machine close riverfront downtown verdun montreal foot '\n",
      " 'metro bike bus']\n"
     ]
    }
   ],
   "source": [
    "# we can use the tokenizer to convert IDs to words.\n",
    "# print in a better organize print way the first 5 sentences after finishing the preprocessing\n",
    "pprint(tokenizer.sequences_to_texts(x_train_text_id[:5]))"
   ]
  },
  {
   "cell_type": "markdown",
   "metadata": {
    "id": "Qjb4ednYRMeL"
   },
   "source": [
    "## Read the test dataset"
   ]
  },
  {
   "cell_type": "code",
   "execution_count": 22,
   "metadata": {
    "colab": {
     "base_uri": "https://localhost:8080/",
     "height": 455
    },
    "id": "WFDj5yMYRMeM",
    "outputId": "74afb04d-ee13-40f1-db68-15cfcb7b6db3"
   },
   "outputs": [
    {
     "data": {
      "text/html": [
       "\n",
       "  <div id=\"df-789f92d5-760d-4f35-9dc0-6319347aeb66\">\n",
       "    <div class=\"colab-df-container\">\n",
       "      <div>\n",
       "<style scoped>\n",
       "    .dataframe tbody tr th:only-of-type {\n",
       "        vertical-align: middle;\n",
       "    }\n",
       "\n",
       "    .dataframe tbody tr th {\n",
       "        vertical-align: top;\n",
       "    }\n",
       "\n",
       "    .dataframe thead th {\n",
       "        text-align: right;\n",
       "    }\n",
       "</style>\n",
       "<table border=\"1\" class=\"dataframe\">\n",
       "  <thead>\n",
       "    <tr style=\"text-align: right;\">\n",
       "      <th></th>\n",
       "      <th>summary</th>\n",
       "      <th>image</th>\n",
       "    </tr>\n",
       "    <tr>\n",
       "      <th>id</th>\n",
       "      <th></th>\n",
       "      <th></th>\n",
       "    </tr>\n",
       "  </thead>\n",
       "  <tbody>\n",
       "    <tr>\n",
       "      <th>0</th>\n",
       "      <td>Charming warm house is ready to host you here ...</td>\n",
       "      <td>img_test/0.jpg</td>\n",
       "    </tr>\n",
       "    <tr>\n",
       "      <th>1</th>\n",
       "      <td>La chambre est spacieuse et lumineuse, dans un...</td>\n",
       "      <td>img_test/1.jpg</td>\n",
       "    </tr>\n",
       "    <tr>\n",
       "      <th>2</th>\n",
       "      <td>Grande chambre confortable située au sous-sol ...</td>\n",
       "      <td>img_test/2.jpg</td>\n",
       "    </tr>\n",
       "    <tr>\n",
       "      <th>3</th>\n",
       "      <td>Près d’un Métro, ligne orange. 10 minutes à pi...</td>\n",
       "      <td>img_test/3.jpg</td>\n",
       "    </tr>\n",
       "    <tr>\n",
       "      <th>4</th>\n",
       "      <td>Very bright appartment and very cosy. 2 separa...</td>\n",
       "      <td>img_test/4.jpg</td>\n",
       "    </tr>\n",
       "    <tr>\n",
       "      <th>...</th>\n",
       "      <td>...</td>\n",
       "      <td>...</td>\n",
       "    </tr>\n",
       "    <tr>\n",
       "      <th>7626</th>\n",
       "      <td>Large, fully-furnished flat with brick walls a...</td>\n",
       "      <td>img_test/7627.jpg</td>\n",
       "    </tr>\n",
       "    <tr>\n",
       "      <th>7627</th>\n",
       "      <td>Logement situé dans le haut d’un duplex. Vivez...</td>\n",
       "      <td>img_test/7628.jpg</td>\n",
       "    </tr>\n",
       "    <tr>\n",
       "      <th>7628</th>\n",
       "      <td>My place is close to parks, . My place is good...</td>\n",
       "      <td>img_test/7629.jpg</td>\n",
       "    </tr>\n",
       "    <tr>\n",
       "      <th>7629</th>\n",
       "      <td>*** For security reasons, I will prioritize gu...</td>\n",
       "      <td>img_test/7630.jpg</td>\n",
       "    </tr>\n",
       "    <tr>\n",
       "      <th>7630</th>\n",
       "      <td>Stay in an amazing area of Montreal! 5-7 min f...</td>\n",
       "      <td>img_test/7631.jpg</td>\n",
       "    </tr>\n",
       "  </tbody>\n",
       "</table>\n",
       "<p>7360 rows × 2 columns</p>\n",
       "</div>\n",
       "      <button class=\"colab-df-convert\" onclick=\"convertToInteractive('df-789f92d5-760d-4f35-9dc0-6319347aeb66')\"\n",
       "              title=\"Convert this dataframe to an interactive table.\"\n",
       "              style=\"display:none;\">\n",
       "        \n",
       "  <svg xmlns=\"http://www.w3.org/2000/svg\" height=\"24px\"viewBox=\"0 0 24 24\"\n",
       "       width=\"24px\">\n",
       "    <path d=\"M0 0h24v24H0V0z\" fill=\"none\"/>\n",
       "    <path d=\"M18.56 5.44l.94 2.06.94-2.06 2.06-.94-2.06-.94-.94-2.06-.94 2.06-2.06.94zm-11 1L8.5 8.5l.94-2.06 2.06-.94-2.06-.94L8.5 2.5l-.94 2.06-2.06.94zm10 10l.94 2.06.94-2.06 2.06-.94-2.06-.94-.94-2.06-.94 2.06-2.06.94z\"/><path d=\"M17.41 7.96l-1.37-1.37c-.4-.4-.92-.59-1.43-.59-.52 0-1.04.2-1.43.59L10.3 9.45l-7.72 7.72c-.78.78-.78 2.05 0 2.83L4 21.41c.39.39.9.59 1.41.59.51 0 1.02-.2 1.41-.59l7.78-7.78 2.81-2.81c.8-.78.8-2.07 0-2.86zM5.41 20L4 18.59l7.72-7.72 1.47 1.35L5.41 20z\"/>\n",
       "  </svg>\n",
       "      </button>\n",
       "      \n",
       "  <style>\n",
       "    .colab-df-container {\n",
       "      display:flex;\n",
       "      flex-wrap:wrap;\n",
       "      gap: 12px;\n",
       "    }\n",
       "\n",
       "    .colab-df-convert {\n",
       "      background-color: #E8F0FE;\n",
       "      border: none;\n",
       "      border-radius: 50%;\n",
       "      cursor: pointer;\n",
       "      display: none;\n",
       "      fill: #1967D2;\n",
       "      height: 32px;\n",
       "      padding: 0 0 0 0;\n",
       "      width: 32px;\n",
       "    }\n",
       "\n",
       "    .colab-df-convert:hover {\n",
       "      background-color: #E2EBFA;\n",
       "      box-shadow: 0px 1px 2px rgba(60, 64, 67, 0.3), 0px 1px 3px 1px rgba(60, 64, 67, 0.15);\n",
       "      fill: #174EA6;\n",
       "    }\n",
       "\n",
       "    [theme=dark] .colab-df-convert {\n",
       "      background-color: #3B4455;\n",
       "      fill: #D2E3FC;\n",
       "    }\n",
       "\n",
       "    [theme=dark] .colab-df-convert:hover {\n",
       "      background-color: #434B5C;\n",
       "      box-shadow: 0px 1px 3px 1px rgba(0, 0, 0, 0.15);\n",
       "      filter: drop-shadow(0px 1px 2px rgba(0, 0, 0, 0.3));\n",
       "      fill: #FFFFFF;\n",
       "    }\n",
       "  </style>\n",
       "\n",
       "      <script>\n",
       "        const buttonEl =\n",
       "          document.querySelector('#df-789f92d5-760d-4f35-9dc0-6319347aeb66 button.colab-df-convert');\n",
       "        buttonEl.style.display =\n",
       "          google.colab.kernel.accessAllowed ? 'block' : 'none';\n",
       "\n",
       "        async function convertToInteractive(key) {\n",
       "          const element = document.querySelector('#df-789f92d5-760d-4f35-9dc0-6319347aeb66');\n",
       "          const dataTable =\n",
       "            await google.colab.kernel.invokeFunction('convertToInteractive',\n",
       "                                                     [key], {});\n",
       "          if (!dataTable) return;\n",
       "\n",
       "          const docLinkHtml = 'Like what you see? Visit the ' +\n",
       "            '<a target=\"_blank\" href=https://colab.research.google.com/notebooks/data_table.ipynb>data table notebook</a>'\n",
       "            + ' to learn more about interactive tables.';\n",
       "          element.innerHTML = '';\n",
       "          dataTable['output_type'] = 'display_data';\n",
       "          await google.colab.output.renderOutput(dataTable, element);\n",
       "          const docLink = document.createElement('div');\n",
       "          docLink.innerHTML = docLinkHtml;\n",
       "          element.appendChild(docLink);\n",
       "        }\n",
       "      </script>\n",
       "    </div>\n",
       "  </div>\n",
       "  "
      ],
      "text/plain": [
       "                                                summary              image\n",
       "id                                                                        \n",
       "0     Charming warm house is ready to host you here ...     img_test/0.jpg\n",
       "1     La chambre est spacieuse et lumineuse, dans un...     img_test/1.jpg\n",
       "2     Grande chambre confortable située au sous-sol ...     img_test/2.jpg\n",
       "3     Près d’un Métro, ligne orange. 10 minutes à pi...     img_test/3.jpg\n",
       "4     Very bright appartment and very cosy. 2 separa...     img_test/4.jpg\n",
       "...                                                 ...                ...\n",
       "7626  Large, fully-furnished flat with brick walls a...  img_test/7627.jpg\n",
       "7627  Logement situé dans le haut d’un duplex. Vivez...  img_test/7628.jpg\n",
       "7628  My place is close to parks, . My place is good...  img_test/7629.jpg\n",
       "7629  *** For security reasons, I will prioritize gu...  img_test/7630.jpg\n",
       "7630  Stay in an amazing area of Montreal! 5-7 min f...  img_test/7631.jpg\n",
       "\n",
       "[7360 rows x 2 columns]"
      ]
     },
     "execution_count": 22,
     "metadata": {},
     "output_type": "execute_result"
    }
   ],
   "source": [
    "# read the test csv file and put it in a dataframe\n",
    "df_test = pd.read_csv('test_x.csv', index_col='id')\n",
    "df_test"
   ]
  },
  {
   "cell_type": "code",
   "execution_count": 23,
   "metadata": {
    "colab": {
     "base_uri": "https://localhost:8080/"
    },
    "id": "zBpUBhzF9XMQ",
    "outputId": "dab976cc-8a6e-4a86-f526-fc80738fc278"
   },
   "outputs": [
    {
     "name": "stdout",
     "output_type": "stream",
     "text": [
      "<class 'pandas.core.frame.DataFrame'>\n",
      "Int64Index: 7360 entries, 0 to 7630\n",
      "Data columns (total 2 columns):\n",
      " #   Column   Non-Null Count  Dtype \n",
      "---  ------   --------------  ----- \n",
      " 0   summary  7360 non-null   object\n",
      " 1   image    7360 non-null   object\n",
      "dtypes: object(2)\n",
      "memory usage: 172.5+ KB\n"
     ]
    }
   ],
   "source": [
    "# display the information of the training dataframe to see it there are null values in any column\n",
    "df_test.info()"
   ]
  },
  {
   "cell_type": "code",
   "execution_count": 24,
   "metadata": {
    "id": "EcDV60659XMQ"
   },
   "outputs": [],
   "source": [
    "# as there is no nan values I will make translate for the sentences\n",
    "# translate all sentences in the summary column into english to make all in the same language\n",
    "\n",
    "from googletrans import Translator\n",
    "translator = Translator()\n",
    "\n",
    "df_test['translate_summary'] = df_test['summary'].apply(lambda x: translator.translate(x, lang_tgt= 'en'))"
   ]
  },
  {
   "cell_type": "code",
   "execution_count": 25,
   "metadata": {
    "id": "WhLgcCVT9XMR"
   },
   "outputs": [],
   "source": [
    "# add new column by the size of the summary column to be used to insert in it the text translated\n",
    "df_test['translate_summary_text'] = df_test['summary']"
   ]
  },
  {
   "cell_type": "code",
   "execution_count": 26,
   "metadata": {
    "id": "kl0krElP9XMR"
   },
   "outputs": [],
   "source": [
    "# get the text attribute in the translate_summary column to be cleaned as I need to clean the text only\n",
    "for k in (df_test.index):\n",
    "    df_test['translate_summary_text'][k] = df_test['translate_summary'][k].text"
   ]
  },
  {
   "cell_type": "code",
   "execution_count": 27,
   "metadata": {
    "colab": {
     "base_uri": "https://localhost:8080/",
     "height": 620
    },
    "id": "D5OdMsKb9XMS",
    "outputId": "32ea6501-5bee-4d53-93c5-f7bbf5311ce5"
   },
   "outputs": [
    {
     "data": {
      "text/html": [
       "\n",
       "  <div id=\"df-8a04167b-5c23-40d4-8791-ef6c9c8200ba\">\n",
       "    <div class=\"colab-df-container\">\n",
       "      <div>\n",
       "<style scoped>\n",
       "    .dataframe tbody tr th:only-of-type {\n",
       "        vertical-align: middle;\n",
       "    }\n",
       "\n",
       "    .dataframe tbody tr th {\n",
       "        vertical-align: top;\n",
       "    }\n",
       "\n",
       "    .dataframe thead th {\n",
       "        text-align: right;\n",
       "    }\n",
       "</style>\n",
       "<table border=\"1\" class=\"dataframe\">\n",
       "  <thead>\n",
       "    <tr style=\"text-align: right;\">\n",
       "      <th></th>\n",
       "      <th>summary</th>\n",
       "      <th>image</th>\n",
       "      <th>translate_summary</th>\n",
       "      <th>translate_summary_text</th>\n",
       "    </tr>\n",
       "    <tr>\n",
       "      <th>id</th>\n",
       "      <th></th>\n",
       "      <th></th>\n",
       "      <th></th>\n",
       "      <th></th>\n",
       "    </tr>\n",
       "  </thead>\n",
       "  <tbody>\n",
       "    <tr>\n",
       "      <th>0</th>\n",
       "      <td>Charming warm house is ready to host you here ...</td>\n",
       "      <td>img_test/0.jpg</td>\n",
       "      <td>Translated(src=en, dest=en, text=Charming warm...</td>\n",
       "      <td>Charming warm house is ready to host you here ...</td>\n",
       "    </tr>\n",
       "    <tr>\n",
       "      <th>1</th>\n",
       "      <td>La chambre est spacieuse et lumineuse, dans un...</td>\n",
       "      <td>img_test/1.jpg</td>\n",
       "      <td>Translated(src=fr, dest=en, text=The room is s...</td>\n",
       "      <td>The room is spacious and bright, in an apartme...</td>\n",
       "    </tr>\n",
       "    <tr>\n",
       "      <th>2</th>\n",
       "      <td>Grande chambre confortable située au sous-sol ...</td>\n",
       "      <td>img_test/2.jpg</td>\n",
       "      <td>Translated(src=fr, dest=en, text=Large comfort...</td>\n",
       "      <td>Large comfortable room located in the basement...</td>\n",
       "    </tr>\n",
       "    <tr>\n",
       "      <th>3</th>\n",
       "      <td>Près d’un Métro, ligne orange. 10 minutes à pi...</td>\n",
       "      <td>img_test/3.jpg</td>\n",
       "      <td>Translated(src=fr, dest=en, text=Near a Metro,...</td>\n",
       "      <td>Near a Metro, orange line. 10 minutes walking....</td>\n",
       "    </tr>\n",
       "    <tr>\n",
       "      <th>4</th>\n",
       "      <td>Very bright appartment and very cosy. 2 separa...</td>\n",
       "      <td>img_test/4.jpg</td>\n",
       "      <td>Translated(src=en, dest=en, text=Very bright a...</td>\n",
       "      <td>Very bright appartment and very cosy. 2 separa...</td>\n",
       "    </tr>\n",
       "    <tr>\n",
       "      <th>...</th>\n",
       "      <td>...</td>\n",
       "      <td>...</td>\n",
       "      <td>...</td>\n",
       "      <td>...</td>\n",
       "    </tr>\n",
       "    <tr>\n",
       "      <th>7626</th>\n",
       "      <td>Large, fully-furnished flat with brick walls a...</td>\n",
       "      <td>img_test/7627.jpg</td>\n",
       "      <td>Translated(src=en, dest=en, text=Large, fully-...</td>\n",
       "      <td>Large, fully-furnished flat with brick walls a...</td>\n",
       "    </tr>\n",
       "    <tr>\n",
       "      <th>7627</th>\n",
       "      <td>Logement situé dans le haut d’un duplex. Vivez...</td>\n",
       "      <td>img_test/7628.jpg</td>\n",
       "      <td>Translated(src=fr, dest=en, text=Accommodation...</td>\n",
       "      <td>Accommodation located at the top of a duplex. ...</td>\n",
       "    </tr>\n",
       "    <tr>\n",
       "      <th>7628</th>\n",
       "      <td>My place is close to parks, . My place is good...</td>\n",
       "      <td>img_test/7629.jpg</td>\n",
       "      <td>Translated(src=en, dest=en, text=My place is c...</td>\n",
       "      <td>My place is close to parks, . My place is good...</td>\n",
       "    </tr>\n",
       "    <tr>\n",
       "      <th>7629</th>\n",
       "      <td>*** For security reasons, I will prioritize gu...</td>\n",
       "      <td>img_test/7630.jpg</td>\n",
       "      <td>Translated(src=en, dest=en, text=*** For secur...</td>\n",
       "      <td>*** For security reasons, I will prioritize gu...</td>\n",
       "    </tr>\n",
       "    <tr>\n",
       "      <th>7630</th>\n",
       "      <td>Stay in an amazing area of Montreal! 5-7 min f...</td>\n",
       "      <td>img_test/7631.jpg</td>\n",
       "      <td>Translated(src=en, dest=en, text=Stay in an am...</td>\n",
       "      <td>Stay in an amazing area of Montreal! 5-7 min f...</td>\n",
       "    </tr>\n",
       "  </tbody>\n",
       "</table>\n",
       "<p>7360 rows × 4 columns</p>\n",
       "</div>\n",
       "      <button class=\"colab-df-convert\" onclick=\"convertToInteractive('df-8a04167b-5c23-40d4-8791-ef6c9c8200ba')\"\n",
       "              title=\"Convert this dataframe to an interactive table.\"\n",
       "              style=\"display:none;\">\n",
       "        \n",
       "  <svg xmlns=\"http://www.w3.org/2000/svg\" height=\"24px\"viewBox=\"0 0 24 24\"\n",
       "       width=\"24px\">\n",
       "    <path d=\"M0 0h24v24H0V0z\" fill=\"none\"/>\n",
       "    <path d=\"M18.56 5.44l.94 2.06.94-2.06 2.06-.94-2.06-.94-.94-2.06-.94 2.06-2.06.94zm-11 1L8.5 8.5l.94-2.06 2.06-.94-2.06-.94L8.5 2.5l-.94 2.06-2.06.94zm10 10l.94 2.06.94-2.06 2.06-.94-2.06-.94-.94-2.06-.94 2.06-2.06.94z\"/><path d=\"M17.41 7.96l-1.37-1.37c-.4-.4-.92-.59-1.43-.59-.52 0-1.04.2-1.43.59L10.3 9.45l-7.72 7.72c-.78.78-.78 2.05 0 2.83L4 21.41c.39.39.9.59 1.41.59.51 0 1.02-.2 1.41-.59l7.78-7.78 2.81-2.81c.8-.78.8-2.07 0-2.86zM5.41 20L4 18.59l7.72-7.72 1.47 1.35L5.41 20z\"/>\n",
       "  </svg>\n",
       "      </button>\n",
       "      \n",
       "  <style>\n",
       "    .colab-df-container {\n",
       "      display:flex;\n",
       "      flex-wrap:wrap;\n",
       "      gap: 12px;\n",
       "    }\n",
       "\n",
       "    .colab-df-convert {\n",
       "      background-color: #E8F0FE;\n",
       "      border: none;\n",
       "      border-radius: 50%;\n",
       "      cursor: pointer;\n",
       "      display: none;\n",
       "      fill: #1967D2;\n",
       "      height: 32px;\n",
       "      padding: 0 0 0 0;\n",
       "      width: 32px;\n",
       "    }\n",
       "\n",
       "    .colab-df-convert:hover {\n",
       "      background-color: #E2EBFA;\n",
       "      box-shadow: 0px 1px 2px rgba(60, 64, 67, 0.3), 0px 1px 3px 1px rgba(60, 64, 67, 0.15);\n",
       "      fill: #174EA6;\n",
       "    }\n",
       "\n",
       "    [theme=dark] .colab-df-convert {\n",
       "      background-color: #3B4455;\n",
       "      fill: #D2E3FC;\n",
       "    }\n",
       "\n",
       "    [theme=dark] .colab-df-convert:hover {\n",
       "      background-color: #434B5C;\n",
       "      box-shadow: 0px 1px 3px 1px rgba(0, 0, 0, 0.15);\n",
       "      filter: drop-shadow(0px 1px 2px rgba(0, 0, 0, 0.3));\n",
       "      fill: #FFFFFF;\n",
       "    }\n",
       "  </style>\n",
       "\n",
       "      <script>\n",
       "        const buttonEl =\n",
       "          document.querySelector('#df-8a04167b-5c23-40d4-8791-ef6c9c8200ba button.colab-df-convert');\n",
       "        buttonEl.style.display =\n",
       "          google.colab.kernel.accessAllowed ? 'block' : 'none';\n",
       "\n",
       "        async function convertToInteractive(key) {\n",
       "          const element = document.querySelector('#df-8a04167b-5c23-40d4-8791-ef6c9c8200ba');\n",
       "          const dataTable =\n",
       "            await google.colab.kernel.invokeFunction('convertToInteractive',\n",
       "                                                     [key], {});\n",
       "          if (!dataTable) return;\n",
       "\n",
       "          const docLinkHtml = 'Like what you see? Visit the ' +\n",
       "            '<a target=\"_blank\" href=https://colab.research.google.com/notebooks/data_table.ipynb>data table notebook</a>'\n",
       "            + ' to learn more about interactive tables.';\n",
       "          element.innerHTML = '';\n",
       "          dataTable['output_type'] = 'display_data';\n",
       "          await google.colab.output.renderOutput(dataTable, element);\n",
       "          const docLink = document.createElement('div');\n",
       "          docLink.innerHTML = docLinkHtml;\n",
       "          element.appendChild(docLink);\n",
       "        }\n",
       "      </script>\n",
       "    </div>\n",
       "  </div>\n",
       "  "
      ],
      "text/plain": [
       "                                                summary              image  \\\n",
       "id                                                                           \n",
       "0     Charming warm house is ready to host you here ...     img_test/0.jpg   \n",
       "1     La chambre est spacieuse et lumineuse, dans un...     img_test/1.jpg   \n",
       "2     Grande chambre confortable située au sous-sol ...     img_test/2.jpg   \n",
       "3     Près d’un Métro, ligne orange. 10 minutes à pi...     img_test/3.jpg   \n",
       "4     Very bright appartment and very cosy. 2 separa...     img_test/4.jpg   \n",
       "...                                                 ...                ...   \n",
       "7626  Large, fully-furnished flat with brick walls a...  img_test/7627.jpg   \n",
       "7627  Logement situé dans le haut d’un duplex. Vivez...  img_test/7628.jpg   \n",
       "7628  My place is close to parks, . My place is good...  img_test/7629.jpg   \n",
       "7629  *** For security reasons, I will prioritize gu...  img_test/7630.jpg   \n",
       "7630  Stay in an amazing area of Montreal! 5-7 min f...  img_test/7631.jpg   \n",
       "\n",
       "                                      translate_summary  \\\n",
       "id                                                        \n",
       "0     Translated(src=en, dest=en, text=Charming warm...   \n",
       "1     Translated(src=fr, dest=en, text=The room is s...   \n",
       "2     Translated(src=fr, dest=en, text=Large comfort...   \n",
       "3     Translated(src=fr, dest=en, text=Near a Metro,...   \n",
       "4     Translated(src=en, dest=en, text=Very bright a...   \n",
       "...                                                 ...   \n",
       "7626  Translated(src=en, dest=en, text=Large, fully-...   \n",
       "7627  Translated(src=fr, dest=en, text=Accommodation...   \n",
       "7628  Translated(src=en, dest=en, text=My place is c...   \n",
       "7629  Translated(src=en, dest=en, text=*** For secur...   \n",
       "7630  Translated(src=en, dest=en, text=Stay in an am...   \n",
       "\n",
       "                                 translate_summary_text  \n",
       "id                                                       \n",
       "0     Charming warm house is ready to host you here ...  \n",
       "1     The room is spacious and bright, in an apartme...  \n",
       "2     Large comfortable room located in the basement...  \n",
       "3     Near a Metro, orange line. 10 minutes walking....  \n",
       "4     Very bright appartment and very cosy. 2 separa...  \n",
       "...                                                 ...  \n",
       "7626  Large, fully-furnished flat with brick walls a...  \n",
       "7627  Accommodation located at the top of a duplex. ...  \n",
       "7628  My place is close to parks, . My place is good...  \n",
       "7629  *** For security reasons, I will prioritize gu...  \n",
       "7630  Stay in an amazing area of Montreal! 5-7 min f...  \n",
       "\n",
       "[7360 rows x 4 columns]"
      ]
     },
     "execution_count": 27,
     "metadata": {},
     "output_type": "execute_result"
    }
   ],
   "source": [
    "# check the dataframe after adding the translated column\n",
    "df_test"
   ]
  },
  {
   "cell_type": "code",
   "execution_count": 28,
   "metadata": {
    "id": "3T6kFJaiRMeM"
   },
   "outputs": [],
   "source": [
    "# Clean text in the test dataset and insert the clean text in new column\n",
    "df_test[\"summary_clean\"] = df_test.loc[df_test[\"translate_summary\"].str.len() > 0, \"translate_summary\"]\n",
    "df_test[\"summary_clean\"] = df_test[\"summary_clean\"].map(\n",
    "    lambda x: preprocessing_1(x) if isinstance(x, str) else x\n",
    ")"
   ]
  },
  {
   "cell_type": "code",
   "execution_count": 29,
   "metadata": {
    "colab": {
     "base_uri": "https://localhost:8080/",
     "height": 49,
     "referenced_widgets": [
      "14928ecf44bc4bd39640e8a60286c4ed",
      "ca9c6efc5d704f10bca747631dc13d48",
      "7f73cd25368540deb8485a49b1524879",
      "237cd05bb6a44f62adfe1a44c4c33ca4",
      "af57bdc624404ba2bab493da988af9d9",
      "b82bcc7995164edba08b77accddd2a7e",
      "108c647329a84764a4a92cde8d0aea20",
      "2da759db41284ed19f77fe70a0fa47bf",
      "bb84685e3ad24062a2064d6027db31e5",
      "c939957d33d04f23b19d84c0f3fc444d",
      "7b86c39a03ed43fdbd096581a2fab2d8"
     ]
    },
    "id": "o9ZakSVlRMeM",
    "outputId": "25e8e64e-fb93-42ae-d5d5-089d7df5a15d"
   },
   "outputs": [
    {
     "data": {
      "application/vnd.jupyter.widget-view+json": {
       "model_id": "14928ecf44bc4bd39640e8a60286c4ed",
       "version_major": 2,
       "version_minor": 0
      },
      "text/plain": [
       "  0%|          | 0/7360 [00:00<?, ?it/s]"
      ]
     },
     "metadata": {},
     "output_type": "display_data"
    }
   ],
   "source": [
    "# loading images and apply the preprocessing on each image\n",
    "x_test_image = np.array([load_image(i) for i in tqdm(df_test.image)])\n"
   ]
  },
  {
   "cell_type": "code",
   "execution_count": 30,
   "metadata": {
    "id": "OKrv1elfRMeM"
   },
   "outputs": [],
   "source": [
    "# loading the summary after cleaning and apply the preprocessing on it\n",
    "x_test_text = _preprocess(df_test.summary_clean.astype('str'))\n",
    "# x_test_text = _preprocess(df_test.summary.astype('str'))"
   ]
  },
  {
   "cell_type": "markdown",
   "metadata": {
    "id": "3bPx33759XMT"
   },
   "source": [
    "## Implement the plot functions to plot the results from each trial"
   ]
  },
  {
   "cell_type": "code",
   "execution_count": 31,
   "metadata": {
    "id": "kHEf9dHQ9XMU"
   },
   "outputs": [],
   "source": [
    "def plt_function_single_op(history):\n",
    "# split the horizontal area to draw the three plots horizontaly\n",
    "  fig, (ax1, ax2) = plt.subplots(1, 2, figsize=(12,4))\n",
    "  fig.suptitle('Model Results')\n",
    "  \n",
    "  # plot the price accuracy through the training and validation\n",
    "  ax1.plot(history.history['sparse_categorical_accuracy'])\n",
    "  ax1.plot(history.history['val_sparse_categorical_accuracy'])\n",
    "  ax1.set_title('Price accuracy')\n",
    "  ax1.set_ylabel('Accuracy')\n",
    "  ax1.set_xlabel('Epoch')\n",
    "  ax1.legend(['price_training', 'price_validation'], loc='upper left')\n",
    "\n",
    "  # plot the loss through the training and validation\n",
    "  ax2.plot(history.history['loss'])\n",
    "  ax2.plot(history.history['val_loss'])\n",
    "  ax2.set_title('Model loss')\n",
    "  ax2.set_ylabel('Loss')\n",
    "  ax2.set_xlabel('Epoch')\n",
    "  ax2.legend(['train', 'validation'], loc='upper left')"
   ]
  },
  {
   "cell_type": "code",
   "execution_count": 32,
   "metadata": {
    "id": "UB_pedl-9XMV"
   },
   "outputs": [],
   "source": [
    "def plt_function_multi_op(history):\n",
    "# split the horizontal area to draw the three plots horizontaly\n",
    "  fig, (ax1, ax2, ax3) = plt.subplots(1, 3, figsize=(12,4))\n",
    "  fig.suptitle('Model Results')\n",
    "  \n",
    "  # plot the price accuracy through the training and validation\n",
    "  ax1.plot(history.history['price_sparse_categorical_accuracy'])\n",
    "  ax1.plot(history.history['val_price_sparse_categorical_accuracy'])\n",
    "  ax1.set_title('Price accuracy')\n",
    "  ax1.set_ylabel('Accuracy')\n",
    "  ax1.set_xlabel('Epoch')\n",
    "  ax1.legend(['price_training', 'price_validation'], loc='upper left')\n",
    "\n",
    "  # plot the type accuracy through the training and validation\n",
    "  ax2.plot(history.history['type_sparse_categorical_accuracy'])\n",
    "  ax2.plot(history.history['val_type_sparse_categorical_accuracy'])\n",
    "  ax2.set_title('Type accuracy')\n",
    "  ax2.set_ylabel('Accuracy')\n",
    "  ax2.set_xlabel('Epoch')\n",
    "  ax2.legend(['type_training', 'type_validation'], loc='upper left')\n",
    "\n",
    "  # plot the loss through the training and validation\n",
    "  ax3.plot(history.history['loss'])\n",
    "  ax3.plot(history.history['val_loss'])\n",
    "  ax3.set_title('Model loss')\n",
    "  ax3.set_ylabel('Loss')\n",
    "  ax3.set_xlabel('Epoch')\n",
    "  ax3.legend(['train', 'validation'], loc='upper left')"
   ]
  },
  {
   "cell_type": "markdown",
   "metadata": {
    "id": "V6ZNlzbJ9XMW"
   },
   "source": [
    "# Starting the trials"
   ]
  },
  {
   "cell_type": "markdown",
   "metadata": {
    "id": "NwTrH5-pRMeT"
   },
   "source": [
    "## 1 . Using the text data only (single-modality learning - single-objective learning).\n",
    "I will train the model on the text data and predict the price only with using softmax activation on the output layer as it is multi class classification, by making training for the model on the training dataset with making 60 epochs which means 60 iteration over the training dataset, taking in each iteration 128 sample point (batch size), with splitting the training into train and validation by making the validation size = 20%, and put early stopping to monitor the val_loss if it increased 5 times the model stops the training, as this means the model started to overfit the training part. I will use Adam optimizer in all trial which combines the best properties of the AdaGrad and RMSProp algorithms, as it use momentum and it is adaptive, to provide an optimization algorithm that can handle sparse gradients on noisy problems."
   ]
  },
  {
   "cell_type": "code",
   "execution_count": 33,
   "metadata": {
    "colab": {
     "base_uri": "https://localhost:8080/"
    },
    "id": "1j25rfGtRMeT",
    "outputId": "6683d621-e036-4f66-a362-da59c4135966"
   },
   "outputs": [
    {
     "name": "stdout",
     "output_type": "stream",
     "text": [
      "Model: \"model\"\n",
      "_________________________________________________________________\n",
      " Layer (type)                Output Shape              Param #   \n",
      "=================================================================\n",
      " input_1 (InputLayer)        [(None, 100)]             0         \n",
      "                                                                 \n",
      " embedding (Embedding)       (None, 100, 100)          3000000   \n",
      "                                                                 \n",
      " tf.math.reduce_mean (TFOpLa  (None, 100)              0         \n",
      " mbda)                                                           \n",
      "                                                                 \n",
      " price (Dense)               (None, 3)                 303       \n",
      "                                                                 \n",
      "=================================================================\n",
      "Total params: 3,000,303\n",
      "Trainable params: 3,000,303\n",
      "Non-trainable params: 0\n",
      "_________________________________________________________________\n"
     ]
    }
   ],
   "source": [
    "from keras.layers.convolutional import Conv1D\n",
    "from keras.layers.convolutional import MaxPooling1D\n",
    "\n",
    "# one input layer for text data \n",
    "in_text = keras.Input(batch_shape=(None, max_len))\n",
    "\n",
    "# text part\n",
    "# simple average of embedding layer that takes the input with the vacab size and max_len\n",
    "embedded = keras.layers.Embedding(tokenizer.num_words, 100)(in_text)\n",
    "averaged = tf.reduce_mean(embedded, axis=1)\n",
    "\n",
    "\n",
    "# add a dense layer to make the classification with softmax activation as it is multi class classification\n",
    "p_price = Dense(len_price, activation='softmax', name='price')(averaged)\n",
    "\n",
    "\n",
    "# define model input/output using keys.\n",
    "model = keras.Model(\n",
    "    inputs={\n",
    "        'summary': in_text,\n",
    "    },\n",
    "    outputs={\n",
    "        'price': p_price,\n",
    "    },\n",
    ")\n",
    "\n",
    "\n",
    "# compile model with optimizer, loss values for the predicting price task and metrics is accuracy\n",
    "model.compile(\n",
    "    optimizer=Adam(),\n",
    "    loss={\n",
    "        'price': 'sparse_categorical_crossentropy',\n",
    "    },\n",
    "    metrics={\n",
    "        'price': ['SparseCategoricalAccuracy'],\n",
    "    },\n",
    ")\n",
    "\n",
    "# display the model with the layers and number of parameters in each layer\n",
    "model.summary()"
   ]
  },
  {
   "cell_type": "code",
   "execution_count": 34,
   "metadata": {
    "colab": {
     "base_uri": "https://localhost:8080/"
    },
    "id": "vEQKOj9gRMeT",
    "outputId": "4d11b9a3-168b-42ee-f2e4-f6d47ff46cf8"
   },
   "outputs": [
    {
     "name": "stdout",
     "output_type": "stream",
     "text": [
      "Epoch 1/60\n",
      "48/48 [==============================] - 4s 13ms/step - loss: 0.9977 - sparse_categorical_accuracy: 0.5948 - val_loss: 0.8977 - val_sparse_categorical_accuracy: 0.6252\n",
      "Epoch 2/60\n",
      "48/48 [==============================] - 0s 10ms/step - loss: 0.8531 - sparse_categorical_accuracy: 0.6201 - val_loss: 0.8229 - val_sparse_categorical_accuracy: 0.6252\n",
      "Epoch 3/60\n",
      "48/48 [==============================] - 0s 9ms/step - loss: 0.8163 - sparse_categorical_accuracy: 0.6201 - val_loss: 0.8088 - val_sparse_categorical_accuracy: 0.6252\n",
      "Epoch 4/60\n",
      "48/48 [==============================] - 0s 9ms/step - loss: 0.8022 - sparse_categorical_accuracy: 0.6248 - val_loss: 0.7986 - val_sparse_categorical_accuracy: 0.6311\n",
      "Epoch 5/60\n",
      "48/48 [==============================] - 0s 9ms/step - loss: 0.7875 - sparse_categorical_accuracy: 0.6263 - val_loss: 0.7872 - val_sparse_categorical_accuracy: 0.6343\n",
      "Epoch 6/60\n",
      "48/48 [==============================] - 0s 9ms/step - loss: 0.7704 - sparse_categorical_accuracy: 0.6355 - val_loss: 0.7754 - val_sparse_categorical_accuracy: 0.6383\n",
      "Epoch 7/60\n",
      "48/48 [==============================] - 0s 9ms/step - loss: 0.7522 - sparse_categorical_accuracy: 0.6517 - val_loss: 0.7640 - val_sparse_categorical_accuracy: 0.6442\n",
      "Epoch 8/60\n",
      "48/48 [==============================] - 0s 9ms/step - loss: 0.7337 - sparse_categorical_accuracy: 0.6648 - val_loss: 0.7533 - val_sparse_categorical_accuracy: 0.6599\n",
      "Epoch 9/60\n",
      "48/48 [==============================] - 0s 10ms/step - loss: 0.7160 - sparse_categorical_accuracy: 0.6827 - val_loss: 0.7438 - val_sparse_categorical_accuracy: 0.6625\n",
      "Epoch 10/60\n",
      "48/48 [==============================] - 0s 9ms/step - loss: 0.6985 - sparse_categorical_accuracy: 0.6925 - val_loss: 0.7359 - val_sparse_categorical_accuracy: 0.6717\n",
      "Epoch 11/60\n",
      "48/48 [==============================] - 0s 9ms/step - loss: 0.6826 - sparse_categorical_accuracy: 0.7058 - val_loss: 0.7291 - val_sparse_categorical_accuracy: 0.6704\n",
      "Epoch 12/60\n",
      "48/48 [==============================] - 0s 9ms/step - loss: 0.6674 - sparse_categorical_accuracy: 0.7166 - val_loss: 0.7244 - val_sparse_categorical_accuracy: 0.6756\n",
      "Epoch 13/60\n",
      "48/48 [==============================] - 0s 9ms/step - loss: 0.6533 - sparse_categorical_accuracy: 0.7263 - val_loss: 0.7195 - val_sparse_categorical_accuracy: 0.6763\n",
      "Epoch 14/60\n",
      "48/48 [==============================] - 0s 9ms/step - loss: 0.6399 - sparse_categorical_accuracy: 0.7332 - val_loss: 0.7166 - val_sparse_categorical_accuracy: 0.6776\n",
      "Epoch 15/60\n",
      "48/48 [==============================] - 0s 9ms/step - loss: 0.6261 - sparse_categorical_accuracy: 0.7430 - val_loss: 0.7143 - val_sparse_categorical_accuracy: 0.6750\n",
      "Epoch 16/60\n",
      "48/48 [==============================] - 0s 10ms/step - loss: 0.6140 - sparse_categorical_accuracy: 0.7494 - val_loss: 0.7128 - val_sparse_categorical_accuracy: 0.6763\n",
      "Epoch 17/60\n",
      "48/48 [==============================] - 0s 10ms/step - loss: 0.6016 - sparse_categorical_accuracy: 0.7532 - val_loss: 0.7130 - val_sparse_categorical_accuracy: 0.6789\n",
      "Epoch 18/60\n",
      "48/48 [==============================] - 0s 9ms/step - loss: 0.5902 - sparse_categorical_accuracy: 0.7609 - val_loss: 0.7109 - val_sparse_categorical_accuracy: 0.6769\n",
      "Epoch 19/60\n",
      "48/48 [==============================] - 0s 9ms/step - loss: 0.5785 - sparse_categorical_accuracy: 0.7663 - val_loss: 0.7126 - val_sparse_categorical_accuracy: 0.6756\n",
      "Epoch 20/60\n",
      "48/48 [==============================] - 0s 10ms/step - loss: 0.5677 - sparse_categorical_accuracy: 0.7671 - val_loss: 0.7118 - val_sparse_categorical_accuracy: 0.6737\n",
      "Epoch 21/60\n",
      "48/48 [==============================] - 0s 9ms/step - loss: 0.5569 - sparse_categorical_accuracy: 0.7723 - val_loss: 0.7121 - val_sparse_categorical_accuracy: 0.6697\n",
      "Epoch 22/60\n",
      "48/48 [==============================] - 0s 10ms/step - loss: 0.5459 - sparse_categorical_accuracy: 0.7789 - val_loss: 0.7150 - val_sparse_categorical_accuracy: 0.6710\n",
      "Epoch 23/60\n",
      "48/48 [==============================] - 0s 9ms/step - loss: 0.5360 - sparse_categorical_accuracy: 0.7800 - val_loss: 0.7162 - val_sparse_categorical_accuracy: 0.6717\n"
     ]
    }
   ],
   "source": [
    "# make training for the model on the training dataset with making 60 epochs which means 60 iteration over the training dataset,\n",
    "# take in each iteration 128 sample point (batch size), with splitting the training into train and validation by making the \n",
    "# validation size = 20%, put early stopping to monitor the val_loss\n",
    "history = model.fit(\n",
    "    x={\n",
    "        'summary': x_train_text_id,\n",
    "    },\n",
    "    y={\n",
    "        'price': y_train_price,\n",
    "    },\n",
    "    epochs=60,\n",
    "    batch_size=128,\n",
    "    validation_split=0.2,\n",
    "    callbacks=[\n",
    "        tf.keras.callbacks.EarlyStopping(monitor='val_loss', patience=5, )\n",
    "    ],\n",
    "    verbose=1\n",
    ")"
   ]
  },
  {
   "cell_type": "code",
   "execution_count": 35,
   "metadata": {
    "colab": {
     "base_uri": "https://localhost:8080/"
    },
    "id": "aO2CBTQSRMeU",
    "outputId": "02a6c676-df79-4996-b111-87e14f79c752"
   },
   "outputs": [
    {
     "name": "stdout",
     "output_type": "stream",
     "text": [
      "[[0.689332   0.2584868  0.05218111]\n",
      " [0.689332   0.2584868  0.05218111]\n",
      " [0.689332   0.2584868  0.05218111]\n",
      " ...\n",
      " [0.689332   0.2584868  0.05218111]\n",
      " [0.689332   0.2584868  0.05218111]\n",
      " [0.689332   0.2584868  0.05218111]]\n",
      "[0 0 0 ... 0 0 0]\n"
     ]
    }
   ],
   "source": [
    "# make model prediction on the text data in the test data set, and get the max class probability to be the predicted class\n",
    "y_predict = model.predict(\n",
    "    {\n",
    "        'summary': x_test_text,\n",
    "    }\n",
    ")\n",
    "\n",
    "# probabilities\n",
    "price_predicted = y_predict['price']\n",
    "print(price_predicted)\n",
    "\n",
    "# categories\n",
    "price_category_predicted = np.argmax(price_predicted, axis=1)\n",
    "print(price_category_predicted)"
   ]
  },
  {
   "cell_type": "code",
   "execution_count": 36,
   "metadata": {
    "id": "sz9DtLq8RMeU"
   },
   "outputs": [],
   "source": [
    "# save the predicted into CSV file\n",
    "pd.DataFrame(\n",
    "    {'id': df_test.index,\n",
    "     'price': price_category_predicted}\n",
    ").to_csv('trial single.csv', index=False)"
   ]
  },
  {
   "cell_type": "code",
   "execution_count": 37,
   "metadata": {
    "colab": {
     "base_uri": "https://localhost:8080/",
     "height": 308
    },
    "id": "JZjm1FDb9XMg",
    "outputId": "c73addfb-719d-4a43-a8c1-7cc700d498e8"
   },
   "outputs": [
    {
     "data": {
      "image/png": "[encoded data removed]",
      "text/plain": [
       "<Figure size 864x288 with 2 Axes>"
      ]
     },
     "metadata": {
      "needs_background": "light"
     },
     "output_type": "display_data"
    }
   ],
   "source": [
    "plt_function_single_op(history)"
   ]
  },
  {
   "cell_type": "markdown",
   "metadata": {
    "id": "SwbwgmwZ9XMh"
   },
   "source": [
    "## Thoughts and observation:\n",
    "This gave a score on Kaggle = 0.68885.\n",
    "\n",
    "I thought that this model will be suitable, and give a good results, and that what happened. As the number of the batch size wasn't small. Besides, I prevented the overfitting on the training dataset by monitoring the validation loss value which is the loss value on the validation dataset. Then, wait if the validation loss increased 5 times, the model stops the training, and use the final gradients it reached in the prediction on the text after cleaning and translating it to be useful and in one language. So, by training the model I reached accuracy on the validation set = 0.6717, and the resultant accuracy on Kaggel is 0.68885. So, this means they are close to each other, and there is no overfitting or underfitting in the model. Besides, from the above graphs we can see that when the model started to overfit the training data, and its loss in training got very small in compare with the validation loss, the model stoped at epoch 23 to prevent worse results.\n",
    "\n",
    "## Plan for the next trial:\n",
    "I will continue working on the text data as the input of the model, and predict one output which is the price.\n",
    "I will add LSTM layer (Long Short-Term Memory layer) after the embedding layer to deal with the text data, after making spatial dropout for some neurons, and spatial means in the same time step not random dropout. With making the dimensionality of the output space of the LSTM layer be 128, we can also make dropout for some neurons in the LSTM by setting the dropout value."
   ]
  },
  {
   "cell_type": "markdown",
   "metadata": {
    "id": "o5_KwmiLRMeO"
   },
   "source": [
    "## 2. Using the text data only with adding LSTM layer (single-modality learning - single-objective learning)."
   ]
  },
  {
   "cell_type": "code",
   "execution_count": 38,
   "metadata": {
    "colab": {
     "base_uri": "https://localhost:8080/"
    },
    "id": "0XSt8E8ZRMeO",
    "outputId": "e18c062c-bbda-4d65-a552-14c566b39c2d"
   },
   "outputs": [
    {
     "name": "stdout",
     "output_type": "stream",
     "text": [
      "Model: \"model_1\"\n",
      "_________________________________________________________________\n",
      " Layer (type)                Output Shape              Param #   \n",
      "=================================================================\n",
      " input_2 (InputLayer)        [(None, 100)]             0         \n",
      "                                                                 \n",
      " embedding_1 (Embedding)     (None, 100, 100)          3000000   \n",
      "                                                                 \n",
      " spatial_dropout1d (SpatialD  (None, 100, 100)         0         \n",
      " ropout1D)                                                       \n",
      "                                                                 \n",
      " lstm (LSTM)                 (None, 128)               117248    \n",
      "                                                                 \n",
      " price (Dense)               (None, 3)                 387       \n",
      "                                                                 \n",
      "=================================================================\n",
      "Total params: 3,117,635\n",
      "Trainable params: 3,117,635\n",
      "Non-trainable params: 0\n",
      "_________________________________________________________________\n"
     ]
    }
   ],
   "source": [
    "drop_embed = 0.2 \n",
    "n_lstm = 128\n",
    "# drop_lstm = 0.2\n",
    "\n",
    "# one input layer for text data \n",
    "in_text = keras.Input(batch_shape=(None, max_len))\n",
    "\n",
    "# text part\n",
    "# simple embedding layer that takes the input with the vacab size and max_len then spatial dropout layer then LSTM layer\n",
    "embedded = keras.layers.Embedding(tokenizer.num_words, 100)(in_text)\n",
    "SDO1D = SpatialDropout1D(drop_embed)(embedded)\n",
    "lstm = LSTM(n_lstm)(SDO1D)\n",
    "# lstm = LSTM(n_lstm, dropout=drop_lstm)(SDO1D)\n",
    "\n",
    "\n",
    "# add a dense layer to make the classification with softmax activation as it is multi class classification\n",
    "p_price = Dense(len_price, activation='softmax', name='price')(lstm)\n",
    "\n",
    "\n",
    "# define model input/output using keys.\n",
    "model_lstm = keras.Model(\n",
    "    inputs={\n",
    "        'summary': in_text,\n",
    "    },\n",
    "    outputs={\n",
    "        'price': p_price,\n",
    "    },\n",
    ")\n",
    "\n",
    "\n",
    "# compile model with optimizer, loss values for the predicting price task and metrics is accuracy\n",
    "model_lstm.compile(\n",
    "    optimizer=Adam(),\n",
    "    loss={\n",
    "        'price': 'sparse_categorical_crossentropy',\n",
    "    },\n",
    "    metrics={\n",
    "        'price': ['SparseCategoricalAccuracy'],\n",
    "    },\n",
    ")\n",
    "\n",
    "# display the model with the layers and number of parameters in each layer\n",
    "model_lstm.summary()"
   ]
  },
  {
   "cell_type": "code",
   "execution_count": 39,
   "metadata": {
    "colab": {
     "base_uri": "https://localhost:8080/"
    },
    "id": "SdxijkYZRMeP",
    "outputId": "513cd43f-639d-42c7-fc03-f4621867836b"
   },
   "outputs": [
    {
     "name": "stdout",
     "output_type": "stream",
     "text": [
      "Epoch 1/60\n",
      "48/48 [==============================] - 6s 46ms/step - loss: 0.8639 - sparse_categorical_accuracy: 0.6119 - val_loss: 0.8304 - val_sparse_categorical_accuracy: 0.6252\n",
      "Epoch 2/60\n",
      "48/48 [==============================] - 1s 31ms/step - loss: 0.8393 - sparse_categorical_accuracy: 0.6201 - val_loss: 0.8327 - val_sparse_categorical_accuracy: 0.6252\n",
      "Epoch 3/60\n",
      "48/48 [==============================] - 1s 31ms/step - loss: 0.8387 - sparse_categorical_accuracy: 0.6201 - val_loss: 0.8300 - val_sparse_categorical_accuracy: 0.6252\n",
      "Epoch 4/60\n",
      "48/48 [==============================] - 2s 31ms/step - loss: 0.8390 - sparse_categorical_accuracy: 0.6202 - val_loss: 0.8300 - val_sparse_categorical_accuracy: 0.6252\n",
      "Epoch 5/60\n",
      "48/48 [==============================] - 2s 32ms/step - loss: 0.8432 - sparse_categorical_accuracy: 0.6202 - val_loss: 0.8402 - val_sparse_categorical_accuracy: 0.6252\n",
      "Epoch 6/60\n",
      "48/48 [==============================] - 1s 31ms/step - loss: 0.8383 - sparse_categorical_accuracy: 0.6202 - val_loss: 0.8305 - val_sparse_categorical_accuracy: 0.6252\n",
      "Epoch 7/60\n",
      "48/48 [==============================] - 2s 32ms/step - loss: 0.8384 - sparse_categorical_accuracy: 0.6202 - val_loss: 0.8302 - val_sparse_categorical_accuracy: 0.6252\n",
      "Epoch 8/60\n",
      "48/48 [==============================] - 1s 31ms/step - loss: 0.8379 - sparse_categorical_accuracy: 0.6204 - val_loss: 0.8336 - val_sparse_categorical_accuracy: 0.6252\n"
     ]
    }
   ],
   "source": [
    "# make training for the model on the training dataset with making 60 epochs which means 60 iteration over the training dataset,\n",
    "# take in each iteration 128 sample point (batch size), with splitting the training into train and validation by making the \n",
    "# validation size = 20%, put early stopping to monitor the val_loss\n",
    "history = model_lstm.fit(\n",
    "    x={\n",
    "        'summary': x_train_text_id,\n",
    "    },\n",
    "    y={\n",
    "        'price': y_train_price,\n",
    "    },\n",
    "    epochs=60,\n",
    "    batch_size=128,\n",
    "    validation_split=0.2,\n",
    "    callbacks=[\n",
    "        tf.keras.callbacks.EarlyStopping(monitor='val_loss', patience=5, )\n",
    "    ],\n",
    "    verbose=1\n",
    ")"
   ]
  },
  {
   "cell_type": "code",
   "execution_count": 40,
   "metadata": {
    "colab": {
     "base_uri": "https://localhost:8080/"
    },
    "id": "2N0N4FD5RMeP",
    "outputId": "f3799dbe-b45e-4151-fdfa-c49f8650da6e"
   },
   "outputs": [
    {
     "name": "stdout",
     "output_type": "stream",
     "text": [
      "[[0.66429496 0.28563347 0.05007157]\n",
      " [0.66429496 0.28563347 0.05007157]\n",
      " [0.66429496 0.28563347 0.05007157]\n",
      " ...\n",
      " [0.66429496 0.28563347 0.05007157]\n",
      " [0.66429496 0.28563347 0.05007157]\n",
      " [0.66429496 0.28563347 0.05007157]]\n",
      "[0 0 0 ... 0 0 0]\n"
     ]
    }
   ],
   "source": [
    "# make model prediction on the text data in the test data set, and get the max class probability to be the predicted class\n",
    "y_predict = model_lstm.predict(\n",
    "    {\n",
    "        'summary': x_test_text,\n",
    "    }\n",
    ")\n",
    "\n",
    "\n",
    "# probabilities\n",
    "price_predicted = y_predict['price']\n",
    "print(price_predicted)\n",
    "\n",
    "# categories\n",
    "price_category_predicted = np.argmax(price_predicted, axis=1)\n",
    "print(price_category_predicted)\n"
   ]
  },
  {
   "cell_type": "code",
   "execution_count": 41,
   "metadata": {
    "id": "GpH1VXX3RMeP"
   },
   "outputs": [],
   "source": [
    "# save the predicted into CSV file\n",
    "pd.DataFrame(\n",
    "    {'id': df_test.index,\n",
    "     'price': price_category_predicted}\n",
    ").to_csv('trial lstm.csv', index=False)\n"
   ]
  },
  {
   "cell_type": "code",
   "execution_count": 42,
   "metadata": {
    "colab": {
     "base_uri": "https://localhost:8080/",
     "height": 308
    },
    "id": "5CIWq6et9XMj",
    "outputId": "6cce53c5-1fa5-482e-a56f-a7d8917fd3eb"
   },
   "outputs": [
    {
     "data": {
      "image/png": "[encoded data removed]",
      "text/plain": [
       "<Figure size 864x288 with 2 Axes>"
      ]
     },
     "metadata": {
      "needs_background": "light"
     },
     "output_type": "display_data"
    }
   ],
   "source": [
    "plt_function_single_op(history)"
   ]
  },
  {
   "cell_type": "markdown",
   "metadata": {
    "id": "yG1SuW-P9XMj"
   },
   "source": [
    "## Thoughts and observation:\n",
    "This gave a score on Kaggle = 0.62038\n",
    "\n",
    "I thought that this model won't give a good results as the LSTM layer doesn't have a good effect on the model, and that what happened. As the number of the batch size wasn't small. Besides, I prevented the overfitting on the training dataset by monitoring the validation loss value which is the loss value on the validation dataset. Then, wait if the validation loss increased 5 times, the model stops the training, and use the final gradients it reached in the prediction on the text after cleaning and translating it to be useful and in one language. But from the above figures, we can figure out that the loss started in a high value on the training, and on the validation it didn't change alot or even to be decreased. But we can see after the 7th epoch, it started to increase more on the validation dataset. So,this approves that the LSTM didn't work well with this problem with my preprocessing steps I made. So, by training the model I reached accuracy on the validation dataset = 0.6252, and the resultant accuracy on Kaggel is 0.62038. So, this means they are close to each other, and there is no overfitting in the model as it gave a close results in the training phase and in the test phase. Besides, this approves that the LSTM didn't work good on the data after I made those preparation and preprocessing steps I made.\n",
    "\n",
    "## Plan for the next trial:\n",
    "I will continue working on the text data as the input of the model, and predict one output which is the price.\n",
    "I will add 2 LSTM layer (Long Short-Term Memory layer) after the embedding layer to deal with the text data, so this will be bidirectional layers as one from them will move forward, and the other will move backward. With making the dimensionality of the output space of both of the LSTM layer be 64, we can also make dropout for some neurons in the LSTM by setting the dropout value. With making the first LSTM layer return the sequences, so we can work on the next one by backward way."
   ]
  },
  {
   "cell_type": "markdown",
   "metadata": {
    "id": "W46gWkzrRMeP"
   },
   "source": [
    "## 3. Using the text data only with adding two layers \"BiDirectional layers\" (single-modality learning - single-objective learning).\n"
   ]
  },
  {
   "cell_type": "code",
   "execution_count": 43,
   "metadata": {
    "colab": {
     "base_uri": "https://localhost:8080/"
    },
    "id": "IDVUUbTzRMeQ",
    "outputId": "c2dbc410-1f93-43b4-c328-c892d9870bbe"
   },
   "outputs": [
    {
     "name": "stdout",
     "output_type": "stream",
     "text": [
      "Model: \"model_2\"\n",
      "_________________________________________________________________\n",
      " Layer (type)                Output Shape              Param #   \n",
      "=================================================================\n",
      " input_3 (InputLayer)        [(None, 100)]             0         \n",
      "                                                                 \n",
      " embedding_2 (Embedding)     (None, 100, 100)          3000000   \n",
      "                                                                 \n",
      " bidirectional (Bidirectiona  (None, 100, 128)         84480     \n",
      " l)                                                              \n",
      "                                                                 \n",
      " bidirectional_1 (Bidirectio  (None, 128)              98816     \n",
      " nal)                                                            \n",
      "                                                                 \n",
      " price (Dense)               (None, 3)                 387       \n",
      "                                                                 \n",
      "=================================================================\n",
      "Total params: 3,183,683\n",
      "Trainable params: 3,183,683\n",
      "Non-trainable params: 0\n",
      "_________________________________________________________________\n"
     ]
    }
   ],
   "source": [
    "# one input layer for text data \n",
    "in_text = keras.Input(batch_shape=(None, max_len))\n",
    "\n",
    "# text part\n",
    "# simple average of embedding layer that takes the input with the vacab size and max_len \n",
    "embedded = keras.layers.Embedding(tokenizer.num_words, 100)(in_text)\n",
    "# Add 2 bidirectional LSTMs one will move forward and the next will move backward\n",
    "x = keras.layers.Bidirectional(LSTM(64, return_sequences=True))(embedded)\n",
    "x = keras.layers.Bidirectional(LSTM(64))(x)\n",
    "\n",
    "\n",
    "# add a dense layer to make the classification with softmax activation as it is multi class classification\n",
    "p_price = Dense(len_price, activation='softmax', name='price')(x)\n",
    "\n",
    "\n",
    "# define model input/output using keys.\n",
    "model_Bi = keras.Model(\n",
    "    inputs={\n",
    "        'summary': in_text,\n",
    "    },\n",
    "    outputs={\n",
    "        'price': p_price,\n",
    "    },\n",
    ")\n",
    "\n",
    "\n",
    "# compile model with optimizer, loss values for the predicting price task and metrics is accuracy\n",
    "model_Bi.compile(\n",
    "    optimizer=Adam(),\n",
    "    loss={\n",
    "        'price': 'sparse_categorical_crossentropy',\n",
    "    },\n",
    "    metrics={\n",
    "        'price': ['SparseCategoricalAccuracy'],\n",
    "    },\n",
    ")\n",
    "\n",
    "# display the model with the layers and number of parameters in each layer\n",
    "model_Bi.summary()"
   ]
  },
  {
   "cell_type": "code",
   "execution_count": 44,
   "metadata": {
    "colab": {
     "base_uri": "https://localhost:8080/"
    },
    "id": "-xNkF-H8RMeQ",
    "outputId": "9a71a3db-9199-4da4-b2d5-2edf89c1a974"
   },
   "outputs": [
    {
     "name": "stdout",
     "output_type": "stream",
     "text": [
      "Epoch 1/60\n",
      "48/48 [==============================] - 12s 117ms/step - loss: 0.8414 - sparse_categorical_accuracy: 0.6148 - val_loss: 0.7594 - val_sparse_categorical_accuracy: 0.6481\n",
      "Epoch 2/60\n",
      "48/48 [==============================] - 4s 82ms/step - loss: 0.6771 - sparse_categorical_accuracy: 0.7059 - val_loss: 0.7288 - val_sparse_categorical_accuracy: 0.6514\n",
      "Epoch 3/60\n",
      "48/48 [==============================] - 4s 82ms/step - loss: 0.5796 - sparse_categorical_accuracy: 0.7618 - val_loss: 0.7600 - val_sparse_categorical_accuracy: 0.6645\n",
      "Epoch 4/60\n",
      "48/48 [==============================] - 4s 81ms/step - loss: 0.4929 - sparse_categorical_accuracy: 0.8063 - val_loss: 0.7957 - val_sparse_categorical_accuracy: 0.6311\n",
      "Epoch 5/60\n",
      "48/48 [==============================] - 4s 83ms/step - loss: 0.4125 - sparse_categorical_accuracy: 0.8415 - val_loss: 0.8646 - val_sparse_categorical_accuracy: 0.6147\n",
      "Epoch 6/60\n",
      "48/48 [==============================] - 4s 82ms/step - loss: 0.3505 - sparse_categorical_accuracy: 0.8695 - val_loss: 0.9019 - val_sparse_categorical_accuracy: 0.6337\n",
      "Epoch 7/60\n",
      "48/48 [==============================] - 4s 82ms/step - loss: 0.2957 - sparse_categorical_accuracy: 0.8935 - val_loss: 0.9691 - val_sparse_categorical_accuracy: 0.6370\n"
     ]
    }
   ],
   "source": [
    "# make training for the model on the training dataset with making 60 epochs which means 60 iteration over the training dataset,\n",
    "# take in each iteration 128 sample point (batch size), with splitting the training into train and validation by making the \n",
    "# validation size = 20%, put early stopping to monitor the val_loss\n",
    "history = model_Bi.fit(\n",
    "    x={\n",
    "        'summary': x_train_text_id,\n",
    "    },\n",
    "    y={\n",
    "        'price': y_train_price,\n",
    "    },\n",
    "    epochs=60,\n",
    "    batch_size=128,\n",
    "    validation_split=0.2,\n",
    "    callbacks=[\n",
    "        tf.keras.callbacks.EarlyStopping(monitor='val_loss', patience=5, )\n",
    "    ],\n",
    "    verbose=1\n",
    ")"
   ]
  },
  {
   "cell_type": "code",
   "execution_count": 45,
   "metadata": {
    "colab": {
     "base_uri": "https://localhost:8080/"
    },
    "id": "dJ3p9sd4RMeQ",
    "outputId": "27a1a7e5-2478-431a-97a6-1f50e3d4daeb"
   },
   "outputs": [
    {
     "name": "stdout",
     "output_type": "stream",
     "text": [
      "[[0.33469242 0.564929   0.1003786 ]\n",
      " [0.33469242 0.564929   0.1003786 ]\n",
      " [0.33469242 0.564929   0.1003786 ]\n",
      " ...\n",
      " [0.33469242 0.564929   0.1003786 ]\n",
      " [0.33469242 0.564929   0.1003786 ]\n",
      " [0.33469242 0.564929   0.1003786 ]]\n",
      "[1 1 1 ... 1 1 1]\n"
     ]
    }
   ],
   "source": [
    "# make model prediction on the text data in the test data set, and get the max class probability to be the predicted class\n",
    "y_predict = model_Bi.predict(\n",
    "    {\n",
    "        'summary': x_test_text,\n",
    "    }\n",
    ")\n",
    "\n",
    "\n",
    "# probabilities\n",
    "price_predicted = y_predict['price']\n",
    "print(price_predicted)\n",
    "\n",
    "# categories\n",
    "price_category_predicted = np.argmax(price_predicted, axis=1)\n",
    "print(price_category_predicted)\n"
   ]
  },
  {
   "cell_type": "code",
   "execution_count": 46,
   "metadata": {
    "id": "IPKRJBvmRMeR"
   },
   "outputs": [],
   "source": [
    "# save the predicted into CSV file\n",
    "pd.DataFrame(\n",
    "    {'id': df_test.index,\n",
    "     'price': price_category_predicted}\n",
    ").to_csv('trial bi.csv', index=False)\n",
    "# 0.48260"
   ]
  },
  {
   "cell_type": "code",
   "execution_count": 47,
   "metadata": {
    "colab": {
     "base_uri": "https://localhost:8080/",
     "height": 308
    },
    "id": "7sbmyo869XMm",
    "outputId": "bd3891bc-3c5a-40b7-d6ed-cd7a59e20922"
   },
   "outputs": [
    {
     "data": {
      "image/png": "[encoded data removed]",
      "text/plain": [
       "<Figure size 864x288 with 2 Axes>"
      ]
     },
     "metadata": {
      "needs_background": "light"
     },
     "output_type": "display_data"
    }
   ],
   "source": [
    "plt_function_single_op(history)"
   ]
  },
  {
   "cell_type": "markdown",
   "metadata": {
    "id": "Vhb4ioW59XMm"
   },
   "source": [
    "## Thoughts and observation:\n",
    "This gave a score on Kaggle = 0.48260.\n",
    "\n",
    "I thought that this model will work better than the previous one due to using the bidirectional layers, so they will work better than one LSTM layer due to their mechanism. But this didn't happen as the model was overfitting on the training dataset, and we can see this from the above graphs and the accuracy I got in the training phase. Although the number of the batch size wasn't small, It didn't give a good results. I tried to prevent the overfitting on the training dataset by monitoring the validation loss value which is the loss value on the validation dataset. But the loss was actually high from the beginning in the validation loss. Then, after waiting if the validation loss increased 5 times, the model stops the training, and use the final gradients it reached in the prediction on the text after cleaning and translating it to be useful and in one language. The loss was already high, and the accuracy wasn't good. So, by training the model I reached accuracy = 0.6370, and the resultant accuracy on Kaggel is 0.4826. So, this means the Bidirectional layers didn't meet my expectations, and there is overfitting in the training phase.\n",
    "\n",
    "## Plan for the next trial:\n",
    "I will work on the image data. I will use 2 layers to extract the features from the images after making preprocessing on them. I will use convolution layer by 400 hidden layers and filter size = 16x16, then use max pooling layer by window size = 16x16, so it gets the max value from the window of the max pooling."
   ]
  },
  {
   "cell_type": "markdown",
   "metadata": {
    "id": "teMONQ0S9XM7"
   },
   "source": [
    "## 4. Using the image data only with convolution and max pooling layers (single-modality learning - single-objective learning).\n"
   ]
  },
  {
   "cell_type": "code",
   "execution_count": 48,
   "metadata": {
    "colab": {
     "base_uri": "https://localhost:8080/"
    },
    "id": "8QtoZP5e9XM8",
    "outputId": "4e3cd685-7a01-46e3-d8e9-e9501b38cedb"
   },
   "outputs": [
    {
     "name": "stdout",
     "output_type": "stream",
     "text": [
      "Model: \"model_3\"\n",
      "_________________________________________________________________\n",
      " Layer (type)                Output Shape              Param #   \n",
      "=================================================================\n",
      " input_4 (InputLayer)        [(None, 64, 64, 2)]       0         \n",
      "                                                                 \n",
      " conv2d (Conv2D)             (None, 49, 49, 400)       205200    \n",
      "                                                                 \n",
      " max_pooling2d (MaxPooling2D  (None, 3, 3, 400)        0         \n",
      " )                                                               \n",
      "                                                                 \n",
      " flatten (Flatten)           (None, 3600)              0         \n",
      "                                                                 \n",
      " price (Dense)               (None, 3)                 10803     \n",
      "                                                                 \n",
      "=================================================================\n",
      "Total params: 216,003\n",
      "Trainable params: 216,003\n",
      "Non-trainable params: 0\n",
      "_________________________________________________________________\n"
     ]
    }
   ],
   "source": [
    "# one input layer for image data \n",
    "in_image = keras.Input(batch_shape=(None, 64, 64, 2))\n",
    "\n",
    "# image part \n",
    "# simple conv2d layer with 400 hidden layers and filter size 16x16 then max pooling layer with window size 16x16\n",
    "cov = Conv2D(400, (16, 16))(in_image)\n",
    "pl = MaxPool2D((16, 16))(cov)\n",
    "\n",
    "# make flatten for the output of the max pooling so we can use it to the dense layer\n",
    "flattened = Flatten()(pl)\n",
    "\n",
    "# add a dense layer to make the classification with softmax activation as it is multi class classification\n",
    "p_price = Dense(len_price, activation='softmax', name='price')(flattened)\n",
    "\n",
    "\n",
    "# define model input/output using keys.\n",
    "model_conv = keras.Model(\n",
    "    inputs={\n",
    "        'image': in_image\n",
    "    },\n",
    "    outputs={\n",
    "        'price': p_price,\n",
    "    },\n",
    ")\n",
    "\n",
    "\n",
    "# compile model with optimizer, loss values for the predicting price task and metrics is accuracy\n",
    "model_conv.compile(\n",
    "    optimizer=Adam(),\n",
    "    loss={\n",
    "        'price': 'sparse_categorical_crossentropy',\n",
    "    },\n",
    "\n",
    "    metrics={\n",
    "        'price': ['SparseCategoricalAccuracy'],\n",
    "    },\n",
    ")\n",
    "\n",
    "# display the model with the layers and number of parameters in each layer\n",
    "model_conv.summary()"
   ]
  },
  {
   "cell_type": "code",
   "execution_count": 49,
   "metadata": {
    "colab": {
     "base_uri": "https://localhost:8080/"
    },
    "id": "qMF-_opDRMeR",
    "outputId": "c0145aa6-b5b5-48eb-e927-89bc52624f05"
   },
   "outputs": [
    {
     "name": "stdout",
     "output_type": "stream",
     "text": [
      "Epoch 1/60\n",
      "48/48 [==============================] - 18s 229ms/step - loss: 0.8862 - sparse_categorical_accuracy: 0.6201 - val_loss: 0.8311 - val_sparse_categorical_accuracy: 0.6252\n",
      "Epoch 2/60\n",
      "48/48 [==============================] - 9s 198ms/step - loss: 0.8390 - sparse_categorical_accuracy: 0.6201 - val_loss: 0.8326 - val_sparse_categorical_accuracy: 0.6252\n",
      "Epoch 3/60\n",
      "48/48 [==============================] - 9s 198ms/step - loss: 0.8378 - sparse_categorical_accuracy: 0.6201 - val_loss: 0.8312 - val_sparse_categorical_accuracy: 0.6252\n",
      "Epoch 4/60\n",
      "48/48 [==============================] - 9s 198ms/step - loss: 0.8377 - sparse_categorical_accuracy: 0.6201 - val_loss: 0.8316 - val_sparse_categorical_accuracy: 0.6252\n",
      "Epoch 5/60\n",
      "48/48 [==============================] - 9s 197ms/step - loss: 0.8384 - sparse_categorical_accuracy: 0.6201 - val_loss: 0.8398 - val_sparse_categorical_accuracy: 0.6252\n",
      "Epoch 6/60\n",
      "48/48 [==============================] - 9s 197ms/step - loss: 0.8391 - sparse_categorical_accuracy: 0.6201 - val_loss: 0.8318 - val_sparse_categorical_accuracy: 0.6252\n"
     ]
    }
   ],
   "source": [
    "# make training for the model on the training dataset on the image data with making 60 epochs which means 60 iteration over the\n",
    "# training dataset, take in each iteration 128 sample point (batch size), with splitting the training into train and validation\n",
    "# by making the validation size = 20%, put early stopping to monitor the val_loss\n",
    "history = model_conv.fit(\n",
    "    x={\n",
    "        'image': x_train_image\n",
    "    },\n",
    "    y={\n",
    "        'price': y_train_price,\n",
    "    },\n",
    "    epochs=60,\n",
    "    batch_size=128,\n",
    "    validation_split=0.2,\n",
    "    callbacks=[\n",
    "        tf.keras.callbacks.EarlyStopping(monitor='val_loss', patience=5, )\n",
    "    ],\n",
    "    verbose=1\n",
    ")"
   ]
  },
  {
   "cell_type": "code",
   "execution_count": 50,
   "metadata": {
    "colab": {
     "base_uri": "https://localhost:8080/"
    },
    "id": "VmWI-mqORMeS",
    "outputId": "4ddf1e2e-6487-4f59-8623-7a56f97947d2"
   },
   "outputs": [
    {
     "name": "stdout",
     "output_type": "stream",
     "text": [
      "[[0.64385074 0.29636407 0.05978518]\n",
      " [0.64385074 0.29636407 0.05978518]\n",
      " [0.64385074 0.29636407 0.05978518]\n",
      " ...\n",
      " [0.64385074 0.29636407 0.05978518]\n",
      " [0.64385074 0.29636407 0.05978518]\n",
      " [0.64385074 0.29636407 0.05978518]]\n",
      "[0 0 0 ... 0 0 0]\n"
     ]
    }
   ],
   "source": [
    "# make model prediction on the image data in the test data set, and get the max class probability to be the predicted class\n",
    "y_predict = model_conv.predict(\n",
    "    {\n",
    "        'image': x_test_image\n",
    "    }\n",
    ")\n",
    "\n",
    "\n",
    "# probabilities\n",
    "price_predicted = y_predict['price']\n",
    "print(price_predicted)\n",
    "\n",
    "# categories\n",
    "price_category_predicted = np.argmax(price_predicted, axis=1)\n",
    "print(price_category_predicted)"
   ]
  },
  {
   "cell_type": "code",
   "execution_count": 51,
   "metadata": {
    "id": "uKgqWZaaRMeS"
   },
   "outputs": [],
   "source": [
    "# save the predicted into CSV file\n",
    "pd.DataFrame(\n",
    "    {'id': df_test.index,\n",
    "     'price': price_category_predicted}\n",
    ").to_csv('trial image.csv', index=False)"
   ]
  },
  {
   "cell_type": "code",
   "execution_count": 52,
   "metadata": {
    "colab": {
     "base_uri": "https://localhost:8080/",
     "height": 308
    },
    "id": "pY89Thqd9XND",
    "outputId": "d1f453cf-b396-4af0-f2a6-97ee37c5cdce"
   },
   "outputs": [
    {
     "data": {
      "image/png": "[encoded data removed]",
      "text/plain": [
       "<Figure size 864x288 with 2 Axes>"
      ]
     },
     "metadata": {
      "needs_background": "light"
     },
     "output_type": "display_data"
    }
   ],
   "source": [
    "plt_function_single_op(history)"
   ]
  },
  {
   "cell_type": "markdown",
   "metadata": {
    "id": "zgsgf0ht9XND"
   },
   "source": [
    "## Thoughts and observation:\n",
    "This gave a score on Kaggle = 0.62038.\n",
    "\n",
    "I thought working on the image data will give me a good results, and the constructed model I built will help more in this. As the number of the batch size isn't small. Besides, I prevented the overfitting on the training dataset by monitoring the validation loss value which is the loss value on the validation dataset. Then, wait if the validation loss increased 5 times, the model stops the training, and use the final gradients it reached in the prediction on the image data after applying the same preprocessing steps on the test image data. So, we can see from the results in the training phase and the graphs that there is no overfitting and the results are close to each other by small differences. So, by training the model I reached accuracy = 0.6252, and the resultant accuracy on Kaggel is 0.62038 on the unseen dataset. So, this means they are close to each other, and this approves that there is no overfitting or underfitting in the model. But on the other hand I thought this would give a better results than any trial, but I think the model needed to be better constructed to do this. But it is okay as there is no overfitting and the results are close to each one.\n",
    "\n",
    "## Plan for the next trial:\n",
    "I will work on the image data. I will use 2 layers to extract the features from the images after making preprocessing on them. I will use convolution layer by 400 hidden units and filter size = 16x16, then use max pooling layer by filter size = 16x16, so it gets the max value from the window of the max pooling. Then, using a dropout layer to turn off some neurons from the input and the hidden units randomly with rate = 25%."
   ]
  },
  {
   "cell_type": "markdown",
   "metadata": {
    "id": "eC-zAFgiRMeR"
   },
   "source": [
    "## 5. Using the image data only with convolution, max pooling layers, and dropout layer (single-modality learning - single-objective learning)."
   ]
  },
  {
   "cell_type": "code",
   "execution_count": 53,
   "metadata": {
    "colab": {
     "base_uri": "https://localhost:8080/"
    },
    "id": "nRPdEinnRMeR",
    "outputId": "25fd8444-8a31-4d5b-f4da-e0c0b16337ff"
   },
   "outputs": [
    {
     "name": "stdout",
     "output_type": "stream",
     "text": [
      "Model: \"model_4\"\n",
      "_________________________________________________________________\n",
      " Layer (type)                Output Shape              Param #   \n",
      "=================================================================\n",
      " input_5 (InputLayer)        [(None, 64, 64, 2)]       0         \n",
      "                                                                 \n",
      " conv2d_1 (Conv2D)           (None, 49, 49, 400)       205200    \n",
      "                                                                 \n",
      " max_pooling2d_1 (MaxPooling  (None, 3, 3, 400)        0         \n",
      " 2D)                                                             \n",
      "                                                                 \n",
      " dropout (Dropout)           (None, 3, 3, 400)         0         \n",
      "                                                                 \n",
      " flatten_1 (Flatten)         (None, 3600)              0         \n",
      "                                                                 \n",
      " price (Dense)               (None, 3)                 10803     \n",
      "                                                                 \n",
      "=================================================================\n",
      "Total params: 216,003\n",
      "Trainable params: 216,003\n",
      "Non-trainable params: 0\n",
      "_________________________________________________________________\n"
     ]
    }
   ],
   "source": [
    "# define the dropout rate\n",
    "dropout_rate = 0.25\n",
    "# one input layer for image data \n",
    "in_image = keras.Input(batch_shape=(None, 64, 64, 2))\n",
    "\n",
    "# image part \n",
    "# simple conv2d layer with 400 hidden layers and filter size 16x16 then max pooling layer with window size 16x16 then \n",
    "# dropout layer\n",
    "cov = Conv2D(400, (16, 16))(in_image)\n",
    "pl = MaxPool2D((16, 16))(cov)\n",
    "pldo = Dropout(dropout_rate)(pl)\n",
    "\n",
    "# make flatten for the output of the max pooling so we can use it to the dense layer\n",
    "flattened = Flatten()(pldo)\n",
    "\n",
    "\n",
    "# add a dense layer to make the classification with softmax activation as it is multi class classification\n",
    "p_price = Dense(len_price, activation='softmax', name='price')(flattened)\n",
    "\n",
    "\n",
    "# define model input/output using keys.\n",
    "model_do = keras.Model(\n",
    "    inputs={\n",
    "        'image': in_image\n",
    "    },\n",
    "    outputs={\n",
    "        'price': p_price,\n",
    "    },\n",
    ")\n",
    "\n",
    "\n",
    "# compile model with optimizer, loss values for the predicting price task and metrics is accuracy\n",
    "model_do.compile(\n",
    "    optimizer=Adam(),\n",
    "    loss={\n",
    "        'price': 'sparse_categorical_crossentropy',\n",
    "    },\n",
    "    metrics={\n",
    "        'price': ['SparseCategoricalAccuracy'],\n",
    "    },\n",
    ")\n",
    "\n",
    "\n",
    "# display the model with the layers and number of parameters in each layer\n",
    "model_do.summary()"
   ]
  },
  {
   "cell_type": "code",
   "execution_count": 54,
   "metadata": {
    "colab": {
     "base_uri": "https://localhost:8080/"
    },
    "id": "6aiHK5mf9XNE",
    "outputId": "62b80db7-4d87-4c46-8fa9-1026b3aff299"
   },
   "outputs": [
    {
     "name": "stdout",
     "output_type": "stream",
     "text": [
      "Epoch 1/60\n",
      "48/48 [==============================] - 10s 202ms/step - loss: 0.8927 - sparse_categorical_accuracy: 0.6201 - val_loss: 0.8319 - val_sparse_categorical_accuracy: 0.6252\n",
      "Epoch 2/60\n",
      "48/48 [==============================] - 9s 197ms/step - loss: 0.8381 - sparse_categorical_accuracy: 0.6201 - val_loss: 0.8314 - val_sparse_categorical_accuracy: 0.6252\n",
      "Epoch 3/60\n",
      "48/48 [==============================] - 9s 197ms/step - loss: 0.8391 - sparse_categorical_accuracy: 0.6201 - val_loss: 0.8352 - val_sparse_categorical_accuracy: 0.6252\n",
      "Epoch 4/60\n",
      "48/48 [==============================] - 9s 198ms/step - loss: 0.8392 - sparse_categorical_accuracy: 0.6201 - val_loss: 0.8337 - val_sparse_categorical_accuracy: 0.6252\n",
      "Epoch 5/60\n",
      "48/48 [==============================] - 10s 198ms/step - loss: 0.8378 - sparse_categorical_accuracy: 0.6201 - val_loss: 0.8313 - val_sparse_categorical_accuracy: 0.6252\n",
      "Epoch 6/60\n",
      "48/48 [==============================] - 9s 198ms/step - loss: 0.8375 - sparse_categorical_accuracy: 0.6201 - val_loss: 0.8345 - val_sparse_categorical_accuracy: 0.6252\n",
      "Epoch 7/60\n",
      "48/48 [==============================] - 10s 198ms/step - loss: 0.8373 - sparse_categorical_accuracy: 0.6201 - val_loss: 0.8320 - val_sparse_categorical_accuracy: 0.6252\n",
      "Epoch 8/60\n",
      "48/48 [==============================] - 9s 198ms/step - loss: 0.8385 - sparse_categorical_accuracy: 0.6201 - val_loss: 0.8311 - val_sparse_categorical_accuracy: 0.6252\n",
      "Epoch 9/60\n",
      "48/48 [==============================] - 9s 198ms/step - loss: 0.8376 - sparse_categorical_accuracy: 0.6201 - val_loss: 0.8350 - val_sparse_categorical_accuracy: 0.6252\n",
      "Epoch 10/60\n",
      "48/48 [==============================] - 10s 198ms/step - loss: 0.8388 - sparse_categorical_accuracy: 0.6201 - val_loss: 0.8314 - val_sparse_categorical_accuracy: 0.6252\n",
      "Epoch 11/60\n",
      "48/48 [==============================] - 9s 198ms/step - loss: 0.8384 - sparse_categorical_accuracy: 0.6201 - val_loss: 0.8323 - val_sparse_categorical_accuracy: 0.6252\n",
      "Epoch 12/60\n",
      "48/48 [==============================] - 9s 198ms/step - loss: 0.8374 - sparse_categorical_accuracy: 0.6201 - val_loss: 0.8360 - val_sparse_categorical_accuracy: 0.6252\n",
      "Epoch 13/60\n",
      "48/48 [==============================] - 10s 198ms/step - loss: 0.8378 - sparse_categorical_accuracy: 0.6201 - val_loss: 0.8320 - val_sparse_categorical_accuracy: 0.6252\n"
     ]
    }
   ],
   "source": [
    "# make training for the model on the training dataset on the image data with making 60 epochs which means 60 iteration over the\n",
    "# training dataset, take in each iteration 128 sample point (batch size), with splitting the training into train and validation\n",
    "# by making the validation size = 20%, put early stopping to monitor the val_loss\n",
    "history = model_do.fit(\n",
    "    x={\n",
    "        'image': x_train_image\n",
    "    },\n",
    "    y={\n",
    "        'price': y_train_price,\n",
    "    },\n",
    "    epochs=60,\n",
    "    batch_size=128,\n",
    "    validation_split=0.2,\n",
    "    callbacks=[\n",
    "        tf.keras.callbacks.EarlyStopping(monitor='val_loss', patience=5, )\n",
    "    ],\n",
    "    verbose=1\n",
    ")"
   ]
  },
  {
   "cell_type": "code",
   "execution_count": 55,
   "metadata": {
    "colab": {
     "base_uri": "https://localhost:8080/"
    },
    "id": "4OZB1-6r9XNE",
    "outputId": "80724b58-a78d-42b2-ece4-a27e025dd9cb"
   },
   "outputs": [
    {
     "name": "stdout",
     "output_type": "stream",
     "text": [
      "[[0.6051627  0.32617432 0.06866298]\n",
      " [0.6051627  0.32617432 0.06866298]\n",
      " [0.6051627  0.32617432 0.06866298]\n",
      " ...\n",
      " [0.6051627  0.32617432 0.06866298]\n",
      " [0.6051627  0.32617432 0.06866298]\n",
      " [0.6051627  0.32617432 0.06866298]]\n",
      "[0 0 0 ... 0 0 0]\n"
     ]
    }
   ],
   "source": [
    "# make model prediction on the image data in the test data set, and get the max class probability to be the predicted class\n",
    "y_predict = model_do.predict(\n",
    "    {\n",
    "        'image': x_test_image\n",
    "    }\n",
    ")\n",
    "\n",
    "\n",
    "# probabilities\n",
    "price_predicted = y_predict['price']\n",
    "print(price_predicted)\n",
    "\n",
    "# categories\n",
    "price_category_predicted = np.argmax(price_predicted, axis=1)\n",
    "print(price_category_predicted)\n"
   ]
  },
  {
   "cell_type": "code",
   "execution_count": 56,
   "metadata": {
    "id": "nurgZaKb9XNE"
   },
   "outputs": [],
   "source": [
    "# save the predicted into CSV file\n",
    "pd.DataFrame(\n",
    "    {'id': df_test.index,\n",
    "     'price': price_category_predicted}\n",
    ").to_csv('trial image do.csv', index=False)"
   ]
  },
  {
   "cell_type": "code",
   "execution_count": 57,
   "metadata": {
    "colab": {
     "base_uri": "https://localhost:8080/",
     "height": 308
    },
    "id": "zW1XxI3V9XNF",
    "outputId": "5a35ccbf-b618-4134-9ace-6fe484c1c3c6"
   },
   "outputs": [
    {
     "data": {
      "image/png": "[encoded data removed]",
      "text/plain": [
       "<Figure size 864x288 with 2 Axes>"
      ]
     },
     "metadata": {
      "needs_background": "light"
     },
     "output_type": "display_data"
    }
   ],
   "source": [
    "plt_function_single_op(history)"
   ]
  },
  {
   "cell_type": "markdown",
   "metadata": {
    "id": "1tRpCQiK9XNF"
   },
   "source": [
    "## Thoughts and observation:\n",
    "This gave a score on Kaggle = 0.62038.\n",
    "\n",
    "My expectations were the model will give better results from the previous one which was on image data without dropout layer. But this didn't happened as it gave a very close results to each other, the only change is the number of epochs as this trial took 13 epochs before starting to overfit the training data. But the results I got are good not bad. As the number of the batch size isn't small. Besides, I prevented the overfitting on the training dataset by monitoring the validation loss value which is the loss value on the validation dataset. Then, wait if the validation loss increased 5 times, the model stops the training, and use the final gradients it reached in the prediction on the image data after applying the same preprocessing steps on the test image data. So, we can see from the results in the training phase and the graphs that there is no overfitting and the results are close to each other by small differences. So, by training the model I reached accuracy = 0.6252, and the resultant accuracy on Kaggel is 0.62038 on the unseen dataset. So, this means they are close to each other, and this approves that there is no overfitting or underfitting in the model. But on the other hand I thought this would give a better results than the previous trial, but I think the model needed to be better constructed to do this. But it is okay as there is no overfitting and the results are close to each one.\n",
    "\n",
    "\n",
    "## Plan for the next trial:\n",
    "I will use two inputs (text data and image data) by using embedded layer then average the result from it with the text input, and by using 2 layers to extract the features from the images after making preprocessing on them. I will use convolution layer by 400 hidden layers and filter size = 16x16, then use max pooling layer by window size = 16x16, so it gets the max value from the window of the max pooling. Then, concatinate both parts to be used together in the dense layer to predict the output, and as I mentioned before I used softmax activation function as our problem is multi class classification."
   ]
  },
  {
   "cell_type": "markdown",
   "metadata": {
    "id": "WS9h-yMrRMeN"
   },
   "source": [
    "## 6. Building a Learning model with using both inputs \"text + image\" data (Multi-modality learning)"
   ]
  },
  {
   "cell_type": "code",
   "execution_count": 58,
   "metadata": {
    "colab": {
     "base_uri": "https://localhost:8080/"
    },
    "id": "LXcXRzfPRMeN",
    "outputId": "2273442a-4bdf-4b91-e83e-27bb6c899f38"
   },
   "outputs": [
    {
     "name": "stdout",
     "output_type": "stream",
     "text": [
      "Model: \"model_5\"\n",
      "__________________________________________________________________________________________________\n",
      " Layer (type)                   Output Shape         Param #     Connected to                     \n",
      "==================================================================================================\n",
      " input_7 (InputLayer)           [(None, 64, 64, 2)]  0           []                               \n",
      "                                                                                                  \n",
      " input_6 (InputLayer)           [(None, 100)]        0           []                               \n",
      "                                                                                                  \n",
      " conv2d_2 (Conv2D)              (None, 49, 49, 400)  205200      ['input_7[0][0]']                \n",
      "                                                                                                  \n",
      " embedding_3 (Embedding)        (None, 100, 100)     3000000     ['input_6[0][0]']                \n",
      "                                                                                                  \n",
      " max_pooling2d_2 (MaxPooling2D)  (None, 3, 3, 400)   0           ['conv2d_2[0][0]']               \n",
      "                                                                                                  \n",
      " tf.math.reduce_mean_1 (TFOpLam  (None, 100)         0           ['embedding_3[0][0]']            \n",
      " bda)                                                                                             \n",
      "                                                                                                  \n",
      " flatten_2 (Flatten)            (None, 3600)         0           ['max_pooling2d_2[0][0]']        \n",
      "                                                                                                  \n",
      " tf.concat (TFOpLambda)         (None, 3700)         0           ['tf.math.reduce_mean_1[0][0]',  \n",
      "                                                                  'flatten_2[0][0]']              \n",
      "                                                                                                  \n",
      " price (Dense)                  (None, 3)            11103       ['tf.concat[0][0]']              \n",
      "                                                                                                  \n",
      "==================================================================================================\n",
      "Total params: 3,216,303\n",
      "Trainable params: 3,216,303\n",
      "Non-trainable params: 0\n",
      "__________________________________________________________________________________________________\n"
     ]
    }
   ],
   "source": [
    "# here we have two inputs. one for image and the other for text.\n",
    "in_text = keras.Input(batch_shape=(None, max_len))\n",
    "in_image = keras.Input(batch_shape=(None, 64, 64, 2))\n",
    "\n",
    "# text part\n",
    "# simple average of embedding layer that takes the input with the vacab size and max_len\n",
    "embedded = keras.layers.Embedding(tokenizer.num_words, 100)(in_text)\n",
    "averaged = tf.reduce_mean(embedded, axis=1)\n",
    "\n",
    "\n",
    "# image part \n",
    "# simple conv2d layer with 400 hidden layers and filter size 16x16 then max pooling layer with window size 16x16\n",
    "cov = Conv2D(400, (16, 16))(in_image)\n",
    "pl = MaxPool2D((16, 16))(cov)\n",
    "\n",
    "# make flatten for the output of the max pooling so we can use it to the dense layer\n",
    "flattened = Flatten()(pl)\n",
    "\n",
    "\n",
    "# combine both networks from the image's layers and text's layers\n",
    "fused = tf.concat([averaged, flattened], axis=-1)\n",
    "\n",
    "# add a dense layer to make the classification with softmax activation as it is multi class classification\n",
    "p_price = Dense(len_price, activation='softmax', name='price')(fused)\n",
    "\n",
    "\n",
    "# define model input/output using keys.\n",
    "model_inputs = keras.Model(\n",
    "    inputs={\n",
    "        'summary': in_text,\n",
    "        'image': in_image\n",
    "    },\n",
    "    outputs={\n",
    "        'price': p_price,\n",
    "    },\n",
    ")\n",
    "\n",
    "\n",
    "# compile model with optimizer, loss values for the predicting price task and metrics is accuracy\n",
    "\n",
    "model_inputs.compile(\n",
    "    optimizer=Adam(),\n",
    "    loss={\n",
    "        'price': 'sparse_categorical_crossentropy',\n",
    "    },\n",
    "    loss_weights={\n",
    "        'price': 0.5,       \n",
    "    },\n",
    "    metrics={\n",
    "        'price': ['SparseCategoricalAccuracy'],\n",
    "    },\n",
    ")\n",
    "\n",
    "\n",
    "# display the model with the layers and number of parameters in each layer\n",
    "model_inputs.summary()"
   ]
  },
  {
   "cell_type": "code",
   "execution_count": 59,
   "metadata": {
    "colab": {
     "base_uri": "https://localhost:8080/"
    },
    "id": "ZLUKsS7NRMeN",
    "outputId": "fdb1f116-63d2-408e-f44f-1a97917ee1d3"
   },
   "outputs": [
    {
     "name": "stdout",
     "output_type": "stream",
     "text": [
      "Epoch 1/60\n",
      "48/48 [==============================] - 11s 208ms/step - loss: 0.4412 - sparse_categorical_accuracy: 0.6120 - val_loss: 0.4151 - val_sparse_categorical_accuracy: 0.6252\n",
      "Epoch 2/60\n",
      "48/48 [==============================] - 10s 204ms/step - loss: 0.4176 - sparse_categorical_accuracy: 0.6201 - val_loss: 0.4145 - val_sparse_categorical_accuracy: 0.6252\n",
      "Epoch 3/60\n",
      "48/48 [==============================] - 10s 204ms/step - loss: 0.4152 - sparse_categorical_accuracy: 0.6201 - val_loss: 0.4104 - val_sparse_categorical_accuracy: 0.6252\n",
      "Epoch 4/60\n",
      "48/48 [==============================] - 10s 203ms/step - loss: 0.4058 - sparse_categorical_accuracy: 0.6232 - val_loss: 0.3991 - val_sparse_categorical_accuracy: 0.6324\n",
      "Epoch 5/60\n",
      "48/48 [==============================] - 10s 206ms/step - loss: 0.3929 - sparse_categorical_accuracy: 0.6327 - val_loss: 0.3899 - val_sparse_categorical_accuracy: 0.6422\n",
      "Epoch 6/60\n",
      "48/48 [==============================] - 10s 203ms/step - loss: 0.3794 - sparse_categorical_accuracy: 0.6553 - val_loss: 0.3817 - val_sparse_categorical_accuracy: 0.6632\n",
      "Epoch 7/60\n",
      "48/48 [==============================] - 10s 203ms/step - loss: 0.3675 - sparse_categorical_accuracy: 0.6728 - val_loss: 0.3739 - val_sparse_categorical_accuracy: 0.6678\n",
      "Epoch 8/60\n",
      "48/48 [==============================] - 10s 203ms/step - loss: 0.3560 - sparse_categorical_accuracy: 0.6937 - val_loss: 0.3686 - val_sparse_categorical_accuracy: 0.6717\n",
      "Epoch 9/60\n",
      "48/48 [==============================] - 10s 203ms/step - loss: 0.3464 - sparse_categorical_accuracy: 0.7059 - val_loss: 0.3650 - val_sparse_categorical_accuracy: 0.6723\n",
      "Epoch 10/60\n",
      "48/48 [==============================] - 10s 203ms/step - loss: 0.3382 - sparse_categorical_accuracy: 0.7171 - val_loss: 0.3615 - val_sparse_categorical_accuracy: 0.6763\n",
      "Epoch 11/60\n",
      "48/48 [==============================] - 10s 207ms/step - loss: 0.3306 - sparse_categorical_accuracy: 0.7228 - val_loss: 0.3597 - val_sparse_categorical_accuracy: 0.6737\n",
      "Epoch 12/60\n",
      "48/48 [==============================] - 10s 203ms/step - loss: 0.3229 - sparse_categorical_accuracy: 0.7332 - val_loss: 0.3587 - val_sparse_categorical_accuracy: 0.6763\n",
      "Epoch 13/60\n",
      "48/48 [==============================] - 10s 203ms/step - loss: 0.3163 - sparse_categorical_accuracy: 0.7389 - val_loss: 0.3586 - val_sparse_categorical_accuracy: 0.6737\n",
      "Epoch 14/60\n",
      "48/48 [==============================] - 10s 203ms/step - loss: 0.3100 - sparse_categorical_accuracy: 0.7456 - val_loss: 0.3563 - val_sparse_categorical_accuracy: 0.6763\n",
      "Epoch 15/60\n",
      "48/48 [==============================] - 10s 203ms/step - loss: 0.3037 - sparse_categorical_accuracy: 0.7512 - val_loss: 0.3575 - val_sparse_categorical_accuracy: 0.6743\n",
      "Epoch 16/60\n",
      "48/48 [==============================] - 10s 203ms/step - loss: 0.2977 - sparse_categorical_accuracy: 0.7563 - val_loss: 0.3585 - val_sparse_categorical_accuracy: 0.6684\n",
      "Epoch 17/60\n",
      "48/48 [==============================] - 10s 206ms/step - loss: 0.2922 - sparse_categorical_accuracy: 0.7610 - val_loss: 0.3573 - val_sparse_categorical_accuracy: 0.6750\n",
      "Epoch 18/60\n",
      "48/48 [==============================] - 10s 204ms/step - loss: 0.2871 - sparse_categorical_accuracy: 0.7661 - val_loss: 0.3592 - val_sparse_categorical_accuracy: 0.6750\n",
      "Epoch 19/60\n",
      "48/48 [==============================] - 10s 203ms/step - loss: 0.2817 - sparse_categorical_accuracy: 0.7732 - val_loss: 0.3583 - val_sparse_categorical_accuracy: 0.6756\n"
     ]
    }
   ],
   "source": [
    "# make training for the model on the training dataset with making 60 epochs which means 60 iteration over the training dataset,\n",
    "# take in each iteration 128 sample point (batch size), with splitting the training into train and validation by making the \n",
    "# validation size = 20%, put early stopping to monitor the val_loss, the training using the two inputs we have\n",
    "history = model_inputs.fit(\n",
    "    x={\n",
    "        'summary': x_train_text_id,\n",
    "        'image': x_train_image\n",
    "    },\n",
    "    y={\n",
    "        'price': y_train_price,\n",
    "    },\n",
    "    epochs=60,\n",
    "    batch_size=128,\n",
    "    validation_split=0.2,\n",
    "    callbacks=[\n",
    "        tf.keras.callbacks.EarlyStopping(monitor='val_loss', patience=5, )\n",
    "    ],\n",
    "    verbose=1\n",
    ")"
   ]
  },
  {
   "cell_type": "code",
   "execution_count": 60,
   "metadata": {
    "colab": {
     "base_uri": "https://localhost:8080/"
    },
    "id": "i8glJ09eRMeO",
    "outputId": "41df5187-aaa0-459e-bc63-031faa7d790e"
   },
   "outputs": [
    {
     "name": "stdout",
     "output_type": "stream",
     "text": [
      "[[0.7175327  0.24231893 0.0401484 ]\n",
      " [0.7175327  0.24231893 0.0401484 ]\n",
      " [0.7175327  0.24231893 0.0401484 ]\n",
      " ...\n",
      " [0.7175327  0.24231893 0.0401484 ]\n",
      " [0.7175327  0.24231893 0.0401484 ]\n",
      " [0.7175327  0.24231893 0.0401484 ]]\n",
      "[0 0 0 ... 0 0 0]\n"
     ]
    }
   ],
   "source": [
    "# make model prediction on the both data types we have in the test data set, and get the max class probability to be the\n",
    "# predicted class\n",
    "y_predict = model_inputs.predict(\n",
    "    {\n",
    "        'summary': x_test_text,\n",
    "        'image': x_test_image\n",
    "    }\n",
    ")\n",
    "\n",
    "\n",
    "# probabilities\n",
    "price_predicted = y_predict['price']\n",
    "print(price_predicted)\n",
    "\n",
    "# categories\n",
    "price_category_predicted = np.argmax(price_predicted, axis=1)\n",
    "print(price_category_predicted)\n"
   ]
  },
  {
   "cell_type": "code",
   "execution_count": 61,
   "metadata": {
    "id": "na9r_3JNRMeO"
   },
   "outputs": [],
   "source": [
    "# save the predicted into CSV file\n",
    "pd.DataFrame(\n",
    "    {'id': df_test.index,\n",
    "     'price': price_category_predicted}\n",
    ").to_csv('trial 3.csv', index=False)\n"
   ]
  },
  {
   "cell_type": "code",
   "execution_count": 62,
   "metadata": {
    "colab": {
     "base_uri": "https://localhost:8080/",
     "height": 308
    },
    "id": "IgS8_sbM9XNI",
    "outputId": "873eb7cc-a5d5-4d9e-fe0e-24f0a1510869"
   },
   "outputs": [
    {
     "data": {
      "image/png": "[encoded data removed]",
      "text/plain": [
       "<Figure size 864x288 with 2 Axes>"
      ]
     },
     "metadata": {
      "needs_background": "light"
     },
     "output_type": "display_data"
    }
   ],
   "source": [
    "plt_function_single_op(history)"
   ]
  },
  {
   "cell_type": "markdown",
   "metadata": {
    "id": "Z_9iyfAC9XNJ"
   },
   "source": [
    "## Thoughts and observation:\n",
    "This gave a score on Kaggle = 0.62038.\n",
    "\n",
    "I thought by using the two inputs I have after preprocessing them, this would give a very good results. But from the above results in the training phase, and the above figures, we can observe that there is overfitting as the accuracy is high on the training part from the dataset and the loss is low. But on the validation part, the accuracy almost started to be the same value, and the loss is high. Although the number of the batch size isn't small. Besides, I prevented the overfitting on the training dataset by monitoring the validation loss value which is the loss value on the validation dataset. Then, wait if the validation loss increased 5 times, the model stops the training, and use the final gradients it reached in the prediction on the text after cleaning and translating it to be useful and in one language, and on the image data after making the same preprocessing for the images on it. But this didn't work well, and overfitting is happened. So, by training the model I reached accuracy = 0.6756, and the resultant accuracy on Kaggel is 0.62038. Besides, the accuracy on the training part reached 0.7732, so it is obvious that there is overfitting in this trial.\n",
    "\n",
    "## Plan for the next trial:\n",
    "I will use two inputs (text data and image data) by using embedded layer then average the result from it with the text input, and by using 2 layers to extract the features from the images after making preprocessing on them. I will use convolution layer by 400 hidden layers and filter size = 16x16, then use max pooling layer by window size = 16x16, so it gets the max value from the window of the max pooling. Then, concatinate both parts to be used together in the dense layer to predict the output, and as I mentioned before I used softmax activation function as our problem is multi class classification. \n",
    "Besides, I will predict the both outputs which are the type and the price. By making their contribution in the predicted class is equal. So, this trial is Multi-modality, Multi-objective trial."
   ]
  },
  {
   "cell_type": "markdown",
   "metadata": {
    "id": "H107JQs2RMeS"
   },
   "source": [
    "## 7. Multi-objective learning (predicting both price and type) with using Multi-modality learning by using both text and image data\n"
   ]
  },
  {
   "cell_type": "code",
   "execution_count": 63,
   "metadata": {
    "colab": {
     "base_uri": "https://localhost:8080/"
    },
    "id": "CqLuI9RARMeS",
    "outputId": "aa6528ed-81ef-4c55-db7f-fb02686de3d3"
   },
   "outputs": [
    {
     "name": "stdout",
     "output_type": "stream",
     "text": [
      "Model: \"model_6\"\n",
      "__________________________________________________________________________________________________\n",
      " Layer (type)                   Output Shape         Param #     Connected to                     \n",
      "==================================================================================================\n",
      " input_9 (InputLayer)           [(None, 64, 64, 2)]  0           []                               \n",
      "                                                                                                  \n",
      " input_8 (InputLayer)           [(None, 100)]        0           []                               \n",
      "                                                                                                  \n",
      " conv2d_3 (Conv2D)              (None, 49, 49, 400)  205200      ['input_9[0][0]']                \n",
      "                                                                                                  \n",
      " embedding_4 (Embedding)        (None, 100, 100)     3000000     ['input_8[0][0]']                \n",
      "                                                                                                  \n",
      " max_pooling2d_3 (MaxPooling2D)  (None, 3, 3, 400)   0           ['conv2d_3[0][0]']               \n",
      "                                                                                                  \n",
      " tf.math.reduce_mean_2 (TFOpLam  (None, 100)         0           ['embedding_4[0][0]']            \n",
      " bda)                                                                                             \n",
      "                                                                                                  \n",
      " flatten_3 (Flatten)            (None, 3600)         0           ['max_pooling2d_3[0][0]']        \n",
      "                                                                                                  \n",
      " tf.concat_1 (TFOpLambda)       (None, 3700)         0           ['tf.math.reduce_mean_2[0][0]',  \n",
      "                                                                  'flatten_3[0][0]']              \n",
      "                                                                                                  \n",
      " price (Dense)                  (None, 3)            11103       ['tf.concat_1[0][0]']            \n",
      "                                                                                                  \n",
      " type (Dense)                   (None, 24)           88824       ['tf.concat_1[0][0]']            \n",
      "                                                                                                  \n",
      "==================================================================================================\n",
      "Total params: 3,305,127\n",
      "Trainable params: 3,305,127\n",
      "Non-trainable params: 0\n",
      "__________________________________________________________________________________________________\n"
     ]
    }
   ],
   "source": [
    "# here we have two inputs. one for image and the other for text.\n",
    "in_text = keras.Input(batch_shape=(None, max_len))\n",
    "in_image = keras.Input(batch_shape=(None, 64, 64, 2))\n",
    "\n",
    "# text part\n",
    "# simple average of embedding layer that takes the input with the vacab size and max_len\n",
    "embedded = keras.layers.Embedding(tokenizer.num_words, 100)(in_text)\n",
    "averaged = tf.reduce_mean(embedded, axis=1)\n",
    "\n",
    "\n",
    "# image part \n",
    "# simple conv2d layer with 400 hidden layers and filter size 16x16 then max pooling layer with window size 16x16\n",
    "cov = Conv2D(400, (16, 16))(in_image)\n",
    "pl = MaxPool2D((16, 16))(cov)\n",
    "\n",
    "# make flatten for the output of the max pooling so we can use it to the dense layer\n",
    "flattened = Flatten()(pl)\n",
    "\n",
    "\n",
    "# combine both networks from the image's layers and text's layers\n",
    "fused = tf.concat([averaged, flattened], axis=-1)\n",
    "\n",
    "# multi-task learning (each is a multi-class classification)\n",
    "# for each predictions add a dense layer to make the classification with softmax activation as it is multi class classification\n",
    "p_type = Dense(len_type, activation='softmax', name='type')(fused)\n",
    "p_price = Dense(len_price, activation='softmax', name='price')(fused)\n",
    "\n",
    "\n",
    "# define model input/output using keys.\n",
    "model_outputs = keras.Model(\n",
    "    inputs={\n",
    "        'summary': in_text,\n",
    "        'image': in_image\n",
    "    },\n",
    "    outputs={\n",
    "        'type': p_type,\n",
    "        'price': p_price,\n",
    "    },\n",
    ")\n",
    "\n",
    "\n",
    "# compile model with optimizer, loss values for each prediction task and metrics is accuracy, with making the contribution of \n",
    "# the predicted values in the final output by 50% for each prediction (type - price)\n",
    "model_outputs.compile(\n",
    "    optimizer=Adam(),\n",
    "    loss={\n",
    "        'type': 'sparse_categorical_crossentropy',\n",
    "        'price': 'sparse_categorical_crossentropy',\n",
    "    },\n",
    "    loss_weights={\n",
    "        'type': 0.5,\n",
    "        'price': 0.5,       \n",
    "    },\n",
    "    metrics={\n",
    "        'type': ['SparseCategoricalAccuracy'],\n",
    "        'price': ['SparseCategoricalAccuracy'],\n",
    "    },\n",
    ")\n",
    "\n",
    "\n",
    "# display the model with the layers and number of parameters in each layer\n",
    "model_outputs.summary()"
   ]
  },
  {
   "cell_type": "code",
   "execution_count": 64,
   "metadata": {
    "colab": {
     "base_uri": "https://localhost:8080/"
    },
    "id": "oMnaPP9vRMeS",
    "outputId": "604ad45e-484e-4490-c8a7-cb6acc59ce5d"
   },
   "outputs": [
    {
     "name": "stdout",
     "output_type": "stream",
     "text": [
      "Epoch 1/60\n",
      "48/48 [==============================] - 11s 210ms/step - loss: 1.2815 - price_loss: 0.8944 - type_loss: 1.6685 - price_sparse_categorical_accuracy: 0.6155 - type_sparse_categorical_accuracy: 0.7377 - val_loss: 0.9146 - val_price_loss: 0.8331 - val_type_loss: 0.9960 - val_price_sparse_categorical_accuracy: 0.6252 - val_type_sparse_categorical_accuracy: 0.7647\n",
      "Epoch 2/60\n",
      "48/48 [==============================] - 10s 204ms/step - loss: 0.9296 - price_loss: 0.8371 - type_loss: 1.0222 - price_sparse_categorical_accuracy: 0.6201 - type_sparse_categorical_accuracy: 0.7536 - val_loss: 0.9004 - val_price_loss: 0.8295 - val_type_loss: 0.9712 - val_price_sparse_categorical_accuracy: 0.6252 - val_type_sparse_categorical_accuracy: 0.7647\n",
      "Epoch 3/60\n",
      "48/48 [==============================] - 10s 205ms/step - loss: 0.9245 - price_loss: 0.8334 - type_loss: 1.0155 - price_sparse_categorical_accuracy: 0.6201 - type_sparse_categorical_accuracy: 0.7536 - val_loss: 0.8980 - val_price_loss: 0.8268 - val_type_loss: 0.9693 - val_price_sparse_categorical_accuracy: 0.6252 - val_type_sparse_categorical_accuracy: 0.7647\n",
      "Epoch 4/60\n",
      "48/48 [==============================] - 10s 205ms/step - loss: 0.9198 - price_loss: 0.8270 - type_loss: 1.0127 - price_sparse_categorical_accuracy: 0.6201 - type_sparse_categorical_accuracy: 0.7536 - val_loss: 0.8936 - val_price_loss: 0.8173 - val_type_loss: 0.9700 - val_price_sparse_categorical_accuracy: 0.6252 - val_type_sparse_categorical_accuracy: 0.7647\n",
      "Epoch 5/60\n",
      "48/48 [==============================] - 10s 204ms/step - loss: 0.9095 - price_loss: 0.8110 - type_loss: 1.0080 - price_sparse_categorical_accuracy: 0.6219 - type_sparse_categorical_accuracy: 0.7536 - val_loss: 0.8822 - val_price_loss: 0.8009 - val_type_loss: 0.9635 - val_price_sparse_categorical_accuracy: 0.6324 - val_type_sparse_categorical_accuracy: 0.7647\n",
      "Epoch 6/60\n",
      "48/48 [==============================] - 10s 204ms/step - loss: 0.8948 - price_loss: 0.7905 - type_loss: 0.9992 - price_sparse_categorical_accuracy: 0.6322 - type_sparse_categorical_accuracy: 0.7536 - val_loss: 0.8709 - val_price_loss: 0.7831 - val_type_loss: 0.9588 - val_price_sparse_categorical_accuracy: 0.6383 - val_type_sparse_categorical_accuracy: 0.7647\n",
      "Epoch 7/60\n",
      "48/48 [==============================] - 10s 204ms/step - loss: 0.8794 - price_loss: 0.7696 - type_loss: 0.9892 - price_sparse_categorical_accuracy: 0.6512 - type_sparse_categorical_accuracy: 0.7536 - val_loss: 0.8557 - val_price_loss: 0.7669 - val_type_loss: 0.9445 - val_price_sparse_categorical_accuracy: 0.6494 - val_type_sparse_categorical_accuracy: 0.7647\n",
      "Epoch 8/60\n",
      "48/48 [==============================] - 10s 204ms/step - loss: 0.8607 - price_loss: 0.7475 - type_loss: 0.9738 - price_sparse_categorical_accuracy: 0.6683 - type_sparse_categorical_accuracy: 0.7536 - val_loss: 0.8452 - val_price_loss: 0.7540 - val_type_loss: 0.9364 - val_price_sparse_categorical_accuracy: 0.6599 - val_type_sparse_categorical_accuracy: 0.7647\n",
      "Epoch 9/60\n",
      "48/48 [==============================] - 10s 207ms/step - loss: 0.8442 - price_loss: 0.7298 - type_loss: 0.9585 - price_sparse_categorical_accuracy: 0.6773 - type_sparse_categorical_accuracy: 0.7536 - val_loss: 0.8360 - val_price_loss: 0.7431 - val_type_loss: 0.9289 - val_price_sparse_categorical_accuracy: 0.6651 - val_type_sparse_categorical_accuracy: 0.7647\n",
      "Epoch 10/60\n",
      "48/48 [==============================] - 10s 205ms/step - loss: 0.8267 - price_loss: 0.7116 - type_loss: 0.9419 - price_sparse_categorical_accuracy: 0.6881 - type_sparse_categorical_accuracy: 0.7536 - val_loss: 0.8238 - val_price_loss: 0.7348 - val_type_loss: 0.9127 - val_price_sparse_categorical_accuracy: 0.6710 - val_type_sparse_categorical_accuracy: 0.7647\n",
      "Epoch 11/60\n",
      "48/48 [==============================] - 10s 206ms/step - loss: 0.8119 - price_loss: 0.6980 - type_loss: 0.9258 - price_sparse_categorical_accuracy: 0.6955 - type_sparse_categorical_accuracy: 0.7543 - val_loss: 0.8188 - val_price_loss: 0.7328 - val_type_loss: 0.9049 - val_price_sparse_categorical_accuracy: 0.6730 - val_type_sparse_categorical_accuracy: 0.7647\n",
      "Epoch 12/60\n",
      "48/48 [==============================] - 10s 208ms/step - loss: 0.7960 - price_loss: 0.6841 - type_loss: 0.9079 - price_sparse_categorical_accuracy: 0.7071 - type_sparse_categorical_accuracy: 0.7545 - val_loss: 0.8056 - val_price_loss: 0.7231 - val_type_loss: 0.8880 - val_price_sparse_categorical_accuracy: 0.6743 - val_type_sparse_categorical_accuracy: 0.7647\n",
      "Epoch 13/60\n",
      "48/48 [==============================] - 10s 205ms/step - loss: 0.7815 - price_loss: 0.6715 - type_loss: 0.8915 - price_sparse_categorical_accuracy: 0.7117 - type_sparse_categorical_accuracy: 0.7569 - val_loss: 0.8039 - val_price_loss: 0.7227 - val_type_loss: 0.8852 - val_price_sparse_categorical_accuracy: 0.6743 - val_type_sparse_categorical_accuracy: 0.7687\n",
      "Epoch 14/60\n",
      "48/48 [==============================] - 10s 205ms/step - loss: 0.7679 - price_loss: 0.6602 - type_loss: 0.8757 - price_sparse_categorical_accuracy: 0.7218 - type_sparse_categorical_accuracy: 0.7579 - val_loss: 0.7942 - val_price_loss: 0.7164 - val_type_loss: 0.8720 - val_price_sparse_categorical_accuracy: 0.6756 - val_type_sparse_categorical_accuracy: 0.7667\n",
      "Epoch 15/60\n",
      "48/48 [==============================] - 10s 205ms/step - loss: 0.7540 - price_loss: 0.6488 - type_loss: 0.8591 - price_sparse_categorical_accuracy: 0.7277 - type_sparse_categorical_accuracy: 0.7587 - val_loss: 0.7874 - val_price_loss: 0.7128 - val_type_loss: 0.8620 - val_price_sparse_categorical_accuracy: 0.6756 - val_type_sparse_categorical_accuracy: 0.7693\n",
      "Epoch 16/60\n",
      "48/48 [==============================] - 10s 209ms/step - loss: 0.7416 - price_loss: 0.6394 - type_loss: 0.8439 - price_sparse_categorical_accuracy: 0.7318 - type_sparse_categorical_accuracy: 0.7617 - val_loss: 0.7856 - val_price_loss: 0.7149 - val_type_loss: 0.8563 - val_price_sparse_categorical_accuracy: 0.6723 - val_type_sparse_categorical_accuracy: 0.7733\n",
      "Epoch 17/60\n",
      "48/48 [==============================] - 10s 205ms/step - loss: 0.7297 - price_loss: 0.6302 - type_loss: 0.8292 - price_sparse_categorical_accuracy: 0.7381 - type_sparse_categorical_accuracy: 0.7627 - val_loss: 0.7817 - val_price_loss: 0.7111 - val_type_loss: 0.8523 - val_price_sparse_categorical_accuracy: 0.6737 - val_type_sparse_categorical_accuracy: 0.7752\n",
      "Epoch 18/60\n",
      "48/48 [==============================] - 10s 206ms/step - loss: 0.7176 - price_loss: 0.6191 - type_loss: 0.8160 - price_sparse_categorical_accuracy: 0.7459 - type_sparse_categorical_accuracy: 0.7654 - val_loss: 0.7787 - val_price_loss: 0.7125 - val_type_loss: 0.8449 - val_price_sparse_categorical_accuracy: 0.6743 - val_type_sparse_categorical_accuracy: 0.7746\n",
      "Epoch 19/60\n",
      "48/48 [==============================] - 10s 205ms/step - loss: 0.7065 - price_loss: 0.6125 - type_loss: 0.8004 - price_sparse_categorical_accuracy: 0.7473 - type_sparse_categorical_accuracy: 0.7709 - val_loss: 0.7728 - val_price_loss: 0.7105 - val_type_loss: 0.8352 - val_price_sparse_categorical_accuracy: 0.6763 - val_type_sparse_categorical_accuracy: 0.7772\n",
      "Epoch 20/60\n",
      "48/48 [==============================] - 10s 205ms/step - loss: 0.6943 - price_loss: 0.6028 - type_loss: 0.7858 - price_sparse_categorical_accuracy: 0.7564 - type_sparse_categorical_accuracy: 0.7725 - val_loss: 0.7707 - val_price_loss: 0.7121 - val_type_loss: 0.8293 - val_price_sparse_categorical_accuracy: 0.6723 - val_type_sparse_categorical_accuracy: 0.7765\n",
      "Epoch 21/60\n",
      "48/48 [==============================] - 10s 204ms/step - loss: 0.6834 - price_loss: 0.5946 - type_loss: 0.7722 - price_sparse_categorical_accuracy: 0.7569 - type_sparse_categorical_accuracy: 0.7779 - val_loss: 0.7703 - val_price_loss: 0.7126 - val_type_loss: 0.8279 - val_price_sparse_categorical_accuracy: 0.6717 - val_type_sparse_categorical_accuracy: 0.7765\n",
      "Epoch 22/60\n",
      "48/48 [==============================] - 10s 209ms/step - loss: 0.6740 - price_loss: 0.5872 - type_loss: 0.7607 - price_sparse_categorical_accuracy: 0.7609 - type_sparse_categorical_accuracy: 0.7817 - val_loss: 0.7656 - val_price_loss: 0.7132 - val_type_loss: 0.8179 - val_price_sparse_categorical_accuracy: 0.6769 - val_type_sparse_categorical_accuracy: 0.7785\n",
      "Epoch 23/60\n",
      "48/48 [==============================] - 10s 205ms/step - loss: 0.6623 - price_loss: 0.5784 - type_loss: 0.7462 - price_sparse_categorical_accuracy: 0.7638 - type_sparse_categorical_accuracy: 0.7838 - val_loss: 0.7645 - val_price_loss: 0.7138 - val_type_loss: 0.8151 - val_price_sparse_categorical_accuracy: 0.6763 - val_type_sparse_categorical_accuracy: 0.7792\n",
      "Epoch 24/60\n",
      "48/48 [==============================] - 10s 204ms/step - loss: 0.6524 - price_loss: 0.5718 - type_loss: 0.7331 - price_sparse_categorical_accuracy: 0.7668 - type_sparse_categorical_accuracy: 0.7887 - val_loss: 0.7620 - val_price_loss: 0.7153 - val_type_loss: 0.8087 - val_price_sparse_categorical_accuracy: 0.6776 - val_type_sparse_categorical_accuracy: 0.7824\n"
     ]
    }
   ],
   "source": [
    "# make training for the model on the training dataset with making 60 epochs which means 60 iteration over the training dataset,\n",
    "# take in each iteration 128 sample point (batch size), with splitting the training into train and validation by making the \n",
    "# validation size = 20%, put early stopping to monitor the val_loss, the training using the two inputs we have, and the outputs\n",
    "# are two outputs we have (type - price)\n",
    "history = model_outputs.fit(\n",
    "    x={\n",
    "        'summary': x_train_text_id,\n",
    "        'image': x_train_image\n",
    "    },\n",
    "    y={\n",
    "        'type': y_train_type,\n",
    "        'price': y_train_price,\n",
    "    },\n",
    "    epochs=60,\n",
    "    batch_size=128,\n",
    "    validation_split=0.2,\n",
    "    callbacks=[\n",
    "        tf.keras.callbacks.EarlyStopping(monitor='val_price_loss', patience=5, )\n",
    "    ],\n",
    "    verbose=1\n",
    ")"
   ]
  },
  {
   "cell_type": "code",
   "execution_count": 65,
   "metadata": {
    "colab": {
     "base_uri": "https://localhost:8080/"
    },
    "id": "pcO0g0KkRMeT",
    "outputId": "e7610c6e-0c90-4387-d4d5-15e25274fc0f"
   },
   "outputs": [
    {
     "name": "stdout",
     "output_type": "stream",
     "text": [
      "[[0.71299374 0.23091859 0.05608762]\n",
      " [0.71299374 0.23091859 0.05608762]\n",
      " [0.71299374 0.23091859 0.05608762]\n",
      " ...\n",
      " [0.71299374 0.23091859 0.05608762]\n",
      " [0.71299374 0.23091859 0.05608762]\n",
      " [0.71299374 0.23091859 0.05608762]]\n",
      "[0 0 0 ... 0 0 0]\n",
      "[[0.00080111 0.7396455  0.00554236 ... 0.00076173 0.02396438 0.00146104]\n",
      " [0.00080111 0.7396455  0.00554236 ... 0.00076173 0.02396438 0.00146104]\n",
      " [0.00080111 0.7396455  0.00554236 ... 0.00076173 0.02396438 0.00146104]\n",
      " ...\n",
      " [0.00080111 0.7396455  0.00554236 ... 0.00076173 0.02396438 0.00146104]\n",
      " [0.00080111 0.7396455  0.00554236 ... 0.00076173 0.02396438 0.00146104]\n",
      " [0.00080111 0.7396455  0.00554236 ... 0.00076173 0.02396438 0.00146104]]\n",
      "[1 1 1 ... 1 1 1]\n"
     ]
    }
   ],
   "source": [
    "# make model prediction on the both data types we have in the inputs in the test data set, and get the max class probability to \n",
    "# be the predicted class\n",
    "y_predict = model_outputs.predict(\n",
    "    {\n",
    "        'summary': x_test_text,\n",
    "        'image': x_test_image\n",
    "    }\n",
    ")\n",
    "\n",
    "\n",
    "# probabilities\n",
    "price_predicted = y_predict['price']\n",
    "print(price_predicted)\n",
    "\n",
    "# categories\n",
    "price_category_predicted = np.argmax(price_predicted, axis=1)\n",
    "print(price_category_predicted)\n",
    "\n",
    "\n",
    "# probabilities\n",
    "type_predicted = y_predict['type']\n",
    "print(type_predicted)\n",
    "\n",
    "# categories\n",
    "type_category_predicted = np.argmax(type_predicted, axis=1)\n",
    "print(type_category_predicted)"
   ]
  },
  {
   "cell_type": "code",
   "execution_count": 66,
   "metadata": {
    "id": "W-yv4tbWRMeT"
   },
   "outputs": [],
   "source": [
    "# save the predicted into CSV file and save the price only to try on Kaggle\n",
    "pd.DataFrame(\n",
    "    {'id': df_test.index,\n",
    "     'price': price_category_predicted}\n",
    ").to_csv('trial predict both.csv', index=False)"
   ]
  },
  {
   "cell_type": "code",
   "execution_count": 67,
   "metadata": {
    "colab": {
     "base_uri": "https://localhost:8080/",
     "height": 308
    },
    "id": "PNNkcGJw9XNL",
    "outputId": "885f214a-a3a6-45dc-d929-1f81c7a36d66"
   },
   "outputs": [
    {
     "data": {
      "image/png": "[encoded data removed]",
      "text/plain": [
       "<Figure size 864x288 with 3 Axes>"
      ]
     },
     "metadata": {
      "needs_background": "light"
     },
     "output_type": "display_data"
    }
   ],
   "source": [
    "plt_function_multi_op(history)"
   ]
  },
  {
   "cell_type": "markdown",
   "metadata": {
    "id": "7TNz5hZo9XNM"
   },
   "source": [
    "## Thoughts and observation:\n",
    "This gave a score on Kaggle = 0.62038.\n",
    "\n",
    "My expectations were that this model won't give a good results in the training phase or in the test phase. But its results are good as from the above graphs and results in the training phase I don't think there was overfitting on the training data happened. Besides, the number of the batch size isn't small. Besides, I prevented the overfitting on the training dataset by monitoring the validation loss value which is the loss value on the validation dataset. Then, wait if the validation loss increased 5 times, the model stops the training, and use the final gradients it reached in the prediction on the text after cleaning and translating it to be useful and in one language, and on the image data after making the same preprocessing on it. So, by training the model I reached accuracy = 0.6776, and the resultant accuracy on Kaggel is 0.62038. So, this means they are close to each other, and there is overfitting or underfitting in the model. As the model stoped in the training before any overfitting happen after the epoch number 24. And all results on the prediction of both outputs are close to each other. And I think the result on Kaggle were to be better if we submitted both price and type as I made their contribution is equally in the process of the fitting the model, and in the prediction.\n"
   ]
  },
  {
   "cell_type": "markdown",
   "metadata": {
    "id": "lBUNqe2YjM4k"
   },
   "source": [
    "# Over all results: 🥰\n",
    "| Trial | Score on the experimental protocol applied | Score on Kaggle |\n",
    "| :--- | :----: | ---: |\n",
    "| Using the text data only (single-modality learning - single-objective learning) | 0.6717 | 0.68885 |\n",
    "| Using the text data only with adding LSTM layer (single-modality learning - single-objective learning) | 0.6252 | 0.62038 |\n",
    "| Using the text data only with adding two layers \"BiDirectional layers\" (single-modality learning - single-objective learning) | 0.6370 | 0.4826 |\n",
    "| Using the image data only with convolution and max pooling layers (single-modality learning - single-objective learning) | 0.6252 | 0.62038 |\n",
    "| Using the image data only with convolution, max pooling layers, and dropout layer (single-modality learning - single-objective learning) | 0.6252 | 0.62038 |\n",
    "| Building a Learning model with using both inputs \"text + image\" data (Multi-modality learning) | 0.6756 | 0.62038 |\n",
    "| Multi-objective learning (predicting both price and type) with using Multi-modality learning by using both text and image data | 0.6776 | 0.62038 |\n",
    "\n",
    "# Conclusion:\n",
    "The best model I had that gave the best results on Kaggle by prediction on the unseen dataset (test dataset) is Using the text data only (single-modality learning - single-objective learning) that gave 0.68885 in the public and 0.69809 in the private.\n",
    "This doesn't mean it is the best thing to do with problem, but as future work we can use NAS algorihm to search for the best hyperparameters in the neural networks, and try different preprocessing methods to do on the text data, and on the image data."
   ]
  },
  {
   "cell_type": "markdown",
   "metadata": {},
   "source": [
    "-------------------------------------------------------------------------------------------------------------------------------"
   ]
  },
  {
   "cell_type": "markdown",
   "metadata": {
    "id": "0B3OtMBERMeW"
   },
   "source": [
    "# Questions"
   ]
  },
  {
   "cell_type": "markdown",
   "metadata": {
    "id": "M_1WGAP7RMeW"
   },
   "source": [
    "## Is fully-connected model a good one for sequential data? Why? How about for image data? Is it good? Why?\n",
    "* No, fully connected model isn't a good one for sequential data.\n",
    "* As it can't make good feature extraction from the sequential data, and in the fully connected layers, all input nodes affect in the all output nodes, and this makes the network has a high number of weights and parameters.\n",
    "* No, it is also not good for image data.\n",
    "* As fully connected neural networks is not good in making feature extraction from the images like CNN. Fully connected neural networks needs weight for each input. So, if we said we have image by size 64x64x3, it will need 12288 weights in the first hidden layer, and the number of the weights will increase by each hidden layer. Besides, it the image size increased the number of the weights in the first hidden layer will be much bigger. Then, this would make many problems like the training time will be slower and it increase the ability of the model to be over fitted on the training data. \n",
    "\n",
    "\n",
    "## What is gradient vanishing and gradient explosion, and how GRU/LSTM tries to mitigate this problem?\n",
    "\n",
    "* Vanishing gradient means that the derivative of the cost function J with respect to the weights in every layer will be smaller and smaller while we go backpropagation.\n",
    "* Explosion gradient means that the derivative of the cost function J with respect to the weights in every layer will be larger and larger while we go backpropagation.\n",
    "* GRU/LSTM tries to mitigate this problems by the forget gate that is inside both of them. As the result gradient is containing the vector of activations of the forget gate, that helps the network to control the gradients values at each time step. So, this allows the GRU or LSTM to find a suitable parameter that updates the forget gate. Besides, those gates have additive function property that includes direct access to the forget gate’s activations, this property enables better balancing of gradient values during backpropagation. So, this helps in updating, and balancing the values that make the additive expression doesn't vanish or explose. As this enables the network to encourage desired behaviour from the error gradient using frequent gates update on every time step of the learning process.\n",
    "\n",
    "\n",
    "## What is multi-objective/multi-task learning? What is multi-modality learning? How do you use them in this assignment?\n",
    "* Multi-objective/multi-task learning is the process of solving multiple tasks together at the same time with sharing inductive bias between them. This helps also in taking the advantage of similarities across multiple learning tasks.\n",
    "* Multi-modality learning is the process of dealing with different modalities together, like dealing with images, and text, or dealing with audio, and text or images. The different modalities are used to train the model.\n",
    "* I used them by using the text data, and image data as the inputs for the neural network. Then, make concatinate for their parts together in the network, so this is the multi-modality learning. For multi-objective/multi-task learning, I used it in making predictions for the two labels we have in this problem which are the type and the price category for the apartment/house. So, make the neural network predict both of them.\n",
    "\n",
    "\n",
    "\n",
    "## What is the difference among xgboost, lightgbm and catboost?\n",
    "* Xgboost is a scalable, distributed gradient-boosted decision tree. It provides parallel tree boosting. It is a decision tree ensemble learning algorithm. It is highly accurate implementation of gradient boosting that pushes the limits of computing power for boosted tree algorithms.\n",
    "* Lightgbm is a gradient boosting framework that makes use of tree based learning algorithms that is considered to be a very powerful algorithm when it comes to computation. It is considered to be a fast processing algorithm.\n",
    "* Catboost is a gradient boosting algorithm, it builds symmetric or balanced trees. Leaves in every step are split using the same condition. With using feature split pair which accounts for the lowest loss is selected and used for all the level’s nodes. It uses the concept of ordered boosting, a permutation-driven approach to train model on a subset of data while calculating residuals on another subset, thus preventing target leakage and overfitting. It supports all kinds of features be it numeric, categorical, or text and saves time and effort of preprocessing. \n",
    "\n",
    "* More differeneces: \n",
    "\n",
    "    1. Treat the categorical data:\n",
    "\n",
    "        Lightgbm, and Catboost can treat the categorical features by several way, but in Xgboost the user need to treat it manually.\n",
    "\n",
    "    2. Treat null values:\n",
    "    \n",
    "        Lightgbm removes them itself, Catboost can deal with the null in the numerical data but in categorical user need to treat them, and xgboost user need to treat them manually.\n",
    "\n",
    "    3. Growing trees way:\n",
    "    \n",
    "        In lightgbm grow trees by leaves, in catboost grow trees by levels, and in xgboost grow trees by depth.\n",
    "\n"
   ]
  },
  {
   "cell_type": "markdown",
   "metadata": {
    "id": "-y1VkUp-RMeX"
   },
   "source": [
    "# References\n",
    "1. https://rb.gy/2dd9ud\n",
    "2. https://rb.gy/dnujqg\n",
    "3. https://rb.gy/wxqjaw\n",
    "4. https://rb.gy/qjlcba\n",
    "5. https://rb.gy/t7wo8i\n",
    "6. https://rb.gy/ezu1ur\n"
   ]
  }
 ],
 "metadata": {
  "accelerator": "GPU",
  "colab": {
   "collapsed_sections": [
    "R-Ckyu9d9XLq",
    "ZzTXr7KP9XLt",
    "Qjb4ednYRMeL",
    "3bPx33759XMT",
    "NwTrH5-pRMeT",
    "SwbwgmwZ9XMh",
    "o5_KwmiLRMeO",
    "yG1SuW-P9XMj",
    "W46gWkzrRMeP",
    "Vhb4ioW59XMm",
    "teMONQ0S9XM7",
    "zgsgf0ht9XND",
    "eC-zAFgiRMeR",
    "1tRpCQiK9XNF",
    "WS9h-yMrRMeN",
    "Z_9iyfAC9XNJ",
    "H107JQs2RMeS",
    "M_1WGAP7RMeW"
   ],
   "name": "try_3_new.ipynb",
   "provenance": []
  },
  "kernelspec": {
   "display_name": "Python 3",
   "language": "python",
   "name": "python3"
  },
  "language_info": {
   "codemirror_mode": {
    "name": "ipython",
    "version": 3
   },
   "file_extension": ".py",
   "mimetype": "text/x-python",
   "name": "python",
   "nbconvert_exporter": "python",
   "pygments_lexer": "ipython3",
   "version": "3.7.4"
  },
  "widgets": {
   "application/vnd.jupyter.widget-state+json": {
    "108c647329a84764a4a92cde8d0aea20": {
     "model_module": "@jupyter-widgets/controls",
     "model_module_version": "1.5.0",
     "model_name": "DescriptionStyleModel",
     "state": {
      "_model_module": "@jupyter-widgets/controls",
      "_model_module_version": "1.5.0",
      "_model_name": "DescriptionStyleModel",
      "_view_count": null,
      "_view_module": "@jupyter-widgets/base",
      "_view_module_version": "1.2.0",
      "_view_name": "StyleView",
      "description_width": ""
     }
    },
    "13c3d42a8f884eb48d9bef80031f1b10": {
     "model_module": "@jupyter-widgets/controls",
     "model_module_version": "1.5.0",
     "model_name": "DescriptionStyleModel",
     "state": {
      "_model_module": "@jupyter-widgets/controls",
      "_model_module_version": "1.5.0",
      "_model_name": "DescriptionStyleModel",
      "_view_count": null,
      "_view_module": "@jupyter-widgets/base",
      "_view_module_version": "1.2.0",
      "_view_name": "StyleView",
      "description_width": ""
     }
    },
    "14928ecf44bc4bd39640e8a60286c4ed": {
     "model_module": "@jupyter-widgets/controls",
     "model_module_version": "1.5.0",
     "model_name": "HBoxModel",
     "state": {
      "_dom_classes": [],
      "_model_module": "@jupyter-widgets/controls",
      "_model_module_version": "1.5.0",
      "_model_name": "HBoxModel",
      "_view_count": null,
      "_view_module": "@jupyter-widgets/controls",
      "_view_module_version": "1.5.0",
      "_view_name": "HBoxView",
      "box_style": "",
      "children": [
       "IPY_MODEL_ca9c6efc5d704f10bca747631dc13d48",
       "IPY_MODEL_7f73cd25368540deb8485a49b1524879",
       "IPY_MODEL_237cd05bb6a44f62adfe1a44c4c33ca4"
      ],
      "layout": "IPY_MODEL_af57bdc624404ba2bab493da988af9d9"
     }
    },
    "186a09fb6f5543fcbe121bfc061896b7": {
     "model_module": "@jupyter-widgets/base",
     "model_module_version": "1.2.0",
     "model_name": "LayoutModel",
     "state": {
      "_model_module": "@jupyter-widgets/base",
      "_model_module_version": "1.2.0",
      "_model_name": "LayoutModel",
      "_view_count": null,
      "_view_module": "@jupyter-widgets/base",
      "_view_module_version": "1.2.0",
      "_view_name": "LayoutView",
      "align_content": null,
      "align_items": null,
      "align_self": null,
      "border": null,
      "bottom": null,
      "display": null,
      "flex": null,
      "flex_flow": null,
      "grid_area": null,
      "grid_auto_columns": null,
      "grid_auto_flow": null,
      "grid_auto_rows": null,
      "grid_column": null,
      "grid_gap": null,
      "grid_row": null,
      "grid_template_areas": null,
      "grid_template_columns": null,
      "grid_template_rows": null,
      "height": null,
      "justify_content": null,
      "justify_items": null,
      "left": null,
      "margin": null,
      "max_height": null,
      "max_width": null,
      "min_height": null,
      "min_width": null,
      "object_fit": null,
      "object_position": null,
      "order": null,
      "overflow": null,
      "overflow_x": null,
      "overflow_y": null,
      "padding": null,
      "right": null,
      "top": null,
      "visibility": null,
      "width": null
     }
    },
    "219d60607e8242b48f535a53c309b5e0": {
     "model_module": "@jupyter-widgets/base",
     "model_module_version": "1.2.0",
     "model_name": "LayoutModel",
     "state": {
      "_model_module": "@jupyter-widgets/base",
      "_model_module_version": "1.2.0",
      "_model_name": "LayoutModel",
      "_view_count": null,
      "_view_module": "@jupyter-widgets/base",
      "_view_module_version": "1.2.0",
      "_view_name": "LayoutView",
      "align_content": null,
      "align_items": null,
      "align_self": null,
      "border": null,
      "bottom": null,
      "display": null,
      "flex": null,
      "flex_flow": null,
      "grid_area": null,
      "grid_auto_columns": null,
      "grid_auto_flow": null,
      "grid_auto_rows": null,
      "grid_column": null,
      "grid_gap": null,
      "grid_row": null,
      "grid_template_areas": null,
      "grid_template_columns": null,
      "grid_template_rows": null,
      "height": null,
      "justify_content": null,
      "justify_items": null,
      "left": null,
      "margin": null,
      "max_height": null,
      "max_width": null,
      "min_height": null,
      "min_width": null,
      "object_fit": null,
      "object_position": null,
      "order": null,
      "overflow": null,
      "overflow_x": null,
      "overflow_y": null,
      "padding": null,
      "right": null,
      "top": null,
      "visibility": null,
      "width": null
     }
    },
    "237cd05bb6a44f62adfe1a44c4c33ca4": {
     "model_module": "@jupyter-widgets/controls",
     "model_module_version": "1.5.0",
     "model_name": "HTMLModel",
     "state": {
      "_dom_classes": [],
      "_model_module": "@jupyter-widgets/controls",
      "_model_module_version": "1.5.0",
      "_model_name": "HTMLModel",
      "_view_count": null,
      "_view_module": "@jupyter-widgets/controls",
      "_view_module_version": "1.5.0",
      "_view_name": "HTMLView",
      "description": "",
      "description_tooltip": null,
      "layout": "IPY_MODEL_c939957d33d04f23b19d84c0f3fc444d",
      "placeholder": "​",
      "style": "IPY_MODEL_7b86c39a03ed43fdbd096581a2fab2d8",
      "value": " 7360/7360 [00:00&lt;00:00, 27387.77it/s]"
     }
    },
    "2da759db41284ed19f77fe70a0fa47bf": {
     "model_module": "@jupyter-widgets/base",
     "model_module_version": "1.2.0",
     "model_name": "LayoutModel",
     "state": {
      "_model_module": "@jupyter-widgets/base",
      "_model_module_version": "1.2.0",
      "_model_name": "LayoutModel",
      "_view_count": null,
      "_view_module": "@jupyter-widgets/base",
      "_view_module_version": "1.2.0",
      "_view_name": "LayoutView",
      "align_content": null,
      "align_items": null,
      "align_self": null,
      "border": null,
      "bottom": null,
      "display": null,
      "flex": null,
      "flex_flow": null,
      "grid_area": null,
      "grid_auto_columns": null,
      "grid_auto_flow": null,
      "grid_auto_rows": null,
      "grid_column": null,
      "grid_gap": null,
      "grid_row": null,
      "grid_template_areas": null,
      "grid_template_columns": null,
      "grid_template_rows": null,
      "height": null,
      "justify_content": null,
      "justify_items": null,
      "left": null,
      "margin": null,
      "max_height": null,
      "max_width": null,
      "min_height": null,
      "min_width": null,
      "object_fit": null,
      "object_position": null,
      "order": null,
      "overflow": null,
      "overflow_x": null,
      "overflow_y": null,
      "padding": null,
      "right": null,
      "top": null,
      "visibility": null,
      "width": null
     }
    },
    "5965a312509c4969aaf6fb04e145d419": {
     "model_module": "@jupyter-widgets/base",
     "model_module_version": "1.2.0",
     "model_name": "LayoutModel",
     "state": {
      "_model_module": "@jupyter-widgets/base",
      "_model_module_version": "1.2.0",
      "_model_name": "LayoutModel",
      "_view_count": null,
      "_view_module": "@jupyter-widgets/base",
      "_view_module_version": "1.2.0",
      "_view_name": "LayoutView",
      "align_content": null,
      "align_items": null,
      "align_self": null,
      "border": null,
      "bottom": null,
      "display": null,
      "flex": null,
      "flex_flow": null,
      "grid_area": null,
      "grid_auto_columns": null,
      "grid_auto_flow": null,
      "grid_auto_rows": null,
      "grid_column": null,
      "grid_gap": null,
      "grid_row": null,
      "grid_template_areas": null,
      "grid_template_columns": null,
      "grid_template_rows": null,
      "height": null,
      "justify_content": null,
      "justify_items": null,
      "left": null,
      "margin": null,
      "max_height": null,
      "max_width": null,
      "min_height": null,
      "min_width": null,
      "object_fit": null,
      "object_position": null,
      "order": null,
      "overflow": null,
      "overflow_x": null,
      "overflow_y": null,
      "padding": null,
      "right": null,
      "top": null,
      "visibility": null,
      "width": null
     }
    },
    "720240be1ce049edbee716d56c5db5e9": {
     "model_module": "@jupyter-widgets/controls",
     "model_module_version": "1.5.0",
     "model_name": "DescriptionStyleModel",
     "state": {
      "_model_module": "@jupyter-widgets/controls",
      "_model_module_version": "1.5.0",
      "_model_name": "DescriptionStyleModel",
      "_view_count": null,
      "_view_module": "@jupyter-widgets/base",
      "_view_module_version": "1.2.0",
      "_view_name": "StyleView",
      "description_width": ""
     }
    },
    "7b86c39a03ed43fdbd096581a2fab2d8": {
     "model_module": "@jupyter-widgets/controls",
     "model_module_version": "1.5.0",
     "model_name": "DescriptionStyleModel",
     "state": {
      "_model_module": "@jupyter-widgets/controls",
      "_model_module_version": "1.5.0",
      "_model_name": "DescriptionStyleModel",
      "_view_count": null,
      "_view_module": "@jupyter-widgets/base",
      "_view_module_version": "1.2.0",
      "_view_name": "StyleView",
      "description_width": ""
     }
    },
    "7f73cd25368540deb8485a49b1524879": {
     "model_module": "@jupyter-widgets/controls",
     "model_module_version": "1.5.0",
     "model_name": "FloatProgressModel",
     "state": {
      "_dom_classes": [],
      "_model_module": "@jupyter-widgets/controls",
      "_model_module_version": "1.5.0",
      "_model_name": "FloatProgressModel",
      "_view_count": null,
      "_view_module": "@jupyter-widgets/controls",
      "_view_module_version": "1.5.0",
      "_view_name": "ProgressView",
      "bar_style": "success",
      "description": "",
      "description_tooltip": null,
      "layout": "IPY_MODEL_2da759db41284ed19f77fe70a0fa47bf",
      "max": 7360,
      "min": 0,
      "orientation": "horizontal",
      "style": "IPY_MODEL_bb84685e3ad24062a2064d6027db31e5",
      "value": 7360
     }
    },
    "7f89b792b16c498cbc21767342e66779": {
     "model_module": "@jupyter-widgets/controls",
     "model_module_version": "1.5.0",
     "model_name": "HTMLModel",
     "state": {
      "_dom_classes": [],
      "_model_module": "@jupyter-widgets/controls",
      "_model_module_version": "1.5.0",
      "_model_name": "HTMLModel",
      "_view_count": null,
      "_view_module": "@jupyter-widgets/controls",
      "_view_module_version": "1.5.0",
      "_view_name": "HTMLView",
      "description": "",
      "description_tooltip": null,
      "layout": "IPY_MODEL_219d60607e8242b48f535a53c309b5e0",
      "placeholder": "​",
      "style": "IPY_MODEL_720240be1ce049edbee716d56c5db5e9",
      "value": "100%"
     }
    },
    "9b6adda453304141a836db2a9ca1046c": {
     "model_module": "@jupyter-widgets/controls",
     "model_module_version": "1.5.0",
     "model_name": "HTMLModel",
     "state": {
      "_dom_classes": [],
      "_model_module": "@jupyter-widgets/controls",
      "_model_module_version": "1.5.0",
      "_model_name": "HTMLModel",
      "_view_count": null,
      "_view_module": "@jupyter-widgets/controls",
      "_view_module_version": "1.5.0",
      "_view_name": "HTMLView",
      "description": "",
      "description_tooltip": null,
      "layout": "IPY_MODEL_186a09fb6f5543fcbe121bfc061896b7",
      "placeholder": "​",
      "style": "IPY_MODEL_13c3d42a8f884eb48d9bef80031f1b10",
      "value": " 7627/7627 [00:00&lt;00:00, 18500.66it/s]"
     }
    },
    "af57bdc624404ba2bab493da988af9d9": {
     "model_module": "@jupyter-widgets/base",
     "model_module_version": "1.2.0",
     "model_name": "LayoutModel",
     "state": {
      "_model_module": "@jupyter-widgets/base",
      "_model_module_version": "1.2.0",
      "_model_name": "LayoutModel",
      "_view_count": null,
      "_view_module": "@jupyter-widgets/base",
      "_view_module_version": "1.2.0",
      "_view_name": "LayoutView",
      "align_content": null,
      "align_items": null,
      "align_self": null,
      "border": null,
      "bottom": null,
      "display": null,
      "flex": null,
      "flex_flow": null,
      "grid_area": null,
      "grid_auto_columns": null,
      "grid_auto_flow": null,
      "grid_auto_rows": null,
      "grid_column": null,
      "grid_gap": null,
      "grid_row": null,
      "grid_template_areas": null,
      "grid_template_columns": null,
      "grid_template_rows": null,
      "height": null,
      "justify_content": null,
      "justify_items": null,
      "left": null,
      "margin": null,
      "max_height": null,
      "max_width": null,
      "min_height": null,
      "min_width": null,
      "object_fit": null,
      "object_position": null,
      "order": null,
      "overflow": null,
      "overflow_x": null,
      "overflow_y": null,
      "padding": null,
      "right": null,
      "top": null,
      "visibility": null,
      "width": null
     }
    },
    "b4d37c086bc14b9c8f1ffffdfe5bebe4": {
     "model_module": "@jupyter-widgets/controls",
     "model_module_version": "1.5.0",
     "model_name": "ProgressStyleModel",
     "state": {
      "_model_module": "@jupyter-widgets/controls",
      "_model_module_version": "1.5.0",
      "_model_name": "ProgressStyleModel",
      "_view_count": null,
      "_view_module": "@jupyter-widgets/base",
      "_view_module_version": "1.2.0",
      "_view_name": "StyleView",
      "bar_color": null,
      "description_width": ""
     }
    },
    "b82bcc7995164edba08b77accddd2a7e": {
     "model_module": "@jupyter-widgets/base",
     "model_module_version": "1.2.0",
     "model_name": "LayoutModel",
     "state": {
      "_model_module": "@jupyter-widgets/base",
      "_model_module_version": "1.2.0",
      "_model_name": "LayoutModel",
      "_view_count": null,
      "_view_module": "@jupyter-widgets/base",
      "_view_module_version": "1.2.0",
      "_view_name": "LayoutView",
      "align_content": null,
      "align_items": null,
      "align_self": null,
      "border": null,
      "bottom": null,
      "display": null,
      "flex": null,
      "flex_flow": null,
      "grid_area": null,
      "grid_auto_columns": null,
      "grid_auto_flow": null,
      "grid_auto_rows": null,
      "grid_column": null,
      "grid_gap": null,
      "grid_row": null,
      "grid_template_areas": null,
      "grid_template_columns": null,
      "grid_template_rows": null,
      "height": null,
      "justify_content": null,
      "justify_items": null,
      "left": null,
      "margin": null,
      "max_height": null,
      "max_width": null,
      "min_height": null,
      "min_width": null,
      "object_fit": null,
      "object_position": null,
      "order": null,
      "overflow": null,
      "overflow_x": null,
      "overflow_y": null,
      "padding": null,
      "right": null,
      "top": null,
      "visibility": null,
      "width": null
     }
    },
    "b8d461a18cd94779b18104e6e4ab9e4e": {
     "model_module": "@jupyter-widgets/controls",
     "model_module_version": "1.5.0",
     "model_name": "HBoxModel",
     "state": {
      "_dom_classes": [],
      "_model_module": "@jupyter-widgets/controls",
      "_model_module_version": "1.5.0",
      "_model_name": "HBoxModel",
      "_view_count": null,
      "_view_module": "@jupyter-widgets/controls",
      "_view_module_version": "1.5.0",
      "_view_name": "HBoxView",
      "box_style": "",
      "children": [
       "IPY_MODEL_7f89b792b16c498cbc21767342e66779",
       "IPY_MODEL_cd257623ed69448b826fb613e6b2cfa8",
       "IPY_MODEL_9b6adda453304141a836db2a9ca1046c"
      ],
      "layout": "IPY_MODEL_5965a312509c4969aaf6fb04e145d419"
     }
    },
    "bb84685e3ad24062a2064d6027db31e5": {
     "model_module": "@jupyter-widgets/controls",
     "model_module_version": "1.5.0",
     "model_name": "ProgressStyleModel",
     "state": {
      "_model_module": "@jupyter-widgets/controls",
      "_model_module_version": "1.5.0",
      "_model_name": "ProgressStyleModel",
      "_view_count": null,
      "_view_module": "@jupyter-widgets/base",
      "_view_module_version": "1.2.0",
      "_view_name": "StyleView",
      "bar_color": null,
      "description_width": ""
     }
    },
    "c939957d33d04f23b19d84c0f3fc444d": {
     "model_module": "@jupyter-widgets/base",
     "model_module_version": "1.2.0",
     "model_name": "LayoutModel",
     "state": {
      "_model_module": "@jupyter-widgets/base",
      "_model_module_version": "1.2.0",
      "_model_name": "LayoutModel",
      "_view_count": null,
      "_view_module": "@jupyter-widgets/base",
      "_view_module_version": "1.2.0",
      "_view_name": "LayoutView",
      "align_content": null,
      "align_items": null,
      "align_self": null,
      "border": null,
      "bottom": null,
      "display": null,
      "flex": null,
      "flex_flow": null,
      "grid_area": null,
      "grid_auto_columns": null,
      "grid_auto_flow": null,
      "grid_auto_rows": null,
      "grid_column": null,
      "grid_gap": null,
      "grid_row": null,
      "grid_template_areas": null,
      "grid_template_columns": null,
      "grid_template_rows": null,
      "height": null,
      "justify_content": null,
      "justify_items": null,
      "left": null,
      "margin": null,
      "max_height": null,
      "max_width": null,
      "min_height": null,
      "min_width": null,
      "object_fit": null,
      "object_position": null,
      "order": null,
      "overflow": null,
      "overflow_x": null,
      "overflow_y": null,
      "padding": null,
      "right": null,
      "top": null,
      "visibility": null,
      "width": null
     }
    },
    "ca9c6efc5d704f10bca747631dc13d48": {
     "model_module": "@jupyter-widgets/controls",
     "model_module_version": "1.5.0",
     "model_name": "HTMLModel",
     "state": {
      "_dom_classes": [],
      "_model_module": "@jupyter-widgets/controls",
      "_model_module_version": "1.5.0",
      "_model_name": "HTMLModel",
      "_view_count": null,
      "_view_module": "@jupyter-widgets/controls",
      "_view_module_version": "1.5.0",
      "_view_name": "HTMLView",
      "description": "",
      "description_tooltip": null,
      "layout": "IPY_MODEL_b82bcc7995164edba08b77accddd2a7e",
      "placeholder": "​",
      "style": "IPY_MODEL_108c647329a84764a4a92cde8d0aea20",
      "value": "100%"
     }
    },
    "cd257623ed69448b826fb613e6b2cfa8": {
     "model_module": "@jupyter-widgets/controls",
     "model_module_version": "1.5.0",
     "model_name": "FloatProgressModel",
     "state": {
      "_dom_classes": [],
      "_model_module": "@jupyter-widgets/controls",
      "_model_module_version": "1.5.0",
      "_model_name": "FloatProgressModel",
      "_view_count": null,
      "_view_module": "@jupyter-widgets/controls",
      "_view_module_version": "1.5.0",
      "_view_name": "ProgressView",
      "bar_style": "success",
      "description": "",
      "description_tooltip": null,
      "layout": "IPY_MODEL_f62aac42ce5d48eebcf0fd267b8842be",
      "max": 7627,
      "min": 0,
      "orientation": "horizontal",
      "style": "IPY_MODEL_b4d37c086bc14b9c8f1ffffdfe5bebe4",
      "value": 7627
     }
    },
    "f62aac42ce5d48eebcf0fd267b8842be": {
     "model_module": "@jupyter-widgets/base",
     "model_module_version": "1.2.0",
     "model_name": "LayoutModel",
     "state": {
      "_model_module": "@jupyter-widgets/base",
      "_model_module_version": "1.2.0",
      "_model_name": "LayoutModel",
      "_view_count": null,
      "_view_module": "@jupyter-widgets/base",
      "_view_module_version": "1.2.0",
      "_view_name": "LayoutView",
      "align_content": null,
      "align_items": null,
      "align_self": null,
      "border": null,
      "bottom": null,
      "display": null,
      "flex": null,
      "flex_flow": null,
      "grid_area": null,
      "grid_auto_columns": null,
      "grid_auto_flow": null,
      "grid_auto_rows": null,
      "grid_column": null,
      "grid_gap": null,
      "grid_row": null,
      "grid_template_areas": null,
      "grid_template_columns": null,
      "grid_template_rows": null,
      "height": null,
      "justify_content": null,
      "justify_items": null,
      "left": null,
      "margin": null,
      "max_height": null,
      "max_width": null,
      "min_height": null,
      "min_width": null,
      "object_fit": null,
      "object_position": null,
      "order": null,
      "overflow": null,
      "overflow_x": null,
      "overflow_y": null,
      "padding": null,
      "right": null,
      "top": null,
      "visibility": null,
      "width": null
     }
    }
   }
  }
 },
 "nbformat": 4,
 "nbformat_minor": 5
}
