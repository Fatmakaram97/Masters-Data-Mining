{
 "cells": [
  {
   "cell_type": "markdown",
   "metadata": {
    "id": "2t_8WBVNkfPj"
   },
   "source": [
    "# Assignment 6\n",
    "\n",
    "## Problem Formulation: ✍\n",
    "* We need to predict whether the chemical compound that consists from some nodes, and edges to see if they afffect on the cancer activity or not. It is graphical data based problem, and we need to make binary classification.\n",
    "\n",
    "### Input:\n",
    "* It is sdf files contain some nodes names like (N, O, C, ...), edges that refers to what is the direction of the links from which node to which node, and the label of the chemical compound that refers whether this compound affects on the cancer activity or not. Part of the data have labels (1, -1) that refer to whether the chemical compound has effect on the cancer activity or not. They are the training dataset. Part of the data have label (0) that don't refer to anything as we are going to predict the right label as they are the test dataset. And here we deal with 3 different inputs after we preprocess the input data files.\n",
    "\n",
    "### Output:\n",
    "* We need to make binary classification, to make classification for the test datset to know whether each sample has affect on the cancer activity or not. This is done by training the model on the training data which are graphs, then test the model on the test data which are also graphs.\n",
    "\n",
    "\n",
    "## What data mining function is required? 🕵🏽\n",
    "* In this assignment we need \"classification and prediction\" data mining function.\n",
    "\n",
    "## What could be the challenges? 😕\n",
    "* Challenges are: how to deal with a new type of files which are sdf files, how to deal with multi inputs, how to deal with the description of the graphs of the chemical compounds that are written in the sdf file and read it correctly. How to make good preprocessing steps for the text data as we read the nodes as text data. How to deal with the graph data. How to construct a good neural network that is suitable for our dataset and problem. How to make tuning for the number of the vocabulary size, max length for each sentence, and some parameters in the neural network. In addition to how to develop a successful solution for the problem and make good predictions to predict whether the test chemical compound will effect the cancer activity or not. \n",
    "\n",
    "\n",
    "## What is the impact? 🤓\n",
    "* The impact is to know more about the graph data and how to deal with it, make preprocessing for the data, deal with text data, and deal with the neural networks, choose good construction for the layers and tuning their hyperparameters. Besides, know more about how te read a sdf file, and how to convert from the data in the file into text data and visualize it as graphs. So, by constructing a good neural network, this would give the right predictions for the test data to know their activity on the cancer. So, this would be more helpful to know about the new chemical compound, and its activity on the cancer.\n",
    "\n",
    "\n",
    "## What is an ideal solution? 🦸\n",
    "* The ideal solution is to make a very good neural network that deals with chemical compounds and graphs that converted into text data. So, by the good network, this will give perfect performance parameters, and this happens after making good preprocessing steps on the text data. So, the model can predict and classify in a right way the activity on the cancer of the new chemical compounds.\n",
    "\n",
    "\n",
    "## What is the experimental protocol used and how was it carried out? 🤔\n",
    "* I used the holdout method. So, in the holdout method I give the neural network the size of the validation set so it splits the training dataset into training and validation datasets. So, the network starts in training the model on the training dataset and gets the validation performance and applying the trained model on the validation dataset. So, by this I get the performane on the training and validation to see whether the model started to overfit on the training dataset or not. The performance is given by the AUC value and the loss of the model.\n",
    "\n",
    "\n",
    "## How did we tune hyper-parameters in the template? \n",
    "* The tuning for the hyperparameters like vocabulary size, max length for each sentence, number of epochs, and the batch size by trial and error. Besides, tuning for the number of the units in the layers I used in the neural networks, I used trial and error for them also. As I tried many different numbers for them and get the best one that gives the best result with using the same model without any changes. So, I could choose the one which gives the best results for each of them.\n",
    "\n",
    "\n",
    "## What is the search space and what is the criteria to determine good/bad hyper-parameters?\n",
    "* Search space is the space of all feasible, and possible solutions we have to make good hyperparameters tuning. Each point in the search space is one possible solution, and each possible solution can be pointed by its fitness for our problem. As I didn't use a specific tool to search for the best hyperparameters. I used trial and error method to tune the max_length for each sentence, vocabulary size, number of epochs, batch size, and number of the units in the layers I used in the layers of the neural networks. I tried different values for each one on the same model, so the changes only in those hyperparameters, and get the best combination for them that gives the best results on that model.\n",
    "* The criteria to determine whether the hyperparameters are good or bad is: by monitor the AUC value and the loss between the training and validation, so we can figure out if the model starts to overfit the training dataset or not. Then, compare the resultant auc with the auc that we get from Kaggle, if it is good with the training data, and validation data but it is bad, and gets bad auc on Kaggle from predictions on the unseen dataset \"test dataset\", so this means the hyperparameters are bad. As they don't give a good results from the unseen dataset.\n"
   ]
  },
  {
   "cell_type": "markdown",
   "metadata": {
    "id": "9mw5SgujkfPp"
   },
   "source": [
    "# Import required libraries"
   ]
  },
  {
   "cell_type": "code",
   "execution_count": 1,
   "metadata": {
    "execution": {
     "iopub.execute_input": "2022-04-08T20:21:32.024863Z",
     "iopub.status.busy": "2022-04-08T20:21:32.024071Z",
     "iopub.status.idle": "2022-04-08T20:21:42.808176Z",
     "shell.execute_reply": "2022-04-08T20:21:42.807132Z",
     "shell.execute_reply.started": "2022-04-08T20:21:32.024722Z"
    },
    "id": "G4MkroWEkfPq"
   },
   "outputs": [],
   "source": [
    "!pip install --quiet networkx"
   ]
  },
  {
   "cell_type": "code",
   "execution_count": 2,
   "metadata": {
    "execution": {
     "iopub.execute_input": "2022-04-08T20:21:42.810970Z",
     "iopub.status.busy": "2022-04-08T20:21:42.810644Z",
     "iopub.status.idle": "2022-04-08T20:22:22.214735Z",
     "shell.execute_reply": "2022-04-08T20:22:22.213612Z",
     "shell.execute_reply.started": "2022-04-08T20:21:42.810910Z"
    },
    "id": "6dgFmiqrkfPr"
   },
   "outputs": [],
   "source": [
    "!pip install --quiet tf2_gnn"
   ]
  },
  {
   "cell_type": "code",
   "execution_count": 3,
   "metadata": {
    "execution": {
     "iopub.execute_input": "2022-04-08T20:22:22.217252Z",
     "iopub.status.busy": "2022-04-08T20:22:22.216904Z",
     "iopub.status.idle": "2022-04-08T20:22:29.142682Z",
     "shell.execute_reply": "2022-04-08T20:22:29.141423Z",
     "shell.execute_reply.started": "2022-04-08T20:22:22.217205Z"
    },
    "id": "uYGVvE2LkfPs"
   },
   "outputs": [],
   "source": [
    "import os\n",
    "from google.colab import drive\n",
    "import numpy as np\n",
    "from tqdm.notebook import tqdm\n",
    "from sklearn.model_selection import train_test_split\n",
    "import networkx as nx\n",
    "import matplotlib.pyplot as plt\n",
    "from matplotlib import cm\n",
    "from tensorflow.keras.preprocessing.text import Tokenizer\n",
    "from tensorflow.keras.preprocessing.sequence import pad_sequences\n",
    "import random\n",
    "\n",
    "# https://github.com/microsoft/tf2-gnn\n",
    "# https://github.com/microsoft/tf2-gnn/blob/master/tf2_gnn/layers/gnn.py\n",
    "from tf2_gnn.layers.gnn import GNN, GNNInput\n",
    "import math\n",
    "import pandas as pd \n",
    "\n",
    "import tensorflow as tf\n",
    "from tensorflow.math import segment_mean\n",
    "from tensorflow import keras\n",
    "from tensorflow.keras import Input, Model\n",
    "from tensorflow.keras.layers import Embedding, Dense\n",
    "from tensorflow.keras.optimizers import Adam\n",
    "import warnings \n",
    "warnings.filterwarnings('ignore')"
   ]
  },
  {
   "cell_type": "markdown",
   "metadata": {
    "id": "rPVN9DD3FHOw"
   },
   "source": [
    "# Connect to my drive to use the data that I have been uploaded\n"
   ]
  },
  {
   "cell_type": "code",
   "execution_count": 4,
   "metadata": {
    "colab": {
     "base_uri": "https://localhost:8080/"
    },
    "id": "PPCZa52TKVdP",
    "outputId": "50540144-d145-49ec-aee7-f3c6d947d78c"
   },
   "outputs": [
    {
     "name": "stdout",
     "output_type": "stream",
     "text": [
      "Drive already mounted at /content/drive; to attempt to forcibly remount, call drive.mount(\"/content/drive\", force_remount=True).\n"
     ]
    }
   ],
   "source": [
    "drive.mount('/content/drive')\n",
    "os.chdir('/content/drive/MyDrive/data/DM6')"
   ]
  },
  {
   "cell_type": "code",
   "execution_count": 5,
   "metadata": {
    "execution": {
     "iopub.execute_input": "2022-04-08T20:22:29.152334Z",
     "iopub.status.busy": "2022-04-08T20:22:29.149607Z",
     "iopub.status.idle": "2022-04-08T20:22:29.166845Z",
     "shell.execute_reply": "2022-04-08T20:22:29.165556Z",
     "shell.execute_reply.started": "2022-04-08T20:22:29.152208Z"
    },
    "id": "k8Db00PTKNvG"
   },
   "outputs": [],
   "source": [
    "def plt_function_op(history):\n",
    "# split the horizontal area to draw the three plots horizontaly\n",
    "  fig, (ax1, ax2) = plt.subplots(1, 2, figsize=(12,4))\n",
    "  fig.suptitle('Model Results')\n",
    "  \n",
    "  # plot the price accuracy through the training and validation\n",
    "  ax1.plot(history.history['auc'])\n",
    "  ax1.plot(history.history['val_auc'])\n",
    "  ax1.set_title('Model AUC')\n",
    "  ax1.set_ylabel('AUC value')\n",
    "  ax1.set_xlabel('Number of epochs')\n",
    "  ax1.legend(['auc_training', 'auc_validation'], loc='lower right')\n",
    "\n",
    "  # plot the loss through the training and validation\n",
    "  ax2.plot(history.history['loss'])\n",
    "  ax2.plot(history.history['val_loss'])\n",
    "  ax2.set_title('Model loss')\n",
    "  ax2.set_ylabel('Loss value')\n",
    "  ax2.set_xlabel('Number of epochs')\n",
    "  ax2.legend(['training', 'validation'], loc='upper right')"
   ]
  },
  {
   "cell_type": "markdown",
   "metadata": {
    "id": "onxYgxVCFP6C"
   },
   "source": [
    "# Build a function to read the sdf files:\n",
    "First it read the file, then create 2 empty arrays to be used in saving the links, and the nodes. Wih create a variable with initialization by 0 to save the labels for each compound I have in the file. \n",
    "\n",
    "Then I create the labels for each line, if the line ends with 1.0 it saves the label = 1, and if the line ends with -1.0 it saves the label = 0. \n",
    "\n",
    "Then in each line, if it starts with tab of spaces, it takes the character after this tab to be the node name, and save it in the array.\n",
    "\n",
    "Then in eah line, if it starts with 2 spaces, it takes the two number from the file that mean the edge from which node to which node, and save them in the array. As python is zero index, so I need to substract 1 from each number in the edges to be refered to the right node in the nodes array.\n",
    " "
   ]
  },
  {
   "cell_type": "code",
   "execution_count": 6,
   "metadata": {
    "execution": {
     "iopub.execute_input": "2022-04-08T20:22:29.173006Z",
     "iopub.status.busy": "2022-04-08T20:22:29.171413Z",
     "iopub.status.idle": "2022-04-08T20:22:29.195380Z",
     "shell.execute_reply": "2022-04-08T20:22:29.193883Z",
     "shell.execute_reply.started": "2022-04-08T20:22:29.172784Z"
    },
    "id": "CN0_1x-agGh0"
   },
   "outputs": [],
   "source": [
    "# read the sdf file by splitting each line after '$$$$', then split the labels as they are the end of each line\n",
    "# then append the nodes names in their array as they splitted after the tab space\n",
    "# then append the links between the nodes in their array as they splitted after double space\n",
    "def read_sdf(file):\n",
    "    with open(file, 'r') as rf:\n",
    "        content = rf.read()\n",
    "        # split by each line\n",
    "    samples = content.split('$$$$')\n",
    "    \n",
    "    def parse_sample(s):\n",
    "        lines = s.splitlines()\n",
    "        links = []\n",
    "        nodes = []\n",
    "        label = 0\n",
    "        for l in lines:\n",
    "            # split and get the labels\n",
    "            if l.strip() == '1.0':\n",
    "                label = 1\n",
    "            if l.strip() == '-1.0':\n",
    "                label = 0\n",
    "            if l.startswith('    '):\n",
    "                # split after the tab space\n",
    "                feature = l.split()\n",
    "                node = feature[3]\n",
    "                nodes.append(node)\n",
    "            elif l.startswith(' '):\n",
    "                # split after the double space\n",
    "                lnk = l.split()\n",
    "                # edge: (from, to,) (1-based index)\n",
    "                if int(lnk[0]) - 1 < len(nodes):\n",
    "                    links.append((\n",
    "                        int(lnk[0])-1, \n",
    "                        int(lnk[1])-1, # zero-based index\n",
    "                    ))\n",
    "        return nodes, np.array(links), label\n",
    "    \n",
    "    return [parse_sample(s) for s in tqdm(samples) if len(s[0]) > 0]\n",
    "                \n",
    "        \n",
    "        "
   ]
  },
  {
   "cell_type": "markdown",
   "metadata": {
    "id": "ZIGoqcB07y2h"
   },
   "source": [
    "# Read the training data\n",
    "Here I will read the sdf file for the training using the above functio. \n",
    "\n",
    "Then split the data that returned from the function into two parts: training part, and validation part."
   ]
  },
  {
   "cell_type": "code",
   "execution_count": 7,
   "metadata": {
    "colab": {
     "base_uri": "https://localhost:8080/",
     "height": 49,
     "referenced_widgets": [
      "1abb53f52ad045d8be305b4a9b5854e5",
      "c2a60be3c9de49a1b9ce941fdf6c5345",
      "b3a345a9853c482880aa26374bfdf090",
      "d26651dbebcb4da6a40c54824436bd99",
      "ceb5abd4fcb3435e8ecd51f0fb73ed46",
      "eb99afa579c2487386f4741d347f7f78",
      "1f98495aecc54f5280f42cc9ec0d6626",
      "e704266fbcb54cbd96e5c8a53b8fd32a",
      "61e04f70708446dd902eab5efd9ec749",
      "def61ad5970c4eb2901bc8ef763b6c8d",
      "958445fcf60642139d315028a04ef4bf"
     ]
    },
    "execution": {
     "iopub.execute_input": "2022-04-08T20:22:29.201429Z",
     "iopub.status.busy": "2022-04-08T20:22:29.200792Z",
     "iopub.status.idle": "2022-04-08T20:22:33.313820Z",
     "shell.execute_reply": "2022-04-08T20:22:33.312605Z",
     "shell.execute_reply.started": "2022-04-08T20:22:29.201385Z"
    },
    "id": "4foLCEGCgGh4",
    "outputId": "38108757-4a9b-4071-cc10-89c3249e3923"
   },
   "outputs": [
    {
     "data": {
      "application/vnd.jupyter.widget-view+json": {
       "model_id": "1abb53f52ad045d8be305b4a9b5854e5",
       "version_major": 2,
       "version_minor": 0
      },
      "text/plain": [
       "  0%|          | 0/25024 [00:00<?, ?it/s]"
      ]
     },
     "metadata": {},
     "output_type": "display_data"
    }
   ],
   "source": [
    "# read the training data sdf file\n",
    "training_set = read_sdf('train.sdf')\n",
    "# split it into training and validation parts\n",
    "training_set_part, validation_set = train_test_split(training_set, test_size=0.15, random_state=42)"
   ]
  },
  {
   "cell_type": "code",
   "execution_count": 8,
   "metadata": {
    "colab": {
     "base_uri": "https://localhost:8080/",
     "height": 49,
     "referenced_widgets": [
      "929bdf2b6f8842de8a3863fae18634a5",
      "7dcd95a46f9540489560e2914758b0c7",
      "279a65568b7546d88d391fc45940c9a5",
      "b2fbdf82cabf4bb583b36ccd1627a040",
      "ced8085d96f94f83bb770fbcca47aa2c",
      "51242cb1d8964c21bf9d2ba2c22cce0c",
      "5ce743dd5de745a391f9a4ef36a87886",
      "0c72ea591507422b98a0a2e063e27e5d",
      "92f483852586479ba79603bd2d3917f3",
      "2051ef52fcd04e16a36e3251a077bd31",
      "b57dd4d36428402bb25337538c944674"
     ]
    },
    "execution": {
     "iopub.execute_input": "2022-04-08T20:22:33.316188Z",
     "iopub.status.busy": "2022-04-08T20:22:33.315715Z",
     "iopub.status.idle": "2022-04-08T20:22:35.230199Z",
     "shell.execute_reply": "2022-04-08T20:22:35.229040Z",
     "shell.execute_reply.started": "2022-04-08T20:22:33.316142Z"
    },
    "id": "iAmocYOzgGh5",
    "outputId": "a232c41b-f6ad-472a-b79e-41e2208b78a9"
   },
   "outputs": [
    {
     "data": {
      "application/vnd.jupyter.widget-view+json": {
       "model_id": "929bdf2b6f8842de8a3863fae18634a5",
       "version_major": 2,
       "version_minor": 0
      },
      "text/plain": [
       "  0%|          | 0/12326 [00:00<?, ?it/s]"
      ]
     },
     "metadata": {},
     "output_type": "display_data"
    }
   ],
   "source": [
    "# read the test data sdf file\n",
    "testing_set  = read_sdf('test_x.sdf')"
   ]
  },
  {
   "cell_type": "code",
   "execution_count": 9,
   "metadata": {
    "colab": {
     "base_uri": "https://localhost:8080/"
    },
    "execution": {
     "iopub.execute_input": "2022-04-08T20:22:35.232775Z",
     "iopub.status.busy": "2022-04-08T20:22:35.231702Z",
     "iopub.status.idle": "2022-04-08T20:22:35.240856Z",
     "shell.execute_reply": "2022-04-08T20:22:35.239486Z",
     "shell.execute_reply.started": "2022-04-08T20:22:35.232704Z"
    },
    "id": "IbnL1WLtgGh6",
    "outputId": "57694f47-af87-4a2a-f70b-d284dc024087"
   },
   "outputs": [
    {
     "name": "stdout",
     "output_type": "stream",
     "text": [
      "(['O', 'O', 'O', 'O', 'O', 'O', 'N', 'N', 'N', 'C', 'C', 'C', 'C', 'C', 'C', 'C', 'C', 'C', 'C', 'C', 'C', 'C', 'C', 'C', 'C', 'C', 'C', 'C', 'C', 'C', 'C'], array([[ 0,  6],\n",
      "       [ 0, 15],\n",
      "       [ 1, 15],\n",
      "       [ 2,  7],\n",
      "       [ 3,  8],\n",
      "       [ 4,  7],\n",
      "       [ 5,  8],\n",
      "       [ 6,  9],\n",
      "       [ 7, 16],\n",
      "       [ 8, 17],\n",
      "       [ 9, 10],\n",
      "       [ 9, 11],\n",
      "       [10, 12],\n",
      "       [10, 22],\n",
      "       [11, 13],\n",
      "       [11, 23],\n",
      "       [12, 21],\n",
      "       [12, 25],\n",
      "       [13, 20],\n",
      "       [13, 26],\n",
      "       [14, 15],\n",
      "       [14, 18],\n",
      "       [14, 19],\n",
      "       [16, 19],\n",
      "       [16, 24],\n",
      "       [17, 18],\n",
      "       [17, 24],\n",
      "       [20, 21],\n",
      "       [22, 27],\n",
      "       [23, 28],\n",
      "       [25, 29],\n",
      "       [26, 30],\n",
      "       [27, 29],\n",
      "       [28, 30]]), 0)\n"
     ]
    }
   ],
   "source": [
    "# check and know more after the samples by viewing one\n",
    "print(training_set[1])"
   ]
  },
  {
   "cell_type": "code",
   "execution_count": 10,
   "metadata": {
    "execution": {
     "iopub.execute_input": "2022-04-08T20:22:35.243507Z",
     "iopub.status.busy": "2022-04-08T20:22:35.243067Z",
     "iopub.status.idle": "2022-04-08T20:22:35.255073Z",
     "shell.execute_reply": "2022-04-08T20:22:35.252675Z",
     "shell.execute_reply.started": "2022-04-08T20:22:35.243378Z"
    },
    "id": "msqcibbPgGh6"
   },
   "outputs": [],
   "source": [
    "# get some different colors to be used in the visualization\n",
    "colors = cm.rainbow(np.linspace(0, 1, 50))"
   ]
  },
  {
   "cell_type": "markdown",
   "metadata": {
    "id": "h7MaseyOGhfQ"
   },
   "source": [
    "Here a function that is used to visualize the compound according to the nodes and edges I saved from the reading the files of the training and test datasets, which were saved in 2 arrays. \n",
    "\n",
    "The visualization is done using changing in the color of the nodes according to the above line where it used the rainbow colors.\n",
    "\n",
    "This function is looping over the sample that is given, then gets the nodes' names from their array, then plot the lines (edges) according to the number that were saved in the links array which refer to where is the link is going from which node to which node."
   ]
  },
  {
   "cell_type": "code",
   "execution_count": 11,
   "metadata": {
    "execution": {
     "iopub.execute_input": "2022-04-08T20:22:35.260873Z",
     "iopub.status.busy": "2022-04-08T20:22:35.260431Z",
     "iopub.status.idle": "2022-04-08T20:22:35.274002Z",
     "shell.execute_reply": "2022-04-08T20:22:35.271715Z",
     "shell.execute_reply.started": "2022-04-08T20:22:35.260828Z"
    },
    "id": "AqaijLScgGh7"
   },
   "outputs": [],
   "source": [
    "# visualize function that is used to visualize any sample is given in its argument\n",
    "# by moving through the sample's arrays of nodes and links and draw the links by the colors that we used from the rainbow colors above\n",
    "def visualize(sample):\n",
    "    G=nx.Graph()\n",
    "    nodes = sample[0]\n",
    "    edges = sample[1]\n",
    "    \n",
    "    labeldict={}\n",
    "    node_color=[]\n",
    "    for i,n in enumerate(nodes):\n",
    "        G.add_node(i)\n",
    "        labeldict[i]=n\n",
    "        node_color.append(colors[hash(n)%len(colors)])\n",
    "\n",
    "    # a list of nodes:\n",
    "    for e in edges:\n",
    "        G.add_edge(e[0], e[1])\n",
    "        \n",
    "    nx.draw(G, labels=labeldict, with_labels = True, node_color = node_color)\n",
    "    plt.show()\n",
    "    \n",
    "    return G"
   ]
  },
  {
   "cell_type": "code",
   "execution_count": 12,
   "metadata": {
    "colab": {
     "base_uri": "https://localhost:8080/",
     "height": 336
    },
    "execution": {
     "iopub.execute_input": "2022-04-08T20:22:35.277082Z",
     "iopub.status.busy": "2022-04-08T20:22:35.275517Z",
     "iopub.status.idle": "2022-04-08T20:22:35.489872Z",
     "shell.execute_reply": "2022-04-08T20:22:35.488998Z",
     "shell.execute_reply.started": "2022-04-08T20:22:35.277033Z"
    },
    "id": "vI56-3pFgGh8",
    "outputId": "cef42e89-c648-4e76-e21e-7c5d5467ed37"
   },
   "outputs": [
    {
     "data": {
      "image/png": "[encoded data removed]",
      "text/plain": [
       "<Figure size 432x288 with 1 Axes>"
      ]
     },
     "metadata": {},
     "output_type": "display_data"
    },
    {
     "data": {
      "text/plain": [
       "<networkx.classes.graph.Graph at 0x7f9bc8c593d0>"
      ]
     },
     "execution_count": 12,
     "metadata": {},
     "output_type": "execute_result"
    }
   ],
   "source": [
    "# View one sample from the training data using the visualize function that we defined before.\n",
    "plt.clf()\n",
    "visualize(training_set[20])"
   ]
  },
  {
   "cell_type": "markdown",
   "metadata": {
    "id": "zT5VyZEjiqzT"
   },
   "source": [
    "# Plan for trial 1 \n",
    "## Preprocessing:\n",
    "My plan is to use max_vocab = 500 so the model works on the most 500 frequent nodes that appear in the dataset. With using max_len = 30, so the model will work on length = 30, so all samples will be with length = 30. So, if the sample contains less than 30, it will padded with adding zeros untill it reaches length = 30 with padding method = 'post', so zeros will be added after the last element in the sample. If the sample contains more than 30, it will be truncated with the default value = 'pre' so it will remove from the beginning of the sample untill the sample reach length = 30.\n",
    "\n",
    "Then, as we are dealing with text, I will make tokenization for the input to split it into characters. So, we can fit the tokenization on the input then apply the rest of the steps that we talked about from padding, and truncating. \n",
    "\n",
    "Then to deal with our data, we can't split it into batches as we did in the previous assignments. But here we need to generate each batch that the model will work on. I will talk about this part again down.\n",
    "\n",
    "## Model:\n",
    "In the model, I will try in this trial the following:\n",
    "\n",
    "One embedded layer with dimensional space of 20 dimensions that will be applied on our data after victorized it, and in the hidden dimentional in the GNN input layer, I will use 128 unit in it.\n"
   ]
  },
  {
   "cell_type": "markdown",
   "metadata": {
    "id": "Z2EvuH1RgGh8"
   },
   "source": [
    "## Preprocessing for trial 1:\n"
   ]
  },
  {
   "cell_type": "code",
   "execution_count": 13,
   "metadata": {
    "execution": {
     "iopub.execute_input": "2022-04-08T20:22:35.492405Z",
     "iopub.status.busy": "2022-04-08T20:22:35.491614Z",
     "iopub.status.idle": "2022-04-08T20:22:35.846484Z",
     "shell.execute_reply": "2022-04-08T20:22:35.845420Z",
     "shell.execute_reply.started": "2022-04-08T20:22:35.492356Z"
    },
    "id": "ueoe03ZDgGh-"
   },
   "outputs": [],
   "source": [
    "# define the max_vocab and max_len parameters\n",
    "max_vocab = 500\n",
    "max_len = 30\n",
    "\n",
    "\n",
    "# build vocabulary from training set and make tokenization on the input\n",
    "all_nodes = [s[0] for s in training_set]\n",
    "tokenizer = Tokenizer(num_words=max_vocab)\n",
    "tokenizer.fit_on_texts(all_nodes)"
   ]
  },
  {
   "cell_type": "code",
   "execution_count": 14,
   "metadata": {
    "execution": {
     "iopub.execute_input": "2022-04-08T20:22:35.848488Z",
     "iopub.status.busy": "2022-04-08T20:22:35.848147Z",
     "iopub.status.idle": "2022-04-08T20:22:35.865537Z",
     "shell.execute_reply": "2022-04-08T20:22:35.864056Z",
     "shell.execute_reply.started": "2022-04-08T20:22:35.848446Z"
    },
    "id": "mJx0QpVhgGh-"
   },
   "outputs": [],
   "source": [
    "# I will use random.seed(0) to generate each time I run this code the same random numbers if needed\n",
    "random.seed(0)\n",
    "\n",
    "# to prepare the samples in each batch \n",
    "def prepare_single_batch(samples):\n",
    "    # get the number of the samples required for each batch\n",
    "    sample_nodes = [s[0] for s in samples]\n",
    "    # make victorization for the samples by by turning each text into either a sequence of integers \n",
    "    #(each integer being the index of a token in a dictionary) \n",
    "    sample_nodes = tokenizer.texts_to_sequences(sample_nodes)\n",
    "    # prepare the victorized array by making padding by post method\n",
    "    sample_nodes = pad_sequences(sample_nodes, padding='post')\n",
    "    # get the number of nodes in each sample\n",
    "    max_nodes_len = np.shape(sample_nodes)[1]\n",
    "    # here we need to organize the edges by making the edges in each sample to start from the end of the previous \n",
    "    # batch not from zero\n",
    "    edges = [s[1]+i*max_nodes_len for i,s in enumerate(samples)]\n",
    "    # check that aall edges not zeros\n",
    "    edges = [e for e in edges if len(e) > 0]\n",
    "    # convert the graphs of each sample from the sample's nodes by making the graphs in each sample to start from the \n",
    "    # end of the previous batch not from zero\n",
    "    node_to_graph = [[i]*max_nodes_len for i in range(len(samples))]\n",
    "    # convert the shape of the sample nodes into array by making each sample's sample_nodes into columns in one row, \n",
    "    # and the rows refer to the samples\n",
    "    all_nodes = np.reshape(sample_nodes, -1)\n",
    "    # make concatenation for the arrays of edgesin all samples in the batch\n",
    "    all_edges = np.concatenate(edges)\n",
    "    \n",
    "    # reshape the node_to_graph to array by making each sample's node_to_graph into columns in one row, and the rows refer to \n",
    "    # the samples\n",
    "    node_to_graph = np.reshape(node_to_graph, -1)\n",
    "    return {\n",
    "        'data': all_nodes,\n",
    "        'edges': all_edges,\n",
    "        'node2grah': node_to_graph,\n",
    "    }, np.array([s[2] for s in samples])\n",
    "\n",
    "\n",
    "\n",
    "# function to geerate the batches required by splitting the given data into batches and each batch is prepared by the \n",
    "# prepare_single_batch function\n",
    "def gen_batch(dataset, batch_size=16, repeat=False, shuffle=True):\n",
    "    while True:\n",
    "        dataset = list(dataset)\n",
    "        if shuffle:\n",
    "            random.shuffle(dataset)\n",
    "        l = len(dataset)\n",
    "        for ndx in range(0, l, batch_size):\n",
    "            batch_samples = dataset[ndx:min(ndx + batch_size, l)]\n",
    "            yield prepare_single_batch(batch_samples)\n",
    "        if not repeat:\n",
    "            break\n"
   ]
  },
  {
   "cell_type": "code",
   "execution_count": 15,
   "metadata": {
    "colab": {
     "base_uri": "https://localhost:8080/"
    },
    "execution": {
     "iopub.execute_input": "2022-04-08T20:22:35.868157Z",
     "iopub.status.busy": "2022-04-08T20:22:35.867095Z",
     "iopub.status.idle": "2022-04-08T20:22:35.913190Z",
     "shell.execute_reply": "2022-04-08T20:22:35.912077Z",
     "shell.execute_reply.started": "2022-04-08T20:22:35.868110Z"
    },
    "id": "AaOW4khGgGh_",
    "outputId": "de7baf11-62c4-453a-a0fb-30418aece1f8"
   },
   "outputs": [
    {
     "name": "stdout",
     "output_type": "stream",
     "text": [
      "data\n",
      "[2 2 2 2 3 3 1 1 1 1 1 1 1 1 1 1 1 1 1 1 1 1 1 1 1 1 1 0 0 0 0 0 0 0 2 2 2\n",
      " 2 2 3 3 3 1 1 1 1 1 1 1 1 1 1 1 1 1 1 1 1 1 1 1 1 1 1 1 1 1 1 5 4 2 2 3 3\n",
      " 3 3 3 3 3 3 1 1 1 1 1 1 1 1 1 1 1 1 1 1 1 1 1 1 1 0 0 0 6 6 2 2 3 1 1 1 1\n",
      " 1 1 1 1 1 1 1 1 1 1 1 1 1 1 1 1 1 0 0 0 0 0 0 0 0]\n",
      "edges\n",
      "[[  0   9]\n",
      " [  0  20]\n",
      " [  1  19]\n",
      " [  1  25]\n",
      " [  2  19]\n",
      " [  3  20]\n",
      " [  4   6]\n",
      " [  4   9]\n",
      " [  5   8]\n",
      " [  5  10]\n",
      " [  6   7]\n",
      " [  6  11]\n",
      " [  7   8]\n",
      " [  7  12]\n",
      " [  8  13]\n",
      " [  9  10]\n",
      " [ 10  14]\n",
      " [ 11  15]\n",
      " [ 11  16]\n",
      " [ 12  17]\n",
      " [ 13  18]\n",
      " [ 14  19]\n",
      " [ 15  21]\n",
      " [ 16  22]\n",
      " [ 17  18]\n",
      " [ 20  24]\n",
      " [ 21  23]\n",
      " [ 22  23]\n",
      " [ 25  26]\n",
      " [ 34  43]\n",
      " [ 34  45]\n",
      " [ 35  39]\n",
      " [ 36  39]\n",
      " [ 37  56]\n",
      " [ 38  57]\n",
      " [ 39  44]\n",
      " [ 40  57]\n",
      " [ 40  62]\n",
      " [ 41  56]\n",
      " [ 41  63]\n",
      " [ 42  43]\n",
      " [ 42  44]\n",
      " [ 42  47]\n",
      " [ 43  46]\n",
      " [ 44  49]\n",
      " [ 45  48]\n",
      " [ 45  51]\n",
      " [ 46  48]\n",
      " [ 47  50]\n",
      " [ 49  52]\n",
      " [ 50  52]\n",
      " [ 51  55]\n",
      " [ 53  56]\n",
      " [ 53  58]\n",
      " [ 53  59]\n",
      " [ 54  60]\n",
      " [ 54  61]\n",
      " [ 54  62]\n",
      " [ 55  57]\n",
      " [ 58  60]\n",
      " [ 59  61]\n",
      " [ 63  64]\n",
      " [ 64  65]\n",
      " [ 65  66]\n",
      " [ 65  67]\n",
      " [ 68  95]\n",
      " [ 69  70]\n",
      " [ 69  71]\n",
      " [ 69  75]\n",
      " [ 69  83]\n",
      " [ 72  80]\n",
      " [ 72  81]\n",
      " [ 72  82]\n",
      " [ 73  80]\n",
      " [ 73  87]\n",
      " [ 74  82]\n",
      " [ 74  87]\n",
      " [ 75  92]\n",
      " [ 76  82]\n",
      " [ 77  87]\n",
      " [ 78  92]\n",
      " [ 78  96]\n",
      " [ 79  92]\n",
      " [ 79  97]\n",
      " [ 80  84]\n",
      " [ 81  85]\n",
      " [ 81  86]\n",
      " [ 83  88]\n",
      " [ 83  89]\n",
      " [ 84  90]\n",
      " [ 84  91]\n",
      " [ 85  88]\n",
      " [ 86  89]\n",
      " [ 90  93]\n",
      " [ 91  94]\n",
      " [ 93  95]\n",
      " [ 94  95]\n",
      " [ 96  98]\n",
      " [ 97  98]\n",
      " [102 107]\n",
      " [103 107]\n",
      " [104 108]\n",
      " [104 110]\n",
      " [105 109]\n",
      " [106 108]\n",
      " [106 111]\n",
      " [107 108]\n",
      " [107 109]\n",
      " [109 112]\n",
      " [110 111]\n",
      " [110 113]\n",
      " [111 114]\n",
      " [112 115]\n",
      " [112 116]\n",
      " [113 120]\n",
      " [114 121]\n",
      " [115 118]\n",
      " [116 119]\n",
      " [117 118]\n",
      " [117 119]\n",
      " [117 122]\n",
      " [120 121]\n",
      " [122 123]\n",
      " [122 124]\n",
      " [123 125]\n",
      " [124 126]\n",
      " [125 127]\n",
      " [126 127]]\n",
      "node2grah\n",
      "[0 0 0 0 0 0 0 0 0 0 0 0 0 0 0 0 0 0 0 0 0 0 0 0 0 0 0 0 0 0 0 0 0 0 1 1 1\n",
      " 1 1 1 1 1 1 1 1 1 1 1 1 1 1 1 1 1 1 1 1 1 1 1 1 1 1 1 1 1 1 1 2 2 2 2 2 2\n",
      " 2 2 2 2 2 2 2 2 2 2 2 2 2 2 2 2 2 2 2 2 2 2 2 2 2 2 2 2 3 3 3 3 3 3 3 3 3\n",
      " 3 3 3 3 3 3 3 3 3 3 3 3 3 3 3 3 3 3 3 3 3 3 3 3 3]\n",
      "label [0 0 0 0]\n"
     ]
    }
   ],
   "source": [
    "# showing one batch after finishing the preprocessing to see the difference\n",
    "for train_batch in gen_batch(training_set, batch_size=4):\n",
    "    for k,v in train_batch[0].items():\n",
    "        print(k)\n",
    "        print(v)\n",
    "        pass\n",
    "    print('label', train_batch[1])\n",
    "    break"
   ]
  },
  {
   "cell_type": "markdown",
   "metadata": {
    "id": "I2hyJf7VKNvM"
   },
   "source": [
    "## Model for trial 1"
   ]
  },
  {
   "cell_type": "code",
   "execution_count": 16,
   "metadata": {
    "colab": {
     "base_uri": "https://localhost:8080/"
    },
    "execution": {
     "iopub.execute_input": "2022-04-08T20:22:35.916260Z",
     "iopub.status.busy": "2022-04-08T20:22:35.915272Z",
     "iopub.status.idle": "2022-04-08T20:22:41.834956Z",
     "shell.execute_reply": "2022-04-08T20:22:41.833943Z",
     "shell.execute_reply.started": "2022-04-08T20:22:35.916154Z"
    },
    "id": "_-VDAQ3ZgGiA",
    "outputId": "b0e9fccc-448f-4bbe-9692-25f7932b70f7"
   },
   "outputs": [
    {
     "name": "stdout",
     "output_type": "stream",
     "text": [
      "gnn_out KerasTensor(type_spec=TensorSpec(shape=(None, 128), dtype=tf.float32, name=None), name='gnn/StatefulPartitionedCall:0', description=\"created by layer 'gnn'\")\n",
      "mean: KerasTensor(type_spec=TensorSpec(shape=(None, 128), dtype=tf.float32, name=None), name='tf.math.segment_mean/SegmentMean:0', description=\"created by layer 'tf.math.segment_mean'\")\n",
      "pred: KerasTensor(type_spec=TensorSpec(shape=(None, 1), dtype=tf.float32, name=None), name='dense/Sigmoid:0', description=\"created by layer 'dense'\")\n",
      "Model: \"model\"\n",
      "__________________________________________________________________________________________________\n",
      " Layer (type)                   Output Shape         Param #     Connected to                     \n",
      "==================================================================================================\n",
      " input_3 (InputLayer)           [(None,)]            0           []                               \n",
      "                                                                                                  \n",
      " input_1 (InputLayer)           [(None,)]            0           []                               \n",
      "                                                                                                  \n",
      " tf.math.reduce_max (TFOpLambda  ()                  0           ['input_3[0][0]']                \n",
      " )                                                                                                \n",
      "                                                                                                  \n",
      " embedding (Embedding)          (None, 20)           10000       ['input_1[0][0]']                \n",
      "                                                                                                  \n",
      " input_2 (InputLayer)           [(None, 2)]          0           []                               \n",
      "                                                                                                  \n",
      " tf.__operators__.add (TFOpLamb  ()                  0           ['tf.math.reduce_max[0][0]']     \n",
      " da)                                                                                              \n",
      "                                                                                                  \n",
      " gnn (GNN)                      (None, 128)          249600      ['embedding[0][0]',              \n",
      "                                                                  'input_2[0][0]',                \n",
      "                                                                  'input_3[0][0]',                \n",
      "                                                                  'tf.__operators__.add[0][0]']   \n",
      "                                                                                                  \n",
      " tf.math.segment_mean (TFOpLamb  (None, 128)         0           ['gnn[0][0]',                    \n",
      " da)                                                              'input_3[0][0]']                \n",
      "                                                                                                  \n",
      " dense (Dense)                  (None, 1)            129         ['tf.math.segment_mean[0][0]']   \n",
      "                                                                                                  \n",
      "==================================================================================================\n",
      "Total params: 259,729\n",
      "Trainable params: 259,729\n",
      "Non-trainable params: 0\n",
      "__________________________________________________________________________________________________\n"
     ]
    }
   ],
   "source": [
    "# prepare input units for each input we have for the neural network\n",
    "data = keras.Input(batch_shape=(None,))\n",
    "# the first dim is different to the previous one, it is the total number of edges in this batch\n",
    "edge = keras.Input(batch_shape=(None, 2), dtype=tf.int32)\n",
    "node2graph = keras.Input(batch_shape=(None,), dtype=tf.int32)\n",
    "# insert the embedding layer with embedding space of 20 dimensions that will be applied on our data after victorized it\n",
    "embeded = Embedding(tokenizer.num_words, 20)(data)\n",
    "\n",
    "# number of graphs (number of samples), and add 1 as python is zero based \n",
    "num_graph = tf.reduce_max(node2graph)+1\n",
    "\n",
    "# prepare the Graph Neural Network input layer by give it its inputs\n",
    "gnn_input = GNNInput(\n",
    "    node_features=embeded,\n",
    "    adjacency_lists=(edge,),\n",
    "    node_to_graph_map=node2graph, \n",
    "    num_graphs=num_graph,\n",
    ")\n",
    "\n",
    "# get the parameters that are required to be used with the Graph Neural Network input layer so we can get the output\n",
    "# https://github.com/microsoft/tf2-gnn/blob/master/tf2_gnn/layers/gnn.py\n",
    "params = GNN.get_default_hyperparameters()\n",
    "# change the number of the size of the output of all message passing layers to 128 layer\n",
    "params[\"hidden_dim\"] = 128\n",
    "gnn_layer = GNN(params)\n",
    "gnn_out = gnn_layer(gnn_input)\n",
    "\n",
    "print('gnn_out', gnn_out)\n",
    "\n",
    "# get the mean of each sample in each batch by using the segment_mean as each sample is a segment in the array\n",
    "# https://www.tensorflow.org/api_docs/python/tf/math/segment_mean\n",
    "avg = segment_mean(\n",
    "    data=gnn_out,\n",
    "    segment_ids=node2graph\n",
    ")\n",
    "print('mean:', avg)\n",
    "\n",
    "# prepare the output node for our problem with 1 unit which gives 0 or 1 as we are making binary classification\n",
    "pred = Dense(1, activation='sigmoid')(avg)\n",
    "print('pred:', pred)\n",
    "\n",
    "# define our model and give it the inputs layers and the outputs layers\n",
    "model = Model(\n",
    "    inputs={\n",
    "        'data': data,\n",
    "        'edges': edge,\n",
    "        'node2grah': node2graph,\n",
    "    },\n",
    "    outputs=pred\n",
    ")\n",
    "# view the model with its parameters and shapes of the layers\n",
    "model.summary()"
   ]
  },
  {
   "cell_type": "code",
   "execution_count": 17,
   "metadata": {
    "execution": {
     "iopub.execute_input": "2022-04-08T20:22:41.837882Z",
     "iopub.status.busy": "2022-04-08T20:22:41.837288Z",
     "iopub.status.idle": "2022-04-08T20:22:41.856146Z",
     "shell.execute_reply": "2022-04-08T20:22:41.854965Z",
     "shell.execute_reply.started": "2022-04-08T20:22:41.837834Z"
    },
    "id": "tBFEgZLWgGiB"
   },
   "outputs": [],
   "source": [
    "# compile the model with BinaryCrossentropy loss as we are making binary classification, and AUC metric\n",
    "model.compile(\n",
    "    loss='BinaryCrossentropy',\n",
    "    metrics=['AUC']\n",
    ")"
   ]
  },
  {
   "cell_type": "code",
   "execution_count": 18,
   "metadata": {
    "colab": {
     "base_uri": "https://localhost:8080/"
    },
    "execution": {
     "iopub.execute_input": "2022-04-08T20:22:41.858844Z",
     "iopub.status.busy": "2022-04-08T20:22:41.858259Z",
     "iopub.status.idle": "2022-04-08T20:26:06.625327Z",
     "shell.execute_reply": "2022-04-08T20:26:06.624160Z",
     "shell.execute_reply.started": "2022-04-08T20:22:41.858798Z"
    },
    "id": "3EnOuvIMgGiB",
    "outputId": "38d16b51-c9dc-477d-f1cc-b8cd94648781"
   },
   "outputs": [
    {
     "name": "stdout",
     "output_type": "stream",
     "text": [
      "Epoch 1/40\n",
      "167/167 [==============================] - 18s 46ms/step - loss: 0.2618 - auc: 0.4477 - val_loss: 0.2341 - val_auc: 0.5379\n",
      "Epoch 2/40\n",
      "167/167 [==============================] - 7s 43ms/step - loss: 0.1998 - auc: 0.5847 - val_loss: 0.1978 - val_auc: 0.6724\n",
      "Epoch 3/40\n",
      "167/167 [==============================] - 7s 43ms/step - loss: 0.1914 - auc: 0.6300 - val_loss: 0.2325 - val_auc: 0.6554\n",
      "Epoch 4/40\n",
      "167/167 [==============================] - 7s 44ms/step - loss: 0.1888 - auc: 0.6391 - val_loss: 0.1780 - val_auc: 0.7161\n",
      "Epoch 5/40\n",
      "167/167 [==============================] - 7s 43ms/step - loss: 0.1861 - auc: 0.6537 - val_loss: 0.2290 - val_auc: 0.5964\n",
      "Epoch 6/40\n",
      "167/167 [==============================] - 7s 44ms/step - loss: 0.1857 - auc: 0.6659 - val_loss: 0.1819 - val_auc: 0.7159\n",
      "Epoch 7/40\n",
      "167/167 [==============================] - 7s 43ms/step - loss: 0.1840 - auc: 0.6742 - val_loss: 0.2172 - val_auc: 0.7116\n",
      "Epoch 8/40\n",
      "167/167 [==============================] - 7s 43ms/step - loss: 0.1826 - auc: 0.6833 - val_loss: 0.1889 - val_auc: 0.7028\n",
      "Epoch 9/40\n",
      "167/167 [==============================] - 7s 43ms/step - loss: 0.1813 - auc: 0.6886 - val_loss: 0.1802 - val_auc: 0.7360\n",
      "Epoch 10/40\n",
      "167/167 [==============================] - 7s 44ms/step - loss: 0.1812 - auc: 0.6859 - val_loss: 0.2147 - val_auc: 0.7070\n",
      "Epoch 11/40\n",
      "167/167 [==============================] - 7s 44ms/step - loss: 0.1796 - auc: 0.6976 - val_loss: 0.2012 - val_auc: 0.7219\n",
      "Epoch 12/40\n",
      "167/167 [==============================] - 7s 44ms/step - loss: 0.1809 - auc: 0.6893 - val_loss: 0.1900 - val_auc: 0.7192\n",
      "Epoch 13/40\n",
      "167/167 [==============================] - 7s 44ms/step - loss: 0.1795 - auc: 0.7037 - val_loss: 0.1918 - val_auc: 0.6373\n",
      "Epoch 14/40\n",
      "167/167 [==============================] - 7s 45ms/step - loss: 0.1787 - auc: 0.7047 - val_loss: 0.1795 - val_auc: 0.7535\n",
      "Epoch 15/40\n",
      "167/167 [==============================] - 7s 44ms/step - loss: 0.1779 - auc: 0.7155 - val_loss: 0.1903 - val_auc: 0.7371\n",
      "Epoch 16/40\n",
      "167/167 [==============================] - 7s 44ms/step - loss: 0.1784 - auc: 0.7082 - val_loss: 0.1754 - val_auc: 0.7606\n",
      "Epoch 17/40\n",
      "167/167 [==============================] - 7s 44ms/step - loss: 0.1778 - auc: 0.7126 - val_loss: 0.1917 - val_auc: 0.7241\n",
      "Epoch 18/40\n",
      "167/167 [==============================] - 7s 44ms/step - loss: 0.1768 - auc: 0.7178 - val_loss: 0.1951 - val_auc: 0.7131\n",
      "Epoch 19/40\n",
      "167/167 [==============================] - 7s 44ms/step - loss: 0.1773 - auc: 0.7174 - val_loss: 0.1886 - val_auc: 0.7132\n",
      "Epoch 20/40\n",
      "167/167 [==============================] - 7s 44ms/step - loss: 0.1761 - auc: 0.7197 - val_loss: 0.1716 - val_auc: 0.7608\n",
      "Epoch 21/40\n",
      "167/167 [==============================] - 7s 43ms/step - loss: 0.1757 - auc: 0.7279 - val_loss: 0.1803 - val_auc: 0.7371\n",
      "Epoch 22/40\n",
      "167/167 [==============================] - 7s 43ms/step - loss: 0.1763 - auc: 0.7201 - val_loss: 0.1691 - val_auc: 0.7629\n",
      "Epoch 23/40\n",
      "167/167 [==============================] - 7s 43ms/step - loss: 0.1759 - auc: 0.7230 - val_loss: 0.1943 - val_auc: 0.7655\n",
      "Epoch 24/40\n",
      "167/167 [==============================] - 7s 43ms/step - loss: 0.1757 - auc: 0.7289 - val_loss: 0.1966 - val_auc: 0.7696\n",
      "Epoch 25/40\n",
      "167/167 [==============================] - 7s 44ms/step - loss: 0.1726 - auc: 0.7449 - val_loss: 0.1803 - val_auc: 0.7496\n",
      "Epoch 26/40\n",
      "167/167 [==============================] - 7s 44ms/step - loss: 0.1700 - auc: 0.7601 - val_loss: 0.2096 - val_auc: 0.7492\n",
      "Epoch 27/40\n",
      "167/167 [==============================] - 7s 43ms/step - loss: 0.1729 - auc: 0.7501 - val_loss: 0.2368 - val_auc: 0.6923\n",
      "Epoch 28/40\n",
      "167/167 [==============================] - 8s 45ms/step - loss: 0.1716 - auc: 0.7504 - val_loss: 0.1800 - val_auc: 0.7284\n",
      "Epoch 29/40\n",
      "167/167 [==============================] - 7s 43ms/step - loss: 0.1684 - auc: 0.7624 - val_loss: 0.2041 - val_auc: 0.7475\n",
      "Epoch 30/40\n",
      "167/167 [==============================] - 7s 44ms/step - loss: 0.1695 - auc: 0.7673 - val_loss: 0.1773 - val_auc: 0.7426\n",
      "Epoch 31/40\n",
      "167/167 [==============================] - 7s 43ms/step - loss: 0.1690 - auc: 0.7673 - val_loss: 0.1895 - val_auc: 0.7604\n",
      "Epoch 32/40\n",
      "167/167 [==============================] - 7s 44ms/step - loss: 0.1669 - auc: 0.7727 - val_loss: 0.1864 - val_auc: 0.7596\n",
      "Epoch 33/40\n",
      "167/167 [==============================] - 7s 43ms/step - loss: 0.1685 - auc: 0.7644 - val_loss: 0.1712 - val_auc: 0.7729\n",
      "Epoch 34/40\n",
      "167/167 [==============================] - 7s 43ms/step - loss: 0.1654 - auc: 0.7755 - val_loss: 0.1975 - val_auc: 0.7460\n",
      "Epoch 35/40\n",
      "167/167 [==============================] - 7s 44ms/step - loss: 0.1673 - auc: 0.7714 - val_loss: 0.1847 - val_auc: 0.7702\n",
      "Epoch 36/40\n",
      "167/167 [==============================] - 7s 44ms/step - loss: 0.1666 - auc: 0.7773 - val_loss: 0.1644 - val_auc: 0.7847\n",
      "Epoch 37/40\n",
      "167/167 [==============================] - 7s 43ms/step - loss: 0.1657 - auc: 0.7755 - val_loss: 0.1741 - val_auc: 0.7632\n",
      "Epoch 38/40\n",
      "167/167 [==============================] - 7s 44ms/step - loss: 0.1646 - auc: 0.7864 - val_loss: 0.1868 - val_auc: 0.7638\n",
      "Epoch 39/40\n",
      "167/167 [==============================] - 7s 45ms/step - loss: 0.1652 - auc: 0.7800 - val_loss: 0.1793 - val_auc: 0.7624\n",
      "Epoch 40/40\n",
      "167/167 [==============================] - 7s 44ms/step - loss: 0.1644 - auc: 0.7884 - val_loss: 0.1886 - val_auc: 0.7812\n"
     ]
    }
   ],
   "source": [
    "# define the size of the batch\n",
    "batch_size = 128\n",
    "# get the number of the batches in the training and validation by splitting the size of the training data or validation data\n",
    "# by the size required for the batch\n",
    "num_batchs = math.ceil(len(training_set_part) / batch_size)\n",
    "num_batchs_validation = math.ceil(len(validation_set) / batch_size)\n",
    "\n",
    "# fit the model on the training data and validation data by generating the bathes for the training and validation\n",
    "history = model.fit(\n",
    "    gen_batch(\n",
    "        training_set_part, batch_size=batch_size, repeat=True\n",
    "    ),\n",
    "    steps_per_epoch=num_batchs,\n",
    "    epochs=40,\n",
    "    validation_data=gen_batch(\n",
    "        validation_set, batch_size=128, repeat=True\n",
    "    ),\n",
    "    validation_steps=num_batchs_validation,\n",
    ")"
   ]
  },
  {
   "cell_type": "code",
   "execution_count": 19,
   "metadata": {
    "execution": {
     "iopub.execute_input": "2022-04-08T20:26:06.628020Z",
     "iopub.status.busy": "2022-04-08T20:26:06.627667Z",
     "iopub.status.idle": "2022-04-08T20:26:07.888365Z",
     "shell.execute_reply": "2022-04-08T20:26:07.887303Z",
     "shell.execute_reply.started": "2022-04-08T20:26:06.627955Z"
    },
    "id": "BTjYbBbvgGiB"
   },
   "outputs": [],
   "source": [
    "# predict the outputs also by generating the batch by the given size\n",
    "y_pred = model.predict(\n",
    "    gen_batch(testing_set, batch_size=128, shuffle=False)\n",
    ")\n",
    "y_pred = np.reshape(y_pred, -1)"
   ]
  },
  {
   "cell_type": "code",
   "execution_count": 20,
   "metadata": {
    "execution": {
     "iopub.execute_input": "2022-04-08T20:26:07.890244Z",
     "iopub.status.busy": "2022-04-08T20:26:07.889913Z",
     "iopub.status.idle": "2022-04-08T20:26:07.941269Z",
     "shell.execute_reply": "2022-04-08T20:26:07.940268Z",
     "shell.execute_reply.started": "2022-04-08T20:26:07.890192Z"
    },
    "id": "oK1WcDLzgGiC"
   },
   "outputs": [],
   "source": [
    "# save the predictions in a csv file to submit it on Kaggle\n",
    "submission = pd.DataFrame({'label':y_pred})\n",
    "submission.index.name = 'id'\n",
    "submission.to_csv('try 1.csv')"
   ]
  },
  {
   "cell_type": "code",
   "execution_count": 21,
   "metadata": {
    "colab": {
     "base_uri": "https://localhost:8080/",
     "height": 308
    },
    "execution": {
     "iopub.execute_input": "2022-04-08T20:26:07.943385Z",
     "iopub.status.busy": "2022-04-08T20:26:07.942997Z",
     "iopub.status.idle": "2022-04-08T20:26:08.519524Z",
     "shell.execute_reply": "2022-04-08T20:26:08.516107Z",
     "shell.execute_reply.started": "2022-04-08T20:26:07.943338Z"
    },
    "id": "wd2DEIVEKNvO",
    "outputId": "9539fa37-b9b6-4306-d4d6-6ec02c89a7cb"
   },
   "outputs": [
    {
     "data": {
      "image/png": "[encoded data removed]",
      "text/plain": [
       "<Figure size 864x288 with 2 Axes>"
      ]
     },
     "metadata": {
      "needs_background": "light"
     },
     "output_type": "display_data"
    }
   ],
   "source": [
    "plt_function_op(history)"
   ]
  },
  {
   "cell_type": "markdown",
   "metadata": {
    "id": "1WoFTYiGKNvO"
   },
   "source": [
    "## Thoughts and observation for trial 1:\n",
    "This gave a score on Kaggle = 0.79675.\n",
    "\n",
    "I didn't think that this model will be suitable, and give a good results, and that what happened. As I didn't tune the hyper-parameters, Besides, the number of the units in the embedding layer were small. I tried to control the overfitting on the training data by validate the model. I used a batch size not small and this helps also in preventing the overfitting.\n",
    "So, by training the model I reached auc on the validation set = 0.7812, and the resultant auc on Kaggel is 0.79675. So, this means they are close to each other, and there is small overfitting. Besides, from the above graphs we can see that there is small overfitting but the results are not good enough as the loss in the validation increased but in the training decreased. And from the graphs we can see that there are many big oscillations which means the model is not good on the unseen datasets.\n",
    "\n",
    "\n",
    "## Plan for the trial 2:\n",
    "I will continue with the same preprocessing way. But I will make some changes in the model. By applying an aggregation method = 'RGCN' in the parameters of the GNN input layer. \n",
    "\n",
    "Which helps in solving those two fundamental tasks: Entity classification - Where you assign types and categorical properties to entities, and Link prediction - Where you recover missing triples.\n",
    "AS it is using a common graph convolutional network. It’s extended with multi-edge encoding to compute embedding of the entities, but with different downstream processing. So, Entity classification is done by attaching a softmax classifier at the final embedding of an entity (node). Training is through loss of standard cross-entropy, and Link prediction is done by reconstructing an edge with an autoencoder architecture, using a parameterized score function. Training uses negative sampling."
   ]
  },
  {
   "cell_type": "markdown",
   "metadata": {
    "id": "RvUPL8nRi_es"
   },
   "source": [
    "# Trial 2 \n",
    "With aggregation method:\n",
    "\n",
    "RGCN : Relational Graph Convolutional Networks"
   ]
  },
  {
   "cell_type": "markdown",
   "metadata": {
    "id": "auMGJVC3KNvO"
   },
   "source": [
    "## Model for trial2:"
   ]
  },
  {
   "cell_type": "code",
   "execution_count": 22,
   "metadata": {
    "colab": {
     "base_uri": "https://localhost:8080/"
    },
    "execution": {
     "iopub.execute_input": "2022-04-08T20:26:08.526362Z",
     "iopub.status.busy": "2022-04-08T20:26:08.525367Z",
     "iopub.status.idle": "2022-04-08T20:26:09.746128Z",
     "shell.execute_reply": "2022-04-08T20:26:09.745156Z",
     "shell.execute_reply.started": "2022-04-08T20:26:08.526312Z"
    },
    "id": "benQsT2igGiC",
    "outputId": "61b06a4b-3138-4665-ef71-f72f725b0cff"
   },
   "outputs": [
    {
     "name": "stdout",
     "output_type": "stream",
     "text": [
      "gnn_out KerasTensor(type_spec=TensorSpec(shape=(None, 128), dtype=tf.float32, name=None), name='gnn_1/StatefulPartitionedCall:0', description=\"created by layer 'gnn_1'\")\n",
      "mean: KerasTensor(type_spec=TensorSpec(shape=(None, 128), dtype=tf.float32, name=None), name='tf.math.segment_mean_1/SegmentMean:0', description=\"created by layer 'tf.math.segment_mean_1'\")\n",
      "pred: KerasTensor(type_spec=TensorSpec(shape=(None, 1), dtype=tf.float32, name=None), name='dense_1/Sigmoid:0', description=\"created by layer 'dense_1'\")\n",
      "Model: \"model_1\"\n",
      "__________________________________________________________________________________________________\n",
      " Layer (type)                   Output Shape         Param #     Connected to                     \n",
      "==================================================================================================\n",
      " input_6 (InputLayer)           [(None,)]            0           []                               \n",
      "                                                                                                  \n",
      " input_4 (InputLayer)           [(None,)]            0           []                               \n",
      "                                                                                                  \n",
      " tf.math.reduce_max_1 (TFOpLamb  ()                  0           ['input_6[0][0]']                \n",
      " da)                                                                                              \n",
      "                                                                                                  \n",
      " embedding_1 (Embedding)        (None, 20)           10000       ['input_4[0][0]']                \n",
      "                                                                                                  \n",
      " input_5 (InputLayer)           [(None, 2)]          0           []                               \n",
      "                                                                                                  \n",
      " tf.__operators__.add_1 (TFOpLa  ()                  0           ['tf.math.reduce_max_1[0][0]']   \n",
      " mbda)                                                                                            \n",
      "                                                                                                  \n",
      " gnn_1 (GNN)                    (None, 128)          249600      ['embedding_1[0][0]',            \n",
      "                                                                  'input_5[0][0]',                \n",
      "                                                                  'input_6[0][0]',                \n",
      "                                                                  'tf.__operators__.add_1[0][0]'] \n",
      "                                                                                                  \n",
      " tf.math.segment_mean_1 (TFOpLa  (None, 128)         0           ['gnn_1[0][0]',                  \n",
      " mbda)                                                            'input_6[0][0]']                \n",
      "                                                                                                  \n",
      " dense_1 (Dense)                (None, 1)            129         ['tf.math.segment_mean_1[0][0]'] \n",
      "                                                                                                  \n",
      "==================================================================================================\n",
      "Total params: 259,729\n",
      "Trainable params: 259,729\n",
      "Non-trainable params: 0\n",
      "__________________________________________________________________________________________________\n"
     ]
    }
   ],
   "source": [
    "# prepare input units for each input we have for the neural network\n",
    "data = keras.Input(batch_shape=(None,))\n",
    "# the first dim is different to the previous one, it is the total number of edges in this batch\n",
    "edge = keras.Input(batch_shape=(None, 2), dtype=tf.int32)\n",
    "node2graph = keras.Input(batch_shape=(None,), dtype=tf.int32)\n",
    "# insert the embedding layer with embedding space of 20 dimensions that will be applied on our data after victorized it\n",
    "embeded = Embedding(tokenizer.num_words, 20)(data)\n",
    "\n",
    "# number of graphs (number of samples), and add 1 as python is zero based \n",
    "num_graph = tf.reduce_max(node2graph)+1\n",
    "\n",
    "# prepare the Graph Neural Network input layer by give it its inputs\n",
    "gnn_input = GNNInput(\n",
    "    node_features=embeded,\n",
    "    adjacency_lists=(edge,),\n",
    "    node_to_graph_map=node2graph, \n",
    "    num_graphs=num_graph,\n",
    ")\n",
    "\n",
    "# get the parameters that are required to be used with the Graph Neural Network input layer so we can get the output\n",
    "# https://github.com/microsoft/tf2-gnn/blob/master/tf2_gnn/layers/gnn.py\n",
    "params = GNN.get_default_hyperparameters()\n",
    "# change the number of the size of the output of all message passing layers to 128 layer\n",
    "params[\"hidden_dim\"] = 128\n",
    "# add the parameter of the aggregation method\n",
    "params[\"message_calculation_class\"] = \"RGCN\"\n",
    "gnn_layer = GNN(params)\n",
    "gnn_out = gnn_layer(gnn_input)\n",
    "\n",
    "print('gnn_out', gnn_out)\n",
    "\n",
    "# get the mean of each sample in each batch by using the segment_mean as each sample is a segment in the array\n",
    "# https://www.tensorflow.org/api_docs/python/tf/math/segment_mean\n",
    "avg = segment_mean(\n",
    "    data=gnn_out,\n",
    "    segment_ids=node2graph\n",
    ")\n",
    "print('mean:', avg)\n",
    "\n",
    "# prepare the output node for our problem with 1 unit which gives 0 or 1 as we are making binary classification\n",
    "pred = Dense(1, activation='sigmoid')(avg)\n",
    "print('pred:', pred)\n",
    "\n",
    "# define our model and give it the inputs layers and the outputs layers\n",
    "model = Model(\n",
    "    inputs={\n",
    "        'data': data,\n",
    "        'edges': edge,\n",
    "        'node2grah': node2graph,\n",
    "    },\n",
    "    outputs=pred\n",
    ")\n",
    "# view the model with its parameters and shapes of the layers\n",
    "model.summary()"
   ]
  },
  {
   "cell_type": "code",
   "execution_count": 23,
   "metadata": {
    "execution": {
     "iopub.execute_input": "2022-04-08T20:26:09.753491Z",
     "iopub.status.busy": "2022-04-08T20:26:09.750839Z",
     "iopub.status.idle": "2022-04-08T20:26:09.784041Z",
     "shell.execute_reply": "2022-04-08T20:26:09.782849Z",
     "shell.execute_reply.started": "2022-04-08T20:26:09.753447Z"
    },
    "id": "gmxycuUijfXo"
   },
   "outputs": [],
   "source": [
    "# compile the model with BinaryCrossentropy loss as we are making binary classification, and AUC metric\n",
    "model.compile(\n",
    "    loss='BinaryCrossentropy',\n",
    "    metrics=['AUC']\n",
    ")"
   ]
  },
  {
   "cell_type": "code",
   "execution_count": 24,
   "metadata": {
    "colab": {
     "base_uri": "https://localhost:8080/"
    },
    "execution": {
     "iopub.execute_input": "2022-04-08T20:26:09.791269Z",
     "iopub.status.busy": "2022-04-08T20:26:09.788834Z",
     "iopub.status.idle": "2022-04-08T20:29:00.493177Z",
     "shell.execute_reply": "2022-04-08T20:29:00.492257Z",
     "shell.execute_reply.started": "2022-04-08T20:26:09.791227Z"
    },
    "id": "dgstwDsfjiI-",
    "outputId": "1e614822-cc0c-4f56-ae78-b5f8b9f89926"
   },
   "outputs": [
    {
     "name": "stdout",
     "output_type": "stream",
     "text": [
      "Epoch 1/40\n",
      "167/167 [==============================] - 11s 47ms/step - loss: 0.2533 - auc: 0.4729 - val_loss: 0.1907 - val_auc: 0.6649\n",
      "Epoch 2/40\n",
      "167/167 [==============================] - 8s 45ms/step - loss: 0.1994 - auc: 0.5789 - val_loss: 0.1948 - val_auc: 0.7053\n",
      "Epoch 3/40\n",
      "167/167 [==============================] - 7s 43ms/step - loss: 0.1931 - auc: 0.6438 - val_loss: 0.1827 - val_auc: 0.7177\n",
      "Epoch 4/40\n",
      "167/167 [==============================] - 7s 43ms/step - loss: 0.1896 - auc: 0.6381 - val_loss: 0.1831 - val_auc: 0.7287\n",
      "Epoch 5/40\n",
      "167/167 [==============================] - 7s 42ms/step - loss: 0.1840 - auc: 0.6756 - val_loss: 0.1866 - val_auc: 0.7391\n",
      "Epoch 6/40\n",
      "167/167 [==============================] - 7s 43ms/step - loss: 0.1888 - auc: 0.6721 - val_loss: 0.1780 - val_auc: 0.7376\n",
      "Epoch 7/40\n",
      "167/167 [==============================] - 7s 43ms/step - loss: 0.1803 - auc: 0.6879 - val_loss: 0.1740 - val_auc: 0.7731\n",
      "Epoch 8/40\n",
      "167/167 [==============================] - 7s 43ms/step - loss: 0.1834 - auc: 0.6967 - val_loss: 0.1806 - val_auc: 0.7598\n",
      "Epoch 9/40\n",
      "167/167 [==============================] - 7s 42ms/step - loss: 0.1830 - auc: 0.7059 - val_loss: 0.1820 - val_auc: 0.7681\n",
      "Epoch 10/40\n",
      "167/167 [==============================] - 7s 44ms/step - loss: 0.1770 - auc: 0.7076 - val_loss: 0.1849 - val_auc: 0.7746\n",
      "Epoch 11/40\n",
      "167/167 [==============================] - 7s 43ms/step - loss: 0.1753 - auc: 0.7272 - val_loss: 0.1859 - val_auc: 0.7221\n",
      "Epoch 12/40\n",
      "167/167 [==============================] - 7s 43ms/step - loss: 0.1814 - auc: 0.7107 - val_loss: 0.1749 - val_auc: 0.7577\n",
      "Epoch 13/40\n",
      "167/167 [==============================] - 7s 42ms/step - loss: 0.1765 - auc: 0.7211 - val_loss: 0.1781 - val_auc: 0.7551\n",
      "Epoch 14/40\n",
      "167/167 [==============================] - 7s 43ms/step - loss: 0.1724 - auc: 0.7335 - val_loss: 0.1704 - val_auc: 0.7634\n",
      "Epoch 15/40\n",
      "167/167 [==============================] - 7s 43ms/step - loss: 0.1769 - auc: 0.7383 - val_loss: 0.1882 - val_auc: 0.7620\n",
      "Epoch 16/40\n",
      "167/167 [==============================] - 7s 43ms/step - loss: 0.1767 - auc: 0.7259 - val_loss: 0.1939 - val_auc: 0.7485\n",
      "Epoch 17/40\n",
      "167/167 [==============================] - 7s 43ms/step - loss: 0.1718 - auc: 0.7353 - val_loss: 0.1736 - val_auc: 0.7695\n",
      "Epoch 18/40\n",
      "167/167 [==============================] - 7s 43ms/step - loss: 0.1741 - auc: 0.7439 - val_loss: 0.1683 - val_auc: 0.7639\n",
      "Epoch 19/40\n",
      "167/167 [==============================] - 7s 43ms/step - loss: 0.1719 - auc: 0.7374 - val_loss: 0.1759 - val_auc: 0.7458\n",
      "Epoch 20/40\n",
      "167/167 [==============================] - 7s 43ms/step - loss: 0.1718 - auc: 0.7497 - val_loss: 0.1780 - val_auc: 0.7526\n",
      "Epoch 21/40\n",
      "167/167 [==============================] - 7s 43ms/step - loss: 0.1727 - auc: 0.7393 - val_loss: 0.1743 - val_auc: 0.7651\n",
      "Epoch 22/40\n",
      "167/167 [==============================] - 7s 43ms/step - loss: 0.1721 - auc: 0.7464 - val_loss: 0.1691 - val_auc: 0.7575\n",
      "Epoch 23/40\n",
      "167/167 [==============================] - 7s 44ms/step - loss: 0.1705 - auc: 0.7484 - val_loss: 0.1716 - val_auc: 0.7760\n",
      "Epoch 24/40\n",
      "167/167 [==============================] - 7s 43ms/step - loss: 0.1761 - auc: 0.7420 - val_loss: 0.1819 - val_auc: 0.7744\n",
      "Epoch 25/40\n",
      "167/167 [==============================] - 7s 42ms/step - loss: 0.1706 - auc: 0.7579 - val_loss: 0.1683 - val_auc: 0.7666\n",
      "Epoch 26/40\n",
      "167/167 [==============================] - 7s 43ms/step - loss: 0.1686 - auc: 0.7512 - val_loss: 0.1712 - val_auc: 0.7723\n",
      "Epoch 27/40\n",
      "167/167 [==============================] - 7s 43ms/step - loss: 0.1767 - auc: 0.7355 - val_loss: 0.1818 - val_auc: 0.7630\n",
      "Epoch 28/40\n",
      "167/167 [==============================] - 7s 43ms/step - loss: 0.1719 - auc: 0.7466 - val_loss: 0.1681 - val_auc: 0.7886\n",
      "Epoch 29/40\n",
      "167/167 [==============================] - 7s 43ms/step - loss: 0.1709 - auc: 0.7440 - val_loss: 0.1648 - val_auc: 0.7839\n",
      "Epoch 30/40\n",
      "167/167 [==============================] - 7s 43ms/step - loss: 0.1738 - auc: 0.7588 - val_loss: 0.1727 - val_auc: 0.7826\n",
      "Epoch 31/40\n",
      "167/167 [==============================] - 7s 43ms/step - loss: 0.1705 - auc: 0.7523 - val_loss: 0.1677 - val_auc: 0.7886\n",
      "Epoch 32/40\n",
      "167/167 [==============================] - 7s 44ms/step - loss: 0.1709 - auc: 0.7541 - val_loss: 0.1661 - val_auc: 0.7937\n",
      "Epoch 33/40\n",
      "167/167 [==============================] - 7s 43ms/step - loss: 0.1671 - auc: 0.7670 - val_loss: 0.1754 - val_auc: 0.7935\n",
      "Epoch 34/40\n",
      "167/167 [==============================] - 7s 43ms/step - loss: 0.1697 - auc: 0.7605 - val_loss: 0.1627 - val_auc: 0.7907\n",
      "Epoch 35/40\n",
      "167/167 [==============================] - 7s 43ms/step - loss: 0.1690 - auc: 0.7618 - val_loss: 0.1736 - val_auc: 0.7750\n",
      "Epoch 36/40\n",
      "167/167 [==============================] - 7s 43ms/step - loss: 0.1681 - auc: 0.7661 - val_loss: 0.1677 - val_auc: 0.7819\n",
      "Epoch 37/40\n",
      "167/167 [==============================] - 7s 42ms/step - loss: 0.1683 - auc: 0.7679 - val_loss: 0.1693 - val_auc: 0.7777\n",
      "Epoch 38/40\n",
      "167/167 [==============================] - 7s 44ms/step - loss: 0.1716 - auc: 0.7646 - val_loss: 0.1761 - val_auc: 0.7879\n",
      "Epoch 39/40\n",
      "167/167 [==============================] - 7s 43ms/step - loss: 0.1689 - auc: 0.7626 - val_loss: 0.1734 - val_auc: 0.7967\n",
      "Epoch 40/40\n",
      "167/167 [==============================] - 7s 42ms/step - loss: 0.1657 - auc: 0.7704 - val_loss: 0.1611 - val_auc: 0.7982\n"
     ]
    }
   ],
   "source": [
    "# define the size of the batch\n",
    "batch_size = 128\n",
    "# get the number of the batches in the training and validation by splitting the size of the training data or validation data\n",
    "# by the size required for the batch\n",
    "num_batchs = math.ceil(len(training_set_part) / batch_size)\n",
    "num_batchs_validation = math.ceil(len(validation_set) / batch_size)\n",
    "\n",
    "# fit the model on the training data and validation data by generating the bathes for the training and validation\n",
    "history = model.fit(\n",
    "    gen_batch(\n",
    "        training_set, batch_size=batch_size, repeat=True\n",
    "    ),\n",
    "    steps_per_epoch=num_batchs,\n",
    "    epochs=40,\n",
    "    validation_data=gen_batch(\n",
    "        validation_set, batch_size=128, repeat=True\n",
    "    ),\n",
    "    validation_steps=num_batchs_validation,\n",
    ")"
   ]
  },
  {
   "cell_type": "code",
   "execution_count": 25,
   "metadata": {
    "execution": {
     "iopub.execute_input": "2022-04-08T20:29:00.495900Z",
     "iopub.status.busy": "2022-04-08T20:29:00.495090Z",
     "iopub.status.idle": "2022-04-08T20:29:01.641067Z",
     "shell.execute_reply": "2022-04-08T20:29:01.639951Z",
     "shell.execute_reply.started": "2022-04-08T20:29:00.495854Z"
    },
    "id": "7nO9MVxqjnes"
   },
   "outputs": [],
   "source": [
    "# predict the outputs also by generating the batch by the given size\n",
    "y_pred = model.predict(\n",
    "    gen_batch(testing_set, batch_size=128, shuffle=False)\n",
    ")\n",
    "y_pred = np.reshape(y_pred, -1)"
   ]
  },
  {
   "cell_type": "code",
   "execution_count": 26,
   "metadata": {
    "execution": {
     "iopub.execute_input": "2022-04-08T20:29:01.645821Z",
     "iopub.status.busy": "2022-04-08T20:29:01.644970Z",
     "iopub.status.idle": "2022-04-08T20:29:01.707351Z",
     "shell.execute_reply": "2022-04-08T20:29:01.706438Z",
     "shell.execute_reply.started": "2022-04-08T20:29:01.645772Z"
    },
    "id": "YOG9gNwcjpxs"
   },
   "outputs": [],
   "source": [
    "# save the predictions in a csv file to submit it on Kaggle\n",
    "submission = pd.DataFrame({'label':y_pred})\n",
    "submission.index.name = 'id'\n",
    "submission.to_csv('try 2.csv')"
   ]
  },
  {
   "cell_type": "code",
   "execution_count": 27,
   "metadata": {
    "colab": {
     "base_uri": "https://localhost:8080/",
     "height": 308
    },
    "execution": {
     "iopub.execute_input": "2022-04-08T20:29:01.709161Z",
     "iopub.status.busy": "2022-04-08T20:29:01.708767Z",
     "iopub.status.idle": "2022-04-08T20:29:02.533146Z",
     "shell.execute_reply": "2022-04-08T20:29:02.532152Z",
     "shell.execute_reply.started": "2022-04-08T20:29:01.709117Z"
    },
    "id": "UuALq1EzKNvP",
    "outputId": "dfdb2f6b-3929-4a35-c28a-8b5400034f65"
   },
   "outputs": [
    {
     "data": {
      "image/png": "[encoded data removed]",
      "text/plain": [
       "<Figure size 864x288 with 2 Axes>"
      ]
     },
     "metadata": {
      "needs_background": "light"
     },
     "output_type": "display_data"
    }
   ],
   "source": [
    "plt_function_op(history)"
   ]
  },
  {
   "cell_type": "markdown",
   "metadata": {
    "id": "LaoVrne3KNvP"
   },
   "source": [
    "## Thoughts and observation for trial 2:\n",
    "This gave a score on Kaggle = 0.78811.\n",
    "\n",
    "I thought that this model will be suitable, and give a better results, but that didn't happen. But it gave a better results than in the trial 1. As I tried a different parameter in the message_calculation_class which is \"RGCN\", and I thought this way will make the model more efficient. I tried to control the overfitting on the training data by validate the model. I used a batch size not small and this helps also in preventing the overfitting.\n",
    "So, by training the model I reached auc on the validation set = 0.7982, and the resultant auc on Kaggel is 0.78811. So, this means they are close to each other, and there is no overfitting or underfitting in the model. Besides, from the above graphs we can see that there is no overfitting, and the results are good. And the oscillations decreased in their amplitudes.\n",
    "\n",
    "\n",
    "## Plan for the trial 3:\n",
    "I will continue with the same preprocessing way. But I will make some changes in the model. By applying an aggregation method = 'GGNN' in the parameters of the GNN input layer. \n",
    "\n",
    "Which helps in unrolling recurrence for a fixed number of steps and just use backpropagation through time with modern  optimization methods.It changed also the propagation model a bit to use gating mechanisms like in LSTMs and GRUs. So, now the learning to compute representations within a fixed budget, and the gating makes the propagation model better. "
   ]
  },
  {
   "cell_type": "markdown",
   "metadata": {
    "id": "bfG1zgknjwcz"
   },
   "source": [
    "# Trial 3\n",
    "With aggregation method: \n",
    "\n",
    "GGNN: Gated Graph Neural Networks \n"
   ]
  },
  {
   "cell_type": "markdown",
   "metadata": {
    "id": "y2EDLcPoKNvQ"
   },
   "source": [
    "## Model for trial 3"
   ]
  },
  {
   "cell_type": "code",
   "execution_count": 28,
   "metadata": {
    "colab": {
     "base_uri": "https://localhost:8080/"
    },
    "execution": {
     "iopub.execute_input": "2022-04-08T20:29:02.537507Z",
     "iopub.status.busy": "2022-04-08T20:29:02.537102Z",
     "iopub.status.idle": "2022-04-08T20:29:03.268898Z",
     "shell.execute_reply": "2022-04-08T20:29:03.267896Z",
     "shell.execute_reply.started": "2022-04-08T20:29:02.537464Z"
    },
    "id": "aknXM3mKjufd",
    "outputId": "ed8fc21a-f624-49db-8e44-c39540dce70e"
   },
   "outputs": [
    {
     "name": "stdout",
     "output_type": "stream",
     "text": [
      "gnn_out KerasTensor(type_spec=TensorSpec(shape=(None, 128), dtype=tf.float32, name=None), name='gnn_2/StatefulPartitionedCall:0', description=\"created by layer 'gnn_2'\")\n",
      "mean: KerasTensor(type_spec=TensorSpec(shape=(None, 128), dtype=tf.float32, name=None), name='tf.math.segment_mean_2/SegmentMean:0', description=\"created by layer 'tf.math.segment_mean_2'\")\n",
      "pred: KerasTensor(type_spec=TensorSpec(shape=(None, 1), dtype=tf.float32, name=None), name='dense_2/Sigmoid:0', description=\"created by layer 'dense_2'\")\n",
      "Model: \"model_2\"\n",
      "__________________________________________________________________________________________________\n",
      " Layer (type)                   Output Shape         Param #     Connected to                     \n",
      "==================================================================================================\n",
      " input_9 (InputLayer)           [(None,)]            0           []                               \n",
      "                                                                                                  \n",
      " input_7 (InputLayer)           [(None,)]            0           []                               \n",
      "                                                                                                  \n",
      " tf.math.reduce_max_2 (TFOpLamb  ()                  0           ['input_9[0][0]']                \n",
      " da)                                                                                              \n",
      "                                                                                                  \n",
      " embedding_2 (Embedding)        (None, 20)           10000       ['input_7[0][0]']                \n",
      "                                                                                                  \n",
      " input_8 (InputLayer)           [(None, 2)]          0           []                               \n",
      "                                                                                                  \n",
      " tf.__operators__.add_2 (TFOpLa  ()                  0           ['tf.math.reduce_max_2[0][0]']   \n",
      " mbda)                                                                                            \n",
      "                                                                                                  \n",
      " gnn_2 (GNN)                    (None, 128)          645888      ['embedding_2[0][0]',            \n",
      "                                                                  'input_8[0][0]',                \n",
      "                                                                  'input_9[0][0]',                \n",
      "                                                                  'tf.__operators__.add_2[0][0]'] \n",
      "                                                                                                  \n",
      " tf.math.segment_mean_2 (TFOpLa  (None, 128)         0           ['gnn_2[0][0]',                  \n",
      " mbda)                                                            'input_9[0][0]']                \n",
      "                                                                                                  \n",
      " dense_2 (Dense)                (None, 1)            129         ['tf.math.segment_mean_2[0][0]'] \n",
      "                                                                                                  \n",
      "==================================================================================================\n",
      "Total params: 656,017\n",
      "Trainable params: 656,017\n",
      "Non-trainable params: 0\n",
      "__________________________________________________________________________________________________\n"
     ]
    }
   ],
   "source": [
    "# prepare input units for each input we have for the neural network\n",
    "data = keras.Input(batch_shape=(None,))\n",
    "# the first dim is different to the previous one, it is the total number of edges in this batch\n",
    "edge = keras.Input(batch_shape=(None, 2), dtype=tf.int32)\n",
    "node2graph = keras.Input(batch_shape=(None,), dtype=tf.int32)\n",
    "# insert the embedding layer with embedding space of 20 dimensions that will be applied on our data after victorized it\n",
    "embeded = Embedding(tokenizer.num_words, 20)(data)\n",
    "\n",
    "# number of graphs (number of samples), and add 1 as python is zero based \n",
    "num_graph = tf.reduce_max(node2graph)+1\n",
    "\n",
    "# prepare the Graph Neural Network input layer by give it its inputs\n",
    "gnn_input = GNNInput(\n",
    "    node_features=embeded,\n",
    "    adjacency_lists=(edge,),\n",
    "    node_to_graph_map=node2graph, \n",
    "    num_graphs=num_graph,\n",
    ")\n",
    "\n",
    "# get the parameters that are required to be used with the Graph Neural Network input layer so we can get the output\n",
    "# https://github.com/microsoft/tf2-gnn/blob/master/tf2_gnn/layers/gnn.py\n",
    "params = GNN.get_default_hyperparameters()\n",
    "params[\"hidden_dim\"] = 128\n",
    "# define the message_calculation_class parameter to GGNN\n",
    "params[\"message_calculation_class\"] = \"GGNN\"\n",
    "gnn_layer = GNN(params)\n",
    "gnn_out = gnn_layer(gnn_input)\n",
    "\n",
    "print('gnn_out', gnn_out)\n",
    "\n",
    "# get the mean of each sample in each batch by using the segment_mean as each sample is a segment in the array\n",
    "# https://www.tensorflow.org/api_docs/python/tf/math/segment_mean\n",
    "avg = segment_mean(\n",
    "    data=gnn_out,\n",
    "    segment_ids=node2graph\n",
    ")\n",
    "print('mean:', avg)\n",
    "\n",
    "# prepare the output node for our problem with 1 unit which gives 0 or 1 as we are making binary classification\n",
    "pred = Dense(1, activation='sigmoid')(avg)\n",
    "print('pred:', pred)\n",
    "\n",
    "# define our model and give it the inputs layers and the outputs layers\n",
    "model = Model(\n",
    "    inputs={\n",
    "        'data': data,\n",
    "        'edges': edge,\n",
    "        'node2grah': node2graph,\n",
    "    },\n",
    "    outputs=pred\n",
    ")\n",
    "# view the model with its parameters and shapes of the layers\n",
    "model.summary()"
   ]
  },
  {
   "cell_type": "code",
   "execution_count": 29,
   "metadata": {
    "execution": {
     "iopub.execute_input": "2022-04-08T20:29:03.277191Z",
     "iopub.status.busy": "2022-04-08T20:29:03.276894Z",
     "iopub.status.idle": "2022-04-08T20:29:03.290652Z",
     "shell.execute_reply": "2022-04-08T20:29:03.289336Z",
     "shell.execute_reply.started": "2022-04-08T20:29:03.277164Z"
    },
    "id": "BC6XuFtzkMMq"
   },
   "outputs": [],
   "source": [
    "# compile the model with BinaryCrossentropy loss as we are making binary classification, and AUC metric\n",
    "model.compile(\n",
    "    loss='BinaryCrossentropy',\n",
    "    metrics=['AUC']\n",
    ")"
   ]
  },
  {
   "cell_type": "code",
   "execution_count": 30,
   "metadata": {
    "colab": {
     "base_uri": "https://localhost:8080/"
    },
    "execution": {
     "iopub.execute_input": "2022-04-08T20:29:03.292645Z",
     "iopub.status.busy": "2022-04-08T20:29:03.292225Z",
     "iopub.status.idle": "2022-04-08T20:33:05.137587Z",
     "shell.execute_reply": "2022-04-08T20:33:05.136579Z",
     "shell.execute_reply.started": "2022-04-08T20:29:03.292581Z"
    },
    "id": "MP6XIbwRkP8L",
    "outputId": "8ed4ed06-18a9-4af7-a11e-5b720ccf1b17"
   },
   "outputs": [
    {
     "name": "stdout",
     "output_type": "stream",
     "text": [
      "Epoch 1/40\n",
      "167/167 [==============================] - 19s 92ms/step - loss: 0.2049 - auc: 0.5748 - val_loss: 0.2247 - val_auc: 0.6860\n",
      "Epoch 2/40\n",
      "167/167 [==============================] - 15s 89ms/step - loss: 0.1871 - auc: 0.6467 - val_loss: 0.2195 - val_auc: 0.7369\n",
      "Epoch 3/40\n",
      "167/167 [==============================] - 15s 89ms/step - loss: 0.1824 - auc: 0.6882 - val_loss: 0.1847 - val_auc: 0.7630\n",
      "Epoch 4/40\n",
      "167/167 [==============================] - 15s 90ms/step - loss: 0.1759 - auc: 0.7225 - val_loss: 0.2032 - val_auc: 0.7452\n",
      "Epoch 5/40\n",
      "167/167 [==============================] - 15s 88ms/step - loss: 0.1743 - auc: 0.7286 - val_loss: 0.1816 - val_auc: 0.7664\n",
      "Epoch 6/40\n",
      "167/167 [==============================] - 15s 90ms/step - loss: 0.1725 - auc: 0.7438 - val_loss: 0.1723 - val_auc: 0.7814\n",
      "Epoch 7/40\n",
      "167/167 [==============================] - 15s 89ms/step - loss: 0.1713 - auc: 0.7423 - val_loss: 0.1796 - val_auc: 0.7206\n",
      "Epoch 8/40\n",
      "167/167 [==============================] - 15s 88ms/step - loss: 0.1692 - auc: 0.7494 - val_loss: 0.1655 - val_auc: 0.7937\n",
      "Epoch 9/40\n",
      "167/167 [==============================] - 15s 88ms/step - loss: 0.1679 - auc: 0.7531 - val_loss: 0.1759 - val_auc: 0.7882\n",
      "Epoch 10/40\n",
      "167/167 [==============================] - 16s 96ms/step - loss: 0.1683 - auc: 0.7559 - val_loss: 0.1841 - val_auc: 0.7582\n",
      "Epoch 11/40\n",
      "167/167 [==============================] - 15s 88ms/step - loss: 0.1656 - auc: 0.7706 - val_loss: 0.1672 - val_auc: 0.7858\n",
      "Epoch 12/40\n",
      "167/167 [==============================] - 15s 89ms/step - loss: 0.1658 - auc: 0.7628 - val_loss: 0.1683 - val_auc: 0.7990\n",
      "Epoch 13/40\n",
      "167/167 [==============================] - 15s 89ms/step - loss: 0.1612 - auc: 0.7850 - val_loss: 0.1596 - val_auc: 0.7674\n",
      "Epoch 14/40\n",
      "167/167 [==============================] - 15s 89ms/step - loss: 0.1637 - auc: 0.7738 - val_loss: 0.1781 - val_auc: 0.7652\n",
      "Epoch 15/40\n",
      "167/167 [==============================] - 15s 90ms/step - loss: 0.1695 - auc: 0.7416 - val_loss: 0.1957 - val_auc: 0.7352\n",
      "Epoch 16/40\n",
      "167/167 [==============================] - 15s 89ms/step - loss: 0.1625 - auc: 0.7718 - val_loss: 0.1526 - val_auc: 0.7793\n",
      "Epoch 17/40\n",
      "167/167 [==============================] - 15s 89ms/step - loss: 0.1599 - auc: 0.7868 - val_loss: 0.1802 - val_auc: 0.8078\n",
      "Epoch 18/40\n",
      "167/167 [==============================] - 15s 88ms/step - loss: 0.1591 - auc: 0.7896 - val_loss: 0.1443 - val_auc: 0.8134\n",
      "Epoch 19/40\n",
      "167/167 [==============================] - 15s 90ms/step - loss: 0.1588 - auc: 0.7904 - val_loss: 0.1651 - val_auc: 0.8018\n",
      "Epoch 20/40\n",
      "167/167 [==============================] - 15s 88ms/step - loss: 0.1580 - auc: 0.7922 - val_loss: 0.1557 - val_auc: 0.8142\n",
      "Epoch 21/40\n",
      "167/167 [==============================] - 15s 88ms/step - loss: 0.1552 - auc: 0.8025 - val_loss: 0.1650 - val_auc: 0.8056\n",
      "Epoch 22/40\n",
      "167/167 [==============================] - 15s 89ms/step - loss: 0.1524 - auc: 0.8127 - val_loss: 0.1651 - val_auc: 0.8313\n",
      "Epoch 23/40\n",
      "167/167 [==============================] - 15s 89ms/step - loss: 0.1515 - auc: 0.8149 - val_loss: 0.1691 - val_auc: 0.7588\n",
      "Epoch 24/40\n",
      "167/167 [==============================] - 15s 88ms/step - loss: 0.1508 - auc: 0.8225 - val_loss: 0.1711 - val_auc: 0.7928\n",
      "Epoch 25/40\n",
      "167/167 [==============================] - 15s 88ms/step - loss: 0.1482 - auc: 0.8331 - val_loss: 0.1529 - val_auc: 0.8220\n",
      "Epoch 26/40\n",
      "167/167 [==============================] - 15s 87ms/step - loss: 0.1460 - auc: 0.8339 - val_loss: 0.1548 - val_auc: 0.8383\n",
      "Epoch 27/40\n",
      "167/167 [==============================] - 15s 89ms/step - loss: 0.1456 - auc: 0.8322 - val_loss: 0.1739 - val_auc: 0.7971\n",
      "Epoch 28/40\n",
      "167/167 [==============================] - 15s 89ms/step - loss: 0.1437 - auc: 0.8424 - val_loss: 0.1589 - val_auc: 0.8346\n",
      "Epoch 29/40\n",
      "167/167 [==============================] - 15s 89ms/step - loss: 0.1423 - auc: 0.8448 - val_loss: 0.1504 - val_auc: 0.8409\n",
      "Epoch 30/40\n",
      "167/167 [==============================] - 15s 89ms/step - loss: 0.1412 - auc: 0.8451 - val_loss: 0.1550 - val_auc: 0.8380\n",
      "Epoch 31/40\n",
      "167/167 [==============================] - 15s 88ms/step - loss: 0.1407 - auc: 0.8494 - val_loss: 0.1492 - val_auc: 0.8519\n",
      "Epoch 32/40\n",
      "167/167 [==============================] - 15s 89ms/step - loss: 0.1405 - auc: 0.8508 - val_loss: 0.1572 - val_auc: 0.8483\n",
      "Epoch 33/40\n",
      "167/167 [==============================] - 15s 88ms/step - loss: 0.1396 - auc: 0.8541 - val_loss: 0.1554 - val_auc: 0.8196\n",
      "Epoch 34/40\n",
      "167/167 [==============================] - 15s 89ms/step - loss: 0.1364 - auc: 0.8597 - val_loss: 0.1629 - val_auc: 0.8246\n",
      "Epoch 35/40\n",
      "167/167 [==============================] - 15s 93ms/step - loss: 0.1339 - auc: 0.8643 - val_loss: 0.1447 - val_auc: 0.8381\n",
      "Epoch 36/40\n",
      "167/167 [==============================] - 15s 89ms/step - loss: 0.1330 - auc: 0.8683 - val_loss: 0.1561 - val_auc: 0.8252\n",
      "Epoch 37/40\n",
      "167/167 [==============================] - 15s 88ms/step - loss: 0.1323 - auc: 0.8654 - val_loss: 0.1414 - val_auc: 0.8342\n",
      "Epoch 38/40\n",
      "167/167 [==============================] - 15s 88ms/step - loss: 0.1321 - auc: 0.8733 - val_loss: 0.1522 - val_auc: 0.8380\n",
      "Epoch 39/40\n",
      "167/167 [==============================] - 15s 90ms/step - loss: 0.1299 - auc: 0.8769 - val_loss: 0.1611 - val_auc: 0.8277\n",
      "Epoch 40/40\n",
      "167/167 [==============================] - 15s 88ms/step - loss: 0.1297 - auc: 0.8733 - val_loss: 0.1635 - val_auc: 0.8288\n"
     ]
    }
   ],
   "source": [
    "# define the size of the batch\n",
    "batch_size = 128\n",
    "# get the number of the batches in the training and validation by splitting the size of the training data or validation data\n",
    "# by the size required for the batch\n",
    "num_batchs = math.ceil(len(training_set_part) / batch_size)\n",
    "num_batchs_validation = math.ceil(len(validation_set) / batch_size)\n",
    "\n",
    "# fit the model on the training data and validation data by generating the bathes for the training and validation\n",
    "history = model.fit(\n",
    "    gen_batch(\n",
    "        training_set_part, batch_size=batch_size, repeat=True\n",
    "    ),\n",
    "    steps_per_epoch=num_batchs,\n",
    "    epochs=40,\n",
    "    validation_data=gen_batch(\n",
    "        validation_set, batch_size=128, repeat=True\n",
    "    ),\n",
    "    validation_steps=num_batchs_validation,\n",
    ")"
   ]
  },
  {
   "cell_type": "code",
   "execution_count": 31,
   "metadata": {
    "execution": {
     "iopub.execute_input": "2022-04-08T20:33:05.139766Z",
     "iopub.status.busy": "2022-04-08T20:33:05.139196Z",
     "iopub.status.idle": "2022-04-08T20:33:06.543031Z",
     "shell.execute_reply": "2022-04-08T20:33:06.542155Z",
     "shell.execute_reply.started": "2022-04-08T20:33:05.139687Z"
    },
    "id": "wi1dYfe2kSJ8"
   },
   "outputs": [],
   "source": [
    "# predict the outputs also by generating the batch by the given size\n",
    "y_pred = model.predict(\n",
    "    gen_batch(testing_set, batch_size=128, shuffle=False)\n",
    ")\n",
    "y_pred = np.reshape(y_pred, -1)"
   ]
  },
  {
   "cell_type": "code",
   "execution_count": 32,
   "metadata": {
    "execution": {
     "iopub.execute_input": "2022-04-08T20:33:06.545346Z",
     "iopub.status.busy": "2022-04-08T20:33:06.544960Z",
     "iopub.status.idle": "2022-04-08T20:33:06.592244Z",
     "shell.execute_reply": "2022-04-08T20:33:06.591416Z",
     "shell.execute_reply.started": "2022-04-08T20:33:06.545303Z"
    },
    "id": "DDRCuRMekXtR"
   },
   "outputs": [],
   "source": [
    "# save the predictions in a csv file to submit it on Kaggle\n",
    "submission = pd.DataFrame({'label':y_pred})\n",
    "submission.index.name = 'id'\n",
    "submission.to_csv('try 3.csv')"
   ]
  },
  {
   "cell_type": "code",
   "execution_count": 33,
   "metadata": {
    "colab": {
     "base_uri": "https://localhost:8080/",
     "height": 0
    },
    "execution": {
     "iopub.execute_input": "2022-04-08T20:33:06.593921Z",
     "iopub.status.busy": "2022-04-08T20:33:06.593548Z",
     "iopub.status.idle": "2022-04-08T20:33:07.279046Z",
     "shell.execute_reply": "2022-04-08T20:33:07.278099Z",
     "shell.execute_reply.started": "2022-04-08T20:33:06.593880Z"
    },
    "id": "cDr5VB7GKNvQ",
    "outputId": "2be15fa0-6a39-4738-d08b-885dc776cbea"
   },
   "outputs": [
    {
     "data": {
      "image/png": "[encoded data removed]",
      "text/plain": [
       "<Figure size 864x288 with 2 Axes>"
      ]
     },
     "metadata": {
      "needs_background": "light"
     },
     "output_type": "display_data"
    }
   ],
   "source": [
    "plt_function_op(history)"
   ]
  },
  {
   "cell_type": "markdown",
   "metadata": {
    "id": "oD71QMsAKNvR"
   },
   "source": [
    "## Thoughts and observation for trial 3:\n",
    "This gave a score on Kaggle = 0.84201.\n",
    "\n",
    "I thought that this model will give a very good results, and that what happened. As the algorithm that I used in the model which is the Gated Graph Neural Networks, I thought will work well on the data due to its mechanism which I talked about before. Although the number of the units in the embedding layer were small but the results are good. I tried to control the overfitting on the training data by validate the model. I used a batch size not small and this helps also in preventing the overfitting.\n",
    "So, by training the model I reached auc on the validation set = 0.8288, and the resultant auc on Kaggel is 0.84201. So, this means they are close to each other, but I think the model started to overfit the training data as the auc value started to decrease after the epoch number 35, and the loss increased after the same epoch number. In the above graphs, we can see the difference after the epoch 35, and the oscillications increased in their amplitudes again.\n",
    "\n",
    "\n",
    "## Plan for the trial 4:\n",
    "I will continue with the same preprocessing way. But I will make some changes in the model. By applying an aggregation method = 'RGAT' in the parameters of the GNN input layer. \n",
    "\n",
    "Which helps in solving the problem of focusing on modelling simple undirected and single relational graph data only that is happened by Graph Attention Network (GAT). So, this limits its ability to deal with more general and complex multi-relational graphs that contain entities with directed links of different labels. Therefore, directly applying GAT on multi-relational graphs leads to sub-optimal solutions. So, using RGAT helps to learn multi-channel entity representations. Specifically, each channel corresponds to a latent semantic aspect of an entity. This enables to aggregate neighborhood information for the current aspect using relation features. Therefore, we propose a query-aware attention mechanism for subsequent tasks to select useful aspects. Extensive experiments on link prediction and entity classification tasks show that our r-GAT can model multi-relational graphs effectively."
   ]
  },
  {
   "cell_type": "markdown",
   "metadata": {
    "id": "6gtLFzq1kbOe"
   },
   "source": [
    "# Trial 4\n",
    "With aggregation method:\n",
    "\n",
    "RGAT: Relational Graph Attention Networks"
   ]
  },
  {
   "cell_type": "code",
   "execution_count": 34,
   "metadata": {
    "colab": {
     "base_uri": "https://localhost:8080/"
    },
    "execution": {
     "iopub.execute_input": "2022-04-08T20:33:07.281229Z",
     "iopub.status.busy": "2022-04-08T20:33:07.280889Z",
     "iopub.status.idle": "2022-04-08T20:33:08.395570Z",
     "shell.execute_reply": "2022-04-08T20:33:08.394356Z",
     "shell.execute_reply.started": "2022-04-08T20:33:07.281186Z"
    },
    "id": "Tkh2ZOFpklbF",
    "outputId": "dc7fd061-81be-471c-c093-0bfea5c7cf1e"
   },
   "outputs": [
    {
     "name": "stdout",
     "output_type": "stream",
     "text": [
      "gnn_out KerasTensor(type_spec=TensorSpec(shape=(None, 128), dtype=tf.float32, name=None), name='gnn_3/StatefulPartitionedCall:0', description=\"created by layer 'gnn_3'\")\n",
      "mean: KerasTensor(type_spec=TensorSpec(shape=(None, 128), dtype=tf.float32, name=None), name='tf.math.segment_mean_3/SegmentMean:0', description=\"created by layer 'tf.math.segment_mean_3'\")\n",
      "pred: KerasTensor(type_spec=TensorSpec(shape=(None, 1), dtype=tf.float32, name=None), name='dense_3/Sigmoid:0', description=\"created by layer 'dense_3'\")\n",
      "Model: \"model_3\"\n",
      "__________________________________________________________________________________________________\n",
      " Layer (type)                   Output Shape         Param #     Connected to                     \n",
      "==================================================================================================\n",
      " input_12 (InputLayer)          [(None,)]            0           []                               \n",
      "                                                                                                  \n",
      " input_10 (InputLayer)          [(None,)]            0           []                               \n",
      "                                                                                                  \n",
      " tf.math.reduce_max_3 (TFOpLamb  ()                  0           ['input_12[0][0]']               \n",
      " da)                                                                                              \n",
      "                                                                                                  \n",
      " embedding_3 (Embedding)        (None, 20)           10000       ['input_10[0][0]']               \n",
      "                                                                                                  \n",
      " input_11 (InputLayer)          [(None, 2)]          0           []                               \n",
      "                                                                                                  \n",
      " tf.__operators__.add_3 (TFOpLa  ()                  0           ['tf.math.reduce_max_3[0][0]']   \n",
      " mbda)                                                                                            \n",
      "                                                                                                  \n",
      " gnn_3 (GNN)                    (None, 128)          250624      ['embedding_3[0][0]',            \n",
      "                                                                  'input_11[0][0]',               \n",
      "                                                                  'input_12[0][0]',               \n",
      "                                                                  'tf.__operators__.add_3[0][0]'] \n",
      "                                                                                                  \n",
      " tf.math.segment_mean_3 (TFOpLa  (None, 128)         0           ['gnn_3[0][0]',                  \n",
      " mbda)                                                            'input_12[0][0]']               \n",
      "                                                                                                  \n",
      " dense_3 (Dense)                (None, 1)            129         ['tf.math.segment_mean_3[0][0]'] \n",
      "                                                                                                  \n",
      "==================================================================================================\n",
      "Total params: 260,753\n",
      "Trainable params: 260,753\n",
      "Non-trainable params: 0\n",
      "__________________________________________________________________________________________________\n"
     ]
    }
   ],
   "source": [
    "# prepare input units for each input we have for the neural network\n",
    "data = keras.Input(batch_shape=(None,))\n",
    "# the first dim is different to the previous one, it is the total number of edges in this batch\n",
    "edge = keras.Input(batch_shape=(None, 2), dtype=tf.int32)\n",
    "node2graph = keras.Input(batch_shape=(None,), dtype=tf.int32)\n",
    "# insert the embedding layer with embedding space of 20 dimensions that will be applied on our data after victorized it\n",
    "embeded = Embedding(tokenizer.num_words, 20)(data)\n",
    "\n",
    "# number of graphs (number of samples), and add 1 as python is zero based \n",
    "num_graph = tf.reduce_max(node2graph)+1\n",
    "\n",
    "# prepare the Graph Neural Network input layer by give it its inputs\n",
    "gnn_input = GNNInput(\n",
    "    node_features=embeded,\n",
    "    adjacency_lists=(edge,),\n",
    "    node_to_graph_map=node2graph, \n",
    "    num_graphs=num_graph,\n",
    ")\n",
    "\n",
    "# get the parameters that are required to be used with the Graph Neural Network input layer so we can get the output\n",
    "# https://github.com/microsoft/tf2-gnn/blob/master/tf2_gnn/layers/gnn.py\n",
    "params = GNN.get_default_hyperparameters()\n",
    "# change the number of the size of the output of all message passing layers to 128 layer\n",
    "params[\"hidden_dim\"] = 128\n",
    "# define the aggregation method\n",
    "params[\"message_calculation_class\"] = \"RGAT\"\n",
    "# define the num_heads whih configures the number of parallel (independent) weighted sums that are computed, \n",
    "# whose results are concatenated to obtain the final result.\n",
    "params[\"num_heads\"] = 4\n",
    "gnn_layer = GNN(params)\n",
    "gnn_out = gnn_layer(gnn_input)\n",
    "\n",
    "print('gnn_out', gnn_out)\n",
    "\n",
    "# get the mean of each sample in each batch by using the segment_mean as each sample is a segment in the array\n",
    "# https://www.tensorflow.org/api_docs/python/tf/math/segment_mean\n",
    "avg = segment_mean(\n",
    "    data=gnn_out,\n",
    "    segment_ids=node2graph\n",
    ")\n",
    "print('mean:', avg)\n",
    "\n",
    "# prepare the output node for our problem with 1 unit which gives 0 or 1 as we are making binary classification\n",
    "pred = Dense(1, activation='sigmoid')(avg)\n",
    "print('pred:', pred)\n",
    "\n",
    "# define our model and give it the inputs layers and the outputs layers\n",
    "model = Model(\n",
    "    inputs={\n",
    "        'data': data,\n",
    "        'edges': edge,\n",
    "        'node2grah': node2graph,\n",
    "    },\n",
    "    outputs=pred\n",
    ")\n",
    "# view the model with its parameters and shapes of the layers\n",
    "model.summary()"
   ]
  },
  {
   "cell_type": "code",
   "execution_count": 35,
   "metadata": {
    "execution": {
     "iopub.execute_input": "2022-04-08T20:33:08.398675Z",
     "iopub.status.busy": "2022-04-08T20:33:08.398313Z",
     "iopub.status.idle": "2022-04-08T20:33:08.410745Z",
     "shell.execute_reply": "2022-04-08T20:33:08.409582Z",
     "shell.execute_reply.started": "2022-04-08T20:33:08.398630Z"
    },
    "id": "iG05j5Kskhmy"
   },
   "outputs": [],
   "source": [
    "# compile the model with BinaryCrossentropy loss as we are making binary classification, and AUC metric\n",
    "model.compile(\n",
    "    loss='BinaryCrossentropy',\n",
    "    metrics=['AUC']\n",
    ")"
   ]
  },
  {
   "cell_type": "code",
   "execution_count": 36,
   "metadata": {
    "colab": {
     "base_uri": "https://localhost:8080/"
    },
    "execution": {
     "iopub.execute_input": "2022-04-08T20:33:08.413478Z",
     "iopub.status.busy": "2022-04-08T20:33:08.412382Z",
     "iopub.status.idle": "2022-04-08T20:37:34.813828Z",
     "shell.execute_reply": "2022-04-08T20:37:34.812702Z",
     "shell.execute_reply.started": "2022-04-08T20:33:08.413427Z"
    },
    "id": "E6PgaS9UkftD",
    "outputId": "0ceac53a-74e8-45a5-b94d-8b4d4d1799da"
   },
   "outputs": [
    {
     "name": "stdout",
     "output_type": "stream",
     "text": [
      "Epoch 1/40\n",
      "167/167 [==============================] - 16s 67ms/step - loss: 0.2652 - auc: 0.4768 - val_loss: 0.2812 - val_auc: 0.6919\n",
      "Epoch 2/40\n",
      "167/167 [==============================] - 11s 63ms/step - loss: 0.2000 - auc: 0.5910 - val_loss: 0.1980 - val_auc: 0.7198\n",
      "Epoch 3/40\n",
      "167/167 [==============================] - 11s 64ms/step - loss: 0.1913 - auc: 0.6356 - val_loss: 0.1840 - val_auc: 0.7235\n",
      "Epoch 4/40\n",
      "167/167 [==============================] - 11s 64ms/step - loss: 0.1852 - auc: 0.6669 - val_loss: 0.2178 - val_auc: 0.7263\n",
      "Epoch 5/40\n",
      "167/167 [==============================] - 11s 64ms/step - loss: 0.1834 - auc: 0.6749 - val_loss: 0.1797 - val_auc: 0.7525\n",
      "Epoch 6/40\n",
      "167/167 [==============================] - 11s 64ms/step - loss: 0.1807 - auc: 0.6990 - val_loss: 0.1722 - val_auc: 0.7647\n",
      "Epoch 7/40\n",
      "167/167 [==============================] - 11s 64ms/step - loss: 0.1779 - auc: 0.7134 - val_loss: 0.2120 - val_auc: 0.7022\n",
      "Epoch 8/40\n",
      "167/167 [==============================] - 11s 64ms/step - loss: 0.1771 - auc: 0.7200 - val_loss: 0.1896 - val_auc: 0.7486\n",
      "Epoch 9/40\n",
      "167/167 [==============================] - 11s 65ms/step - loss: 0.1740 - auc: 0.7342 - val_loss: 0.1890 - val_auc: 0.7589\n",
      "Epoch 10/40\n",
      "167/167 [==============================] - 11s 64ms/step - loss: 0.1732 - auc: 0.7456 - val_loss: 0.1900 - val_auc: 0.7134\n",
      "Epoch 11/40\n",
      "167/167 [==============================] - 11s 65ms/step - loss: 0.1721 - auc: 0.7477 - val_loss: 0.1649 - val_auc: 0.7633\n",
      "Epoch 12/40\n",
      "167/167 [==============================] - 11s 64ms/step - loss: 0.1706 - auc: 0.7613 - val_loss: 0.1807 - val_auc: 0.7835\n",
      "Epoch 13/40\n",
      "167/167 [==============================] - 11s 64ms/step - loss: 0.1709 - auc: 0.7586 - val_loss: 0.1865 - val_auc: 0.7373\n",
      "Epoch 14/40\n",
      "167/167 [==============================] - 11s 64ms/step - loss: 0.1687 - auc: 0.7651 - val_loss: 0.1831 - val_auc: 0.7869\n",
      "Epoch 15/40\n",
      "167/167 [==============================] - 11s 64ms/step - loss: 0.1693 - auc: 0.7648 - val_loss: 0.1919 - val_auc: 0.7547\n",
      "Epoch 16/40\n",
      "167/167 [==============================] - 11s 64ms/step - loss: 0.1675 - auc: 0.7750 - val_loss: 0.1800 - val_auc: 0.7729\n",
      "Epoch 17/40\n",
      "167/167 [==============================] - 11s 64ms/step - loss: 0.1673 - auc: 0.7743 - val_loss: 0.1933 - val_auc: 0.7810\n",
      "Epoch 18/40\n",
      "167/167 [==============================] - 11s 64ms/step - loss: 0.1670 - auc: 0.7763 - val_loss: 0.1554 - val_auc: 0.8184\n",
      "Epoch 19/40\n",
      "167/167 [==============================] - 11s 63ms/step - loss: 0.1669 - auc: 0.7737 - val_loss: 0.1768 - val_auc: 0.7720\n",
      "Epoch 20/40\n",
      "167/167 [==============================] - 10s 63ms/step - loss: 0.1671 - auc: 0.7751 - val_loss: 0.1856 - val_auc: 0.7984\n",
      "Epoch 21/40\n",
      "167/167 [==============================] - 11s 63ms/step - loss: 0.1653 - auc: 0.7777 - val_loss: 0.1624 - val_auc: 0.7948\n",
      "Epoch 22/40\n",
      "167/167 [==============================] - 11s 63ms/step - loss: 0.1652 - auc: 0.7861 - val_loss: 0.1667 - val_auc: 0.8014\n",
      "Epoch 23/40\n",
      "167/167 [==============================] - 11s 64ms/step - loss: 0.1639 - auc: 0.7863 - val_loss: 0.1775 - val_auc: 0.8082\n",
      "Epoch 24/40\n",
      "167/167 [==============================] - 10s 63ms/step - loss: 0.1636 - auc: 0.7921 - val_loss: 0.1741 - val_auc: 0.8149\n",
      "Epoch 25/40\n",
      "167/167 [==============================] - 10s 63ms/step - loss: 0.1642 - auc: 0.7853 - val_loss: 0.1966 - val_auc: 0.7891\n",
      "Epoch 26/40\n",
      "167/167 [==============================] - 10s 63ms/step - loss: 0.1625 - auc: 0.7927 - val_loss: 0.1966 - val_auc: 0.7595\n",
      "Epoch 27/40\n",
      "167/167 [==============================] - 11s 64ms/step - loss: 0.1616 - auc: 0.7953 - val_loss: 0.1620 - val_auc: 0.8184\n",
      "Epoch 28/40\n",
      "167/167 [==============================] - 11s 63ms/step - loss: 0.1632 - auc: 0.7909 - val_loss: 0.1951 - val_auc: 0.7856\n",
      "Epoch 29/40\n",
      "167/167 [==============================] - 10s 63ms/step - loss: 0.1616 - auc: 0.7981 - val_loss: 0.1841 - val_auc: 0.7644\n",
      "Epoch 30/40\n",
      "167/167 [==============================] - 11s 63ms/step - loss: 0.1611 - auc: 0.7973 - val_loss: 0.1659 - val_auc: 0.7959\n",
      "Epoch 31/40\n",
      "167/167 [==============================] - 11s 63ms/step - loss: 0.1628 - auc: 0.7948 - val_loss: 0.1654 - val_auc: 0.8041\n",
      "Epoch 32/40\n",
      "167/167 [==============================] - 10s 63ms/step - loss: 0.1604 - auc: 0.8034 - val_loss: 0.1811 - val_auc: 0.7898\n",
      "Epoch 33/40\n",
      "167/167 [==============================] - 11s 63ms/step - loss: 0.1600 - auc: 0.8008 - val_loss: 0.1785 - val_auc: 0.8085\n",
      "Epoch 34/40\n",
      "167/167 [==============================] - 11s 63ms/step - loss: 0.1603 - auc: 0.8006 - val_loss: 0.1960 - val_auc: 0.7816\n",
      "Epoch 35/40\n",
      "167/167 [==============================] - 11s 63ms/step - loss: 0.1590 - auc: 0.8071 - val_loss: 0.1700 - val_auc: 0.8096\n",
      "Epoch 36/40\n",
      "167/167 [==============================] - 11s 63ms/step - loss: 0.1590 - auc: 0.8054 - val_loss: 0.1606 - val_auc: 0.7847\n",
      "Epoch 37/40\n",
      "167/167 [==============================] - 10s 63ms/step - loss: 0.1583 - auc: 0.8062 - val_loss: 0.1686 - val_auc: 0.8054\n",
      "Epoch 38/40\n",
      "167/167 [==============================] - 11s 63ms/step - loss: 0.1569 - auc: 0.8122 - val_loss: 0.1710 - val_auc: 0.8035\n",
      "Epoch 39/40\n",
      "167/167 [==============================] - 10s 63ms/step - loss: 0.1561 - auc: 0.8155 - val_loss: 0.1567 - val_auc: 0.7947\n",
      "Epoch 40/40\n",
      "167/167 [==============================] - 11s 63ms/step - loss: 0.1565 - auc: 0.8161 - val_loss: 0.1843 - val_auc: 0.7910\n"
     ]
    }
   ],
   "source": [
    "# define the size of the batch\n",
    "batch_size = 128\n",
    "# get the number of the batches in the training and validation by splitting the size of the training data or validation data\n",
    "# by the size required for the batch\n",
    "num_batchs = math.ceil(len(training_set_part) / batch_size)\n",
    "num_batchs_validation = math.ceil(len(validation_set) / batch_size)\n",
    "\n",
    "# fit the model on the training data and validation data by generating the bathes for the training and validation\n",
    "history = model.fit(\n",
    "    gen_batch(\n",
    "        training_set_part, batch_size=batch_size, repeat=True\n",
    "    ),\n",
    "    steps_per_epoch=num_batchs,\n",
    "    epochs=40,\n",
    "    validation_data=gen_batch(\n",
    "        validation_set, batch_size=128, repeat=True\n",
    "    ),\n",
    "    validation_steps=num_batchs_validation,\n",
    ")\n"
   ]
  },
  {
   "cell_type": "code",
   "execution_count": 37,
   "metadata": {
    "execution": {
     "iopub.execute_input": "2022-04-08T20:37:34.818689Z",
     "iopub.status.busy": "2022-04-08T20:37:34.818413Z",
     "iopub.status.idle": "2022-04-08T20:37:36.186680Z",
     "shell.execute_reply": "2022-04-08T20:37:36.185727Z",
     "shell.execute_reply.started": "2022-04-08T20:37:34.818658Z"
    },
    "id": "-DDXgrlZkdoj"
   },
   "outputs": [],
   "source": [
    "# predict the outputs also by generating the batch by the given size\n",
    "y_pred = model.predict(\n",
    "    gen_batch(testing_set, batch_size=128, shuffle=False)\n",
    ")\n",
    "y_pred = np.reshape(y_pred, -1)"
   ]
  },
  {
   "cell_type": "code",
   "execution_count": 38,
   "metadata": {
    "execution": {
     "iopub.execute_input": "2022-04-08T20:37:36.188457Z",
     "iopub.status.busy": "2022-04-08T20:37:36.188124Z",
     "iopub.status.idle": "2022-04-08T20:37:36.235673Z",
     "shell.execute_reply": "2022-04-08T20:37:36.234610Z",
     "shell.execute_reply.started": "2022-04-08T20:37:36.188414Z"
    },
    "id": "N1wE3WJ9kakj"
   },
   "outputs": [],
   "source": [
    "# save the predictions in a csv file to submit it on Kaggle\n",
    "submission = pd.DataFrame({'label':y_pred})\n",
    "submission.index.name = 'id'\n",
    "submission.to_csv('try 4.csv')"
   ]
  },
  {
   "cell_type": "code",
   "execution_count": 39,
   "metadata": {
    "colab": {
     "base_uri": "https://localhost:8080/",
     "height": 0
    },
    "execution": {
     "iopub.execute_input": "2022-04-08T20:37:36.237509Z",
     "iopub.status.busy": "2022-04-08T20:37:36.237133Z",
     "iopub.status.idle": "2022-04-08T20:37:36.701914Z",
     "shell.execute_reply": "2022-04-08T20:37:36.700891Z",
     "shell.execute_reply.started": "2022-04-08T20:37:36.237451Z"
    },
    "id": "-oqqDtcBKNvS",
    "outputId": "f362938a-b0f9-4400-ff57-fc73ea15b51a"
   },
   "outputs": [
    {
     "data": {
      "image/png": "[encoded data removed]",
      "text/plain": [
       "<Figure size 864x288 with 2 Axes>"
      ]
     },
     "metadata": {
      "needs_background": "light"
     },
     "output_type": "display_data"
    }
   ],
   "source": [
    "plt_function_op(history)"
   ]
  },
  {
   "cell_type": "markdown",
   "metadata": {
    "id": "mFyUJL9cKNvS"
   },
   "source": [
    "## Thoughts and observation for trial 4:\n",
    "This gave a score on Kaggle = 0.82537.\n",
    "\n",
    "I thought that this model will give a very good results, and that what happened. As the algorithm that I used in the model which is the Relational Graph Attention Networks, I thought will work well on the data due to its mechanism which I talked about before. Although the number of the units in the embedding layer were small but the results are good. I tried to control the overfitting on the training data by validate the model. I used a batch size not small and this helps also in preventing the overfitting.\n",
    "So, by training the model I reached auc on the validation set = 0.7910, and the resultant auc on Kaggel is 0.82537. So, this means they are close to each other, and there is no overfitting or underfitting in the model. Besides, from the above graphs we can see that there is no overfitting and the results are good. As the oscillations decreased a little bit. \n",
    "\n",
    "\n",
    "## Plan for the trial 5:\n",
    "I will change the preprocessing way, and change some things in the model. First in the preprocessing, I found that the data is unbalanced, so I will make upsampling for it by increasing the amount of the data that related to class 1 as they are very few in comparing with the data related to class 0.\n",
    "In the model, I will use the following:\n",
    "One embedded layer with dimensional space of 30 dimensions that will be applied on our data after victorized it, and in the hidden dimentional in the GNN input layer, I will use 256 unit in it.\n"
   ]
  },
  {
   "cell_type": "markdown",
   "metadata": {
    "id": "cb5_CqYTluDu"
   },
   "source": [
    "# Trial 5\n",
    "## Preprocessing:\n",
    "### Upsampling for the weights of each class \n"
   ]
  },
  {
   "cell_type": "code",
   "execution_count": 40,
   "metadata": {
    "colab": {
     "base_uri": "https://localhost:8080/"
    },
    "execution": {
     "iopub.execute_input": "2022-04-08T20:37:36.704651Z",
     "iopub.status.busy": "2022-04-08T20:37:36.703651Z",
     "iopub.status.idle": "2022-04-08T20:37:36.768162Z",
     "shell.execute_reply": "2022-04-08T20:37:36.767002Z",
     "shell.execute_reply.started": "2022-04-08T20:37:36.704561Z"
    },
    "id": "kCU3mNCinFp1",
    "outputId": "d6d91adb-3930-40aa-fbaa-b9c5efb4ae85"
   },
   "outputs": [
    {
     "data": {
      "text/plain": [
       "(array([0, 1], dtype=object), array([23806,  1218]))"
      ]
     },
     "execution_count": 40,
     "metadata": {},
     "output_type": "execute_result"
    }
   ],
   "source": [
    "np.unique(np.array(training_set)[:,2],return_counts=True)"
   ]
  },
  {
   "cell_type": "markdown",
   "metadata": {
    "id": "3xAJZ6zQnT-U"
   },
   "source": [
    "From the above results we can see that there is unbalance in the weights between the two classes, and we need to make upsampling for the class 1 as it has a very small number in compare with the class 0. As class 0 has 23806, and class 1 has 1218."
   ]
  },
  {
   "cell_type": "code",
   "execution_count": 41,
   "metadata": {
    "execution": {
     "iopub.execute_input": "2022-04-08T20:37:36.770422Z",
     "iopub.status.busy": "2022-04-08T20:37:36.770052Z",
     "iopub.status.idle": "2022-04-08T20:37:36.852908Z",
     "shell.execute_reply": "2022-04-08T20:37:36.852025Z",
     "shell.execute_reply.started": "2022-04-08T20:37:36.770378Z"
    },
    "id": "JGIXIy3EuXVf"
   },
   "outputs": [],
   "source": [
    "# get features from the training set\n",
    "x = np.array(training_set)[:,0:2]\n",
    "# get the labels\n",
    "y = np.array(training_set)[:,2]"
   ]
  },
  {
   "cell_type": "code",
   "execution_count": 42,
   "metadata": {
    "execution": {
     "iopub.execute_input": "2022-04-08T20:37:36.854689Z",
     "iopub.status.busy": "2022-04-08T20:37:36.854149Z",
     "iopub.status.idle": "2022-04-08T20:37:36.864688Z",
     "shell.execute_reply": "2022-04-08T20:37:36.863647Z",
     "shell.execute_reply.started": "2022-04-08T20:37:36.854646Z"
    },
    "id": "ctMgCJFHn1vb"
   },
   "outputs": [],
   "source": [
    "# extract each class according to its label\n",
    "data_class0 = x[y == 0]\n",
    "data_class1 = x[y == 1]"
   ]
  },
  {
   "cell_type": "code",
   "execution_count": 43,
   "metadata": {
    "colab": {
     "base_uri": "https://localhost:8080/"
    },
    "execution": {
     "iopub.execute_input": "2022-04-08T20:37:36.867225Z",
     "iopub.status.busy": "2022-04-08T20:37:36.866821Z",
     "iopub.status.idle": "2022-04-08T20:37:36.879593Z",
     "shell.execute_reply": "2022-04-08T20:37:36.878057Z",
     "shell.execute_reply.started": "2022-04-08T20:37:36.867181Z"
    },
    "id": "fc3ED6v9l0eS",
    "outputId": "0fece7ce-1edc-423b-ed01-cad93c566b38"
   },
   "outputs": [
    {
     "name": "stdout",
     "output_type": "stream",
     "text": [
      "23806\n"
     ]
    }
   ],
   "source": [
    "# make resmapling for the class with the lower quantity\n",
    "from sklearn.utils import resample\n",
    "data_class1_upsample = resample(data_class1 ,\n",
    "             replace=True,\n",
    "             n_samples=len(data_class0),\n",
    "             random_state=42)\n",
    "\n",
    "print(len(class1_upsample))"
   ]
  },
  {
   "cell_type": "code",
   "execution_count": 44,
   "metadata": {
    "execution": {
     "iopub.execute_input": "2022-04-08T20:37:36.882200Z",
     "iopub.status.busy": "2022-04-08T20:37:36.881494Z",
     "iopub.status.idle": "2022-04-08T20:37:36.891261Z",
     "shell.execute_reply": "2022-04-08T20:37:36.890182Z",
     "shell.execute_reply.started": "2022-04-08T20:37:36.882155Z"
    },
    "id": "TbiuIcotwjAP"
   },
   "outputs": [],
   "source": [
    "# create array of zeros to be used to label the data that has zero labels and stack the columns together\n",
    "label_0 = np.zeros(len(data_class0)).astype(int)\n",
    "data_class0 = np.column_stack([data_class0,label_0])"
   ]
  },
  {
   "cell_type": "code",
   "execution_count": 45,
   "metadata": {
    "execution": {
     "iopub.execute_input": "2022-04-08T20:37:36.893744Z",
     "iopub.status.busy": "2022-04-08T20:37:36.893208Z",
     "iopub.status.idle": "2022-04-08T20:37:36.902728Z",
     "shell.execute_reply": "2022-04-08T20:37:36.901413Z",
     "shell.execute_reply.started": "2022-04-08T20:37:36.893699Z"
    },
    "id": "SKO1l7MQykH4"
   },
   "outputs": [],
   "source": [
    "# create array of ones to be used to label the data that need to have one labels after upsampling it and stack the \n",
    "# columns together\n",
    "label_1 = np.ones(len(data_class1_upsample)).astype(int)\n",
    "data_class1_upsample = np.column_stack([data_class1_upsample,label_1])"
   ]
  },
  {
   "cell_type": "code",
   "execution_count": 46,
   "metadata": {
    "execution": {
     "iopub.execute_input": "2022-04-08T20:37:36.907064Z",
     "iopub.status.busy": "2022-04-08T20:37:36.906731Z",
     "iopub.status.idle": "2022-04-08T20:37:36.915733Z",
     "shell.execute_reply": "2022-04-08T20:37:36.914509Z",
     "shell.execute_reply.started": "2022-04-08T20:37:36.907009Z"
    },
    "id": "C9w9ZzD0nF50"
   },
   "outputs": [],
   "source": [
    "# concatinate the two parts \n",
    "data_upsampled = np.concatenate([data_class0, data_class1_upsample])"
   ]
  },
  {
   "cell_type": "code",
   "execution_count": 47,
   "metadata": {
    "colab": {
     "base_uri": "https://localhost:8080/"
    },
    "execution": {
     "iopub.execute_input": "2022-04-08T20:37:36.918278Z",
     "iopub.status.busy": "2022-04-08T20:37:36.917842Z",
     "iopub.status.idle": "2022-04-08T20:37:36.966442Z",
     "shell.execute_reply": "2022-04-08T20:37:36.965300Z",
     "shell.execute_reply.started": "2022-04-08T20:37:36.918233Z"
    },
    "id": "t54FMdAw2taS",
    "outputId": "cd13d53a-2f59-42fa-d8bd-a04176227bd6"
   },
   "outputs": [
    {
     "data": {
      "text/plain": [
       "(array([0, 1], dtype=object), array([23806, 23806]))"
      ]
     },
     "execution_count": 47,
     "metadata": {},
     "output_type": "execute_result"
    }
   ],
   "source": [
    "np.unique(np.array(data_upsampled)[:,2],return_counts=True)"
   ]
  },
  {
   "cell_type": "code",
   "execution_count": 48,
   "metadata": {
    "execution": {
     "iopub.execute_input": "2022-04-08T20:37:36.970501Z",
     "iopub.status.busy": "2022-04-08T20:37:36.970261Z",
     "iopub.status.idle": "2022-04-08T20:37:36.981583Z",
     "shell.execute_reply": "2022-04-08T20:37:36.980318Z",
     "shell.execute_reply.started": "2022-04-08T20:37:36.970474Z"
    },
    "id": "BRyvh2Wr2_xR"
   },
   "outputs": [],
   "source": [
    "# split the upsampled data into training and validation\n",
    "training_set_up, validation_set_up = train_test_split(data_upsampled, test_size=0.15,)"
   ]
  },
  {
   "cell_type": "code",
   "execution_count": 49,
   "metadata": {
    "colab": {
     "base_uri": "https://localhost:8080/"
    },
    "execution": {
     "iopub.execute_input": "2022-04-08T20:37:36.984168Z",
     "iopub.status.busy": "2022-04-08T20:37:36.983404Z",
     "iopub.status.idle": "2022-04-08T20:37:37.534689Z",
     "shell.execute_reply": "2022-04-08T20:37:37.533790Z",
     "shell.execute_reply.started": "2022-04-08T20:37:36.984123Z"
    },
    "id": "VNBQZ9Fb32Or",
    "outputId": "fb7e7c0d-3146-441d-93f3-6bbec682b374"
   },
   "outputs": [
    {
     "name": "stdout",
     "output_type": "stream",
     "text": [
      "gnn_out KerasTensor(type_spec=TensorSpec(shape=(None, 256), dtype=tf.float32, name=None), name='gnn_4/StatefulPartitionedCall:0', description=\"created by layer 'gnn_4'\")\n",
      "mean: KerasTensor(type_spec=TensorSpec(shape=(None, 256), dtype=tf.float32, name=None), name='tf.math.segment_mean_4/SegmentMean:0', description=\"created by layer 'tf.math.segment_mean_4'\")\n",
      "pred: KerasTensor(type_spec=TensorSpec(shape=(None, 1), dtype=tf.float32, name=None), name='dense_4/Sigmoid:0', description=\"created by layer 'dense_4'\")\n",
      "Model: \"model_4\"\n",
      "__________________________________________________________________________________________________\n",
      " Layer (type)                   Output Shape         Param #     Connected to                     \n",
      "==================================================================================================\n",
      " input_15 (InputLayer)          [(None,)]            0           []                               \n",
      "                                                                                                  \n",
      " input_13 (InputLayer)          [(None,)]            0           []                               \n",
      "                                                                                                  \n",
      " tf.math.reduce_max_4 (TFOpLamb  ()                  0           ['input_15[0][0]']               \n",
      " da)                                                                                              \n",
      "                                                                                                  \n",
      " embedding_4 (Embedding)        (None, 30)           15000       ['input_13[0][0]']               \n",
      "                                                                                                  \n",
      " input_14 (InputLayer)          [(None, 2)]          0           []                               \n",
      "                                                                                                  \n",
      " tf.__operators__.add_4 (TFOpLa  ()                  0           ['tf.math.reduce_max_4[0][0]']   \n",
      " mbda)                                                                                            \n",
      "                                                                                                  \n",
      " gnn_4 (GNN)                    (None, 256)          927744      ['embedding_4[0][0]',            \n",
      "                                                                  'input_14[0][0]',               \n",
      "                                                                  'input_15[0][0]',               \n",
      "                                                                  'tf.__operators__.add_4[0][0]'] \n",
      "                                                                                                  \n",
      " tf.math.segment_mean_4 (TFOpLa  (None, 256)         0           ['gnn_4[0][0]',                  \n",
      " mbda)                                                            'input_15[0][0]']               \n",
      "                                                                                                  \n",
      " dense_4 (Dense)                (None, 1)            257         ['tf.math.segment_mean_4[0][0]'] \n",
      "                                                                                                  \n",
      "==================================================================================================\n",
      "Total params: 943,001\n",
      "Trainable params: 943,001\n",
      "Non-trainable params: 0\n",
      "__________________________________________________________________________________________________\n"
     ]
    }
   ],
   "source": [
    "# prepare input units for each input we have for the neural network\n",
    "data = keras.Input(batch_shape=(None,))\n",
    "# the first dim is different to the previous one, it is the total number of edges in this batch\n",
    "edge = keras.Input(batch_shape=(None, 2), dtype=tf.int32)\n",
    "node2graph = keras.Input(batch_shape=(None,), dtype=tf.int32)\n",
    "# insert the embedding layer with embedding space of 30 dimensions that will be applied on our data after victorized it\n",
    "embeded = Embedding(tokenizer.num_words, 30)(data)\n",
    "\n",
    "# number of graphs (number of samples), and add 1 as python is zero based \n",
    "num_graph = tf.reduce_max(node2graph)+1\n",
    "\n",
    "# prepare the Graph Neural Network input layer by give it its inputs\n",
    "gnn_input = GNNInput(\n",
    "    node_features=embeded,\n",
    "    adjacency_lists=(edge,),\n",
    "    node_to_graph_map=node2graph, \n",
    "    num_graphs=num_graph,\n",
    ")\n",
    "\n",
    "# get the parameters that are required to be used with the Graph Neural Network input layer so we can get the output\n",
    "# https://github.com/microsoft/tf2-gnn/blob/master/tf2_gnn/layers/gnn.py\n",
    "params = GNN.get_default_hyperparameters()\n",
    "# change the number of the size of the output of all message passing layers to 256 layer\n",
    "params[\"hidden_dim\"] = 256\n",
    "gnn_layer = GNN(params)\n",
    "gnn_out = gnn_layer(gnn_input)\n",
    "\n",
    "print('gnn_out', gnn_out)\n",
    "\n",
    "# get the mean of each sample in each batch by using the segment_mean as each sample is a segment in the array\n",
    "# https://www.tensorflow.org/api_docs/python/tf/math/segment_mean\n",
    "avg = segment_mean(\n",
    "    data=gnn_out,\n",
    "    segment_ids=node2graph\n",
    ")\n",
    "print('mean:', avg)\n",
    "\n",
    "# prepare the output node for our problem with 1 unit which gives 0 or 1 as we are making binary classification\n",
    "pred = Dense(1, activation='sigmoid')(avg)\n",
    "print('pred:', pred)\n",
    "\n",
    "# define our model and give it the inputs layers and the outputs layers\n",
    "model = Model(\n",
    "    inputs={\n",
    "        'data': data,\n",
    "        'edges': edge,\n",
    "        'node2grah': node2graph,\n",
    "    },\n",
    "    outputs=pred\n",
    ")\n",
    "# view the model with its parameters and shapes of the layers\n",
    "model.summary()"
   ]
  },
  {
   "cell_type": "code",
   "execution_count": 50,
   "metadata": {
    "execution": {
     "iopub.execute_input": "2022-04-08T20:37:37.536453Z",
     "iopub.status.busy": "2022-04-08T20:37:37.536138Z",
     "iopub.status.idle": "2022-04-08T20:37:37.551207Z",
     "shell.execute_reply": "2022-04-08T20:37:37.550129Z",
     "shell.execute_reply.started": "2022-04-08T20:37:37.536411Z"
    },
    "id": "MkE5GA0vlSwC"
   },
   "outputs": [],
   "source": [
    "# compile the model with BinaryCrossentropy loss as we are making binary classification, and AUC metric\n",
    "model.compile(\n",
    "    loss='BinaryCrossentropy',\n",
    "    metrics=['AUC']\n",
    ")"
   ]
  },
  {
   "cell_type": "code",
   "execution_count": 51,
   "metadata": {
    "colab": {
     "base_uri": "https://localhost:8080/"
    },
    "execution": {
     "iopub.execute_input": "2022-04-08T20:37:37.553830Z",
     "iopub.status.busy": "2022-04-08T20:37:37.553029Z",
     "iopub.status.idle": "2022-04-08T20:45:21.937496Z",
     "shell.execute_reply": "2022-04-08T20:45:21.936542Z",
     "shell.execute_reply.started": "2022-04-08T20:37:37.553783Z"
    },
    "id": "razGrVcglW8N",
    "outputId": "a631a94d-dd08-43ba-f2e1-e2868a29dbe6"
   },
   "outputs": [
    {
     "name": "stdout",
     "output_type": "stream",
     "text": [
      "Epoch 1/40\n",
      "317/317 [==============================] - 30s 86ms/step - loss: 0.6297 - auc: 0.7022 - val_loss: 0.6028 - val_auc: 0.7348\n",
      "Epoch 2/40\n",
      "317/317 [==============================] - 27s 84ms/step - loss: 0.5906 - auc: 0.7534 - val_loss: 0.6000 - val_auc: 0.7642\n",
      "Epoch 3/40\n",
      "317/317 [==============================] - 27s 84ms/step - loss: 0.5715 - auc: 0.7749 - val_loss: 0.6143 - val_auc: 0.7717\n",
      "Epoch 4/40\n",
      "317/317 [==============================] - 27s 83ms/step - loss: 0.5532 - auc: 0.7938 - val_loss: 0.5490 - val_auc: 0.8049\n",
      "Epoch 5/40\n",
      "317/317 [==============================] - 27s 84ms/step - loss: 0.5379 - auc: 0.8083 - val_loss: 0.5232 - val_auc: 0.8247\n",
      "Epoch 6/40\n",
      "317/317 [==============================] - 27s 84ms/step - loss: 0.5189 - auc: 0.8242 - val_loss: 0.5215 - val_auc: 0.8226\n",
      "Epoch 7/40\n",
      "317/317 [==============================] - 27s 84ms/step - loss: 0.5014 - auc: 0.8369 - val_loss: 0.5308 - val_auc: 0.8280\n",
      "Epoch 8/40\n",
      "317/317 [==============================] - 27s 84ms/step - loss: 0.4895 - auc: 0.8463 - val_loss: 0.4731 - val_auc: 0.8573\n",
      "Epoch 9/40\n",
      "317/317 [==============================] - 27s 84ms/step - loss: 0.4712 - auc: 0.8586 - val_loss: 0.5271 - val_auc: 0.8344\n",
      "Epoch 10/40\n",
      "317/317 [==============================] - 26s 83ms/step - loss: 0.4584 - auc: 0.8668 - val_loss: 0.5852 - val_auc: 0.8098\n",
      "Epoch 11/40\n",
      "317/317 [==============================] - 26s 84ms/step - loss: 0.4391 - auc: 0.8790 - val_loss: 0.4686 - val_auc: 0.8784\n",
      "Epoch 12/40\n",
      "317/317 [==============================] - 27s 84ms/step - loss: 0.4190 - auc: 0.8906 - val_loss: 0.4528 - val_auc: 0.8784\n",
      "Epoch 13/40\n",
      "317/317 [==============================] - 26s 83ms/step - loss: 0.3991 - auc: 0.9013 - val_loss: 0.4310 - val_auc: 0.8899\n",
      "Epoch 14/40\n",
      "317/317 [==============================] - 26s 83ms/step - loss: 0.3797 - auc: 0.9105 - val_loss: 0.4072 - val_auc: 0.9033\n",
      "Epoch 15/40\n",
      "317/317 [==============================] - 27s 84ms/step - loss: 0.3611 - auc: 0.9198 - val_loss: 0.5122 - val_auc: 0.8692\n",
      "Epoch 16/40\n",
      "317/317 [==============================] - 27s 84ms/step - loss: 0.3530 - auc: 0.9229 - val_loss: 0.3548 - val_auc: 0.9274\n",
      "Epoch 17/40\n",
      "317/317 [==============================] - 27s 84ms/step - loss: 0.3294 - auc: 0.9334 - val_loss: 0.3687 - val_auc: 0.9152\n",
      "Epoch 18/40\n",
      "317/317 [==============================] - 27s 84ms/step - loss: 0.3120 - auc: 0.9400 - val_loss: 0.3472 - val_auc: 0.9321\n",
      "Epoch 19/40\n",
      "317/317 [==============================] - 27s 84ms/step - loss: 0.3007 - auc: 0.9442 - val_loss: 0.3642 - val_auc: 0.9270\n",
      "Epoch 20/40\n",
      "317/317 [==============================] - 27s 84ms/step - loss: 0.2866 - auc: 0.9491 - val_loss: 0.3113 - val_auc: 0.9449\n",
      "Epoch 21/40\n",
      "317/317 [==============================] - 27s 84ms/step - loss: 0.2742 - auc: 0.9534 - val_loss: 0.3852 - val_auc: 0.9167\n",
      "Epoch 22/40\n",
      "317/317 [==============================] - 27s 84ms/step - loss: 0.2579 - auc: 0.9586 - val_loss: 0.3529 - val_auc: 0.9267\n",
      "Epoch 23/40\n",
      "317/317 [==============================] - 27s 84ms/step - loss: 0.2502 - auc: 0.9608 - val_loss: 0.4074 - val_auc: 0.9187\n",
      "Epoch 24/40\n",
      "317/317 [==============================] - 27s 84ms/step - loss: 0.2433 - auc: 0.9627 - val_loss: 0.3579 - val_auc: 0.9310\n",
      "Epoch 25/40\n",
      "317/317 [==============================] - 27s 84ms/step - loss: 0.2349 - auc: 0.9655 - val_loss: 0.2372 - val_auc: 0.9636\n",
      "Epoch 26/40\n",
      "317/317 [==============================] - 26s 83ms/step - loss: 0.2206 - auc: 0.9689 - val_loss: 0.2226 - val_auc: 0.9682\n",
      "Epoch 27/40\n",
      "317/317 [==============================] - 27s 84ms/step - loss: 0.2129 - auc: 0.9711 - val_loss: 0.2543 - val_auc: 0.9643\n",
      "Epoch 28/40\n",
      "317/317 [==============================] - 27s 84ms/step - loss: 0.2101 - auc: 0.9715 - val_loss: 0.2491 - val_auc: 0.9617\n",
      "Epoch 29/40\n",
      "317/317 [==============================] - 27s 84ms/step - loss: 0.2007 - auc: 0.9740 - val_loss: 0.1905 - val_auc: 0.9783\n",
      "Epoch 30/40\n",
      "317/317 [==============================] - 27s 84ms/step - loss: 0.1925 - auc: 0.9758 - val_loss: 0.1863 - val_auc: 0.9765\n",
      "Epoch 31/40\n",
      "317/317 [==============================] - 27s 84ms/step - loss: 0.1900 - auc: 0.9765 - val_loss: 0.1937 - val_auc: 0.9762\n",
      "Epoch 32/40\n",
      "317/317 [==============================] - 27s 84ms/step - loss: 0.1814 - auc: 0.9780 - val_loss: 0.2868 - val_auc: 0.9584\n",
      "Epoch 33/40\n",
      "317/317 [==============================] - 26s 83ms/step - loss: 0.1768 - auc: 0.9792 - val_loss: 0.2085 - val_auc: 0.9708\n",
      "Epoch 34/40\n",
      "317/317 [==============================] - 27s 84ms/step - loss: 0.1687 - auc: 0.9806 - val_loss: 0.2066 - val_auc: 0.9792\n",
      "Epoch 35/40\n",
      "317/317 [==============================] - 27s 85ms/step - loss: 0.1689 - auc: 0.9810 - val_loss: 0.1748 - val_auc: 0.9798\n",
      "Epoch 36/40\n",
      "317/317 [==============================] - 27s 85ms/step - loss: 0.1603 - auc: 0.9824 - val_loss: 0.2137 - val_auc: 0.9777\n",
      "Epoch 37/40\n",
      "317/317 [==============================] - 27s 85ms/step - loss: 0.1540 - auc: 0.9837 - val_loss: 0.2708 - val_auc: 0.9635\n",
      "Epoch 38/40\n",
      "317/317 [==============================] - 27s 84ms/step - loss: 0.1499 - auc: 0.9842 - val_loss: 0.1898 - val_auc: 0.9799\n",
      "Epoch 39/40\n",
      "317/317 [==============================] - 27s 84ms/step - loss: 0.1509 - auc: 0.9842 - val_loss: 0.1902 - val_auc: 0.9800\n",
      "Epoch 40/40\n",
      "317/317 [==============================] - 27s 84ms/step - loss: 0.1463 - auc: 0.9853 - val_loss: 0.1825 - val_auc: 0.9822\n"
     ]
    }
   ],
   "source": [
    "# define the size of the batch\n",
    "batch_size = 128\n",
    "# get the number of the batches in the training and validation by splitting the size of the training data or validation data\n",
    "# by the size required for the batch\n",
    "num_batchs = math.ceil(len(training_set_up) / batch_size)\n",
    "num_batchs_validation = math.ceil(len(validation_set_up) / batch_size)\n",
    "\n",
    "# fit the model on the training data and validation data by generating the bathes for the training and validation\n",
    "history = model.fit(\n",
    "    gen_batch(\n",
    "        training_set_up, batch_size=batch_size, repeat=True\n",
    "    ),\n",
    "    steps_per_epoch=num_batchs,\n",
    "    epochs=40,\n",
    "    validation_data=gen_batch(\n",
    "        validation_set_up, batch_size=128, repeat=True\n",
    "    ),\n",
    "    validation_steps=num_batchs_validation,\n",
    ")"
   ]
  },
  {
   "cell_type": "code",
   "execution_count": 52,
   "metadata": {
    "execution": {
     "iopub.execute_input": "2022-04-08T20:45:21.940106Z",
     "iopub.status.busy": "2022-04-08T20:45:21.939702Z",
     "iopub.status.idle": "2022-04-08T20:45:23.261131Z",
     "shell.execute_reply": "2022-04-08T20:45:23.260043Z",
     "shell.execute_reply.started": "2022-04-08T20:45:21.940009Z"
    },
    "id": "2K7Ky_NPlbTm"
   },
   "outputs": [],
   "source": [
    "# predict the outputs also by generating the batch by the given size\n",
    "y_pred = model.predict(\n",
    "    gen_batch(testing_set, batch_size=128, shuffle=False)\n",
    ")\n",
    "y_pred = np.reshape(y_pred, -1)"
   ]
  },
  {
   "cell_type": "code",
   "execution_count": 53,
   "metadata": {
    "execution": {
     "iopub.execute_input": "2022-04-08T20:45:23.263312Z",
     "iopub.status.busy": "2022-04-08T20:45:23.263013Z",
     "iopub.status.idle": "2022-04-08T20:45:23.308502Z",
     "shell.execute_reply": "2022-04-08T20:45:23.307609Z",
     "shell.execute_reply.started": "2022-04-08T20:45:23.263269Z"
    },
    "id": "1jmc1IKl3RZh"
   },
   "outputs": [],
   "source": [
    "# save the predictions in a csv file to submit it on Kaggle\n",
    "submission = pd.DataFrame({'label':y_pred})\n",
    "submission.index.name = 'id'\n",
    "submission.to_csv('try 5.csv')"
   ]
  },
  {
   "cell_type": "code",
   "execution_count": 54,
   "metadata": {
    "colab": {
     "base_uri": "https://localhost:8080/",
     "height": 0
    },
    "execution": {
     "iopub.execute_input": "2022-04-08T20:45:23.310708Z",
     "iopub.status.busy": "2022-04-08T20:45:23.309767Z",
     "iopub.status.idle": "2022-04-08T20:45:23.945822Z",
     "shell.execute_reply": "2022-04-08T20:45:23.944783Z",
     "shell.execute_reply.started": "2022-04-08T20:45:23.310662Z"
    },
    "id": "VWYsUFOfKNvU",
    "outputId": "15855b50-7284-4637-a6ab-def7a41564c4"
   },
   "outputs": [
    {
     "data": {
      "image/png": "[encoded data removed]",
      "text/plain": [
       "<Figure size 864x288 with 2 Axes>"
      ]
     },
     "metadata": {
      "needs_background": "light"
     },
     "output_type": "display_data"
    }
   ],
   "source": [
    "plt_function_op(history)"
   ]
  },
  {
   "cell_type": "markdown",
   "metadata": {
    "id": "PaqtMc2LKNvU"
   },
   "source": [
    "## Thoughts and observation for trial 5:\n",
    "This gave a score on Kaggle = 0.82407.\n",
    "\n",
    "I thought this trial will be very good as now I made the balanced and each class has the same weight in the contribution in the model. Although the number of the units in the embedding layer were small, the results are good in comparing it with the results I got in trial 1 before upsampling the data. I tried to control the overfitting on the training data by validate the model. I used a batch size not small and this helps also in preventing the overfitting.\n",
    "So, by training the model I reached auc on the validation set = 0.9822, and the resultant auc on Kaggel is 0.82407. So, I think the model is learned well from the input features as the validation result is very good. Besides, from the above graphs we can see that there is no overfitting or underfitting, and the results are good enough. So, the upsampling for the data has a good effect on the results. And the oscillations are decreased a lot. I think with aggregation methods would be better more.\n",
    "\n",
    "\n",
    "## Plan for the trial 6:\n",
    "I will continue with the same preprocessing way with the upsampled data. But I will make some changes in the model. By applying an aggregation method = 'GGNN' in the parameters of the GNN input layer. \n",
    "\n",
    "Which helps in unrolling recurrence for a fixed number of steps and just use backpropagation through time with modern  optimization methods.It changed also the propagation model a bit to use gating mechanisms like in LSTMs and GRUs. So, now the learning to compute representations within a fixed budget, and the gating makes the propagation model better. \n",
    "And I will apply the model on the upsampling data. With one embedded layer with dimensional space of 700 dimensions that will be applied on our data after victorized it, and in the hidden dimentional in the GNN input layer, I will use 128 unit in it."
   ]
  },
  {
   "cell_type": "markdown",
   "metadata": {
    "id": "UAbrHpgYtl01"
   },
   "source": [
    "# Trial 6\n",
    "With upsampling + aggregation method =  \"GGNN\" + 700 dimensional space in embedded layer, and 128 unit in the hidden dimentional in the GNN input layer.\n"
   ]
  },
  {
   "cell_type": "code",
   "execution_count": 55,
   "metadata": {
    "colab": {
     "base_uri": "https://localhost:8080/"
    },
    "execution": {
     "iopub.execute_input": "2022-04-08T20:45:23.950019Z",
     "iopub.status.busy": "2022-04-08T20:45:23.949326Z",
     "iopub.status.idle": "2022-04-08T20:45:25.173685Z",
     "shell.execute_reply": "2022-04-08T20:45:25.172779Z",
     "shell.execute_reply.started": "2022-04-08T20:45:23.949946Z"
    },
    "id": "Z4o8yuNU3fXi",
    "outputId": "f6d36340-8698-4025-89f1-4688b43cfef8"
   },
   "outputs": [
    {
     "name": "stdout",
     "output_type": "stream",
     "text": [
      "gnn_out KerasTensor(type_spec=TensorSpec(shape=(None, 128), dtype=tf.float32, name=None), name='gnn_5/StatefulPartitionedCall:0', description=\"created by layer 'gnn_5'\")\n",
      "mean: KerasTensor(type_spec=TensorSpec(shape=(None, 128), dtype=tf.float32, name=None), name='tf.math.segment_mean_5/SegmentMean:0', description=\"created by layer 'tf.math.segment_mean_5'\")\n",
      "pred: KerasTensor(type_spec=TensorSpec(shape=(None, 1), dtype=tf.float32, name=None), name='dense_5/Sigmoid:0', description=\"created by layer 'dense_5'\")\n",
      "Model: \"model_5\"\n",
      "__________________________________________________________________________________________________\n",
      " Layer (type)                   Output Shape         Param #     Connected to                     \n",
      "==================================================================================================\n",
      " input_18 (InputLayer)          [(None,)]            0           []                               \n",
      "                                                                                                  \n",
      " input_16 (InputLayer)          [(None,)]            0           []                               \n",
      "                                                                                                  \n",
      " tf.math.reduce_max_5 (TFOpLamb  ()                  0           ['input_18[0][0]']               \n",
      " da)                                                                                              \n",
      "                                                                                                  \n",
      " embedding_5 (Embedding)        (None, 700)          350000      ['input_16[0][0]']               \n",
      "                                                                                                  \n",
      " input_17 (InputLayer)          [(None, 2)]          0           []                               \n",
      "                                                                                                  \n",
      " tf.__operators__.add_5 (TFOpLa  ()                  0           ['tf.math.reduce_max_5[0][0]']   \n",
      " mbda)                                                                                            \n",
      "                                                                                                  \n",
      " gnn_5 (GNN)                    (None, 128)          732928      ['embedding_5[0][0]',            \n",
      "                                                                  'input_17[0][0]',               \n",
      "                                                                  'input_18[0][0]',               \n",
      "                                                                  'tf.__operators__.add_5[0][0]'] \n",
      "                                                                                                  \n",
      " tf.math.segment_mean_5 (TFOpLa  (None, 128)         0           ['gnn_5[0][0]',                  \n",
      " mbda)                                                            'input_18[0][0]']               \n",
      "                                                                                                  \n",
      " dense_5 (Dense)                (None, 1)            129         ['tf.math.segment_mean_5[0][0]'] \n",
      "                                                                                                  \n",
      "==================================================================================================\n",
      "Total params: 1,083,057\n",
      "Trainable params: 1,083,057\n",
      "Non-trainable params: 0\n",
      "__________________________________________________________________________________________________\n"
     ]
    }
   ],
   "source": [
    "# prepare input units for each input we have for the neural network\n",
    "data = keras.Input(batch_shape=(None,))\n",
    "# the first dim is different to the previous one, it is the total number of edges in this batch\n",
    "edge = keras.Input(batch_shape=(None, 2), dtype=tf.int32)\n",
    "node2graph = keras.Input(batch_shape=(None,), dtype=tf.int32)\n",
    "# insert the embedding layer with embedding space of 700 dimensions that will be applied on our data after victorized it\n",
    "embeded = Embedding(tokenizer.num_words, 700)(data)\n",
    "\n",
    "# number of graphs (number of samples), and add 1 as python is zero based \n",
    "num_graph = tf.reduce_max(node2graph)+1\n",
    "\n",
    "# prepare the Graph Neural Network input layer by give it its inputs\n",
    "gnn_input = GNNInput(\n",
    "    node_features=embeded,\n",
    "    adjacency_lists=(edge,),\n",
    "    node_to_graph_map=node2graph, \n",
    "    num_graphs=num_graph,\n",
    ")\n",
    "\n",
    "# get the parameters that are required to be used with the Graph Neural Network input layer so we can get the output\n",
    "# https://github.com/microsoft/tf2-gnn/blob/master/tf2_gnn/layers/gnn.py\n",
    "params = GNN.get_default_hyperparameters()\n",
    "# change the number of the size of the output of all message passing layers to 128 layer\n",
    "params[\"hidden_dim\"] = 128\n",
    "# define the aggregation method\n",
    "params[\"message_calculation_class\"] = \"GGNN\"\n",
    "gnn_layer = GNN(params)\n",
    "gnn_out = gnn_layer(gnn_input)\n",
    "\n",
    "print('gnn_out', gnn_out)\n",
    "\n",
    "# get the mean of each sample in each batch by using the segment_mean as each sample is a segment in the array\n",
    "# https://www.tensorflow.org/api_docs/python/tf/math/segment_mean\n",
    "avg = segment_mean(\n",
    "    data=gnn_out,\n",
    "    segment_ids=node2graph\n",
    ")\n",
    "print('mean:', avg)\n",
    "\n",
    "# prepare the output node for our problem with 1 unit which gives 0 or 1 as we are making binary classification\n",
    "pred = Dense(1, activation='sigmoid')(avg)\n",
    "print('pred:', pred)\n",
    "\n",
    "# define our model and give it the inputs layers and the outputs layers\n",
    "model = Model(\n",
    "    inputs={\n",
    "        'data': data,\n",
    "        'edges': edge,\n",
    "        'node2grah': node2graph,\n",
    "    },\n",
    "    outputs=pred\n",
    ")\n",
    "# view the model with its parameters and shapes of the layers\n",
    "model.summary()"
   ]
  },
  {
   "cell_type": "code",
   "execution_count": 56,
   "metadata": {
    "execution": {
     "iopub.execute_input": "2022-04-08T20:45:25.181048Z",
     "iopub.status.busy": "2022-04-08T20:45:25.178233Z",
     "iopub.status.idle": "2022-04-08T20:45:25.197737Z",
     "shell.execute_reply": "2022-04-08T20:45:25.196569Z",
     "shell.execute_reply.started": "2022-04-08T20:45:25.180984Z"
    },
    "id": "bC50gdS_t8tr"
   },
   "outputs": [],
   "source": [
    "model.compile(\n",
    "    loss='BinaryCrossentropy',\n",
    "    metrics=['AUC']\n",
    ")"
   ]
  },
  {
   "cell_type": "code",
   "execution_count": 57,
   "metadata": {
    "colab": {
     "base_uri": "https://localhost:8080/"
    },
    "execution": {
     "iopub.execute_input": "2022-04-08T20:45:25.207227Z",
     "iopub.status.busy": "2022-04-08T20:45:25.204636Z",
     "iopub.status.idle": "2022-04-08T20:56:32.629164Z",
     "shell.execute_reply": "2022-04-08T20:56:32.628259Z",
     "shell.execute_reply.started": "2022-04-08T20:45:25.207183Z"
    },
    "id": "nCas6peft-o3",
    "outputId": "bb679289-3ec9-4dc2-b8b2-d60580518606"
   },
   "outputs": [
    {
     "name": "stdout",
     "output_type": "stream",
     "text": [
      "Epoch 1/40\n",
      "633/633 [==============================] - 41s 58ms/step - loss: 0.6010 - auc: 0.7392 - val_loss: 0.5405 - val_auc: 0.8136\n",
      "Epoch 2/40\n",
      "633/633 [==============================] - 36s 57ms/step - loss: 0.5259 - auc: 0.8158 - val_loss: 0.4905 - val_auc: 0.8490\n",
      "Epoch 3/40\n",
      "633/633 [==============================] - 36s 57ms/step - loss: 0.4589 - auc: 0.8656 - val_loss: 0.4218 - val_auc: 0.8908\n",
      "Epoch 4/40\n",
      "633/633 [==============================] - 36s 57ms/step - loss: 0.4134 - auc: 0.8930 - val_loss: 0.3855 - val_auc: 0.9088\n",
      "Epoch 5/40\n",
      "633/633 [==============================] - 36s 57ms/step - loss: 0.3681 - auc: 0.9161 - val_loss: 0.3658 - val_auc: 0.9206\n",
      "Epoch 6/40\n",
      "633/633 [==============================] - 36s 57ms/step - loss: 0.3316 - auc: 0.9317 - val_loss: 0.3166 - val_auc: 0.9421\n",
      "Epoch 7/40\n",
      "633/633 [==============================] - 36s 57ms/step - loss: 0.2979 - auc: 0.9447 - val_loss: 0.2916 - val_auc: 0.9477\n",
      "Epoch 8/40\n",
      "633/633 [==============================] - 36s 57ms/step - loss: 0.2639 - auc: 0.9557 - val_loss: 0.2794 - val_auc: 0.9549\n",
      "Epoch 9/40\n",
      "633/633 [==============================] - 36s 57ms/step - loss: 0.2324 - auc: 0.9650 - val_loss: 0.2120 - val_auc: 0.9732\n",
      "Epoch 10/40\n",
      "633/633 [==============================] - 36s 57ms/step - loss: 0.2133 - auc: 0.9699 - val_loss: 0.2042 - val_auc: 0.9748\n",
      "Epoch 11/40\n",
      "633/633 [==============================] - 37s 58ms/step - loss: 0.1943 - auc: 0.9742 - val_loss: 0.1965 - val_auc: 0.9732\n",
      "Epoch 12/40\n",
      "633/633 [==============================] - 36s 57ms/step - loss: 0.1783 - auc: 0.9781 - val_loss: 0.2288 - val_auc: 0.9741\n",
      "Epoch 13/40\n",
      "633/633 [==============================] - 36s 57ms/step - loss: 0.1632 - auc: 0.9809 - val_loss: 0.1827 - val_auc: 0.9763\n",
      "Epoch 14/40\n",
      "633/633 [==============================] - 36s 57ms/step - loss: 0.1506 - auc: 0.9835 - val_loss: 0.1808 - val_auc: 0.9819\n",
      "Epoch 15/40\n",
      "633/633 [==============================] - 36s 57ms/step - loss: 0.1405 - auc: 0.9851 - val_loss: 0.2078 - val_auc: 0.9765\n",
      "Epoch 16/40\n",
      "633/633 [==============================] - 36s 57ms/step - loss: 0.1322 - auc: 0.9868 - val_loss: 0.1663 - val_auc: 0.9864\n",
      "Epoch 17/40\n",
      "633/633 [==============================] - 36s 57ms/step - loss: 0.1256 - auc: 0.9878 - val_loss: 0.1626 - val_auc: 0.9851\n",
      "Epoch 18/40\n",
      "633/633 [==============================] - 36s 57ms/step - loss: 0.1189 - auc: 0.9885 - val_loss: 0.1469 - val_auc: 0.9861\n",
      "Epoch 19/40\n",
      "633/633 [==============================] - 36s 57ms/step - loss: 0.1104 - auc: 0.9900 - val_loss: 0.1529 - val_auc: 0.9852\n",
      "Epoch 20/40\n",
      "633/633 [==============================] - 36s 57ms/step - loss: 0.1078 - auc: 0.9903 - val_loss: 0.1401 - val_auc: 0.9859\n",
      "Epoch 21/40\n",
      "633/633 [==============================] - 36s 57ms/step - loss: 0.1051 - auc: 0.9906 - val_loss: 0.1450 - val_auc: 0.9885\n",
      "Epoch 22/40\n",
      "633/633 [==============================] - 36s 57ms/step - loss: 0.0985 - auc: 0.9919 - val_loss: 0.1540 - val_auc: 0.9887\n",
      "Epoch 23/40\n",
      "633/633 [==============================] - 37s 58ms/step - loss: 0.0916 - auc: 0.9929 - val_loss: 0.1596 - val_auc: 0.9888\n",
      "Epoch 24/40\n",
      "633/633 [==============================] - 36s 57ms/step - loss: 0.0901 - auc: 0.9927 - val_loss: 0.1469 - val_auc: 0.9867\n",
      "Epoch 25/40\n",
      "633/633 [==============================] - 36s 57ms/step - loss: 0.0881 - auc: 0.9931 - val_loss: 0.3593 - val_auc: 0.9564\n",
      "Epoch 26/40\n",
      "633/633 [==============================] - 36s 57ms/step - loss: 0.0853 - auc: 0.9931 - val_loss: 0.1451 - val_auc: 0.9883\n",
      "Epoch 27/40\n",
      "633/633 [==============================] - 36s 57ms/step - loss: 0.0814 - auc: 0.9936 - val_loss: 0.1211 - val_auc: 0.9896\n",
      "Epoch 28/40\n",
      "633/633 [==============================] - 36s 57ms/step - loss: 0.0801 - auc: 0.9939 - val_loss: 0.1710 - val_auc: 0.9864\n",
      "Epoch 29/40\n",
      "633/633 [==============================] - 36s 57ms/step - loss: 0.0761 - auc: 0.9942 - val_loss: 0.1890 - val_auc: 0.9848\n",
      "Epoch 30/40\n",
      "633/633 [==============================] - 36s 57ms/step - loss: 0.0736 - auc: 0.9946 - val_loss: 0.1246 - val_auc: 0.9909\n",
      "Epoch 31/40\n",
      "633/633 [==============================] - 36s 57ms/step - loss: 0.0718 - auc: 0.9948 - val_loss: 0.1202 - val_auc: 0.9910\n",
      "Epoch 32/40\n",
      "633/633 [==============================] - 36s 57ms/step - loss: 0.0723 - auc: 0.9949 - val_loss: 0.1365 - val_auc: 0.9903\n",
      "Epoch 33/40\n",
      "633/633 [==============================] - 36s 57ms/step - loss: 0.0681 - auc: 0.9954 - val_loss: 0.1448 - val_auc: 0.9890\n",
      "Epoch 34/40\n",
      "633/633 [==============================] - 36s 57ms/step - loss: 0.0670 - auc: 0.9955 - val_loss: 0.1654 - val_auc: 0.9864\n",
      "Epoch 35/40\n",
      "633/633 [==============================] - 36s 57ms/step - loss: 0.0661 - auc: 0.9953 - val_loss: 0.1459 - val_auc: 0.9876\n",
      "Epoch 36/40\n",
      "633/633 [==============================] - 36s 57ms/step - loss: 0.0646 - auc: 0.9955 - val_loss: 0.1157 - val_auc: 0.9906\n",
      "Epoch 37/40\n",
      "633/633 [==============================] - 36s 57ms/step - loss: 0.0651 - auc: 0.9953 - val_loss: 0.1452 - val_auc: 0.9886\n",
      "Epoch 38/40\n",
      "633/633 [==============================] - 36s 57ms/step - loss: 0.0622 - auc: 0.9957 - val_loss: 0.1323 - val_auc: 0.9892\n",
      "Epoch 39/40\n",
      "633/633 [==============================] - 36s 57ms/step - loss: 0.0631 - auc: 0.9959 - val_loss: 0.1306 - val_auc: 0.9896\n",
      "Epoch 40/40\n",
      "633/633 [==============================] - 36s 57ms/step - loss: 0.0593 - auc: 0.9962 - val_loss: 0.1314 - val_auc: 0.9892\n"
     ]
    }
   ],
   "source": [
    "# define the size of the batch\n",
    "batch_size = 64\n",
    "# get the number of the batches in the training and validation by splitting the size of the training data or validation data\n",
    "# by the size required for the batch\n",
    "num_batchs = math.ceil(len(training_set_up) / batch_size)\n",
    "num_batchs_validation = math.ceil(len(validation_set_up) / batch_size)\n",
    "\n",
    "# fit the model on the training data and validation data by generating the bathes for the training and validation\n",
    "history = model.fit(\n",
    "    gen_batch(\n",
    "        training_set_up, batch_size=batch_size, repeat=True\n",
    "    ),\n",
    "    steps_per_epoch=num_batchs,\n",
    "    epochs=40,\n",
    "    validation_data=gen_batch(\n",
    "        validation_set_up, batch_size=64, repeat=True\n",
    "    ),\n",
    "    validation_steps=num_batchs_validation,\n",
    ")\n"
   ]
  },
  {
   "cell_type": "code",
   "execution_count": 58,
   "metadata": {
    "execution": {
     "iopub.execute_input": "2022-04-08T20:56:32.631220Z",
     "iopub.status.busy": "2022-04-08T20:56:32.630906Z",
     "iopub.status.idle": "2022-04-08T20:56:34.329921Z",
     "shell.execute_reply": "2022-04-08T20:56:34.328964Z",
     "shell.execute_reply.started": "2022-04-08T20:56:32.631188Z"
    },
    "id": "V3RXYMOWuDFz"
   },
   "outputs": [],
   "source": [
    "# predict the outputs also by generating the batch by the given size\n",
    "y_pred = model.predict(\n",
    "    gen_batch(testing_set, batch_size=64, shuffle=False)\n",
    ")\n",
    "y_pred = np.reshape(y_pred, -1)"
   ]
  },
  {
   "cell_type": "code",
   "execution_count": 59,
   "metadata": {
    "execution": {
     "iopub.execute_input": "2022-04-08T20:56:34.332202Z",
     "iopub.status.busy": "2022-04-08T20:56:34.331888Z",
     "iopub.status.idle": "2022-04-08T20:56:34.381836Z",
     "shell.execute_reply": "2022-04-08T20:56:34.380699Z",
     "shell.execute_reply.started": "2022-04-08T20:56:34.332164Z"
    },
    "id": "T4Hh7NdFuG6b"
   },
   "outputs": [],
   "source": [
    "# save the predictions in a csv file to submit it on Kaggle\n",
    "submission = pd.DataFrame({'label':y_pred})\n",
    "submission.index.name = 'id'\n",
    "submission.to_csv('try 6.csv')"
   ]
  },
  {
   "cell_type": "code",
   "execution_count": 60,
   "metadata": {
    "colab": {
     "base_uri": "https://localhost:8080/",
     "height": 0
    },
    "execution": {
     "iopub.execute_input": "2022-04-08T20:56:34.384281Z",
     "iopub.status.busy": "2022-04-08T20:56:34.383827Z",
     "iopub.status.idle": "2022-04-08T20:56:35.027334Z",
     "shell.execute_reply": "2022-04-08T20:56:35.026252Z",
     "shell.execute_reply.started": "2022-04-08T20:56:34.384228Z"
    },
    "id": "AGtx_tWpKNvV",
    "outputId": "51867e6d-0ae4-4804-a7f2-3e77c7192a28"
   },
   "outputs": [
    {
     "data": {
      "image/png": "[encoded data removed]",
      "text/plain": [
       "<Figure size 864x288 with 2 Axes>"
      ]
     },
     "metadata": {
      "needs_background": "light"
     },
     "output_type": "display_data"
    }
   ],
   "source": [
    "plt_function_op(history)"
   ]
  },
  {
   "cell_type": "markdown",
   "metadata": {
    "id": "I_y1ByYyKNvV"
   },
   "source": [
    "## Thoughts and observation for trial 6:\n",
    "This gave a score on Kaggle = 0.84245.\n",
    "\n",
    "I thought this trial will be perfect as now I made the balanced and each class has the same weight in the contribution in the model. Besides, I used the aggregation method =  GGNN, which gave me a very good results before the upsampling. I increased the number of the units in the embedding layer, so all of this I thought the results will be good and the model will learn well from the features. I tried to control the overfitting on the training data by validate the model. I used a batch size not small and this helps also in preventing the overfitting.\n",
    "So, by training the model I reached auc on the validation set = 0.9892, and the resultant auc on Kaggel is 0.84245. So, this means there is no overfitting or underfitting in the model. Besides, from the above graphs we can see that there is no overfitting but the results are good enough. So, the upsampling for the data has a very good effect on the results with the using of the aggregation method = GGNN. Besides, increasing the number of the units in the embedding layer helped the model. But we can see from the graph the model didn't work well on the validation data from epoch 20 to 25, but then it returned to be good.\n",
    "\n",
    "\n",
    "## Plan for the trial 7:\n",
    "I will continue with the same preprocessing way on the upsampling data. But I will make some changes in the model. By applying an aggregation method = 'RGAT' in the parameters of the GNN input layer. \n",
    "\n",
    "Which helps in solving the problem of focusing on modelling simple undirected and single relational graph data only that is happened by Graph Attention Network (GAT). So, this limits its ability to deal with more general and complex multi-relational graphs that contain entities with directed links of different labels. Therefore, directly applying GAT on multi-relational graphs leads to sub-optimal solutions. So, using RGAT helps to learn multi-channel entity representations. Specifically, each channel corresponds to a latent semantic aspect of an entity. This enables to aggregate neighborhood information for the current aspect using relation features. Therefore, we propose a query-aware attention mechanism for subsequent tasks to select useful aspects. Extensive experiments on link prediction and entity classification tasks show that our r-GAT can model multi-relational graphs effectively.\n",
    "\n",
    "So, I can see the effect of the upsampling data with the RGAT aggregation method."
   ]
  },
  {
   "cell_type": "markdown",
   "metadata": {
    "id": "XMPSfNILuPJc"
   },
   "source": [
    "# Trial 7\n",
    "With upsampling data + RGAT aggregation method + 500 dimensional space in embedded layer, and 128 unit in the hidden dimentional in the GNN input layer."
   ]
  },
  {
   "cell_type": "code",
   "execution_count": 61,
   "metadata": {
    "colab": {
     "base_uri": "https://localhost:8080/"
    },
    "execution": {
     "iopub.execute_input": "2022-04-08T20:56:35.035280Z",
     "iopub.status.busy": "2022-04-08T20:56:35.032873Z",
     "iopub.status.idle": "2022-04-08T20:56:35.836631Z",
     "shell.execute_reply": "2022-04-08T20:56:35.835668Z",
     "shell.execute_reply.started": "2022-04-08T20:56:35.035225Z"
    },
    "id": "RyPlhjBakfP8",
    "outputId": "cb822694-720a-490c-cd7d-5f72a10cff73"
   },
   "outputs": [
    {
     "name": "stdout",
     "output_type": "stream",
     "text": [
      "gnn_out KerasTensor(type_spec=TensorSpec(shape=(None, 128), dtype=tf.float32, name=None), name='gnn_6/StatefulPartitionedCall:0', description=\"created by layer 'gnn_6'\")\n",
      "mean: KerasTensor(type_spec=TensorSpec(shape=(None, 128), dtype=tf.float32, name=None), name='tf.math.segment_mean_6/SegmentMean:0', description=\"created by layer 'tf.math.segment_mean_6'\")\n",
      "pred: KerasTensor(type_spec=TensorSpec(shape=(None, 1), dtype=tf.float32, name=None), name='dense_6/Sigmoid:0', description=\"created by layer 'dense_6'\")\n",
      "Model: \"model_6\"\n",
      "__________________________________________________________________________________________________\n",
      " Layer (type)                   Output Shape         Param #     Connected to                     \n",
      "==================================================================================================\n",
      " input_21 (InputLayer)          [(None,)]            0           []                               \n",
      "                                                                                                  \n",
      " input_19 (InputLayer)          [(None,)]            0           []                               \n",
      "                                                                                                  \n",
      " tf.math.reduce_max_6 (TFOpLamb  ()                  0           ['input_21[0][0]']               \n",
      " da)                                                                                              \n",
      "                                                                                                  \n",
      " embedding_6 (Embedding)        (None, 500)          250000      ['input_19[0][0]']               \n",
      "                                                                                                  \n",
      " input_20 (InputLayer)          [(None, 2)]          0           []                               \n",
      "                                                                                                  \n",
      " tf.__operators__.add_6 (TFOpLa  ()                  0           ['tf.math.reduce_max_6[0][0]']   \n",
      " mbda)                                                                                            \n",
      "                                                                                                  \n",
      " gnn_6 (GNN)                    (None, 128)          312064      ['embedding_6[0][0]',            \n",
      "                                                                  'input_20[0][0]',               \n",
      "                                                                  'input_21[0][0]',               \n",
      "                                                                  'tf.__operators__.add_6[0][0]'] \n",
      "                                                                                                  \n",
      " tf.math.segment_mean_6 (TFOpLa  (None, 128)         0           ['gnn_6[0][0]',                  \n",
      " mbda)                                                            'input_21[0][0]']               \n",
      "                                                                                                  \n",
      " dense_6 (Dense)                (None, 1)            129         ['tf.math.segment_mean_6[0][0]'] \n",
      "                                                                                                  \n",
      "==================================================================================================\n",
      "Total params: 562,193\n",
      "Trainable params: 562,193\n",
      "Non-trainable params: 0\n",
      "__________________________________________________________________________________________________\n"
     ]
    }
   ],
   "source": [
    "# prepare input units for each input we have for the neural network\n",
    "data = keras.Input(batch_shape=(None,))\n",
    "# the first dim is different to the previous one, it is the total number of edges in this batch\n",
    "edge = keras.Input(batch_shape=(None, 2), dtype=tf.int32)\n",
    "node2graph = keras.Input(batch_shape=(None,), dtype=tf.int32)\n",
    "# insert the embedding layer with embedding space of 500 dimensions that will be applied on our data after victorized it\n",
    "embeded = Embedding(tokenizer.num_words, 500)(data)\n",
    "\n",
    "# number of graphs (number of samples), and add 1 as python is zero based \n",
    "num_graph = tf.reduce_max(node2graph)+1\n",
    "\n",
    "# prepare the Graph Neural Network input layer by give it its inputs\n",
    "gnn_input = GNNInput(\n",
    "    node_features=embeded,\n",
    "    adjacency_lists=(edge,),\n",
    "    node_to_graph_map=node2graph, \n",
    "    num_graphs=num_graph,\n",
    ")\n",
    "\n",
    "# get the parameters that are required to be used with the Graph Neural Network input layer so we can get the output\n",
    "# https://github.com/microsoft/tf2-gnn/blob/master/tf2_gnn/layers/gnn.py\n",
    "params = GNN.get_default_hyperparameters()\n",
    "# change the number of the size of the output of all message passing layers to 128 layer\n",
    "params[\"hidden_dim\"] = 128\n",
    "# define the aggregation method\n",
    "params[\"message_calculation_class\"] = \"RGAT\"\n",
    "# define the num_heads whih configures the number of parallel (independent) weighted sums that are computed, \n",
    "# whose results are concatenated to obtain the final result.\n",
    "params[\"num_heads\"] = 4\n",
    "gnn_layer = GNN(params)\n",
    "gnn_out = gnn_layer(gnn_input)\n",
    "\n",
    "print('gnn_out', gnn_out)\n",
    "\n",
    "# get the mean of each sample in each batch by using the segment_mean as each sample is a segment in the array\n",
    "# https://www.tensorflow.org/api_docs/python/tf/math/segment_mean\n",
    "avg = segment_mean(\n",
    "    data=gnn_out,\n",
    "    segment_ids=node2graph\n",
    ")\n",
    "print('mean:', avg)\n",
    "\n",
    "# prepare the output node for our problem with 1 unit which gives 0 or 1 as we are making binary classification\n",
    "pred = Dense(1, activation='sigmoid')(avg)\n",
    "print('pred:', pred)\n",
    "\n",
    "# define our model and give it the inputs layers and the outputs layers\n",
    "model = Model(\n",
    "    inputs={\n",
    "        'data': data,\n",
    "        'edges': edge,\n",
    "        'node2grah': node2graph,\n",
    "    },\n",
    "    outputs=pred\n",
    ")\n",
    "# view the model with its parameters and shapes of the layers\n",
    "model.summary()"
   ]
  },
  {
   "cell_type": "code",
   "execution_count": 62,
   "metadata": {
    "execution": {
     "iopub.execute_input": "2022-04-08T20:56:35.838756Z",
     "iopub.status.busy": "2022-04-08T20:56:35.838446Z",
     "iopub.status.idle": "2022-04-08T20:56:35.851534Z",
     "shell.execute_reply": "2022-04-08T20:56:35.850350Z",
     "shell.execute_reply.started": "2022-04-08T20:56:35.838715Z"
    },
    "id": "M3qbbwKzkfP8"
   },
   "outputs": [],
   "source": [
    "# compile the model with BinaryCrossentropy loss as we are making binary classification, and AUC metric\n",
    "model.compile(\n",
    "    loss='BinaryCrossentropy',\n",
    "    metrics=['AUC']\n",
    ")"
   ]
  },
  {
   "cell_type": "code",
   "execution_count": 63,
   "metadata": {
    "colab": {
     "base_uri": "https://localhost:8080/"
    },
    "execution": {
     "iopub.execute_input": "2022-04-08T20:56:35.855926Z",
     "iopub.status.busy": "2022-04-08T20:56:35.855596Z",
     "iopub.status.idle": "2022-04-08T21:06:02.216777Z",
     "shell.execute_reply": "2022-04-08T21:06:02.215687Z",
     "shell.execute_reply.started": "2022-04-08T20:56:35.855895Z"
    },
    "id": "zSL2WrAakfP9",
    "outputId": "0d2f2459-95a1-415d-a12a-465ca5e71d66"
   },
   "outputs": [
    {
     "name": "stdout",
     "output_type": "stream",
     "text": [
      "Epoch 1/40\n",
      "317/317 [==============================] - 27s 72ms/step - loss: 0.6154 - auc: 0.7246 - val_loss: 0.5730 - val_auc: 0.7730\n",
      "Epoch 2/40\n",
      "317/317 [==============================] - 22s 70ms/step - loss: 0.5646 - auc: 0.7815 - val_loss: 0.5521 - val_auc: 0.8000\n",
      "Epoch 3/40\n",
      "317/317 [==============================] - 28s 88ms/step - loss: 0.5411 - auc: 0.8038 - val_loss: 0.5643 - val_auc: 0.8062\n",
      "Epoch 4/40\n",
      "317/317 [==============================] - 25s 79ms/step - loss: 0.5176 - auc: 0.8234 - val_loss: 0.5012 - val_auc: 0.8379\n",
      "Epoch 5/40\n",
      "317/317 [==============================] - 22s 70ms/step - loss: 0.4907 - auc: 0.8445 - val_loss: 0.4803 - val_auc: 0.8540\n",
      "Epoch 6/40\n",
      "317/317 [==============================] - 22s 70ms/step - loss: 0.4619 - auc: 0.8641 - val_loss: 0.4570 - val_auc: 0.8701\n",
      "Epoch 7/40\n",
      "317/317 [==============================] - 22s 70ms/step - loss: 0.4369 - auc: 0.8798 - val_loss: 0.4349 - val_auc: 0.8834\n",
      "Epoch 8/40\n",
      "317/317 [==============================] - 22s 71ms/step - loss: 0.4154 - auc: 0.8924 - val_loss: 0.4126 - val_auc: 0.8986\n",
      "Epoch 9/40\n",
      "317/317 [==============================] - 22s 69ms/step - loss: 0.3871 - auc: 0.9068 - val_loss: 0.3737 - val_auc: 0.9181\n",
      "Epoch 10/40\n",
      "317/317 [==============================] - 22s 70ms/step - loss: 0.3633 - auc: 0.9182 - val_loss: 0.3797 - val_auc: 0.9151\n",
      "Epoch 11/40\n",
      "317/317 [==============================] - 22s 70ms/step - loss: 0.3390 - auc: 0.9287 - val_loss: 0.3960 - val_auc: 0.9025\n",
      "Epoch 12/40\n",
      "317/317 [==============================] - 24s 76ms/step - loss: 0.3187 - auc: 0.9369 - val_loss: 0.3914 - val_auc: 0.9073\n",
      "Epoch 13/40\n",
      "317/317 [==============================] - 22s 70ms/step - loss: 0.3051 - auc: 0.9422 - val_loss: 0.2915 - val_auc: 0.9471\n",
      "Epoch 14/40\n",
      "317/317 [==============================] - 22s 70ms/step - loss: 0.2891 - auc: 0.9477 - val_loss: 0.2870 - val_auc: 0.9491\n",
      "Epoch 15/40\n",
      "317/317 [==============================] - 22s 70ms/step - loss: 0.2736 - auc: 0.9526 - val_loss: 0.2852 - val_auc: 0.9493\n",
      "Epoch 16/40\n",
      "317/317 [==============================] - 22s 70ms/step - loss: 0.2612 - auc: 0.9568 - val_loss: 0.2499 - val_auc: 0.9606\n",
      "Epoch 17/40\n",
      "317/317 [==============================] - 22s 70ms/step - loss: 0.2495 - auc: 0.9606 - val_loss: 0.2610 - val_auc: 0.9610\n",
      "Epoch 18/40\n",
      "317/317 [==============================] - 22s 70ms/step - loss: 0.2488 - auc: 0.9609 - val_loss: 0.2791 - val_auc: 0.9583\n",
      "Epoch 19/40\n",
      "317/317 [==============================] - 22s 70ms/step - loss: 0.2340 - auc: 0.9648 - val_loss: 0.2280 - val_auc: 0.9709\n",
      "Epoch 20/40\n",
      "317/317 [==============================] - 22s 70ms/step - loss: 0.2249 - auc: 0.9672 - val_loss: 0.2262 - val_auc: 0.9705\n",
      "Epoch 21/40\n",
      "317/317 [==============================] - 22s 70ms/step - loss: 0.2209 - auc: 0.9681 - val_loss: 0.2247 - val_auc: 0.9694\n",
      "Epoch 22/40\n",
      "317/317 [==============================] - 22s 70ms/step - loss: 0.2130 - auc: 0.9704 - val_loss: 0.2326 - val_auc: 0.9707\n",
      "Epoch 23/40\n",
      "317/317 [==============================] - 22s 70ms/step - loss: 0.2030 - auc: 0.9726 - val_loss: 0.2310 - val_auc: 0.9696\n",
      "Epoch 24/40\n",
      "317/317 [==============================] - 22s 69ms/step - loss: 0.1981 - auc: 0.9739 - val_loss: 0.2239 - val_auc: 0.9717\n",
      "Epoch 25/40\n",
      "317/317 [==============================] - 22s 70ms/step - loss: 0.1926 - auc: 0.9749 - val_loss: 0.2181 - val_auc: 0.9717\n",
      "Epoch 26/40\n",
      "317/317 [==============================] - 22s 70ms/step - loss: 0.1900 - auc: 0.9757 - val_loss: 0.2124 - val_auc: 0.9714\n",
      "Epoch 27/40\n",
      "317/317 [==============================] - 22s 70ms/step - loss: 0.1841 - auc: 0.9772 - val_loss: 0.3096 - val_auc: 0.9596\n",
      "Epoch 28/40\n",
      "317/317 [==============================] - 22s 71ms/step - loss: 0.1805 - auc: 0.9778 - val_loss: 0.2377 - val_auc: 0.9740\n",
      "Epoch 29/40\n",
      "317/317 [==============================] - 22s 70ms/step - loss: 0.1759 - auc: 0.9789 - val_loss: 0.2273 - val_auc: 0.9728\n",
      "Epoch 30/40\n",
      "317/317 [==============================] - 22s 71ms/step - loss: 0.1744 - auc: 0.9792 - val_loss: 0.2060 - val_auc: 0.9782\n",
      "Epoch 31/40\n",
      "317/317 [==============================] - 22s 71ms/step - loss: 0.1700 - auc: 0.9800 - val_loss: 0.2054 - val_auc: 0.9724\n",
      "Epoch 32/40\n",
      "317/317 [==============================] - 22s 71ms/step - loss: 0.1685 - auc: 0.9804 - val_loss: 0.1612 - val_auc: 0.9808\n",
      "Epoch 33/40\n",
      "317/317 [==============================] - 22s 70ms/step - loss: 0.1605 - auc: 0.9819 - val_loss: 0.1549 - val_auc: 0.9837\n",
      "Epoch 34/40\n",
      "317/317 [==============================] - 22s 70ms/step - loss: 0.1582 - auc: 0.9821 - val_loss: 0.2006 - val_auc: 0.9773\n",
      "Epoch 35/40\n",
      "317/317 [==============================] - 22s 70ms/step - loss: 0.1575 - auc: 0.9826 - val_loss: 0.2277 - val_auc: 0.9654\n",
      "Epoch 36/40\n",
      "317/317 [==============================] - 22s 71ms/step - loss: 0.1531 - auc: 0.9833 - val_loss: 0.2056 - val_auc: 0.9743\n",
      "Epoch 37/40\n",
      "317/317 [==============================] - 22s 71ms/step - loss: 0.1493 - auc: 0.9839 - val_loss: 0.1570 - val_auc: 0.9817\n",
      "Epoch 38/40\n",
      "317/317 [==============================] - 22s 71ms/step - loss: 0.1448 - auc: 0.9849 - val_loss: 0.2385 - val_auc: 0.9733\n",
      "Epoch 39/40\n",
      "317/317 [==============================] - 22s 71ms/step - loss: 0.1468 - auc: 0.9845 - val_loss: 0.1362 - val_auc: 0.9857\n",
      "Epoch 40/40\n",
      "317/317 [==============================] - 22s 70ms/step - loss: 0.1433 - auc: 0.9852 - val_loss: 0.1482 - val_auc: 0.9828\n"
     ]
    }
   ],
   "source": [
    "# define the size of the batch\n",
    "batch_size = 128\n",
    "# get the number of the batches in the training and validation by splitting the size of the training data or validation data\n",
    "# by the size required for the batch\n",
    "num_batchs = math.ceil(len(training_set_up) / batch_size)\n",
    "num_batchs_validation = math.ceil(len(validation_set_up) / batch_size)\n",
    "\n",
    "# fit the model on the training data and validation data by generating the bathes for the training and validation\n",
    "history = model.fit(\n",
    "    gen_batch(\n",
    "        training_set_up, batch_size=batch_size, repeat=True\n",
    "    ),\n",
    "    steps_per_epoch=num_batchs,\n",
    "    epochs=40,\n",
    "    validation_data=gen_batch(\n",
    "        validation_set_up, batch_size=128, repeat=True\n",
    "    ),\n",
    "    validation_steps=num_batchs_validation,\n",
    ")\n"
   ]
  },
  {
   "cell_type": "code",
   "execution_count": 64,
   "metadata": {
    "execution": {
     "iopub.execute_input": "2022-04-08T21:06:02.219473Z",
     "iopub.status.busy": "2022-04-08T21:06:02.219144Z",
     "iopub.status.idle": "2022-04-08T21:06:03.616390Z",
     "shell.execute_reply": "2022-04-08T21:06:03.615444Z",
     "shell.execute_reply.started": "2022-04-08T21:06:02.219431Z"
    },
    "id": "El8EaOD6kfP9"
   },
   "outputs": [],
   "source": [
    "# predict the outputs also by generating the batch by the given size\n",
    "y_pred = model.predict(\n",
    "    gen_batch(testing_set, batch_size=128, shuffle=False)\n",
    ")\n",
    "y_pred = np.reshape(y_pred, -1)"
   ]
  },
  {
   "cell_type": "code",
   "execution_count": 65,
   "metadata": {
    "execution": {
     "iopub.execute_input": "2022-04-08T21:06:03.618434Z",
     "iopub.status.busy": "2022-04-08T21:06:03.617943Z",
     "iopub.status.idle": "2022-04-08T21:06:03.667512Z",
     "shell.execute_reply": "2022-04-08T21:06:03.666557Z",
     "shell.execute_reply.started": "2022-04-08T21:06:03.618353Z"
    },
    "id": "lDXe7vA6kfP9"
   },
   "outputs": [],
   "source": [
    "# save the predictions in a csv file to submit it on Kaggle\n",
    "submission = pd.DataFrame({'label':y_pred})\n",
    "submission.index.name = 'id'\n",
    "submission.to_csv('try 7.csv')"
   ]
  },
  {
   "cell_type": "code",
   "execution_count": 66,
   "metadata": {
    "colab": {
     "base_uri": "https://localhost:8080/",
     "height": 0
    },
    "execution": {
     "iopub.execute_input": "2022-04-08T21:06:03.669276Z",
     "iopub.status.busy": "2022-04-08T21:06:03.668920Z",
     "iopub.status.idle": "2022-04-08T21:06:04.816793Z",
     "shell.execute_reply": "2022-04-08T21:06:04.815892Z",
     "shell.execute_reply.started": "2022-04-08T21:06:03.669231Z"
    },
    "id": "Hyr8Cc6fKNvW",
    "outputId": "f27c7037-1cbc-4da1-e89a-41e1dbddf4ee"
   },
   "outputs": [
    {
     "data": {
      "image/png": "[encoded data removed]",
      "text/plain": [
       "<Figure size 864x288 with 2 Axes>"
      ]
     },
     "metadata": {
      "needs_background": "light"
     },
     "output_type": "display_data"
    }
   ],
   "source": [
    "plt_function_op(history)"
   ]
  },
  {
   "cell_type": "markdown",
   "metadata": {
    "id": "sr8PH44iKNvX"
   },
   "source": [
    "## Thoughts and observation for trial 7:\n",
    "This gave a score on Kaggle = 0.83483.\n",
    "\n",
    "I thought this trial will be good enough as now I made the balanced and each class has the same weight in the contribution in the model. Besides, I used the aggregation method =  RGAT, which gave me a good results before the upsampling but its results were less than by the GGNN aggregation method. I also increased the number of the units in the embedding layer to 500, so all of that I thought the results will be good and the model will learn well from the features. I tried to control the overfitting on the training data by validate the model. I used a batch size not small and this helps also in preventing the overfitting.\n",
    "So, by training the model I reached auc on the validation set = 0.9828, and the resultant auc on Kaggel is 0.83483. So, this means they are close to each other, and there is no overfitting or underfitting in the model. Besides, from the above graphs we can see that there is no overfitting but the results are good enough. So, the upsampling for the data has a very good effect on the results with the using of the aggregation method = RGAT. Besides, increasing the number of the units in the embedding layer helped the model. And from the graphs we can see that the auc curve started to be a little bit smooth in the validation and the training, and the oscillations in the loss were decreased. And there is big differences between the validation, and the training so there is no overfitting.\n",
    "\n",
    "\n",
    "## Plan for the trial 8:\n",
    "I will continue with the same preprocessing way on the upsampling data. But I will make some changes in the model. By applying an aggregation method = 'RGCN' in the parameters of the GNN input layer. \n",
    "\n",
    "Which helps in solving those two fundamental tasks: Entity classification - Where you assign types and categorical properties to entities, and Link prediction - Where you recover missing triples.\n",
    "AS it is using a common graph convolutional network. It’s extended with multi-edge encoding to compute embedding of the entities, but with different downstream processing. So, Entity classification is done by attaching a softmax classifier at the final embedding of an entity (node). Training is through loss of standard cross-entropy, and Link prediction is done by reconstructing an edge with an autoencoder architecture, using a parameterized score function. Training uses negative sampling.\n",
    "\n",
    "So, I can see the effect of the upsampling data with the RGCN aggregation method."
   ]
  },
  {
   "cell_type": "markdown",
   "metadata": {
    "id": "kSDpq6Sr3Vso"
   },
   "source": [
    "# Trial 8\n",
    "With upsampling data + RGCN aggregation method + 500 dimensional space in embedded layer, and 128 unit in the hidden dimentional in the GNN input layer.\n"
   ]
  },
  {
   "cell_type": "code",
   "execution_count": 67,
   "metadata": {
    "colab": {
     "base_uri": "https://localhost:8080/"
    },
    "execution": {
     "iopub.execute_input": "2022-04-08T21:06:04.819524Z",
     "iopub.status.busy": "2022-04-08T21:06:04.818884Z",
     "iopub.status.idle": "2022-04-08T21:06:05.352010Z",
     "shell.execute_reply": "2022-04-08T21:06:05.351042Z",
     "shell.execute_reply.started": "2022-04-08T21:06:04.819478Z"
    },
    "id": "GJEm1PrMkfP9",
    "outputId": "f17d4215-be6a-47c9-922b-4b93693e6ada"
   },
   "outputs": [
    {
     "name": "stdout",
     "output_type": "stream",
     "text": [
      "gnn_out KerasTensor(type_spec=TensorSpec(shape=(None, 128), dtype=tf.float32, name=None), name='gnn_7/StatefulPartitionedCall:0', description=\"created by layer 'gnn_7'\")\n",
      "mean: KerasTensor(type_spec=TensorSpec(shape=(None, 128), dtype=tf.float32, name=None), name='tf.math.segment_mean_7/SegmentMean:0', description=\"created by layer 'tf.math.segment_mean_7'\")\n",
      "pred: KerasTensor(type_spec=TensorSpec(shape=(None, 1), dtype=tf.float32, name=None), name='dense_7/Sigmoid:0', description=\"created by layer 'dense_7'\")\n",
      "Model: \"model_7\"\n",
      "__________________________________________________________________________________________________\n",
      " Layer (type)                   Output Shape         Param #     Connected to                     \n",
      "==================================================================================================\n",
      " input_24 (InputLayer)          [(None,)]            0           []                               \n",
      "                                                                                                  \n",
      " input_22 (InputLayer)          [(None,)]            0           []                               \n",
      "                                                                                                  \n",
      " tf.math.reduce_max_7 (TFOpLamb  ()                  0           ['input_24[0][0]']               \n",
      " da)                                                                                              \n",
      "                                                                                                  \n",
      " embedding_7 (Embedding)        (None, 500)          250000      ['input_22[0][0]']               \n",
      "                                                                                                  \n",
      " input_23 (InputLayer)          [(None, 2)]          0           []                               \n",
      "                                                                                                  \n",
      " tf.__operators__.add_7 (TFOpLa  ()                  0           ['tf.math.reduce_max_7[0][0]']   \n",
      " mbda)                                                                                            \n",
      "                                                                                                  \n",
      " gnn_7 (GNN)                    (None, 128)          311040      ['embedding_7[0][0]',            \n",
      "                                                                  'input_23[0][0]',               \n",
      "                                                                  'input_24[0][0]',               \n",
      "                                                                  'tf.__operators__.add_7[0][0]'] \n",
      "                                                                                                  \n",
      " tf.math.segment_mean_7 (TFOpLa  (None, 128)         0           ['gnn_7[0][0]',                  \n",
      " mbda)                                                            'input_24[0][0]']               \n",
      "                                                                                                  \n",
      " dense_7 (Dense)                (None, 1)            129         ['tf.math.segment_mean_7[0][0]'] \n",
      "                                                                                                  \n",
      "==================================================================================================\n",
      "Total params: 561,169\n",
      "Trainable params: 561,169\n",
      "Non-trainable params: 0\n",
      "__________________________________________________________________________________________________\n"
     ]
    }
   ],
   "source": [
    "# prepare input units for each input we have for the neural network\n",
    "data = keras.Input(batch_shape=(None,))\n",
    "# the first dim is different to the previous one, it is the total number of edges in this batch\n",
    "edge = keras.Input(batch_shape=(None, 2), dtype=tf.int32)\n",
    "node2graph = keras.Input(batch_shape=(None,), dtype=tf.int32)\n",
    "# insert the embedding layer with embedding space of 20 dimensions that will be applied on our data after victorized it\n",
    "embeded = Embedding(tokenizer.num_words, 500)(data)\n",
    "\n",
    "# number of graphs (number of samples), and add 1 as python is zero based \n",
    "num_graph = tf.reduce_max(node2graph)+1\n",
    "\n",
    "# prepare the Graph Neural Network input layer by give it its inputs\n",
    "gnn_input = GNNInput(\n",
    "    node_features=embeded,\n",
    "    adjacency_lists=(edge,),\n",
    "    node_to_graph_map=node2graph, \n",
    "    num_graphs=num_graph,\n",
    ")\n",
    "\n",
    "# get the parameters that are required to be used with the Graph Neural Network input layer so we can get the output\n",
    "# https://github.com/microsoft/tf2-gnn/blob/master/tf2_gnn/layers/gnn.py\n",
    "params = GNN.get_default_hyperparameters()\n",
    "# change the number of the size of the output of all message passing layers to 128 layer\n",
    "params[\"hidden_dim\"] = 128\n",
    "# define the aggregation method\n",
    "params[\"message_calculation_class\"] = \"RGCN\"\n",
    "gnn_layer = GNN(params)\n",
    "gnn_out = gnn_layer(gnn_input)\n",
    "\n",
    "print('gnn_out', gnn_out)\n",
    "\n",
    "# get the mean of each sample in each batch by using the segment_mean as each sample is a segment in the array\n",
    "# https://www.tensorflow.org/api_docs/python/tf/math/segment_mean\n",
    "avg = segment_mean(\n",
    "    data=gnn_out,\n",
    "    segment_ids=node2graph\n",
    ")\n",
    "print('mean:', avg)\n",
    "\n",
    "# prepare the output node for our problem with 1 unit which gives 0 or 1 as we are making binary classification\n",
    "pred = Dense(1, activation='sigmoid')(avg)\n",
    "print('pred:', pred)\n",
    "\n",
    "# define our model and give it the inputs layers and the outputs layers\n",
    "model = Model(\n",
    "    inputs={\n",
    "        'data': data,\n",
    "        'edges': edge,\n",
    "        'node2grah': node2graph,\n",
    "    },\n",
    "    outputs=pred\n",
    ")\n",
    "# view the model with its parameters and shapes of the layers\n",
    "model.summary()"
   ]
  },
  {
   "cell_type": "code",
   "execution_count": 68,
   "metadata": {
    "execution": {
     "iopub.execute_input": "2022-04-08T21:06:05.354049Z",
     "iopub.status.busy": "2022-04-08T21:06:05.353728Z",
     "iopub.status.idle": "2022-04-08T21:06:05.367283Z",
     "shell.execute_reply": "2022-04-08T21:06:05.366215Z",
     "shell.execute_reply.started": "2022-04-08T21:06:05.354004Z"
    },
    "id": "0xVZpg593lww"
   },
   "outputs": [],
   "source": [
    "# compile the model with BinaryCrossentropy loss as we are making binary classification, and AUC metric\n",
    "model.compile(\n",
    "    loss='BinaryCrossentropy',\n",
    "    metrics=['AUC']\n",
    ")"
   ]
  },
  {
   "cell_type": "code",
   "execution_count": 69,
   "metadata": {
    "colab": {
     "base_uri": "https://localhost:8080/"
    },
    "execution": {
     "iopub.execute_input": "2022-04-08T21:06:05.369565Z",
     "iopub.status.busy": "2022-04-08T21:06:05.369232Z",
     "iopub.status.idle": "2022-04-08T21:12:30.233787Z",
     "shell.execute_reply": "2022-04-08T21:12:30.232703Z",
     "shell.execute_reply.started": "2022-04-08T21:06:05.369523Z"
    },
    "id": "XqOWMQSo3qj1",
    "outputId": "4bbbaf97-3676-4ef1-81c3-8de4daafac1b"
   },
   "outputs": [
    {
     "name": "stdout",
     "output_type": "stream",
     "text": [
      "Epoch 1/40\n",
      "317/317 [==============================] - 19s 51ms/step - loss: 0.6270 - auc: 0.7060 - val_loss: 0.5873 - val_auc: 0.7538\n",
      "Epoch 2/40\n",
      "317/317 [==============================] - 15s 49ms/step - loss: 0.5893 - auc: 0.7545 - val_loss: 0.6468 - val_auc: 0.6998\n",
      "Epoch 3/40\n",
      "317/317 [==============================] - 16s 50ms/step - loss: 0.5712 - auc: 0.7739 - val_loss: 0.5844 - val_auc: 0.7808\n",
      "Epoch 4/40\n",
      "317/317 [==============================] - 15s 49ms/step - loss: 0.5460 - auc: 0.7997 - val_loss: 0.5386 - val_auc: 0.8124\n",
      "Epoch 5/40\n",
      "317/317 [==============================] - 15s 49ms/step - loss: 0.5224 - auc: 0.8192 - val_loss: 0.5438 - val_auc: 0.8196\n",
      "Epoch 6/40\n",
      "317/317 [==============================] - 16s 49ms/step - loss: 0.5004 - auc: 0.8377 - val_loss: 0.5213 - val_auc: 0.8379\n",
      "Epoch 7/40\n",
      "317/317 [==============================] - 16s 49ms/step - loss: 0.4823 - auc: 0.8505 - val_loss: 0.5141 - val_auc: 0.8490\n",
      "Epoch 8/40\n",
      "317/317 [==============================] - 16s 49ms/step - loss: 0.4650 - auc: 0.8618 - val_loss: 0.4486 - val_auc: 0.8737\n",
      "Epoch 9/40\n",
      "317/317 [==============================] - 16s 49ms/step - loss: 0.4502 - auc: 0.8714 - val_loss: 0.4620 - val_auc: 0.8624\n",
      "Epoch 10/40\n",
      "317/317 [==============================] - 16s 50ms/step - loss: 0.4383 - auc: 0.8793 - val_loss: 0.5393 - val_auc: 0.8559\n",
      "Epoch 11/40\n",
      "317/317 [==============================] - 16s 49ms/step - loss: 0.4256 - auc: 0.8869 - val_loss: 0.4472 - val_auc: 0.8758\n",
      "Epoch 12/40\n",
      "317/317 [==============================] - 16s 49ms/step - loss: 0.4100 - auc: 0.8956 - val_loss: 0.3906 - val_auc: 0.9095\n",
      "Epoch 13/40\n",
      "317/317 [==============================] - 16s 49ms/step - loss: 0.3955 - auc: 0.9034 - val_loss: 0.4373 - val_auc: 0.8989\n",
      "Epoch 14/40\n",
      "317/317 [==============================] - 15s 49ms/step - loss: 0.3810 - auc: 0.9107 - val_loss: 0.3325 - val_auc: 0.9319\n",
      "Epoch 15/40\n",
      "317/317 [==============================] - 15s 49ms/step - loss: 0.3708 - auc: 0.9155 - val_loss: 0.3621 - val_auc: 0.9218\n",
      "Epoch 16/40\n",
      "317/317 [==============================] - 16s 49ms/step - loss: 0.3551 - auc: 0.9228 - val_loss: 0.3451 - val_auc: 0.9308\n",
      "Epoch 17/40\n",
      "317/317 [==============================] - 16s 49ms/step - loss: 0.3470 - auc: 0.9264 - val_loss: 0.3464 - val_auc: 0.9283\n",
      "Epoch 18/40\n",
      "317/317 [==============================] - 16s 49ms/step - loss: 0.3323 - auc: 0.9326 - val_loss: 0.4128 - val_auc: 0.9127\n",
      "Epoch 19/40\n",
      "317/317 [==============================] - 16s 49ms/step - loss: 0.3283 - auc: 0.9344 - val_loss: 0.3124 - val_auc: 0.9412\n",
      "Epoch 20/40\n",
      "317/317 [==============================] - 15s 49ms/step - loss: 0.3183 - auc: 0.9381 - val_loss: 0.3144 - val_auc: 0.9431\n",
      "Epoch 21/40\n",
      "317/317 [==============================] - 16s 49ms/step - loss: 0.3093 - auc: 0.9418 - val_loss: 0.3457 - val_auc: 0.9354\n",
      "Epoch 22/40\n",
      "317/317 [==============================] - 16s 49ms/step - loss: 0.2983 - auc: 0.9457 - val_loss: 0.3121 - val_auc: 0.9447\n",
      "Epoch 23/40\n",
      "317/317 [==============================] - 16s 49ms/step - loss: 0.2938 - auc: 0.9473 - val_loss: 0.3073 - val_auc: 0.9483\n",
      "Epoch 24/40\n",
      "317/317 [==============================] - 16s 49ms/step - loss: 0.2833 - auc: 0.9508 - val_loss: 0.3311 - val_auc: 0.9445\n",
      "Epoch 25/40\n",
      "317/317 [==============================] - 16s 49ms/step - loss: 0.2783 - auc: 0.9528 - val_loss: 0.2997 - val_auc: 0.9457\n",
      "Epoch 26/40\n",
      "317/317 [==============================] - 16s 49ms/step - loss: 0.2736 - auc: 0.9540 - val_loss: 0.3323 - val_auc: 0.9509\n",
      "Epoch 27/40\n",
      "317/317 [==============================] - 16s 49ms/step - loss: 0.2666 - auc: 0.9564 - val_loss: 0.2997 - val_auc: 0.9471\n",
      "Epoch 28/40\n",
      "317/317 [==============================] - 15s 49ms/step - loss: 0.2577 - auc: 0.9593 - val_loss: 0.2498 - val_auc: 0.9643\n",
      "Epoch 29/40\n",
      "317/317 [==============================] - 16s 49ms/step - loss: 0.2592 - auc: 0.9586 - val_loss: 0.2853 - val_auc: 0.9514\n",
      "Epoch 30/40\n",
      "317/317 [==============================] - 15s 49ms/step - loss: 0.2493 - auc: 0.9615 - val_loss: 0.3130 - val_auc: 0.9509\n",
      "Epoch 31/40\n",
      "317/317 [==============================] - 16s 49ms/step - loss: 0.2464 - auc: 0.9625 - val_loss: 0.2362 - val_auc: 0.9681\n",
      "Epoch 32/40\n",
      "317/317 [==============================] - 16s 49ms/step - loss: 0.2406 - auc: 0.9640 - val_loss: 0.2343 - val_auc: 0.9657\n",
      "Epoch 33/40\n",
      "317/317 [==============================] - 16s 49ms/step - loss: 0.2383 - auc: 0.9648 - val_loss: 0.2406 - val_auc: 0.9653\n",
      "Epoch 34/40\n",
      "317/317 [==============================] - 16s 49ms/step - loss: 0.2328 - auc: 0.9661 - val_loss: 0.2372 - val_auc: 0.9693\n",
      "Epoch 35/40\n",
      "317/317 [==============================] - 16s 49ms/step - loss: 0.2278 - auc: 0.9678 - val_loss: 0.2614 - val_auc: 0.9607\n",
      "Epoch 36/40\n",
      "317/317 [==============================] - 16s 49ms/step - loss: 0.2249 - auc: 0.9684 - val_loss: 0.2648 - val_auc: 0.9636\n",
      "Epoch 37/40\n",
      "317/317 [==============================] - 16s 50ms/step - loss: 0.2206 - auc: 0.9692 - val_loss: 0.2049 - val_auc: 0.9724\n",
      "Epoch 38/40\n",
      "317/317 [==============================] - 16s 49ms/step - loss: 0.2173 - auc: 0.9701 - val_loss: 0.2398 - val_auc: 0.9702\n",
      "Epoch 39/40\n",
      "317/317 [==============================] - 16s 49ms/step - loss: 0.2126 - auc: 0.9713 - val_loss: 0.3494 - val_auc: 0.9475\n",
      "Epoch 40/40\n",
      "317/317 [==============================] - 16s 49ms/step - loss: 0.2085 - auc: 0.9725 - val_loss: 0.3345 - val_auc: 0.9482\n"
     ]
    }
   ],
   "source": [
    "# define the size of the batch\n",
    "batch_size = 128\n",
    "# get the number of the batches in the training and validation by splitting the size of the training data or validation data\n",
    "# by the size required for the batch\n",
    "num_batchs = math.ceil(len(training_set_up) / batch_size)\n",
    "num_batchs_validation = math.ceil(len(validation_set_up) / batch_size)\n",
    "\n",
    "# fit the model on the training data and validation data by generating the bathes for the training and validation\n",
    "history = model.fit(\n",
    "    gen_batch(\n",
    "        training_set_up, batch_size=batch_size, repeat=True\n",
    "    ),\n",
    "    steps_per_epoch=num_batchs,\n",
    "    epochs=40,\n",
    "    validation_data=gen_batch(\n",
    "        validation_set_up, batch_size=128, repeat=True\n",
    "    ),\n",
    "    validation_steps=num_batchs_validation,\n",
    ")\n"
   ]
  },
  {
   "cell_type": "code",
   "execution_count": 70,
   "metadata": {
    "execution": {
     "iopub.execute_input": "2022-04-08T21:12:30.236419Z",
     "iopub.status.busy": "2022-04-08T21:12:30.235952Z",
     "iopub.status.idle": "2022-04-08T21:12:31.407584Z",
     "shell.execute_reply": "2022-04-08T21:12:31.406654Z",
     "shell.execute_reply.started": "2022-04-08T21:12:30.236375Z"
    },
    "id": "Llyy7Rix3wF_"
   },
   "outputs": [],
   "source": [
    "# predict the outputs also by generating the batch by the given size\n",
    "y_pred = model.predict(\n",
    "    gen_batch(testing_set, batch_size=128, shuffle=False)\n",
    ")\n",
    "y_pred = np.reshape(y_pred, -1)"
   ]
  },
  {
   "cell_type": "code",
   "execution_count": 71,
   "metadata": {
    "execution": {
     "iopub.execute_input": "2022-04-08T21:12:31.411748Z",
     "iopub.status.busy": "2022-04-08T21:12:31.411495Z",
     "iopub.status.idle": "2022-04-08T21:12:31.459720Z",
     "shell.execute_reply": "2022-04-08T21:12:31.458753Z",
     "shell.execute_reply.started": "2022-04-08T21:12:31.411720Z"
    },
    "id": "yeLtRCfN3ydq"
   },
   "outputs": [],
   "source": [
    "# save the predictions in a csv file to submit it on Kaggle\n",
    "submission = pd.DataFrame({'label':y_pred})\n",
    "submission.index.name = 'id'\n",
    "submission.to_csv('try 8.csv')"
   ]
  },
  {
   "cell_type": "code",
   "execution_count": 72,
   "metadata": {
    "colab": {
     "base_uri": "https://localhost:8080/",
     "height": 0
    },
    "execution": {
     "iopub.execute_input": "2022-04-08T21:12:31.461815Z",
     "iopub.status.busy": "2022-04-08T21:12:31.461482Z",
     "iopub.status.idle": "2022-04-08T21:12:32.136162Z",
     "shell.execute_reply": "2022-04-08T21:12:32.135127Z",
     "shell.execute_reply.started": "2022-04-08T21:12:31.461772Z"
    },
    "id": "zhJ7k7NxKNvY",
    "outputId": "3462fe56-2dbb-4899-e233-4892664de7bf"
   },
   "outputs": [
    {
     "data": {
      "image/png": "[encoded data removed]",
      "text/plain": [
       "<Figure size 864x288 with 2 Axes>"
      ]
     },
     "metadata": {
      "needs_background": "light"
     },
     "output_type": "display_data"
    }
   ],
   "source": [
    "plt_function_op(history)"
   ]
  },
  {
   "cell_type": "markdown",
   "metadata": {
    "id": "AVMs9OBBKNvY"
   },
   "source": [
    "## Thoughts and observation for trial 8:\n",
    "This gave a score on Kaggle = 0.76893.\n",
    "\n",
    "I thought this trial will be better than trial number 2 as now I made the balanced and each class has the same weight in the contribution in the model. So I thought that the unsampling will be better with the RGCN aggregation method. I also increased the number of the units in the embedding layer to 500, so all of that I thought the results will be good and the model will learn well from the features. But the results are not good. I tried to control the overfitting on the training data by validate the model. I used a batch size not small and this helps also in preventing the overfitting. But from the results, I think the model is overfitting the training data. \n",
    "As by training the model I reached auc on the validation set = 0.9482, and the resultant auc on Kaggel is 0.76893. So, the upsampling for the data has a very good effect on the results with the using of the aggregation method = RGCN. Besides, increasing the number of the units in the embedding layer helped the model better than without the upsampling. But from the above graphs we can see that there is no overfitting untill epoch almost 36, and the results on Kaggle are not good enough as I expected from this trial.\n",
    "\n",
    "\n",
    "## Plan for the trial 9:\n",
    "With continue working on the upsampled data with the same preprocessing way.\n",
    "In the model, I will try another aggregation method:\n",
    "\n",
    "RGIN: Relational Graph Isomorphism Networks."
   ]
  },
  {
   "cell_type": "markdown",
   "metadata": {
    "id": "M_SYWDCHbtW9"
   },
   "source": [
    "# Trial 9\n",
    "With upsampled data + RGIN aggregation method + 500 dimensional space in embedded layer, and 128 unit in the hidden dimentional in the GNN input layer."
   ]
  },
  {
   "cell_type": "code",
   "execution_count": 73,
   "metadata": {
    "colab": {
     "base_uri": "https://localhost:8080/"
    },
    "execution": {
     "iopub.execute_input": "2022-04-08T21:12:32.137799Z",
     "iopub.status.busy": "2022-04-08T21:12:32.137513Z",
     "iopub.status.idle": "2022-04-08T21:12:33.068414Z",
     "shell.execute_reply": "2022-04-08T21:12:33.067463Z",
     "shell.execute_reply.started": "2022-04-08T21:12:32.137748Z"
    },
    "id": "Jq-PtpLFKNvY",
    "outputId": "eb9008c2-0bd6-4336-f22a-d55c58f1ccb3"
   },
   "outputs": [
    {
     "name": "stdout",
     "output_type": "stream",
     "text": [
      "gnn_out KerasTensor(type_spec=TensorSpec(shape=(None, 128), dtype=tf.float32, name=None), name='gnn_8/StatefulPartitionedCall:0', description=\"created by layer 'gnn_8'\")\n",
      "mean: KerasTensor(type_spec=TensorSpec(shape=(None, 128), dtype=tf.float32, name=None), name='tf.math.segment_mean_8/SegmentMean:0', description=\"created by layer 'tf.math.segment_mean_8'\")\n",
      "pred: KerasTensor(type_spec=TensorSpec(shape=(None, 1), dtype=tf.float32, name=None), name='dense_8/Sigmoid:0', description=\"created by layer 'dense_8'\")\n",
      "Model: \"model_8\"\n",
      "__________________________________________________________________________________________________\n",
      " Layer (type)                   Output Shape         Param #     Connected to                     \n",
      "==================================================================================================\n",
      " input_27 (InputLayer)          [(None,)]            0           []                               \n",
      "                                                                                                  \n",
      " input_25 (InputLayer)          [(None,)]            0           []                               \n",
      "                                                                                                  \n",
      " tf.math.reduce_max_8 (TFOpLamb  ()                  0           ['input_27[0][0]']               \n",
      " da)                                                                                              \n",
      "                                                                                                  \n",
      " embedding_8 (Embedding)        (None, 500)          250000      ['input_25[0][0]']               \n",
      "                                                                                                  \n",
      " input_26 (InputLayer)          [(None, 2)]          0           []                               \n",
      "                                                                                                  \n",
      " tf.__operators__.add_8 (TFOpLa  ()                  0           ['tf.math.reduce_max_8[0][0]']   \n",
      " mbda)                                                                                            \n",
      "                                                                                                  \n",
      " gnn_8 (GNN)                    (None, 128)          638720      ['embedding_8[0][0]',            \n",
      "                                                                  'input_26[0][0]',               \n",
      "                                                                  'input_27[0][0]',               \n",
      "                                                                  'tf.__operators__.add_8[0][0]'] \n",
      "                                                                                                  \n",
      " tf.math.segment_mean_8 (TFOpLa  (None, 128)         0           ['gnn_8[0][0]',                  \n",
      " mbda)                                                            'input_27[0][0]']               \n",
      "                                                                                                  \n",
      " dense_8 (Dense)                (None, 1)            129         ['tf.math.segment_mean_8[0][0]'] \n",
      "                                                                                                  \n",
      "==================================================================================================\n",
      "Total params: 888,849\n",
      "Trainable params: 888,849\n",
      "Non-trainable params: 0\n",
      "__________________________________________________________________________________________________\n"
     ]
    }
   ],
   "source": [
    "# prepare input units for each input we have for the neural network\n",
    "data = keras.Input(batch_shape=(None,))\n",
    "# the first dim is different to the previous one, it is the total number of edges in this batch\n",
    "edge = keras.Input(batch_shape=(None, 2), dtype=tf.int32)\n",
    "node2graph = keras.Input(batch_shape=(None,), dtype=tf.int32)\n",
    "# insert the embedding layer with embedding space of 20 dimensions that will be applied on our data after victorized it\n",
    "embeded = Embedding(tokenizer.num_words, 500)(data)\n",
    "\n",
    "# number of graphs (number of samples), and add 1 as python is zero based \n",
    "num_graph = tf.reduce_max(node2graph)+1\n",
    "\n",
    "# prepare the Graph Neural Network input layer by give it its inputs\n",
    "gnn_input = GNNInput(\n",
    "    node_features=embeded,\n",
    "    adjacency_lists=(edge,),\n",
    "    node_to_graph_map=node2graph, \n",
    "    num_graphs=num_graph,\n",
    ")\n",
    "\n",
    "# get the parameters that are required to be used with the Graph Neural Network input layer so we can get the output\n",
    "# https://github.com/microsoft/tf2-gnn/blob/master/tf2_gnn/layers/gnn.py\n",
    "params = GNN.get_default_hyperparameters()\n",
    "# change the number of the size of the output of all message passing layers to 128 layer\n",
    "params[\"hidden_dim\"] = 128\n",
    "# define the aggregation method\n",
    "params[\"message_calculation_class\"] = \"RGIN\"\n",
    "params['num_aggr_MLP_hidden_layers'] = 4\n",
    "gnn_layer = GNN(params)\n",
    "gnn_out = gnn_layer(gnn_input)\n",
    "\n",
    "print('gnn_out', gnn_out)\n",
    "\n",
    "# get the mean of each sample in each batch by using the segment_mean as each sample is a segment in the array\n",
    "# https://www.tensorflow.org/api_docs/python/tf/math/segment_mean\n",
    "avg = segment_mean(\n",
    "    data=gnn_out,\n",
    "    segment_ids=node2graph\n",
    ")\n",
    "print('mean:', avg)\n",
    "\n",
    "# prepare the output node for our problem with 1 unit which gives 0 or 1 as we are making binary classification\n",
    "pred = Dense(1, activation='sigmoid')(avg)\n",
    "print('pred:', pred)\n",
    "\n",
    "# define our model and give it the inputs layers and the outputs layers\n",
    "model = Model(\n",
    "    inputs={\n",
    "        'data': data,\n",
    "        'edges': edge,\n",
    "        'node2grah': node2graph,\n",
    "    },\n",
    "    outputs=pred\n",
    ")\n",
    "# view the model with its parameters and shapes of the layers\n",
    "model.summary()"
   ]
  },
  {
   "cell_type": "code",
   "execution_count": 74,
   "metadata": {
    "execution": {
     "iopub.execute_input": "2022-04-08T21:12:33.070684Z",
     "iopub.status.busy": "2022-04-08T21:12:33.070338Z",
     "iopub.status.idle": "2022-04-08T21:12:33.083962Z",
     "shell.execute_reply": "2022-04-08T21:12:33.082915Z",
     "shell.execute_reply.started": "2022-04-08T21:12:33.070641Z"
    },
    "id": "rcMdx7l_KNvY"
   },
   "outputs": [],
   "source": [
    "# compile the model with BinaryCrossentropy loss as we are making binary classification, and AUC metric\n",
    "model.compile(\n",
    "    loss='BinaryCrossentropy',\n",
    "    metrics=['AUC']\n",
    ")"
   ]
  },
  {
   "cell_type": "code",
   "execution_count": 75,
   "metadata": {
    "colab": {
     "base_uri": "https://localhost:8080/"
    },
    "execution": {
     "iopub.execute_input": "2022-04-08T21:12:33.085999Z",
     "iopub.status.busy": "2022-04-08T21:12:33.085673Z",
     "iopub.status.idle": "2022-04-08T21:20:58.767441Z",
     "shell.execute_reply": "2022-04-08T21:20:58.766266Z",
     "shell.execute_reply.started": "2022-04-08T21:12:33.085950Z"
    },
    "id": "p6TSdK8-KNvY",
    "outputId": "f1641149-065d-48cb-bc1f-6733d371fbe5"
   },
   "outputs": [
    {
     "name": "stdout",
     "output_type": "stream",
     "text": [
      "Epoch 1/40\n",
      "317/317 [==============================] - 30s 81ms/step - loss: 0.6494 - auc: 0.6799 - val_loss: 0.6072 - val_auc: 0.7452\n",
      "Epoch 2/40\n",
      "317/317 [==============================] - 25s 78ms/step - loss: 0.6183 - auc: 0.7238 - val_loss: 0.6494 - val_auc: 0.7359\n",
      "Epoch 3/40\n",
      "317/317 [==============================] - 25s 79ms/step - loss: 0.5967 - auc: 0.7514 - val_loss: 0.6695 - val_auc: 0.7560\n",
      "Epoch 4/40\n",
      "317/317 [==============================] - 25s 79ms/step - loss: 0.5828 - auc: 0.7690 - val_loss: 0.5597 - val_auc: 0.7997\n",
      "Epoch 5/40\n",
      "317/317 [==============================] - 25s 79ms/step - loss: 0.5732 - auc: 0.7771 - val_loss: 0.5866 - val_auc: 0.7939\n",
      "Epoch 6/40\n",
      "317/317 [==============================] - 25s 78ms/step - loss: 0.5768 - auc: 0.7794 - val_loss: 0.5687 - val_auc: 0.7795\n",
      "Epoch 7/40\n",
      "317/317 [==============================] - 25s 79ms/step - loss: 0.5731 - auc: 0.7783 - val_loss: 0.5991 - val_auc: 0.7704\n",
      "Epoch 8/40\n",
      "317/317 [==============================] - 25s 79ms/step - loss: 0.5668 - auc: 0.7816 - val_loss: 0.5991 - val_auc: 0.7683\n",
      "Epoch 9/40\n",
      "317/317 [==============================] - 25s 80ms/step - loss: 0.5623 - auc: 0.7850 - val_loss: 0.5325 - val_auc: 0.8098\n",
      "Epoch 10/40\n",
      "317/317 [==============================] - 25s 79ms/step - loss: 0.5399 - auc: 0.8095 - val_loss: 0.5177 - val_auc: 0.8244\n",
      "Epoch 11/40\n",
      "317/317 [==============================] - 25s 79ms/step - loss: 0.5216 - auc: 0.8231 - val_loss: 0.7401 - val_auc: 0.7752\n",
      "Epoch 12/40\n",
      "317/317 [==============================] - 25s 79ms/step - loss: 0.5189 - auc: 0.8291 - val_loss: 0.5162 - val_auc: 0.8292\n",
      "Epoch 13/40\n",
      "317/317 [==============================] - 25s 79ms/step - loss: 0.5172 - auc: 0.8271 - val_loss: 0.5101 - val_auc: 0.8394\n",
      "Epoch 14/40\n",
      "317/317 [==============================] - 25s 79ms/step - loss: 0.5112 - auc: 0.8300 - val_loss: 0.6948 - val_auc: 0.7313\n",
      "Epoch 15/40\n",
      "317/317 [==============================] - 25s 79ms/step - loss: 0.5186 - auc: 0.8247 - val_loss: 0.5496 - val_auc: 0.8321\n",
      "Epoch 16/40\n",
      "317/317 [==============================] - 25s 79ms/step - loss: 0.4887 - auc: 0.8490 - val_loss: 0.4761 - val_auc: 0.8602\n",
      "Epoch 17/40\n",
      "317/317 [==============================] - 25s 79ms/step - loss: 0.4800 - auc: 0.8552 - val_loss: 0.4787 - val_auc: 0.8552\n",
      "Epoch 18/40\n",
      "317/317 [==============================] - 25s 79ms/step - loss: 0.4733 - auc: 0.8599 - val_loss: 0.4570 - val_auc: 0.8684\n",
      "Epoch 19/40\n",
      "317/317 [==============================] - 25s 78ms/step - loss: 0.4479 - auc: 0.8752 - val_loss: 0.4306 - val_auc: 0.8876\n",
      "Epoch 20/40\n",
      "317/317 [==============================] - 25s 78ms/step - loss: 0.4687 - auc: 0.8618 - val_loss: 0.5118 - val_auc: 0.8452\n",
      "Epoch 21/40\n",
      "317/317 [==============================] - 25s 79ms/step - loss: 0.4411 - auc: 0.8791 - val_loss: 0.4902 - val_auc: 0.8653\n",
      "Epoch 22/40\n",
      "317/317 [==============================] - 25s 79ms/step - loss: 0.4217 - auc: 0.8911 - val_loss: 0.4947 - val_auc: 0.8659\n",
      "Epoch 23/40\n",
      "317/317 [==============================] - 25s 78ms/step - loss: 0.4364 - auc: 0.8836 - val_loss: 0.4491 - val_auc: 0.8786\n",
      "Epoch 24/40\n",
      "317/317 [==============================] - 25s 79ms/step - loss: 0.4274 - auc: 0.8888 - val_loss: 0.4314 - val_auc: 0.8883\n",
      "Epoch 25/40\n",
      "317/317 [==============================] - 25s 79ms/step - loss: 0.4065 - auc: 0.8996 - val_loss: 0.4333 - val_auc: 0.8906\n",
      "Epoch 26/40\n",
      "317/317 [==============================] - 25s 79ms/step - loss: 0.3894 - auc: 0.9076 - val_loss: 0.3924 - val_auc: 0.9086\n",
      "Epoch 27/40\n",
      "317/317 [==============================] - 25s 79ms/step - loss: 0.3714 - auc: 0.9164 - val_loss: 0.4404 - val_auc: 0.8941\n",
      "Epoch 28/40\n",
      "317/317 [==============================] - 25s 79ms/step - loss: 0.3679 - auc: 0.9186 - val_loss: 0.3794 - val_auc: 0.9206\n",
      "Epoch 29/40\n",
      "317/317 [==============================] - 25s 79ms/step - loss: 0.3577 - auc: 0.9221 - val_loss: 0.3757 - val_auc: 0.9220\n",
      "Epoch 30/40\n",
      "317/317 [==============================] - 25s 79ms/step - loss: 0.3945 - auc: 0.9085 - val_loss: 0.4979 - val_auc: 0.8681\n",
      "Epoch 31/40\n",
      "317/317 [==============================] - 25s 79ms/step - loss: 0.3376 - auc: 0.9316 - val_loss: 0.5024 - val_auc: 0.8974\n",
      "Epoch 32/40\n",
      "317/317 [==============================] - 25s 79ms/step - loss: 0.3311 - auc: 0.9335 - val_loss: 0.4523 - val_auc: 0.9124\n",
      "Epoch 33/40\n",
      "317/317 [==============================] - 25s 79ms/step - loss: 0.3163 - auc: 0.9394 - val_loss: 0.3864 - val_auc: 0.9160\n",
      "Epoch 34/40\n",
      "317/317 [==============================] - 25s 78ms/step - loss: 0.3143 - auc: 0.9417 - val_loss: 1.7864 - val_auc: 0.6738\n",
      "Epoch 35/40\n",
      "317/317 [==============================] - 25s 79ms/step - loss: 0.3712 - auc: 0.9173 - val_loss: 0.4169 - val_auc: 0.9004\n",
      "Epoch 36/40\n",
      "317/317 [==============================] - 25s 79ms/step - loss: 0.2910 - auc: 0.9487 - val_loss: 0.3901 - val_auc: 0.9229\n",
      "Epoch 37/40\n",
      "317/317 [==============================] - 25s 79ms/step - loss: 0.2831 - auc: 0.9521 - val_loss: 0.3140 - val_auc: 0.9444\n",
      "Epoch 38/40\n",
      "317/317 [==============================] - 25s 79ms/step - loss: 0.2712 - auc: 0.9556 - val_loss: 0.3290 - val_auc: 0.9420\n",
      "Epoch 39/40\n",
      "317/317 [==============================] - 25s 79ms/step - loss: 0.2719 - auc: 0.9552 - val_loss: 0.3433 - val_auc: 0.9318\n",
      "Epoch 40/40\n",
      "317/317 [==============================] - 25s 79ms/step - loss: 0.2678 - auc: 0.9563 - val_loss: 0.3120 - val_auc: 0.9445\n"
     ]
    }
   ],
   "source": [
    "# define the size of the batch\n",
    "batch_size = 128\n",
    "# get the number of the batches in the training and validation by splitting the size of the training data or validation data\n",
    "# by the size required for the batch\n",
    "num_batchs = math.ceil(len(training_set_up) / batch_size)\n",
    "num_batchs_validation = math.ceil(len(validation_set_up) / batch_size)\n",
    "\n",
    "# fit the model on the training data and validation data by generating the bathes for the training and validation\n",
    "history = model.fit(\n",
    "    gen_batch(\n",
    "        training_set_up, batch_size=batch_size, repeat=True\n",
    "    ),\n",
    "    steps_per_epoch=num_batchs,\n",
    "    epochs=40,\n",
    "    validation_data=gen_batch(\n",
    "        validation_set_up, batch_size=128, repeat=True\n",
    "    ),\n",
    "    validation_steps=num_batchs_validation,\n",
    ")\n"
   ]
  },
  {
   "cell_type": "code",
   "execution_count": 76,
   "metadata": {
    "execution": {
     "iopub.execute_input": "2022-04-08T21:20:58.770225Z",
     "iopub.status.busy": "2022-04-08T21:20:58.769861Z",
     "iopub.status.idle": "2022-04-08T21:21:00.129987Z",
     "shell.execute_reply": "2022-04-08T21:21:00.128931Z",
     "shell.execute_reply.started": "2022-04-08T21:20:58.770181Z"
    },
    "id": "FIBbVzubKNvY"
   },
   "outputs": [],
   "source": [
    "# predict the outputs also by generating the batch by the given size\n",
    "y_pred = model.predict(\n",
    "    gen_batch(testing_set, batch_size=128, shuffle=False)\n",
    ")\n",
    "y_pred = np.reshape(y_pred, -1)"
   ]
  },
  {
   "cell_type": "code",
   "execution_count": 77,
   "metadata": {
    "execution": {
     "iopub.execute_input": "2022-04-08T21:21:00.132961Z",
     "iopub.status.busy": "2022-04-08T21:21:00.132658Z",
     "iopub.status.idle": "2022-04-08T21:21:00.179033Z",
     "shell.execute_reply": "2022-04-08T21:21:00.177965Z",
     "shell.execute_reply.started": "2022-04-08T21:21:00.132920Z"
    },
    "id": "Z6BzIoSMKNvZ"
   },
   "outputs": [],
   "source": [
    "# save the predictions in a csv file to submit it on Kaggle\n",
    "submission = pd.DataFrame({'label':y_pred})\n",
    "submission.index.name = 'id'\n",
    "submission.to_csv('try 9.csv')"
   ]
  },
  {
   "cell_type": "code",
   "execution_count": 78,
   "metadata": {
    "colab": {
     "base_uri": "https://localhost:8080/",
     "height": 0
    },
    "execution": {
     "iopub.execute_input": "2022-04-08T21:21:00.181167Z",
     "iopub.status.busy": "2022-04-08T21:21:00.180802Z",
     "iopub.status.idle": "2022-04-08T21:21:00.650015Z",
     "shell.execute_reply": "2022-04-08T21:21:00.648865Z",
     "shell.execute_reply.started": "2022-04-08T21:21:00.181127Z"
    },
    "id": "1yU9XkrAKNvZ",
    "outputId": "e5c38c97-989c-426c-fc52-4f61e1935a6c"
   },
   "outputs": [
    {
     "data": {
      "image/png": "[encoded data removed]",
      "text/plain": [
       "<Figure size 864x288 with 2 Axes>"
      ]
     },
     "metadata": {
      "needs_background": "light"
     },
     "output_type": "display_data"
    }
   ],
   "source": [
    "plt_function_op(history)"
   ]
  },
  {
   "cell_type": "markdown",
   "metadata": {
    "id": "8OruirgNKNvZ"
   },
   "source": [
    "## Thoughts and observation for trial 9:\n",
    "This gave a score on Kaggle = 0.83796.\n",
    "\n",
    "My expectations for this trial weren't good as the aggregation method I used I didn't thought that it will be good with our dataset. Although I worked on the upsampled data and now I made the balanced and each class has the same weight in the contribution in the model., the results weren't good. I also increased the number of the units in the embedding layer to 500, so by this I thought the results will be good and the model will learn well from the features. But the results are not good. I tried to control the overfitting on the training data by validate the model. I used a batch size not small and this helps also in preventing the overfitting. But from the results, I think the model is underfitting the training data, and didn't learn well from the input features. As by training the model I reached auc on the validation set = 0.9445, and the resultant auc on Kaggel is 0.83796. So, the upsampling for the data has a very good effect on the results but with the using of the aggregation method = RGIN, it didn't work well with the model. From the graphs we can see that there are big oscillations and the model didn't learn well from the data as its results are less than other trials, so I think the model is underfitting in this trial.\n",
    "\n",
    "\n",
    "\n",
    "## Plan for the trial 10:\n",
    "### Preprocessing:\n",
    "I will change the preprocessing and I will use max_vocab = 1000 so the model works on the most 1000 frequent nodes that appear in the dataset. With using max_len = 30, so the model will work on length = 30, so all samples will be with length = 30. So, if the sample contains less than 30, it will padded with adding zeros untill it reaches length = 30 with padding method = 'post', so zeros will be added after the last element in the sample. If the sample contains more than 30, it will be truncated with the default value = 'pre' so it will remove from the beginning of the sample untill the sample reach length = 30.\n",
    "\n",
    "Then, as we are dealing with text, I will make tokenization for the input to split it into characters. So, we can fit the tokenization on the input then apply the rest of the steps that we talked about from padding, and truncating.\n",
    "\n",
    "Then to deal with our data, we can't split it into batches as we did in the previous assignments. But here we need to generate each batch that the model will work on. I will talk about this part again down.\n",
    "\n",
    "\n",
    "### Model:\n",
    "In the model, I will try in this trial the following:\n",
    "\n",
    "One embedded layer with dimensional space of 500 dimensions that will be applied on our data after victorized it, and in the hidden dimentional in the GNN input layer, I will use 256 unit in it. I will make this with fitting the model and get the features from the upsampled data.\n"
   ]
  },
  {
   "cell_type": "markdown",
   "metadata": {
    "id": "07ufwVtCKNvZ"
   },
   "source": [
    "# Trial 10\n",
    "Max_vocab = 1000 but in the previous trails I used it by 500, so I can find the effect of it with the upsampled data."
   ]
  },
  {
   "cell_type": "markdown",
   "metadata": {
    "id": "SSSyZQJ2KNvZ"
   },
   "source": [
    "### Preprocessing for trial 10:"
   ]
  },
  {
   "cell_type": "code",
   "execution_count": 79,
   "metadata": {
    "execution": {
     "iopub.execute_input": "2022-04-08T21:21:00.652981Z",
     "iopub.status.busy": "2022-04-08T21:21:00.652231Z",
     "iopub.status.idle": "2022-04-08T21:21:01.008806Z",
     "shell.execute_reply": "2022-04-08T21:21:01.007858Z",
     "shell.execute_reply.started": "2022-04-08T21:21:00.652923Z"
    },
    "id": "9PEXE805KNvZ"
   },
   "outputs": [],
   "source": [
    "# define the max_vocab and max_len parameters\n",
    "max_vocab = 1000\n",
    "max_len = 30\n",
    "\n",
    "# build vocabulary from training set and make tokenization on the input\n",
    "all_nodes = [s[0] for s in training_set]\n",
    "tokenizer = Tokenizer(num_words=max_vocab)\n",
    "tokenizer.fit_on_texts(all_nodes)\n",
    "# I will use random.seed(0) to generate each time I run this code the same random numbers if needed\n",
    "random.seed(0)\n",
    "\n",
    "# to prepare the samples in each batch \n",
    "def prepare_single_batch(samples):\n",
    "    # get the number of the samples required for each batch\n",
    "    sample_nodes = [s[0] for s in samples]\n",
    "    # make victorization for the samples by by turning each text into either a sequence of integers \n",
    "    #(each integer being the index of a token in a dictionary) \n",
    "    sample_nodes = tokenizer.texts_to_sequences(sample_nodes)\n",
    "    # prepare the victorized array by making padding by post method\n",
    "    sample_nodes = pad_sequences(sample_nodes, padding='post')\n",
    "    # get the number of nodes in each sample\n",
    "    max_nodes_len = np.shape(sample_nodes)[1]\n",
    "    # here we need to organize the edges by making the edges in each sample to start from the end of the previous \n",
    "    # batch not from zero\n",
    "    edges = [s[1]+i*max_nodes_len for i,s in enumerate(samples)]\n",
    "    # check that aall edges not zeros\n",
    "    edges = [e for e in edges if len(e) > 0]\n",
    "    # convert the graphs of each sample from the sample's nodes by making the graphs in each sample to start from the \n",
    "    # end of the previous batch not from zero\n",
    "    node_to_graph = [[i]*max_nodes_len for i in range(len(samples))]\n",
    "    # convert the shape of the sample nodes into array by making each sample's sample_nodes into columns in one row, \n",
    "    # and the rows refer to the samples\n",
    "    all_nodes = np.reshape(sample_nodes, -1)\n",
    "    # make concatenation for the arrays of edgesin all samples in the batch\n",
    "    all_edges = np.concatenate(edges)\n",
    "    \n",
    "    # reshape the node_to_graph to array by making each sample's node_to_graph into columns in one row, and the rows refer to \n",
    "    # the samples\n",
    "    node_to_graph = np.reshape(node_to_graph, -1)\n",
    "    return {\n",
    "        'data': all_nodes,\n",
    "        'edges': all_edges,\n",
    "        'node2grah': node_to_graph,\n",
    "    }, np.array([s[2] for s in samples])\n",
    "\n",
    "\n",
    "\n",
    "# function to geerate the batches required by splitting the given data into batches and each batch is prepared by the \n",
    "# prepare_single_batch function\n",
    "def gen_batch(dataset, batch_size=16, repeat=False, shuffle=True):\n",
    "    while True:\n",
    "        dataset = list(dataset)\n",
    "        if shuffle:\n",
    "            random.shuffle(dataset)\n",
    "        l = len(dataset)\n",
    "        for ndx in range(0, l, batch_size):\n",
    "            batch_samples = dataset[ndx:min(ndx + batch_size, l)]\n",
    "            yield prepare_single_batch(batch_samples)\n",
    "        if not repeat:\n",
    "            break"
   ]
  },
  {
   "cell_type": "markdown",
   "metadata": {
    "id": "CDuyOvusKNvZ"
   },
   "source": [
    "### Model for trial 10:\n"
   ]
  },
  {
   "cell_type": "code",
   "execution_count": 80,
   "metadata": {
    "colab": {
     "base_uri": "https://localhost:8080/"
    },
    "execution": {
     "iopub.execute_input": "2022-04-08T21:21:01.010961Z",
     "iopub.status.busy": "2022-04-08T21:21:01.010602Z",
     "iopub.status.idle": "2022-04-08T21:21:01.564450Z",
     "shell.execute_reply": "2022-04-08T21:21:01.563245Z",
     "shell.execute_reply.started": "2022-04-08T21:21:01.010919Z"
    },
    "id": "GI9uDHh5KNva",
    "outputId": "2f7bd209-de09-4d0a-9bc4-53a4cec30e83"
   },
   "outputs": [
    {
     "name": "stdout",
     "output_type": "stream",
     "text": [
      "gnn_out KerasTensor(type_spec=TensorSpec(shape=(None, 256), dtype=tf.float32, name=None), name='gnn_9/StatefulPartitionedCall:0', description=\"created by layer 'gnn_9'\")\n",
      "mean: KerasTensor(type_spec=TensorSpec(shape=(None, 256), dtype=tf.float32, name=None), name='tf.math.segment_mean_9/SegmentMean:0', description=\"created by layer 'tf.math.segment_mean_9'\")\n",
      "pred: KerasTensor(type_spec=TensorSpec(shape=(None, 1), dtype=tf.float32, name=None), name='dense_9/Sigmoid:0', description=\"created by layer 'dense_9'\")\n",
      "Model: \"model_9\"\n",
      "__________________________________________________________________________________________________\n",
      " Layer (type)                   Output Shape         Param #     Connected to                     \n",
      "==================================================================================================\n",
      " input_30 (InputLayer)          [(None,)]            0           []                               \n",
      "                                                                                                  \n",
      " input_28 (InputLayer)          [(None,)]            0           []                               \n",
      "                                                                                                  \n",
      " tf.math.reduce_max_9 (TFOpLamb  ()                  0           ['input_30[0][0]']               \n",
      " da)                                                                                              \n",
      "                                                                                                  \n",
      " embedding_9 (Embedding)        (None, 500)          500000      ['input_28[0][0]']               \n",
      "                                                                                                  \n",
      " input_29 (InputLayer)          [(None, 2)]          0           []                               \n",
      "                                                                                                  \n",
      " tf.__operators__.add_9 (TFOpLa  ()                  0           ['tf.math.reduce_max_9[0][0]']   \n",
      " mbda)                                                                                            \n",
      "                                                                                                  \n",
      " gnn_9 (GNN)                    (None, 256)          1048064     ['embedding_9[0][0]',            \n",
      "                                                                  'input_29[0][0]',               \n",
      "                                                                  'input_30[0][0]',               \n",
      "                                                                  'tf.__operators__.add_9[0][0]'] \n",
      "                                                                                                  \n",
      " tf.math.segment_mean_9 (TFOpLa  (None, 256)         0           ['gnn_9[0][0]',                  \n",
      " mbda)                                                            'input_30[0][0]']               \n",
      "                                                                                                  \n",
      " dense_9 (Dense)                (None, 1)            257         ['tf.math.segment_mean_9[0][0]'] \n",
      "                                                                                                  \n",
      "==================================================================================================\n",
      "Total params: 1,548,321\n",
      "Trainable params: 1,548,321\n",
      "Non-trainable params: 0\n",
      "__________________________________________________________________________________________________\n"
     ]
    }
   ],
   "source": [
    "# prepare input units for each input we have for the neural network\n",
    "data = keras.Input(batch_shape=(None,))\n",
    "# the first dim is different to the previous one, it is the total number of edges in this batch\n",
    "edge = keras.Input(batch_shape=(None, 2), dtype=tf.int32)\n",
    "node2graph = keras.Input(batch_shape=(None,), dtype=tf.int32)\n",
    "# insert the embedding layer with embedding space of 20 dimensions that will be applied on our data after victorized it\n",
    "embeded = Embedding(tokenizer.num_words, 500)(data)\n",
    "\n",
    "# number of graphs (number of samples), and add 1 as python is zero based \n",
    "num_graph = tf.reduce_max(node2graph)+1\n",
    "\n",
    "# prepare the Graph Neural Network input layer by give it its inputs\n",
    "gnn_input = GNNInput(\n",
    "    node_features=embeded,\n",
    "    adjacency_lists=(edge,),\n",
    "    node_to_graph_map=node2graph, \n",
    "    num_graphs=num_graph,\n",
    ")\n",
    "\n",
    "# get the parameters that are required to be used with the Graph Neural Network input layer so we can get the output\n",
    "# https://github.com/microsoft/tf2-gnn/blob/master/tf2_gnn/layers/gnn.py\n",
    "params = GNN.get_default_hyperparameters()\n",
    "# change the number of the size of the output of all message passing layers to 256 layer\n",
    "params[\"hidden_dim\"] = 256\n",
    "gnn_layer = GNN(params)\n",
    "gnn_out = gnn_layer(gnn_input)\n",
    "\n",
    "print('gnn_out', gnn_out)\n",
    "\n",
    "# get the mean of each sample in each batch by using the segment_mean as each sample is a segment in the array\n",
    "# https://www.tensorflow.org/api_docs/python/tf/math/segment_mean\n",
    "avg = segment_mean(\n",
    "    data=gnn_out,\n",
    "    segment_ids=node2graph\n",
    ")\n",
    "print('mean:', avg)\n",
    "\n",
    "# prepare the output node for our problem with 1 unit which gives 0 or 1 as we are making binary classification\n",
    "pred = Dense(1, activation='sigmoid')(avg)\n",
    "print('pred:', pred)\n",
    "\n",
    "# define our model and give it the inputs layers and the outputs layers\n",
    "model = Model(\n",
    "    inputs={\n",
    "        'data': data,\n",
    "        'edges': edge,\n",
    "        'node2grah': node2graph,\n",
    "    },\n",
    "    outputs=pred\n",
    ")\n",
    "# view the model with its parameters and shapes of the layers\n",
    "model.summary()"
   ]
  },
  {
   "cell_type": "code",
   "execution_count": 81,
   "metadata": {
    "execution": {
     "iopub.execute_input": "2022-04-08T21:21:01.567662Z",
     "iopub.status.busy": "2022-04-08T21:21:01.567253Z",
     "iopub.status.idle": "2022-04-08T21:21:01.581071Z",
     "shell.execute_reply": "2022-04-08T21:21:01.579866Z",
     "shell.execute_reply.started": "2022-04-08T21:21:01.567606Z"
    },
    "id": "seBPrCbsKNva"
   },
   "outputs": [],
   "source": [
    "# compile the model with BinaryCrossentropy loss as we are making binary classification, and AUC metric\n",
    "model.compile(\n",
    "    loss='BinaryCrossentropy',\n",
    "    metrics=['AUC']\n",
    ")"
   ]
  },
  {
   "cell_type": "code",
   "execution_count": 82,
   "metadata": {
    "colab": {
     "base_uri": "https://localhost:8080/"
    },
    "execution": {
     "iopub.execute_input": "2022-04-08T21:21:01.583244Z",
     "iopub.status.busy": "2022-04-08T21:21:01.582589Z",
     "iopub.status.idle": "2022-04-08T21:29:13.460543Z",
     "shell.execute_reply": "2022-04-08T21:29:13.459365Z",
     "shell.execute_reply.started": "2022-04-08T21:21:01.583212Z"
    },
    "id": "rGp7xWNEKNva",
    "outputId": "94f25642-2462-4f90-87a0-853962261ddd"
   },
   "outputs": [
    {
     "name": "stdout",
     "output_type": "stream",
     "text": [
      "Epoch 1/40\n",
      "317/317 [==============================] - 31s 90ms/step - loss: 0.6209 - auc: 0.7163 - val_loss: 0.5833 - val_auc: 0.7637\n",
      "Epoch 2/40\n",
      "317/317 [==============================] - 28s 89ms/step - loss: 0.5779 - auc: 0.7662 - val_loss: 0.5741 - val_auc: 0.7778\n",
      "Epoch 3/40\n",
      "317/317 [==============================] - 28s 89ms/step - loss: 0.5501 - auc: 0.7955 - val_loss: 0.6119 - val_auc: 0.7884\n",
      "Epoch 4/40\n",
      "317/317 [==============================] - 28s 89ms/step - loss: 0.5129 - auc: 0.8275 - val_loss: 0.5049 - val_auc: 0.8374\n",
      "Epoch 5/40\n",
      "317/317 [==============================] - 28s 88ms/step - loss: 0.4782 - auc: 0.8531 - val_loss: 0.4784 - val_auc: 0.8544\n",
      "Epoch 6/40\n",
      "317/317 [==============================] - 28s 89ms/step - loss: 0.4490 - auc: 0.8719 - val_loss: 0.4328 - val_auc: 0.8841\n",
      "Epoch 7/40\n",
      "317/317 [==============================] - 28s 89ms/step - loss: 0.4226 - auc: 0.8874 - val_loss: 0.4477 - val_auc: 0.8791\n",
      "Epoch 8/40\n",
      "317/317 [==============================] - 28s 90ms/step - loss: 0.3913 - auc: 0.9045 - val_loss: 0.4347 - val_auc: 0.9031\n",
      "Epoch 9/40\n",
      "317/317 [==============================] - 28s 89ms/step - loss: 0.3641 - auc: 0.9177 - val_loss: 0.3805 - val_auc: 0.9182\n",
      "Epoch 10/40\n",
      "317/317 [==============================] - 28s 88ms/step - loss: 0.3378 - auc: 0.9293 - val_loss: 0.3329 - val_auc: 0.9352\n",
      "Epoch 11/40\n",
      "317/317 [==============================] - 28s 88ms/step - loss: 0.3171 - auc: 0.9377 - val_loss: 0.3124 - val_auc: 0.9428\n",
      "Epoch 12/40\n",
      "317/317 [==============================] - 28s 89ms/step - loss: 0.3009 - auc: 0.9438 - val_loss: 0.2920 - val_auc: 0.9523\n",
      "Epoch 13/40\n",
      "317/317 [==============================] - 28s 89ms/step - loss: 0.2792 - auc: 0.9518 - val_loss: 0.3257 - val_auc: 0.9383\n",
      "Epoch 14/40\n",
      "317/317 [==============================] - 28s 89ms/step - loss: 0.2665 - auc: 0.9559 - val_loss: 0.2860 - val_auc: 0.9542\n",
      "Epoch 15/40\n",
      "317/317 [==============================] - 28s 89ms/step - loss: 0.2537 - auc: 0.9598 - val_loss: 0.3295 - val_auc: 0.9467\n",
      "Epoch 16/40\n",
      "317/317 [==============================] - 28s 89ms/step - loss: 0.2425 - auc: 0.9631 - val_loss: 0.2826 - val_auc: 0.9538\n",
      "Epoch 17/40\n",
      "317/317 [==============================] - 28s 89ms/step - loss: 0.2294 - auc: 0.9664 - val_loss: 0.2255 - val_auc: 0.9671\n",
      "Epoch 18/40\n",
      "317/317 [==============================] - 28s 89ms/step - loss: 0.2188 - auc: 0.9694 - val_loss: 0.1889 - val_auc: 0.9779\n",
      "Epoch 19/40\n",
      "317/317 [==============================] - 28s 89ms/step - loss: 0.2125 - auc: 0.9710 - val_loss: 0.3392 - val_auc: 0.9508\n",
      "Epoch 20/40\n",
      "317/317 [==============================] - 28s 90ms/step - loss: 0.2013 - auc: 0.9738 - val_loss: 0.2061 - val_auc: 0.9753\n",
      "Epoch 21/40\n",
      "317/317 [==============================] - 28s 89ms/step - loss: 0.1930 - auc: 0.9759 - val_loss: 0.1927 - val_auc: 0.9787\n",
      "Epoch 22/40\n",
      "317/317 [==============================] - 28s 89ms/step - loss: 0.1895 - auc: 0.9761 - val_loss: 0.2252 - val_auc: 0.9699\n",
      "Epoch 23/40\n",
      "317/317 [==============================] - 28s 89ms/step - loss: 0.1844 - auc: 0.9777 - val_loss: 0.2191 - val_auc: 0.9727\n",
      "Epoch 24/40\n",
      "317/317 [==============================] - 28s 89ms/step - loss: 0.1762 - auc: 0.9792 - val_loss: 0.1803 - val_auc: 0.9820\n",
      "Epoch 25/40\n",
      "317/317 [==============================] - 28s 89ms/step - loss: 0.1761 - auc: 0.9794 - val_loss: 0.1660 - val_auc: 0.9820\n",
      "Epoch 26/40\n",
      "317/317 [==============================] - 28s 88ms/step - loss: 0.1695 - auc: 0.9805 - val_loss: 0.1550 - val_auc: 0.9832\n",
      "Epoch 27/40\n",
      "317/317 [==============================] - 28s 89ms/step - loss: 0.1662 - auc: 0.9812 - val_loss: 0.1981 - val_auc: 0.9770\n",
      "Epoch 28/40\n",
      "317/317 [==============================] - 28s 89ms/step - loss: 0.1614 - auc: 0.9823 - val_loss: 0.2882 - val_auc: 0.9603\n",
      "Epoch 29/40\n",
      "317/317 [==============================] - 28s 89ms/step - loss: 0.1594 - auc: 0.9825 - val_loss: 0.1696 - val_auc: 0.9822\n",
      "Epoch 30/40\n",
      "317/317 [==============================] - 28s 89ms/step - loss: 0.1493 - auc: 0.9846 - val_loss: 0.2562 - val_auc: 0.9668\n",
      "Epoch 31/40\n",
      "317/317 [==============================] - 28s 89ms/step - loss: 0.1489 - auc: 0.9845 - val_loss: 0.1811 - val_auc: 0.9776\n",
      "Epoch 32/40\n",
      "317/317 [==============================] - 28s 89ms/step - loss: 0.1512 - auc: 0.9842 - val_loss: 0.2961 - val_auc: 0.9651\n",
      "Epoch 33/40\n",
      "317/317 [==============================] - 28s 88ms/step - loss: 0.1468 - auc: 0.9850 - val_loss: 0.1957 - val_auc: 0.9769\n",
      "Epoch 34/40\n",
      "317/317 [==============================] - 29s 90ms/step - loss: 0.1435 - auc: 0.9858 - val_loss: 0.1553 - val_auc: 0.9819\n",
      "Epoch 35/40\n",
      "317/317 [==============================] - 28s 89ms/step - loss: 0.1450 - auc: 0.9850 - val_loss: 0.1286 - val_auc: 0.9889\n",
      "Epoch 36/40\n",
      "317/317 [==============================] - 28s 89ms/step - loss: 0.1392 - auc: 0.9862 - val_loss: 0.1644 - val_auc: 0.9805\n",
      "Epoch 37/40\n",
      "317/317 [==============================] - 28s 89ms/step - loss: 0.1366 - auc: 0.9868 - val_loss: 0.3368 - val_auc: 0.9592\n",
      "Epoch 38/40\n",
      "317/317 [==============================] - 28s 89ms/step - loss: 0.1372 - auc: 0.9866 - val_loss: 0.2345 - val_auc: 0.9727\n",
      "Epoch 39/40\n",
      "317/317 [==============================] - 28s 89ms/step - loss: 0.1358 - auc: 0.9868 - val_loss: 0.1745 - val_auc: 0.9856\n",
      "Epoch 40/40\n",
      "317/317 [==============================] - 28s 90ms/step - loss: 0.1322 - auc: 0.9873 - val_loss: 0.1353 - val_auc: 0.9864\n"
     ]
    }
   ],
   "source": [
    "# define the size of the batch\n",
    "batch_size = 128\n",
    "# get the number of the batches in the training and validation by splitting the size of the training data or validation data\n",
    "# by the size required for the batch\n",
    "num_batchs = math.ceil(len(training_set_up) / batch_size)\n",
    "num_batchs_validation = math.ceil(len(validation_set_up) / batch_size)\n",
    "\n",
    "# fit the model on the training data and validation data by generating the bathes for the training and validation\n",
    "history = model.fit(\n",
    "    gen_batch(\n",
    "        training_set_up, batch_size=batch_size, repeat=True\n",
    "    ),\n",
    "    steps_per_epoch=num_batchs,\n",
    "    epochs=40,\n",
    "    validation_data=gen_batch(\n",
    "        validation_set_up, batch_size=128, repeat=True\n",
    "    ),\n",
    "    validation_steps=num_batchs_validation,\n",
    ")\n"
   ]
  },
  {
   "cell_type": "code",
   "execution_count": 83,
   "metadata": {
    "execution": {
     "iopub.execute_input": "2022-04-08T21:29:13.479209Z",
     "iopub.status.busy": "2022-04-08T21:29:13.476269Z",
     "iopub.status.idle": "2022-04-08T21:29:14.868785Z",
     "shell.execute_reply": "2022-04-08T21:29:14.867778Z",
     "shell.execute_reply.started": "2022-04-08T21:29:13.479161Z"
    },
    "id": "m3nphR1AKNva"
   },
   "outputs": [],
   "source": [
    "# predict the outputs also by generating the batch by the given size\n",
    "y_pred = model.predict(\n",
    "    gen_batch(testing_set, batch_size=128, shuffle=False)\n",
    ")\n",
    "y_pred = np.reshape(y_pred, -1)"
   ]
  },
  {
   "cell_type": "code",
   "execution_count": 84,
   "metadata": {
    "execution": {
     "iopub.execute_input": "2022-04-08T21:29:14.870805Z",
     "iopub.status.busy": "2022-04-08T21:29:14.870522Z",
     "iopub.status.idle": "2022-04-08T21:29:14.917756Z",
     "shell.execute_reply": "2022-04-08T21:29:14.916868Z",
     "shell.execute_reply.started": "2022-04-08T21:29:14.870761Z"
    },
    "id": "bWf7szxaKNva"
   },
   "outputs": [],
   "source": [
    "# save the predictions in a csv file to submit it on Kaggle\n",
    "submission = pd.DataFrame({'label':y_pred})\n",
    "submission.index.name = 'id'\n",
    "submission.to_csv('try 10.csv')"
   ]
  },
  {
   "cell_type": "code",
   "execution_count": 85,
   "metadata": {
    "colab": {
     "base_uri": "https://localhost:8080/",
     "height": 0
    },
    "execution": {
     "iopub.execute_input": "2022-04-08T21:29:14.919379Z",
     "iopub.status.busy": "2022-04-08T21:29:14.919093Z",
     "iopub.status.idle": "2022-04-08T21:29:15.387870Z",
     "shell.execute_reply": "2022-04-08T21:29:15.386940Z",
     "shell.execute_reply.started": "2022-04-08T21:29:14.919339Z"
    },
    "id": "UNMh5HUMKNva",
    "outputId": "54954c14-a870-422d-f8c6-47fc78f41fde"
   },
   "outputs": [
    {
     "data": {
      "image/png": "[encoded data removed]",
      "text/plain": [
       "<Figure size 864x288 with 2 Axes>"
      ]
     },
     "metadata": {
      "needs_background": "light"
     },
     "output_type": "display_data"
    }
   ],
   "source": [
    "plt_function_op(history)"
   ]
  },
  {
   "cell_type": "markdown",
   "metadata": {
    "id": "b9CXhHlKKNvb"
   },
   "source": [
    "## Thoughts and observation for trial 10:\n",
    "This gave a score on Kaggle = 0.81728.\n",
    "\n",
    "My expectations were by changing the max_vocab and increase it so the model will learn from larger data amount. This would be better and give a better results than any trial else. But this didn't work as I thought. As I found that the model is overfitting the training dataset, and didn't work well on the unseen dataset. Besides, working on the upsampled data but the max_vocab affected the model negatively.\n",
    "Although the number of the units in the embedding layer were large, the results aren't good. And, although the construction of the model is good, the results aren't good. \n",
    "So, by training the model I reached auc on the validation set = 0.9864, and the resultant auc on Kaggel is 0.81728. So, this means they aren't close to each other, and there is overfitting in the model. Besides, from the above graphs we can see that there is overfitting as the oscillations in the loss have big amplitudes so the results and the effect of increasing the max_vocab wasn't good with this trial eventhough I used the upsampled data.\n"
   ]
  },
  {
   "cell_type": "markdown",
   "metadata": {},
   "source": [
    "# Overall findings and observations:\n",
    "- Making the data balanced are very important for the neural networks, as after I made upsampling for the class that has label 1 the results had been better than the models that were trained on the unbalanced data. Besides, the unbalanced data made the model have many oscillations in the loss, and the auc curves. Those oscillations have a high amplitudes, and models that were trained on the unbalanced data didn't work well on the unseen data (test dataset).\n",
    "\n",
    "- There are some aggregation methods helped the models to be better, and work well on the unseen data like the GGNN, and RGAT. Their mechanisms in working were very suitable with the data after finishing the preprocessing on it.\n",
    "\n",
    "- In dealing with the graphical data like I had in this time, the increasing of the max_vocab wasn't a good solution as it increased the complexity of the model with no benefits. So, this took more time on the training but the model didn't work well on the unseen dataset.\n"
   ]
  },
  {
   "cell_type": "markdown",
   "metadata": {},
   "source": [
    "-------------------------------------------------------------------------------------------------------------------------------"
   ]
  },
  {
   "cell_type": "markdown",
   "metadata": {
    "id": "Xugood0vkfQA"
   },
   "source": [
    "# Questions \n",
    "\n",
    "## Based on the provided template, describe the format of the input file (sdf file).\n",
    "* The input file is Structure Data file or Structure Data Format, it is a chemical file format. It is used to describe multiple chemical compounds with a certain shape. It was developed and published by Molecular Design Limited (MDL) and became the the most widely used standard for importing and exporting information on chemicals. In the file each different compound is separated by `$$$$` expression. In each compound, it consists from some letter which refer to the nodes names that format this compound. And some numbers that refer to the edges or the links between the nodes that help in knowing which node is connected to which node. And other numbers that refer to the weight of each link, and data about that chemical compound like Melting Point, Record No., ID, and more.\n",
    "\n",
    "\n",
    "\n",
    "## What are the input tensors to the neural network model (their meaning, not just symbol)? What is each of their dims and their meaning (e.g. batch_size)?\n",
    "* The input tensors to the neural network model are three:\n",
    "    * Data: it is the input tensor that contains the nodes names that we got from the sdf files after making tokenization for them, and convert them into numerical representation after finishing the preprocessing on it, and make padding and truncating to make the samples with the same length. It has dimension by [batch_size*max_nodes_len], where the batch_size is the number of samples in each batch and max_nodes_len is the length of tokenized nodes after making preprocessing and padding on them.\n",
    "    \n",
    "    * Node_2_graph: it is the input tensor that contains information about the segments and the segments ids, as we start each segment in it from the end of the previous segment in it. It has dimension by [batch_size*max_nodes_len], where the batch_size is the number of samples in each batch and max_nodes_len is the length of tokenized nodes after making preprocessing and padding on them.\n",
    "    \n",
    "    * edges: it is the input tensor that contains the links between the nodes in the compounds, so for each row in the array it has two numbers for each link which the first number refers to the number of the node which the links will start from, and the second number refers to the number of the node which the links will end at. It has dimension by [sum_of_all_edges,2], where um_of_all_edges represents the sum (number of edges in each sample) of the batch_size. For example if a batch contains 4 samples, and the number of edges in sample 1: 10, in sample 2: 25, in sample 3: 15, and in sample 4: 30. So the size of the edge tensor will be [80,2].\n",
    "\n",
    "\n",
    "\n",
    "## For each dim of gnn_out, what does it symbolize? For each dim of avg, what does it symbolize?\n",
    "* gnn_out: it contains the output of the aggregation of each hidden layer in the GNN layers in the model. It has dimension by [batch_size_node_dimension, hidden layers number], where batch_size_node_dimension is the dimension of the input data after the tokenization for the whole batch for the node vector, and the number of the hidden_dim is the GNN layers.\n",
    "\n",
    "* avg: it contains the mean for each segment of the gnn_out depend on the segments ids that is taken from the node2graph that we talked about before. It contains the information about each sample and saves it after getting the mean for each segment in the batch size. It has dimension [batch_size, hidden_layer], as the dimension of the gnn_out is [batch_size_node_dimension, hidden layers number], and the avg takes the segment mean and each sample has one segment id. So, it represents each sample with one number for each hidden layer. \n",
    "\n",
    "\n",
    "\n",
    "## What is the difference between segment_mean and tf.reduce_mean? For each dim of pred, what does it symbolize?\n",
    "* segment_mean gives the mean for each segment in the array, according to the segment id. As shown in the following image:\n",
    "![image.png](https://www.tensorflow.org/images/SegmentMean.png)\n",
    "\n",
    "* tf.reduce_mean gives the mean of elements across dimensions of a tensor, it reduces the input across the dimensions given in axis by getting the mean of the elements across the dimensions in that axis. \n",
    "\n",
    "* dim of pred means the dimension of the predictions is [batch_size, 1], and it means the probability of the test chemical compound for each sample whether it has effect on the cancer or not. It is numerical value refers to the probability of the activity on the cancer for each sample.\n",
    "\n",
    "\n",
    "\n",
    "## What is the motivation/theory/idea to use multiple gcn layers comparing to just one? How many layers were used in the template?\n",
    "* The motivation in using multiple Graph Convolution Network is to increase the complexity of the model, so the model will learn more from the input features. So, this helps in predict the right predictions for the test data. As using multiple gcn helps in combining all the graph complexity properly.\n",
    "* In the template, the number of the layers were the default value which is \"num_layers\": 4."
   ]
  },
  {
   "cell_type": "markdown",
   "metadata": {
    "id": "tHstV_8KkfQA"
   },
   "source": [
    "# References\n",
    "1. https://rb.gy/vqnyle\n",
    "2. https://rb.gy/slnucq\n",
    "3. https://rb.gy/ns6fmv\n",
    "4. https://rb.gy/izh5mh\n",
    "\n"
   ]
  }
 ],
 "metadata": {
  "accelerator": "GPU",
  "colab": {
   "collapsed_sections": [
    "Z2EvuH1RgGh8",
    "1WoFTYiGKNvO",
    "RvUPL8nRi_es",
    "LaoVrne3KNvP",
    "bfG1zgknjwcz",
    "y2EDLcPoKNvQ",
    "oD71QMsAKNvR",
    "6gtLFzq1kbOe",
    "mFyUJL9cKNvS",
    "cb5_CqYTluDu",
    "PaqtMc2LKNvU",
    "UAbrHpgYtl01",
    "I_y1ByYyKNvV",
    "XMPSfNILuPJc",
    "sr8PH44iKNvX",
    "kSDpq6Sr3Vso",
    "M_SYWDCHbtW9",
    "8OruirgNKNvZ",
    "07ufwVtCKNvZ",
    "SSSyZQJ2KNvZ",
    "CDuyOvusKNvZ",
    "b9CXhHlKKNvb",
    "Xugood0vkfQA"
   ],
   "name": "Assignment 6 - Fatma Bleity - Anti cancer activity.ipynb",
   "provenance": []
  },
  "kernelspec": {
   "display_name": "Python 3",
   "language": "python",
   "name": "python3"
  },
  "language_info": {
   "codemirror_mode": {
    "name": "ipython",
    "version": 3
   },
   "file_extension": ".py",
   "mimetype": "text/x-python",
   "name": "python",
   "nbconvert_exporter": "python",
   "pygments_lexer": "ipython3",
   "version": "3.7.4"
  },
  "widgets": {
   "application/vnd.jupyter.widget-state+json": {
    "0c72ea591507422b98a0a2e063e27e5d": {
     "model_module": "@jupyter-widgets/base",
     "model_module_version": "1.2.0",
     "model_name": "LayoutModel",
     "state": {
      "_model_module": "@jupyter-widgets/base",
      "_model_module_version": "1.2.0",
      "_model_name": "LayoutModel",
      "_view_count": null,
      "_view_module": "@jupyter-widgets/base",
      "_view_module_version": "1.2.0",
      "_view_name": "LayoutView",
      "align_content": null,
      "align_items": null,
      "align_self": null,
      "border": null,
      "bottom": null,
      "display": null,
      "flex": null,
      "flex_flow": null,
      "grid_area": null,
      "grid_auto_columns": null,
      "grid_auto_flow": null,
      "grid_auto_rows": null,
      "grid_column": null,
      "grid_gap": null,
      "grid_row": null,
      "grid_template_areas": null,
      "grid_template_columns": null,
      "grid_template_rows": null,
      "height": null,
      "justify_content": null,
      "justify_items": null,
      "left": null,
      "margin": null,
      "max_height": null,
      "max_width": null,
      "min_height": null,
      "min_width": null,
      "object_fit": null,
      "object_position": null,
      "order": null,
      "overflow": null,
      "overflow_x": null,
      "overflow_y": null,
      "padding": null,
      "right": null,
      "top": null,
      "visibility": null,
      "width": null
     }
    },
    "1abb53f52ad045d8be305b4a9b5854e5": {
     "model_module": "@jupyter-widgets/controls",
     "model_module_version": "1.5.0",
     "model_name": "HBoxModel",
     "state": {
      "_dom_classes": [],
      "_model_module": "@jupyter-widgets/controls",
      "_model_module_version": "1.5.0",
      "_model_name": "HBoxModel",
      "_view_count": null,
      "_view_module": "@jupyter-widgets/controls",
      "_view_module_version": "1.5.0",
      "_view_name": "HBoxView",
      "box_style": "",
      "children": [
       "IPY_MODEL_c2a60be3c9de49a1b9ce941fdf6c5345",
       "IPY_MODEL_b3a345a9853c482880aa26374bfdf090",
       "IPY_MODEL_d26651dbebcb4da6a40c54824436bd99"
      ],
      "layout": "IPY_MODEL_ceb5abd4fcb3435e8ecd51f0fb73ed46"
     }
    },
    "1f98495aecc54f5280f42cc9ec0d6626": {
     "model_module": "@jupyter-widgets/controls",
     "model_module_version": "1.5.0",
     "model_name": "DescriptionStyleModel",
     "state": {
      "_model_module": "@jupyter-widgets/controls",
      "_model_module_version": "1.5.0",
      "_model_name": "DescriptionStyleModel",
      "_view_count": null,
      "_view_module": "@jupyter-widgets/base",
      "_view_module_version": "1.2.0",
      "_view_name": "StyleView",
      "description_width": ""
     }
    },
    "2051ef52fcd04e16a36e3251a077bd31": {
     "model_module": "@jupyter-widgets/base",
     "model_module_version": "1.2.0",
     "model_name": "LayoutModel",
     "state": {
      "_model_module": "@jupyter-widgets/base",
      "_model_module_version": "1.2.0",
      "_model_name": "LayoutModel",
      "_view_count": null,
      "_view_module": "@jupyter-widgets/base",
      "_view_module_version": "1.2.0",
      "_view_name": "LayoutView",
      "align_content": null,
      "align_items": null,
      "align_self": null,
      "border": null,
      "bottom": null,
      "display": null,
      "flex": null,
      "flex_flow": null,
      "grid_area": null,
      "grid_auto_columns": null,
      "grid_auto_flow": null,
      "grid_auto_rows": null,
      "grid_column": null,
      "grid_gap": null,
      "grid_row": null,
      "grid_template_areas": null,
      "grid_template_columns": null,
      "grid_template_rows": null,
      "height": null,
      "justify_content": null,
      "justify_items": null,
      "left": null,
      "margin": null,
      "max_height": null,
      "max_width": null,
      "min_height": null,
      "min_width": null,
      "object_fit": null,
      "object_position": null,
      "order": null,
      "overflow": null,
      "overflow_x": null,
      "overflow_y": null,
      "padding": null,
      "right": null,
      "top": null,
      "visibility": null,
      "width": null
     }
    },
    "279a65568b7546d88d391fc45940c9a5": {
     "model_module": "@jupyter-widgets/controls",
     "model_module_version": "1.5.0",
     "model_name": "FloatProgressModel",
     "state": {
      "_dom_classes": [],
      "_model_module": "@jupyter-widgets/controls",
      "_model_module_version": "1.5.0",
      "_model_name": "FloatProgressModel",
      "_view_count": null,
      "_view_module": "@jupyter-widgets/controls",
      "_view_module_version": "1.5.0",
      "_view_name": "ProgressView",
      "bar_style": "success",
      "description": "",
      "description_tooltip": null,
      "layout": "IPY_MODEL_0c72ea591507422b98a0a2e063e27e5d",
      "max": 12326,
      "min": 0,
      "orientation": "horizontal",
      "style": "IPY_MODEL_92f483852586479ba79603bd2d3917f3",
      "value": 12326
     }
    },
    "51242cb1d8964c21bf9d2ba2c22cce0c": {
     "model_module": "@jupyter-widgets/base",
     "model_module_version": "1.2.0",
     "model_name": "LayoutModel",
     "state": {
      "_model_module": "@jupyter-widgets/base",
      "_model_module_version": "1.2.0",
      "_model_name": "LayoutModel",
      "_view_count": null,
      "_view_module": "@jupyter-widgets/base",
      "_view_module_version": "1.2.0",
      "_view_name": "LayoutView",
      "align_content": null,
      "align_items": null,
      "align_self": null,
      "border": null,
      "bottom": null,
      "display": null,
      "flex": null,
      "flex_flow": null,
      "grid_area": null,
      "grid_auto_columns": null,
      "grid_auto_flow": null,
      "grid_auto_rows": null,
      "grid_column": null,
      "grid_gap": null,
      "grid_row": null,
      "grid_template_areas": null,
      "grid_template_columns": null,
      "grid_template_rows": null,
      "height": null,
      "justify_content": null,
      "justify_items": null,
      "left": null,
      "margin": null,
      "max_height": null,
      "max_width": null,
      "min_height": null,
      "min_width": null,
      "object_fit": null,
      "object_position": null,
      "order": null,
      "overflow": null,
      "overflow_x": null,
      "overflow_y": null,
      "padding": null,
      "right": null,
      "top": null,
      "visibility": null,
      "width": null
     }
    },
    "5ce743dd5de745a391f9a4ef36a87886": {
     "model_module": "@jupyter-widgets/controls",
     "model_module_version": "1.5.0",
     "model_name": "DescriptionStyleModel",
     "state": {
      "_model_module": "@jupyter-widgets/controls",
      "_model_module_version": "1.5.0",
      "_model_name": "DescriptionStyleModel",
      "_view_count": null,
      "_view_module": "@jupyter-widgets/base",
      "_view_module_version": "1.2.0",
      "_view_name": "StyleView",
      "description_width": ""
     }
    },
    "61e04f70708446dd902eab5efd9ec749": {
     "model_module": "@jupyter-widgets/controls",
     "model_module_version": "1.5.0",
     "model_name": "ProgressStyleModel",
     "state": {
      "_model_module": "@jupyter-widgets/controls",
      "_model_module_version": "1.5.0",
      "_model_name": "ProgressStyleModel",
      "_view_count": null,
      "_view_module": "@jupyter-widgets/base",
      "_view_module_version": "1.2.0",
      "_view_name": "StyleView",
      "bar_color": null,
      "description_width": ""
     }
    },
    "7dcd95a46f9540489560e2914758b0c7": {
     "model_module": "@jupyter-widgets/controls",
     "model_module_version": "1.5.0",
     "model_name": "HTMLModel",
     "state": {
      "_dom_classes": [],
      "_model_module": "@jupyter-widgets/controls",
      "_model_module_version": "1.5.0",
      "_model_name": "HTMLModel",
      "_view_count": null,
      "_view_module": "@jupyter-widgets/controls",
      "_view_module_version": "1.5.0",
      "_view_name": "HTMLView",
      "description": "",
      "description_tooltip": null,
      "layout": "IPY_MODEL_51242cb1d8964c21bf9d2ba2c22cce0c",
      "placeholder": "​",
      "style": "IPY_MODEL_5ce743dd5de745a391f9a4ef36a87886",
      "value": "100%"
     }
    },
    "929bdf2b6f8842de8a3863fae18634a5": {
     "model_module": "@jupyter-widgets/controls",
     "model_module_version": "1.5.0",
     "model_name": "HBoxModel",
     "state": {
      "_dom_classes": [],
      "_model_module": "@jupyter-widgets/controls",
      "_model_module_version": "1.5.0",
      "_model_name": "HBoxModel",
      "_view_count": null,
      "_view_module": "@jupyter-widgets/controls",
      "_view_module_version": "1.5.0",
      "_view_name": "HBoxView",
      "box_style": "",
      "children": [
       "IPY_MODEL_7dcd95a46f9540489560e2914758b0c7",
       "IPY_MODEL_279a65568b7546d88d391fc45940c9a5",
       "IPY_MODEL_b2fbdf82cabf4bb583b36ccd1627a040"
      ],
      "layout": "IPY_MODEL_ced8085d96f94f83bb770fbcca47aa2c"
     }
    },
    "92f483852586479ba79603bd2d3917f3": {
     "model_module": "@jupyter-widgets/controls",
     "model_module_version": "1.5.0",
     "model_name": "ProgressStyleModel",
     "state": {
      "_model_module": "@jupyter-widgets/controls",
      "_model_module_version": "1.5.0",
      "_model_name": "ProgressStyleModel",
      "_view_count": null,
      "_view_module": "@jupyter-widgets/base",
      "_view_module_version": "1.2.0",
      "_view_name": "StyleView",
      "bar_color": null,
      "description_width": ""
     }
    },
    "958445fcf60642139d315028a04ef4bf": {
     "model_module": "@jupyter-widgets/controls",
     "model_module_version": "1.5.0",
     "model_name": "DescriptionStyleModel",
     "state": {
      "_model_module": "@jupyter-widgets/controls",
      "_model_module_version": "1.5.0",
      "_model_name": "DescriptionStyleModel",
      "_view_count": null,
      "_view_module": "@jupyter-widgets/base",
      "_view_module_version": "1.2.0",
      "_view_name": "StyleView",
      "description_width": ""
     }
    },
    "b2fbdf82cabf4bb583b36ccd1627a040": {
     "model_module": "@jupyter-widgets/controls",
     "model_module_version": "1.5.0",
     "model_name": "HTMLModel",
     "state": {
      "_dom_classes": [],
      "_model_module": "@jupyter-widgets/controls",
      "_model_module_version": "1.5.0",
      "_model_name": "HTMLModel",
      "_view_count": null,
      "_view_module": "@jupyter-widgets/controls",
      "_view_module_version": "1.5.0",
      "_view_name": "HTMLView",
      "description": "",
      "description_tooltip": null,
      "layout": "IPY_MODEL_2051ef52fcd04e16a36e3251a077bd31",
      "placeholder": "​",
      "style": "IPY_MODEL_b57dd4d36428402bb25337538c944674",
      "value": " 12326/12326 [00:04&lt;00:00, 2683.76it/s]"
     }
    },
    "b3a345a9853c482880aa26374bfdf090": {
     "model_module": "@jupyter-widgets/controls",
     "model_module_version": "1.5.0",
     "model_name": "FloatProgressModel",
     "state": {
      "_dom_classes": [],
      "_model_module": "@jupyter-widgets/controls",
      "_model_module_version": "1.5.0",
      "_model_name": "FloatProgressModel",
      "_view_count": null,
      "_view_module": "@jupyter-widgets/controls",
      "_view_module_version": "1.5.0",
      "_view_name": "ProgressView",
      "bar_style": "success",
      "description": "",
      "description_tooltip": null,
      "layout": "IPY_MODEL_e704266fbcb54cbd96e5c8a53b8fd32a",
      "max": 25024,
      "min": 0,
      "orientation": "horizontal",
      "style": "IPY_MODEL_61e04f70708446dd902eab5efd9ec749",
      "value": 25024
     }
    },
    "b57dd4d36428402bb25337538c944674": {
     "model_module": "@jupyter-widgets/controls",
     "model_module_version": "1.5.0",
     "model_name": "DescriptionStyleModel",
     "state": {
      "_model_module": "@jupyter-widgets/controls",
      "_model_module_version": "1.5.0",
      "_model_name": "DescriptionStyleModel",
      "_view_count": null,
      "_view_module": "@jupyter-widgets/base",
      "_view_module_version": "1.2.0",
      "_view_name": "StyleView",
      "description_width": ""
     }
    },
    "c2a60be3c9de49a1b9ce941fdf6c5345": {
     "model_module": "@jupyter-widgets/controls",
     "model_module_version": "1.5.0",
     "model_name": "HTMLModel",
     "state": {
      "_dom_classes": [],
      "_model_module": "@jupyter-widgets/controls",
      "_model_module_version": "1.5.0",
      "_model_name": "HTMLModel",
      "_view_count": null,
      "_view_module": "@jupyter-widgets/controls",
      "_view_module_version": "1.5.0",
      "_view_name": "HTMLView",
      "description": "",
      "description_tooltip": null,
      "layout": "IPY_MODEL_eb99afa579c2487386f4741d347f7f78",
      "placeholder": "​",
      "style": "IPY_MODEL_1f98495aecc54f5280f42cc9ec0d6626",
      "value": "100%"
     }
    },
    "ceb5abd4fcb3435e8ecd51f0fb73ed46": {
     "model_module": "@jupyter-widgets/base",
     "model_module_version": "1.2.0",
     "model_name": "LayoutModel",
     "state": {
      "_model_module": "@jupyter-widgets/base",
      "_model_module_version": "1.2.0",
      "_model_name": "LayoutModel",
      "_view_count": null,
      "_view_module": "@jupyter-widgets/base",
      "_view_module_version": "1.2.0",
      "_view_name": "LayoutView",
      "align_content": null,
      "align_items": null,
      "align_self": null,
      "border": null,
      "bottom": null,
      "display": null,
      "flex": null,
      "flex_flow": null,
      "grid_area": null,
      "grid_auto_columns": null,
      "grid_auto_flow": null,
      "grid_auto_rows": null,
      "grid_column": null,
      "grid_gap": null,
      "grid_row": null,
      "grid_template_areas": null,
      "grid_template_columns": null,
      "grid_template_rows": null,
      "height": null,
      "justify_content": null,
      "justify_items": null,
      "left": null,
      "margin": null,
      "max_height": null,
      "max_width": null,
      "min_height": null,
      "min_width": null,
      "object_fit": null,
      "object_position": null,
      "order": null,
      "overflow": null,
      "overflow_x": null,
      "overflow_y": null,
      "padding": null,
      "right": null,
      "top": null,
      "visibility": null,
      "width": null
     }
    },
    "ced8085d96f94f83bb770fbcca47aa2c": {
     "model_module": "@jupyter-widgets/base",
     "model_module_version": "1.2.0",
     "model_name": "LayoutModel",
     "state": {
      "_model_module": "@jupyter-widgets/base",
      "_model_module_version": "1.2.0",
      "_model_name": "LayoutModel",
      "_view_count": null,
      "_view_module": "@jupyter-widgets/base",
      "_view_module_version": "1.2.0",
      "_view_name": "LayoutView",
      "align_content": null,
      "align_items": null,
      "align_self": null,
      "border": null,
      "bottom": null,
      "display": null,
      "flex": null,
      "flex_flow": null,
      "grid_area": null,
      "grid_auto_columns": null,
      "grid_auto_flow": null,
      "grid_auto_rows": null,
      "grid_column": null,
      "grid_gap": null,
      "grid_row": null,
      "grid_template_areas": null,
      "grid_template_columns": null,
      "grid_template_rows": null,
      "height": null,
      "justify_content": null,
      "justify_items": null,
      "left": null,
      "margin": null,
      "max_height": null,
      "max_width": null,
      "min_height": null,
      "min_width": null,
      "object_fit": null,
      "object_position": null,
      "order": null,
      "overflow": null,
      "overflow_x": null,
      "overflow_y": null,
      "padding": null,
      "right": null,
      "top": null,
      "visibility": null,
      "width": null
     }
    },
    "d26651dbebcb4da6a40c54824436bd99": {
     "model_module": "@jupyter-widgets/controls",
     "model_module_version": "1.5.0",
     "model_name": "HTMLModel",
     "state": {
      "_dom_classes": [],
      "_model_module": "@jupyter-widgets/controls",
      "_model_module_version": "1.5.0",
      "_model_name": "HTMLModel",
      "_view_count": null,
      "_view_module": "@jupyter-widgets/controls",
      "_view_module_version": "1.5.0",
      "_view_name": "HTMLView",
      "description": "",
      "description_tooltip": null,
      "layout": "IPY_MODEL_def61ad5970c4eb2901bc8ef763b6c8d",
      "placeholder": "​",
      "style": "IPY_MODEL_958445fcf60642139d315028a04ef4bf",
      "value": " 25024/25024 [00:03&lt;00:00, 4128.66it/s]"
     }
    },
    "def61ad5970c4eb2901bc8ef763b6c8d": {
     "model_module": "@jupyter-widgets/base",
     "model_module_version": "1.2.0",
     "model_name": "LayoutModel",
     "state": {
      "_model_module": "@jupyter-widgets/base",
      "_model_module_version": "1.2.0",
      "_model_name": "LayoutModel",
      "_view_count": null,
      "_view_module": "@jupyter-widgets/base",
      "_view_module_version": "1.2.0",
      "_view_name": "LayoutView",
      "align_content": null,
      "align_items": null,
      "align_self": null,
      "border": null,
      "bottom": null,
      "display": null,
      "flex": null,
      "flex_flow": null,
      "grid_area": null,
      "grid_auto_columns": null,
      "grid_auto_flow": null,
      "grid_auto_rows": null,
      "grid_column": null,
      "grid_gap": null,
      "grid_row": null,
      "grid_template_areas": null,
      "grid_template_columns": null,
      "grid_template_rows": null,
      "height": null,
      "justify_content": null,
      "justify_items": null,
      "left": null,
      "margin": null,
      "max_height": null,
      "max_width": null,
      "min_height": null,
      "min_width": null,
      "object_fit": null,
      "object_position": null,
      "order": null,
      "overflow": null,
      "overflow_x": null,
      "overflow_y": null,
      "padding": null,
      "right": null,
      "top": null,
      "visibility": null,
      "width": null
     }
    },
    "e704266fbcb54cbd96e5c8a53b8fd32a": {
     "model_module": "@jupyter-widgets/base",
     "model_module_version": "1.2.0",
     "model_name": "LayoutModel",
     "state": {
      "_model_module": "@jupyter-widgets/base",
      "_model_module_version": "1.2.0",
      "_model_name": "LayoutModel",
      "_view_count": null,
      "_view_module": "@jupyter-widgets/base",
      "_view_module_version": "1.2.0",
      "_view_name": "LayoutView",
      "align_content": null,
      "align_items": null,
      "align_self": null,
      "border": null,
      "bottom": null,
      "display": null,
      "flex": null,
      "flex_flow": null,
      "grid_area": null,
      "grid_auto_columns": null,
      "grid_auto_flow": null,
      "grid_auto_rows": null,
      "grid_column": null,
      "grid_gap": null,
      "grid_row": null,
      "grid_template_areas": null,
      "grid_template_columns": null,
      "grid_template_rows": null,
      "height": null,
      "justify_content": null,
      "justify_items": null,
      "left": null,
      "margin": null,
      "max_height": null,
      "max_width": null,
      "min_height": null,
      "min_width": null,
      "object_fit": null,
      "object_position": null,
      "order": null,
      "overflow": null,
      "overflow_x": null,
      "overflow_y": null,
      "padding": null,
      "right": null,
      "top": null,
      "visibility": null,
      "width": null
     }
    },
    "eb99afa579c2487386f4741d347f7f78": {
     "model_module": "@jupyter-widgets/base",
     "model_module_version": "1.2.0",
     "model_name": "LayoutModel",
     "state": {
      "_model_module": "@jupyter-widgets/base",
      "_model_module_version": "1.2.0",
      "_model_name": "LayoutModel",
      "_view_count": null,
      "_view_module": "@jupyter-widgets/base",
      "_view_module_version": "1.2.0",
      "_view_name": "LayoutView",
      "align_content": null,
      "align_items": null,
      "align_self": null,
      "border": null,
      "bottom": null,
      "display": null,
      "flex": null,
      "flex_flow": null,
      "grid_area": null,
      "grid_auto_columns": null,
      "grid_auto_flow": null,
      "grid_auto_rows": null,
      "grid_column": null,
      "grid_gap": null,
      "grid_row": null,
      "grid_template_areas": null,
      "grid_template_columns": null,
      "grid_template_rows": null,
      "height": null,
      "justify_content": null,
      "justify_items": null,
      "left": null,
      "margin": null,
      "max_height": null,
      "max_width": null,
      "min_height": null,
      "min_width": null,
      "object_fit": null,
      "object_position": null,
      "order": null,
      "overflow": null,
      "overflow_x": null,
      "overflow_y": null,
      "padding": null,
      "right": null,
      "top": null,
      "visibility": null,
      "width": null
     }
    }
   }
  }
 },
 "nbformat": 4,
 "nbformat_minor": 1
}
